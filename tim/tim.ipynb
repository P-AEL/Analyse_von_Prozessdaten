{
 "cells": [
  {
   "cell_type": "code",
   "execution_count": 2,
   "metadata": {},
   "outputs": [],
   "source": [
    "import pandas as pd\n",
    "import numpy as np\n",
    "import plotly.express as px\n"
   ]
  },
  {
   "cell_type": "code",
   "execution_count": 3,
   "metadata": {},
   "outputs": [
    {
     "data": {
      "text/plain": [
       "Index(['timestamp', 'DeviationID ValueY', 'CuStepNo ValueY',\n",
       "       'LevelMainTank ValueY', 'YC10001_MV ValueY', 'PI12002_PV_Out ValueY',\n",
       "       'PI12003_PV_Out ValueY', 'YC14001_MV ValueY', 'FIC14002_MV ValueY',\n",
       "       'FIC14002_PV_Out ValueY', 'FIC14002_SP ValueY', 'YC14006_MV ValueY',\n",
       "       'PI14012_PV_Out ValueY', 'YC23001_MV ValueY', 'YC22001_MV ValueY',\n",
       "       'YC21001_MV ValueY', 'FIC23002_PV_Out ValueY', 'FIC23002_MV ValueY',\n",
       "       'FIC23002_SP ValueY', 'FIC22002_MV ValueY', 'FIC22002_PV_Out ValueY',\n",
       "       'FIC22002_SP ValueY', 'FIC21002_MV ValueY', 'FIC21002_PV_Out ValueY',\n",
       "       'FIC21002_SP ValueY', 'YS23004_Ctrl ValueY', 'YS22004_Ctrl ValueY',\n",
       "       'YS21004_Ctrl ValueY', 'LIC23002_MV ValueY', 'LIC23002_PV_Out ValueY',\n",
       "       'LIC23002_SP ValueY', 'LIC22002_MV ValueY', 'LIC22002_PV_Out ValueY',\n",
       "       'LIC22002_SP ValueY', 'LIC21002_MV ValueY', 'LIC21002_PV_Out ValueY',\n",
       "       'LIC21002_SP ValueY', 'PIC14007_MV ValueY', 'PIC14007_PV_Out ValueY',\n",
       "       'PIC14007_SP ValueY', 'YC14008_Ctrl ValueY', 'PI10003_PV_Out ValueY'],\n",
       "      dtype='object')"
      ]
     },
     "execution_count": 3,
     "metadata": {},
     "output_type": "execute_result"
    }
   ],
   "source": [
    "df = pd.read_pickle(\"Tank.pkl\")\n",
    "df.columns"
   ]
  },
  {
   "cell_type": "code",
   "execution_count": 4,
   "metadata": {},
   "outputs": [],
   "source": [
    "df.timestamp = pd.to_datetime(df.timestamp)"
   ]
  },
  {
   "attachments": {},
   "cell_type": "markdown",
   "metadata": {},
   "source": [
    "### Checking Deviation IDS"
   ]
  },
  {
   "cell_type": "code",
   "execution_count": 5,
   "metadata": {},
   "outputs": [
    {
     "data": {
      "text/plain": [
       "9     39956\n",
       "1     37176\n",
       "5     26560\n",
       "3     26186\n",
       "6     26017\n",
       "2     25193\n",
       "8     24620\n",
       "10    24552\n",
       "7     24126\n",
       "4     24076\n",
       "0        30\n",
       "Name: DeviationID ValueY, dtype: int64"
      ]
     },
     "execution_count": 5,
     "metadata": {},
     "output_type": "execute_result"
    }
   ],
   "source": [
    "# unique deviation values\n",
    "df['DeviationID ValueY'].value_counts()"
   ]
  },
  {
   "attachments": {},
   "cell_type": "markdown",
   "metadata": {},
   "source": [
    "=> What is deviationID 0?"
   ]
  },
  {
   "attachments": {},
   "cell_type": "markdown",
   "metadata": {},
   "source": [
    "### Checking Step Values"
   ]
  },
  {
   "cell_type": "code",
   "execution_count": 6,
   "metadata": {},
   "outputs": [
    {
     "data": {
      "text/plain": [
       "8    141381\n",
       "1     66889\n",
       "3     51526\n",
       "7     18629\n",
       "2        67\n",
       "Name: CuStepNo ValueY, dtype: int64"
      ]
     },
     "execution_count": 6,
     "metadata": {},
     "output_type": "execute_result"
    }
   ],
   "source": [
    "# get amounts of datepoints for each step\n",
    "df['CuStepNo ValueY'].value_counts()"
   ]
  },
  {
   "cell_type": "code",
   "execution_count": 7,
   "metadata": {},
   "outputs": [
    {
     "data": {
      "application/vnd.plotly.v1+json": {
       "config": {
        "plotlyServerURL": "https://plot.ly"
       },
       "data": [
        {
         "hovertemplate": "timestamp=%{x}<br>DeviationID ValueY=%{y}<extra></extra>",
         "legendgroup": "",
         "marker": {
          "color": "#636efa",
          "symbol": "circle"
         },
         "mode": "markers",
         "name": "",
         "orientation": "v",
         "showlegend": false,
         "type": "scatter",
         "x": [
          "2018-10-11T10:39:15",
          "2018-10-11T11:01:34",
          "2018-10-11T11:48:41",
          "2018-10-12T12:10:48",
          "2018-10-12T12:10:49",
          "2018-10-12T12:30:28",
          "2018-10-12T13:38:17",
          "2018-10-15T15:38:50",
          "2018-10-16T07:56:27",
          "2018-10-16T10:35:17",
          "2018-10-16T11:45:12",
          "2018-10-16T12:37:40",
          "2018-10-16T12:55:09",
          "2018-10-16T13:47:39",
          "2018-10-16T14:22:28",
          "2018-10-16T14:57:28",
          "2018-10-17T11:14:50",
          "2018-10-17T11:14:51",
          "2018-10-17T11:32:19",
          "2018-10-17T13:52:19",
          "2018-10-17T15:19:45",
          "2018-10-18T07:59:24",
          "2018-10-18T08:16:52",
          "2018-10-18T08:51:45",
          "2018-10-18T09:09:17",
          "2018-10-18T11:46:10",
          "2018-10-19T07:16:19",
          "2018-10-19T08:08:41",
          "2018-10-19T08:26:16",
          "2018-10-19T10:37:15",
          "2018-10-19T10:54:42",
          "2018-10-19T11:12:06",
          "2018-10-19T11:47:04",
          "2018-10-19T12:04:35",
          "2018-10-19T12:22:05",
          "2018-10-19T13:31:56",
          "2018-10-22T08:00:30",
          "2018-10-22T08:18:57",
          "2018-10-22T13:19:26",
          "2018-10-22T13:56:19",
          "2018-10-24T11:40:29",
          "2018-10-24T11:40:30",
          "2018-10-24T12:35:57",
          "2018-10-24T14:27:21",
          "2018-10-24T15:22:41",
          "2018-10-25T08:39:10",
          "2018-10-25T08:55:56",
          "2018-10-25T13:41:42",
          "2018-10-25T14:15:12",
          "2018-10-25T14:31:57",
          "2018-10-25T15:05:30",
          "2018-10-25T15:55:43",
          "2018-10-26T12:05:55",
          "2018-10-26T12:23:16",
          "2018-10-26T12:40:33",
          "2018-10-26T14:06:22",
          "2018-10-26T14:06:23",
          "2018-10-29T11:39:36",
          "2018-10-29T13:11:34",
          "2018-10-29T14:07:06",
          "2018-10-29T15:02:34",
          "2018-10-30T10:04:53",
          "2018-10-30T11:54:54",
          "2018-10-30T11:54:55",
          "2018-10-30T14:32:31",
          "2018-10-30T15:07:29",
          "2018-10-31T13:52:25"
         ],
         "xaxis": "x",
         "y": [
          4,
          5,
          0,
          0,
          0,
          0,
          10,
          4,
          0,
          1,
          1,
          0,
          1,
          1,
          1,
          0,
          0,
          0,
          0,
          2,
          2,
          0,
          3,
          3,
          0,
          3,
          4,
          4,
          0,
          4,
          0,
          0,
          0,
          4,
          4,
          4,
          0,
          0,
          5,
          5,
          6,
          6,
          6,
          0,
          6,
          0,
          7,
          7,
          0,
          0,
          7,
          0,
          0,
          0,
          0,
          8,
          8,
          9,
          0,
          0,
          9,
          10,
          10,
          10,
          10,
          10,
          0
         ],
         "yaxis": "y"
        }
       ],
       "layout": {
        "legend": {
         "tracegroupgap": 0
        },
        "margin": {
         "t": 60
        },
        "template": {
         "data": {
          "bar": [
           {
            "error_x": {
             "color": "#2a3f5f"
            },
            "error_y": {
             "color": "#2a3f5f"
            },
            "marker": {
             "line": {
              "color": "#E5ECF6",
              "width": 0.5
             },
             "pattern": {
              "fillmode": "overlay",
              "size": 10,
              "solidity": 0.2
             }
            },
            "type": "bar"
           }
          ],
          "barpolar": [
           {
            "marker": {
             "line": {
              "color": "#E5ECF6",
              "width": 0.5
             },
             "pattern": {
              "fillmode": "overlay",
              "size": 10,
              "solidity": 0.2
             }
            },
            "type": "barpolar"
           }
          ],
          "carpet": [
           {
            "aaxis": {
             "endlinecolor": "#2a3f5f",
             "gridcolor": "white",
             "linecolor": "white",
             "minorgridcolor": "white",
             "startlinecolor": "#2a3f5f"
            },
            "baxis": {
             "endlinecolor": "#2a3f5f",
             "gridcolor": "white",
             "linecolor": "white",
             "minorgridcolor": "white",
             "startlinecolor": "#2a3f5f"
            },
            "type": "carpet"
           }
          ],
          "choropleth": [
           {
            "colorbar": {
             "outlinewidth": 0,
             "ticks": ""
            },
            "type": "choropleth"
           }
          ],
          "contour": [
           {
            "colorbar": {
             "outlinewidth": 0,
             "ticks": ""
            },
            "colorscale": [
             [
              0,
              "#0d0887"
             ],
             [
              0.1111111111111111,
              "#46039f"
             ],
             [
              0.2222222222222222,
              "#7201a8"
             ],
             [
              0.3333333333333333,
              "#9c179e"
             ],
             [
              0.4444444444444444,
              "#bd3786"
             ],
             [
              0.5555555555555556,
              "#d8576b"
             ],
             [
              0.6666666666666666,
              "#ed7953"
             ],
             [
              0.7777777777777778,
              "#fb9f3a"
             ],
             [
              0.8888888888888888,
              "#fdca26"
             ],
             [
              1,
              "#f0f921"
             ]
            ],
            "type": "contour"
           }
          ],
          "contourcarpet": [
           {
            "colorbar": {
             "outlinewidth": 0,
             "ticks": ""
            },
            "type": "contourcarpet"
           }
          ],
          "heatmap": [
           {
            "colorbar": {
             "outlinewidth": 0,
             "ticks": ""
            },
            "colorscale": [
             [
              0,
              "#0d0887"
             ],
             [
              0.1111111111111111,
              "#46039f"
             ],
             [
              0.2222222222222222,
              "#7201a8"
             ],
             [
              0.3333333333333333,
              "#9c179e"
             ],
             [
              0.4444444444444444,
              "#bd3786"
             ],
             [
              0.5555555555555556,
              "#d8576b"
             ],
             [
              0.6666666666666666,
              "#ed7953"
             ],
             [
              0.7777777777777778,
              "#fb9f3a"
             ],
             [
              0.8888888888888888,
              "#fdca26"
             ],
             [
              1,
              "#f0f921"
             ]
            ],
            "type": "heatmap"
           }
          ],
          "heatmapgl": [
           {
            "colorbar": {
             "outlinewidth": 0,
             "ticks": ""
            },
            "colorscale": [
             [
              0,
              "#0d0887"
             ],
             [
              0.1111111111111111,
              "#46039f"
             ],
             [
              0.2222222222222222,
              "#7201a8"
             ],
             [
              0.3333333333333333,
              "#9c179e"
             ],
             [
              0.4444444444444444,
              "#bd3786"
             ],
             [
              0.5555555555555556,
              "#d8576b"
             ],
             [
              0.6666666666666666,
              "#ed7953"
             ],
             [
              0.7777777777777778,
              "#fb9f3a"
             ],
             [
              0.8888888888888888,
              "#fdca26"
             ],
             [
              1,
              "#f0f921"
             ]
            ],
            "type": "heatmapgl"
           }
          ],
          "histogram": [
           {
            "marker": {
             "pattern": {
              "fillmode": "overlay",
              "size": 10,
              "solidity": 0.2
             }
            },
            "type": "histogram"
           }
          ],
          "histogram2d": [
           {
            "colorbar": {
             "outlinewidth": 0,
             "ticks": ""
            },
            "colorscale": [
             [
              0,
              "#0d0887"
             ],
             [
              0.1111111111111111,
              "#46039f"
             ],
             [
              0.2222222222222222,
              "#7201a8"
             ],
             [
              0.3333333333333333,
              "#9c179e"
             ],
             [
              0.4444444444444444,
              "#bd3786"
             ],
             [
              0.5555555555555556,
              "#d8576b"
             ],
             [
              0.6666666666666666,
              "#ed7953"
             ],
             [
              0.7777777777777778,
              "#fb9f3a"
             ],
             [
              0.8888888888888888,
              "#fdca26"
             ],
             [
              1,
              "#f0f921"
             ]
            ],
            "type": "histogram2d"
           }
          ],
          "histogram2dcontour": [
           {
            "colorbar": {
             "outlinewidth": 0,
             "ticks": ""
            },
            "colorscale": [
             [
              0,
              "#0d0887"
             ],
             [
              0.1111111111111111,
              "#46039f"
             ],
             [
              0.2222222222222222,
              "#7201a8"
             ],
             [
              0.3333333333333333,
              "#9c179e"
             ],
             [
              0.4444444444444444,
              "#bd3786"
             ],
             [
              0.5555555555555556,
              "#d8576b"
             ],
             [
              0.6666666666666666,
              "#ed7953"
             ],
             [
              0.7777777777777778,
              "#fb9f3a"
             ],
             [
              0.8888888888888888,
              "#fdca26"
             ],
             [
              1,
              "#f0f921"
             ]
            ],
            "type": "histogram2dcontour"
           }
          ],
          "mesh3d": [
           {
            "colorbar": {
             "outlinewidth": 0,
             "ticks": ""
            },
            "type": "mesh3d"
           }
          ],
          "parcoords": [
           {
            "line": {
             "colorbar": {
              "outlinewidth": 0,
              "ticks": ""
             }
            },
            "type": "parcoords"
           }
          ],
          "pie": [
           {
            "automargin": true,
            "type": "pie"
           }
          ],
          "scatter": [
           {
            "fillpattern": {
             "fillmode": "overlay",
             "size": 10,
             "solidity": 0.2
            },
            "type": "scatter"
           }
          ],
          "scatter3d": [
           {
            "line": {
             "colorbar": {
              "outlinewidth": 0,
              "ticks": ""
             }
            },
            "marker": {
             "colorbar": {
              "outlinewidth": 0,
              "ticks": ""
             }
            },
            "type": "scatter3d"
           }
          ],
          "scattercarpet": [
           {
            "marker": {
             "colorbar": {
              "outlinewidth": 0,
              "ticks": ""
             }
            },
            "type": "scattercarpet"
           }
          ],
          "scattergeo": [
           {
            "marker": {
             "colorbar": {
              "outlinewidth": 0,
              "ticks": ""
             }
            },
            "type": "scattergeo"
           }
          ],
          "scattergl": [
           {
            "marker": {
             "colorbar": {
              "outlinewidth": 0,
              "ticks": ""
             }
            },
            "type": "scattergl"
           }
          ],
          "scattermapbox": [
           {
            "marker": {
             "colorbar": {
              "outlinewidth": 0,
              "ticks": ""
             }
            },
            "type": "scattermapbox"
           }
          ],
          "scatterpolar": [
           {
            "marker": {
             "colorbar": {
              "outlinewidth": 0,
              "ticks": ""
             }
            },
            "type": "scatterpolar"
           }
          ],
          "scatterpolargl": [
           {
            "marker": {
             "colorbar": {
              "outlinewidth": 0,
              "ticks": ""
             }
            },
            "type": "scatterpolargl"
           }
          ],
          "scatterternary": [
           {
            "marker": {
             "colorbar": {
              "outlinewidth": 0,
              "ticks": ""
             }
            },
            "type": "scatterternary"
           }
          ],
          "surface": [
           {
            "colorbar": {
             "outlinewidth": 0,
             "ticks": ""
            },
            "colorscale": [
             [
              0,
              "#0d0887"
             ],
             [
              0.1111111111111111,
              "#46039f"
             ],
             [
              0.2222222222222222,
              "#7201a8"
             ],
             [
              0.3333333333333333,
              "#9c179e"
             ],
             [
              0.4444444444444444,
              "#bd3786"
             ],
             [
              0.5555555555555556,
              "#d8576b"
             ],
             [
              0.6666666666666666,
              "#ed7953"
             ],
             [
              0.7777777777777778,
              "#fb9f3a"
             ],
             [
              0.8888888888888888,
              "#fdca26"
             ],
             [
              1,
              "#f0f921"
             ]
            ],
            "type": "surface"
           }
          ],
          "table": [
           {
            "cells": {
             "fill": {
              "color": "#EBF0F8"
             },
             "line": {
              "color": "white"
             }
            },
            "header": {
             "fill": {
              "color": "#C8D4E3"
             },
             "line": {
              "color": "white"
             }
            },
            "type": "table"
           }
          ]
         },
         "layout": {
          "annotationdefaults": {
           "arrowcolor": "#2a3f5f",
           "arrowhead": 0,
           "arrowwidth": 1
          },
          "autotypenumbers": "strict",
          "coloraxis": {
           "colorbar": {
            "outlinewidth": 0,
            "ticks": ""
           }
          },
          "colorscale": {
           "diverging": [
            [
             0,
             "#8e0152"
            ],
            [
             0.1,
             "#c51b7d"
            ],
            [
             0.2,
             "#de77ae"
            ],
            [
             0.3,
             "#f1b6da"
            ],
            [
             0.4,
             "#fde0ef"
            ],
            [
             0.5,
             "#f7f7f7"
            ],
            [
             0.6,
             "#e6f5d0"
            ],
            [
             0.7,
             "#b8e186"
            ],
            [
             0.8,
             "#7fbc41"
            ],
            [
             0.9,
             "#4d9221"
            ],
            [
             1,
             "#276419"
            ]
           ],
           "sequential": [
            [
             0,
             "#0d0887"
            ],
            [
             0.1111111111111111,
             "#46039f"
            ],
            [
             0.2222222222222222,
             "#7201a8"
            ],
            [
             0.3333333333333333,
             "#9c179e"
            ],
            [
             0.4444444444444444,
             "#bd3786"
            ],
            [
             0.5555555555555556,
             "#d8576b"
            ],
            [
             0.6666666666666666,
             "#ed7953"
            ],
            [
             0.7777777777777778,
             "#fb9f3a"
            ],
            [
             0.8888888888888888,
             "#fdca26"
            ],
            [
             1,
             "#f0f921"
            ]
           ],
           "sequentialminus": [
            [
             0,
             "#0d0887"
            ],
            [
             0.1111111111111111,
             "#46039f"
            ],
            [
             0.2222222222222222,
             "#7201a8"
            ],
            [
             0.3333333333333333,
             "#9c179e"
            ],
            [
             0.4444444444444444,
             "#bd3786"
            ],
            [
             0.5555555555555556,
             "#d8576b"
            ],
            [
             0.6666666666666666,
             "#ed7953"
            ],
            [
             0.7777777777777778,
             "#fb9f3a"
            ],
            [
             0.8888888888888888,
             "#fdca26"
            ],
            [
             1,
             "#f0f921"
            ]
           ]
          },
          "colorway": [
           "#636efa",
           "#EF553B",
           "#00cc96",
           "#ab63fa",
           "#FFA15A",
           "#19d3f3",
           "#FF6692",
           "#B6E880",
           "#FF97FF",
           "#FECB52"
          ],
          "font": {
           "color": "#2a3f5f"
          },
          "geo": {
           "bgcolor": "white",
           "lakecolor": "white",
           "landcolor": "#E5ECF6",
           "showlakes": true,
           "showland": true,
           "subunitcolor": "white"
          },
          "hoverlabel": {
           "align": "left"
          },
          "hovermode": "closest",
          "mapbox": {
           "style": "light"
          },
          "paper_bgcolor": "white",
          "plot_bgcolor": "#E5ECF6",
          "polar": {
           "angularaxis": {
            "gridcolor": "white",
            "linecolor": "white",
            "ticks": ""
           },
           "bgcolor": "#E5ECF6",
           "radialaxis": {
            "gridcolor": "white",
            "linecolor": "white",
            "ticks": ""
           }
          },
          "scene": {
           "xaxis": {
            "backgroundcolor": "#E5ECF6",
            "gridcolor": "white",
            "gridwidth": 2,
            "linecolor": "white",
            "showbackground": true,
            "ticks": "",
            "zerolinecolor": "white"
           },
           "yaxis": {
            "backgroundcolor": "#E5ECF6",
            "gridcolor": "white",
            "gridwidth": 2,
            "linecolor": "white",
            "showbackground": true,
            "ticks": "",
            "zerolinecolor": "white"
           },
           "zaxis": {
            "backgroundcolor": "#E5ECF6",
            "gridcolor": "white",
            "gridwidth": 2,
            "linecolor": "white",
            "showbackground": true,
            "ticks": "",
            "zerolinecolor": "white"
           }
          },
          "shapedefaults": {
           "line": {
            "color": "#2a3f5f"
           }
          },
          "ternary": {
           "aaxis": {
            "gridcolor": "white",
            "linecolor": "white",
            "ticks": ""
           },
           "baxis": {
            "gridcolor": "white",
            "linecolor": "white",
            "ticks": ""
           },
           "bgcolor": "#E5ECF6",
           "caxis": {
            "gridcolor": "white",
            "linecolor": "white",
            "ticks": ""
           }
          },
          "title": {
           "x": 0.05
          },
          "xaxis": {
           "automargin": true,
           "gridcolor": "white",
           "linecolor": "white",
           "ticks": "",
           "title": {
            "standoff": 15
           },
           "zerolinecolor": "white",
           "zerolinewidth": 2
          },
          "yaxis": {
           "automargin": true,
           "gridcolor": "white",
           "linecolor": "white",
           "ticks": "",
           "title": {
            "standoff": 15
           },
           "zerolinecolor": "white",
           "zerolinewidth": 2
          }
         }
        },
        "xaxis": {
         "anchor": "y",
         "domain": [
          0,
          1
         ],
         "title": {
          "text": "timestamp"
         }
        },
        "yaxis": {
         "anchor": "x",
         "domain": [
          0,
          1
         ],
         "title": {
          "text": "DeviationID ValueY"
         }
        }
       }
      }
     },
     "metadata": {},
     "output_type": "display_data"
    }
   ],
   "source": [
    "# plot datepoints with step value 2 by timestamp\n",
    "fig = px.scatter(df[df['CuStepNo ValueY'] == 2], x='timestamp', y='DeviationID ValueY')\n",
    "fig.show()"
   ]
  },
  {
   "attachments": {},
   "cell_type": "markdown",
   "metadata": {},
   "source": [
    "=> What is Step 2?"
   ]
  },
  {
   "attachments": {},
   "cell_type": "markdown",
   "metadata": {},
   "source": [
    "#### Average Step Duration\n"
   ]
  },
  {
   "attachments": {},
   "cell_type": "markdown",
   "metadata": {},
   "source": [
    "#TODO calculate step duration by using start and end time of each step"
   ]
  },
  {
   "cell_type": "code",
   "execution_count": 25,
   "metadata": {},
   "outputs": [
    {
     "name": "stderr",
     "output_type": "stream",
     "text": [
      "/var/folders/27/rw3093250gvf841xt9hmzs580000gn/T/ipykernel_65925/3941268909.py:3: SettingWithCopyWarning:\n",
      "\n",
      "\n",
      "A value is trying to be set on a copy of a slice from a DataFrame.\n",
      "Try using .loc[row_indexer,col_indexer] = value instead\n",
      "\n",
      "See the caveats in the documentation: https://pandas.pydata.org/pandas-docs/stable/user_guide/indexing.html#returning-a-view-versus-a-copy\n",
      "\n",
      "/var/folders/27/rw3093250gvf841xt9hmzs580000gn/T/ipykernel_65925/3941268909.py:5: SettingWithCopyWarning:\n",
      "\n",
      "\n",
      "A value is trying to be set on a copy of a slice from a DataFrame.\n",
      "Try using .loc[row_indexer,col_indexer] = value instead\n",
      "\n",
      "See the caveats in the documentation: https://pandas.pydata.org/pandas-docs/stable/user_guide/indexing.html#returning-a-view-versus-a-copy\n",
      "\n",
      "/var/folders/27/rw3093250gvf841xt9hmzs580000gn/T/ipykernel_65925/3941268909.py:7: SettingWithCopyWarning:\n",
      "\n",
      "\n",
      "A value is trying to be set on a copy of a slice from a DataFrame.\n",
      "Try using .loc[row_indexer,col_indexer] = value instead\n",
      "\n",
      "See the caveats in the documentation: https://pandas.pydata.org/pandas-docs/stable/user_guide/indexing.html#returning-a-view-versus-a-copy\n",
      "\n",
      "/opt/homebrew/lib/python3.11/site-packages/pandas/core/arrays/timedeltas.py:908: RuntimeWarning:\n",
      "\n",
      "invalid value encountered in cast\n",
      "\n",
      "/opt/homebrew/lib/python3.11/site-packages/pandas/core/arrays/timedeltas.py:912: RuntimeWarning:\n",
      "\n",
      "invalid value encountered in cast\n",
      "\n",
      "/var/folders/27/rw3093250gvf841xt9hmzs580000gn/T/ipykernel_65925/3941268909.py:9: SettingWithCopyWarning:\n",
      "\n",
      "\n",
      "A value is trying to be set on a copy of a slice from a DataFrame.\n",
      "Try using .loc[row_indexer,col_indexer] = value instead\n",
      "\n",
      "See the caveats in the documentation: https://pandas.pydata.org/pandas-docs/stable/user_guide/indexing.html#returning-a-view-versus-a-copy\n",
      "\n",
      "/var/folders/27/rw3093250gvf841xt9hmzs580000gn/T/ipykernel_65925/3941268909.py:16: SettingWithCopyWarning:\n",
      "\n",
      "\n",
      "A value is trying to be set on a copy of a slice from a DataFrame\n",
      "\n",
      "See the caveats in the documentation: https://pandas.pydata.org/pandas-docs/stable/user_guide/indexing.html#returning-a-view-versus-a-copy\n",
      "\n"
     ]
    },
    {
     "data": {
      "text/html": [
       "<div>\n",
       "<style scoped>\n",
       "    .dataframe tbody tr th:only-of-type {\n",
       "        vertical-align: middle;\n",
       "    }\n",
       "\n",
       "    .dataframe tbody tr th {\n",
       "        vertical-align: top;\n",
       "    }\n",
       "\n",
       "    .dataframe thead th {\n",
       "        text-align: right;\n",
       "    }\n",
       "</style>\n",
       "<table border=\"1\" class=\"dataframe\">\n",
       "  <thead>\n",
       "    <tr style=\"text-align: right;\">\n",
       "      <th></th>\n",
       "      <th>timestamp</th>\n",
       "      <th>DeviationID ValueY</th>\n",
       "      <th>CuStepNo ValueY</th>\n",
       "      <th>LevelMainTank ValueY</th>\n",
       "      <th>YC10001_MV ValueY</th>\n",
       "      <th>PI12002_PV_Out ValueY</th>\n",
       "      <th>PI12003_PV_Out ValueY</th>\n",
       "      <th>YC14001_MV ValueY</th>\n",
       "      <th>FIC14002_MV ValueY</th>\n",
       "      <th>FIC14002_PV_Out ValueY</th>\n",
       "      <th>...</th>\n",
       "      <th>LIC22002_SP ValueY</th>\n",
       "      <th>LIC21002_MV ValueY</th>\n",
       "      <th>LIC21002_PV_Out ValueY</th>\n",
       "      <th>LIC21002_SP ValueY</th>\n",
       "      <th>PIC14007_MV ValueY</th>\n",
       "      <th>PIC14007_PV_Out ValueY</th>\n",
       "      <th>PIC14007_SP ValueY</th>\n",
       "      <th>YC14008_Ctrl ValueY</th>\n",
       "      <th>PI10003_PV_Out ValueY</th>\n",
       "      <th>step_duration</th>\n",
       "    </tr>\n",
       "  </thead>\n",
       "  <tbody>\n",
       "    <tr>\n",
       "      <th>1048</th>\n",
       "      <td>2018-10-10 15:10:47</td>\n",
       "      <td>1</td>\n",
       "      <td>3</td>\n",
       "      <td>149.119293</td>\n",
       "      <td>100</td>\n",
       "      <td>0.073495</td>\n",
       "      <td>0.083912</td>\n",
       "      <td>100.000000</td>\n",
       "      <td>100.000000</td>\n",
       "      <td>0.000000</td>\n",
       "      <td>...</td>\n",
       "      <td>2</td>\n",
       "      <td>0.000000</td>\n",
       "      <td>2.024306</td>\n",
       "      <td>15</td>\n",
       "      <td>10.0</td>\n",
       "      <td>0.110383</td>\n",
       "      <td>0.2</td>\n",
       "      <td>0</td>\n",
       "      <td>0.001742</td>\n",
       "      <td>0 days 00:03:14</td>\n",
       "    </tr>\n",
       "    <tr>\n",
       "      <th>1049</th>\n",
       "      <td>2018-10-10 15:10:48</td>\n",
       "      <td>1</td>\n",
       "      <td>3</td>\n",
       "      <td>149.119293</td>\n",
       "      <td>100</td>\n",
       "      <td>0.072917</td>\n",
       "      <td>0.085648</td>\n",
       "      <td>100.000000</td>\n",
       "      <td>100.000000</td>\n",
       "      <td>0.000000</td>\n",
       "      <td>...</td>\n",
       "      <td>2</td>\n",
       "      <td>0.000000</td>\n",
       "      <td>2.004413</td>\n",
       "      <td>15</td>\n",
       "      <td>10.0</td>\n",
       "      <td>0.110431</td>\n",
       "      <td>0.2</td>\n",
       "      <td>0</td>\n",
       "      <td>0.001726</td>\n",
       "      <td>0 days 00:03:15</td>\n",
       "    </tr>\n",
       "    <tr>\n",
       "      <th>1050</th>\n",
       "      <td>2018-10-10 15:10:49</td>\n",
       "      <td>1</td>\n",
       "      <td>3</td>\n",
       "      <td>149.200409</td>\n",
       "      <td>100</td>\n",
       "      <td>0.070602</td>\n",
       "      <td>0.089699</td>\n",
       "      <td>100.000000</td>\n",
       "      <td>100.000000</td>\n",
       "      <td>0.000000</td>\n",
       "      <td>...</td>\n",
       "      <td>2</td>\n",
       "      <td>0.000000</td>\n",
       "      <td>2.004413</td>\n",
       "      <td>15</td>\n",
       "      <td>10.0</td>\n",
       "      <td>0.110489</td>\n",
       "      <td>0.2</td>\n",
       "      <td>0</td>\n",
       "      <td>0.001714</td>\n",
       "      <td>0 days 00:03:16</td>\n",
       "    </tr>\n",
       "    <tr>\n",
       "      <th>1051</th>\n",
       "      <td>2018-10-10 15:10:50</td>\n",
       "      <td>1</td>\n",
       "      <td>3</td>\n",
       "      <td>149.200409</td>\n",
       "      <td>100</td>\n",
       "      <td>0.066551</td>\n",
       "      <td>0.087963</td>\n",
       "      <td>100.000000</td>\n",
       "      <td>100.000000</td>\n",
       "      <td>0.000000</td>\n",
       "      <td>...</td>\n",
       "      <td>2</td>\n",
       "      <td>0.000000</td>\n",
       "      <td>2.007596</td>\n",
       "      <td>15</td>\n",
       "      <td>10.0</td>\n",
       "      <td>0.110537</td>\n",
       "      <td>0.2</td>\n",
       "      <td>0</td>\n",
       "      <td>0.001711</td>\n",
       "      <td>0 days 00:03:17</td>\n",
       "    </tr>\n",
       "    <tr>\n",
       "      <th>1052</th>\n",
       "      <td>2018-10-11 10:21:45</td>\n",
       "      <td>4</td>\n",
       "      <td>1</td>\n",
       "      <td>152.251556</td>\n",
       "      <td>100</td>\n",
       "      <td>0.075810</td>\n",
       "      <td>0.089699</td>\n",
       "      <td>100.000000</td>\n",
       "      <td>100.000000</td>\n",
       "      <td>0.000000</td>\n",
       "      <td>...</td>\n",
       "      <td>2</td>\n",
       "      <td>3.475037</td>\n",
       "      <td>1.978950</td>\n",
       "      <td>15</td>\n",
       "      <td>10.0</td>\n",
       "      <td>0.116767</td>\n",
       "      <td>0.2</td>\n",
       "      <td>0</td>\n",
       "      <td>0.001709</td>\n",
       "      <td>0 days 00:00:00</td>\n",
       "    </tr>\n",
       "    <tr>\n",
       "      <th>1053</th>\n",
       "      <td>2018-10-11 10:21:46</td>\n",
       "      <td>4</td>\n",
       "      <td>1</td>\n",
       "      <td>152.195923</td>\n",
       "      <td>100</td>\n",
       "      <td>0.074653</td>\n",
       "      <td>0.093750</td>\n",
       "      <td>100.000000</td>\n",
       "      <td>100.000000</td>\n",
       "      <td>0.000000</td>\n",
       "      <td>...</td>\n",
       "      <td>2</td>\n",
       "      <td>9.951162</td>\n",
       "      <td>1.978154</td>\n",
       "      <td>15</td>\n",
       "      <td>10.0</td>\n",
       "      <td>0.116733</td>\n",
       "      <td>0.2</td>\n",
       "      <td>0</td>\n",
       "      <td>0.001718</td>\n",
       "      <td>0 days 00:00:01</td>\n",
       "    </tr>\n",
       "    <tr>\n",
       "      <th>1054</th>\n",
       "      <td>2018-10-11 10:21:47</td>\n",
       "      <td>4</td>\n",
       "      <td>1</td>\n",
       "      <td>152.143127</td>\n",
       "      <td>100</td>\n",
       "      <td>0.075810</td>\n",
       "      <td>0.141204</td>\n",
       "      <td>100.000000</td>\n",
       "      <td>100.000000</td>\n",
       "      <td>0.000000</td>\n",
       "      <td>...</td>\n",
       "      <td>2</td>\n",
       "      <td>14.227112</td>\n",
       "      <td>1.979745</td>\n",
       "      <td>15</td>\n",
       "      <td>10.0</td>\n",
       "      <td>0.116709</td>\n",
       "      <td>0.2</td>\n",
       "      <td>0</td>\n",
       "      <td>0.001707</td>\n",
       "      <td>0 days 00:00:02</td>\n",
       "    </tr>\n",
       "    <tr>\n",
       "      <th>1055</th>\n",
       "      <td>2018-10-11 10:21:48</td>\n",
       "      <td>4</td>\n",
       "      <td>1</td>\n",
       "      <td>152.101624</td>\n",
       "      <td>100</td>\n",
       "      <td>0.080440</td>\n",
       "      <td>0.247685</td>\n",
       "      <td>100.000000</td>\n",
       "      <td>100.000000</td>\n",
       "      <td>0.000000</td>\n",
       "      <td>...</td>\n",
       "      <td>2</td>\n",
       "      <td>20.453506</td>\n",
       "      <td>1.984520</td>\n",
       "      <td>15</td>\n",
       "      <td>10.0</td>\n",
       "      <td>0.116713</td>\n",
       "      <td>0.2</td>\n",
       "      <td>0</td>\n",
       "      <td>0.001692</td>\n",
       "      <td>0 days 00:00:03</td>\n",
       "    </tr>\n",
       "    <tr>\n",
       "      <th>1056</th>\n",
       "      <td>2018-10-11 10:21:49</td>\n",
       "      <td>4</td>\n",
       "      <td>1</td>\n",
       "      <td>152.068481</td>\n",
       "      <td>100</td>\n",
       "      <td>0.078704</td>\n",
       "      <td>0.416667</td>\n",
       "      <td>99.328842</td>\n",
       "      <td>98.354942</td>\n",
       "      <td>796.162048</td>\n",
       "      <td>...</td>\n",
       "      <td>2</td>\n",
       "      <td>24.727407</td>\n",
       "      <td>1.985315</td>\n",
       "      <td>15</td>\n",
       "      <td>10.0</td>\n",
       "      <td>0.116752</td>\n",
       "      <td>0.2</td>\n",
       "      <td>0</td>\n",
       "      <td>0.001694</td>\n",
       "      <td>0 days 00:00:04</td>\n",
       "    </tr>\n",
       "    <tr>\n",
       "      <th>1057</th>\n",
       "      <td>2018-10-11 10:21:50</td>\n",
       "      <td>4</td>\n",
       "      <td>1</td>\n",
       "      <td>152.041229</td>\n",
       "      <td>100</td>\n",
       "      <td>0.074653</td>\n",
       "      <td>0.709491</td>\n",
       "      <td>100.000000</td>\n",
       "      <td>100.000000</td>\n",
       "      <td>734.765625</td>\n",
       "      <td>...</td>\n",
       "      <td>2</td>\n",
       "      <td>30.079823</td>\n",
       "      <td>2.006800</td>\n",
       "      <td>15</td>\n",
       "      <td>10.0</td>\n",
       "      <td>0.116785</td>\n",
       "      <td>0.2</td>\n",
       "      <td>0</td>\n",
       "      <td>0.001674</td>\n",
       "      <td>0 days 00:00:05</td>\n",
       "    </tr>\n",
       "  </tbody>\n",
       "</table>\n",
       "<p>10 rows × 43 columns</p>\n",
       "</div>"
      ],
      "text/plain": [
       "               timestamp  DeviationID ValueY  CuStepNo ValueY  \\\n",
       "1048 2018-10-10 15:10:47                   1                3   \n",
       "1049 2018-10-10 15:10:48                   1                3   \n",
       "1050 2018-10-10 15:10:49                   1                3   \n",
       "1051 2018-10-10 15:10:50                   1                3   \n",
       "1052 2018-10-11 10:21:45                   4                1   \n",
       "1053 2018-10-11 10:21:46                   4                1   \n",
       "1054 2018-10-11 10:21:47                   4                1   \n",
       "1055 2018-10-11 10:21:48                   4                1   \n",
       "1056 2018-10-11 10:21:49                   4                1   \n",
       "1057 2018-10-11 10:21:50                   4                1   \n",
       "\n",
       "      LevelMainTank ValueY  YC10001_MV ValueY  PI12002_PV_Out ValueY  \\\n",
       "1048            149.119293                100               0.073495   \n",
       "1049            149.119293                100               0.072917   \n",
       "1050            149.200409                100               0.070602   \n",
       "1051            149.200409                100               0.066551   \n",
       "1052            152.251556                100               0.075810   \n",
       "1053            152.195923                100               0.074653   \n",
       "1054            152.143127                100               0.075810   \n",
       "1055            152.101624                100               0.080440   \n",
       "1056            152.068481                100               0.078704   \n",
       "1057            152.041229                100               0.074653   \n",
       "\n",
       "      PI12003_PV_Out ValueY  YC14001_MV ValueY  FIC14002_MV ValueY  \\\n",
       "1048               0.083912         100.000000          100.000000   \n",
       "1049               0.085648         100.000000          100.000000   \n",
       "1050               0.089699         100.000000          100.000000   \n",
       "1051               0.087963         100.000000          100.000000   \n",
       "1052               0.089699         100.000000          100.000000   \n",
       "1053               0.093750         100.000000          100.000000   \n",
       "1054               0.141204         100.000000          100.000000   \n",
       "1055               0.247685         100.000000          100.000000   \n",
       "1056               0.416667          99.328842           98.354942   \n",
       "1057               0.709491         100.000000          100.000000   \n",
       "\n",
       "      FIC14002_PV_Out ValueY  ...  LIC22002_SP ValueY  LIC21002_MV ValueY  \\\n",
       "1048                0.000000  ...                   2            0.000000   \n",
       "1049                0.000000  ...                   2            0.000000   \n",
       "1050                0.000000  ...                   2            0.000000   \n",
       "1051                0.000000  ...                   2            0.000000   \n",
       "1052                0.000000  ...                   2            3.475037   \n",
       "1053                0.000000  ...                   2            9.951162   \n",
       "1054                0.000000  ...                   2           14.227112   \n",
       "1055                0.000000  ...                   2           20.453506   \n",
       "1056              796.162048  ...                   2           24.727407   \n",
       "1057              734.765625  ...                   2           30.079823   \n",
       "\n",
       "      LIC21002_PV_Out ValueY  LIC21002_SP ValueY  PIC14007_MV ValueY  \\\n",
       "1048                2.024306                  15                10.0   \n",
       "1049                2.004413                  15                10.0   \n",
       "1050                2.004413                  15                10.0   \n",
       "1051                2.007596                  15                10.0   \n",
       "1052                1.978950                  15                10.0   \n",
       "1053                1.978154                  15                10.0   \n",
       "1054                1.979745                  15                10.0   \n",
       "1055                1.984520                  15                10.0   \n",
       "1056                1.985315                  15                10.0   \n",
       "1057                2.006800                  15                10.0   \n",
       "\n",
       "      PIC14007_PV_Out ValueY  PIC14007_SP ValueY  YC14008_Ctrl ValueY  \\\n",
       "1048                0.110383                 0.2                    0   \n",
       "1049                0.110431                 0.2                    0   \n",
       "1050                0.110489                 0.2                    0   \n",
       "1051                0.110537                 0.2                    0   \n",
       "1052                0.116767                 0.2                    0   \n",
       "1053                0.116733                 0.2                    0   \n",
       "1054                0.116709                 0.2                    0   \n",
       "1055                0.116713                 0.2                    0   \n",
       "1056                0.116752                 0.2                    0   \n",
       "1057                0.116785                 0.2                    0   \n",
       "\n",
       "      PI10003_PV_Out ValueY   step_duration  \n",
       "1048               0.001742 0 days 00:03:14  \n",
       "1049               0.001726 0 days 00:03:15  \n",
       "1050               0.001714 0 days 00:03:16  \n",
       "1051               0.001711 0 days 00:03:17  \n",
       "1052               0.001709 0 days 00:00:00  \n",
       "1053               0.001718 0 days 00:00:01  \n",
       "1054               0.001707 0 days 00:00:02  \n",
       "1055               0.001692 0 days 00:00:03  \n",
       "1056               0.001694 0 days 00:00:04  \n",
       "1057               0.001674 0 days 00:00:05  \n",
       "\n",
       "[10 rows x 43 columns]"
      ]
     },
     "execution_count": 25,
     "metadata": {},
     "output_type": "execute_result"
    }
   ],
   "source": [
    "df_test = df[df['CuStepNo ValueY'] != 2]\n",
    "# create column step_duration with value 0 if step difference is not 0\n",
    "df_test['step_duration'] = df_test['CuStepNo ValueY'].diff().ne(0).astype(int)\n",
    "# replace 0 with nan\n",
    "df_test['step_duration'] = df_test['step_duration'].replace(0, np.nan)\n",
    "# replace 1 with a timestamp of value 0\n",
    "df_test['step_duration'] = df_test['step_duration'].replace(1, 0)\n",
    "# convert step duration to timestamp\n",
    "df_test['step_duration'] = pd.to_timedelta(df_test['step_duration'])\n",
    "\n",
    "# fill na with difference in timestamp compared to row with valid value\n",
    "for i in range(len(df_test)):\n",
    "    if df_test.iloc[i]['step_duration'] == pd.to_timedelta(0):\n",
    "        step_start_timestamp = df_test.iloc[i]['timestamp']\n",
    "    else:\n",
    "        df_test['step_duration'].iloc[i] = df_test['timestamp'].iloc[i] - step_start_timestamp\n",
    "\n",
    "df_test.iloc[1048:1058]\n"
   ]
  },
  {
   "cell_type": "code",
   "execution_count": 46,
   "metadata": {},
   "outputs": [
    {
     "name": "stderr",
     "output_type": "stream",
     "text": [
      "C:\\Users\\t-ehm\\AppData\\Local\\Temp\\ipykernel_9068\\1287647351.py:5: SettingWithCopyWarning:\n",
      "\n",
      "\n",
      "A value is trying to be set on a copy of a slice from a DataFrame.\n",
      "Try using .loc[row_indexer,col_indexer] = value instead\n",
      "\n",
      "See the caveats in the documentation: https://pandas.pydata.org/pandas-docs/stable/user_guide/indexing.html#returning-a-view-versus-a-copy\n",
      "\n"
     ]
    },
    {
     "data": {
      "text/plain": [
       "CuStepNo ValueY\n",
       "1   0 days 00:04:15.301526717\n",
       "3   0 days 01:41:23.693486590\n",
       "7   0 days 00:01:11.103053435\n",
       "8   0 days 00:08:56.356321839\n",
       "Name: step_duration, dtype: timedelta64[ns]"
      ]
     },
     "execution_count": 46,
     "metadata": {},
     "output_type": "execute_result"
    }
   ],
   "source": [
    "# drop step 2\n",
    "df_exc_2 = df[df['CuStepNo ValueY'] != 2]\n",
    "# calculate the time of each step\n",
    "df_step_changes = df_exc_2[df_exc_2['CuStepNo ValueY'].diff() != 0]\n",
    "df_step_changes['step_duration'] = df_step_changes['timestamp'].diff(-1).abs()\n",
    "df_step_changes.groupby('CuStepNo ValueY')['step_duration'].mean()"
   ]
  },
  {
   "cell_type": "code",
   "execution_count": 47,
   "metadata": {},
   "outputs": [
    {
     "data": {
      "text/html": [
       "<div>\n",
       "<style scoped>\n",
       "    .dataframe tbody tr th:only-of-type {\n",
       "        vertical-align: middle;\n",
       "    }\n",
       "\n",
       "    .dataframe tbody tr th {\n",
       "        vertical-align: top;\n",
       "    }\n",
       "\n",
       "    .dataframe thead th {\n",
       "        text-align: right;\n",
       "    }\n",
       "</style>\n",
       "<table border=\"1\" class=\"dataframe\">\n",
       "  <thead>\n",
       "    <tr style=\"text-align: right;\">\n",
       "      <th></th>\n",
       "      <th>timestamp</th>\n",
       "      <th>DeviationID ValueY</th>\n",
       "      <th>CuStepNo ValueY</th>\n",
       "      <th>LevelMainTank ValueY</th>\n",
       "      <th>YC10001_MV ValueY</th>\n",
       "      <th>PI12002_PV_Out ValueY</th>\n",
       "      <th>PI12003_PV_Out ValueY</th>\n",
       "      <th>YC14001_MV ValueY</th>\n",
       "      <th>FIC14002_MV ValueY</th>\n",
       "      <th>FIC14002_PV_Out ValueY</th>\n",
       "      <th>...</th>\n",
       "      <th>LIC21002_SP ValueY</th>\n",
       "      <th>PIC14007_MV ValueY</th>\n",
       "      <th>PIC14007_PV_Out ValueY</th>\n",
       "      <th>PIC14007_SP ValueY</th>\n",
       "      <th>YC14008_Ctrl ValueY</th>\n",
       "      <th>PI10003_PV_Out ValueY</th>\n",
       "      <th>step_duration</th>\n",
       "      <th>new_batch</th>\n",
       "      <th>batch_number</th>\n",
       "      <th>time_since_start</th>\n",
       "    </tr>\n",
       "  </thead>\n",
       "  <tbody>\n",
       "    <tr>\n",
       "      <th>1048</th>\n",
       "      <td>2018-10-10 15:10:47</td>\n",
       "      <td>1</td>\n",
       "      <td>3</td>\n",
       "      <td>149.119293</td>\n",
       "      <td>100</td>\n",
       "      <td>0.073495</td>\n",
       "      <td>0.083912</td>\n",
       "      <td>100.000000</td>\n",
       "      <td>100.000000</td>\n",
       "      <td>0.000000</td>\n",
       "      <td>...</td>\n",
       "      <td>15</td>\n",
       "      <td>10.0</td>\n",
       "      <td>0.110383</td>\n",
       "      <td>0.2</td>\n",
       "      <td>0</td>\n",
       "      <td>0.001742</td>\n",
       "      <td>0 days 19:14:12</td>\n",
       "      <td>0</td>\n",
       "      <td>0</td>\n",
       "      <td>0 days 00:17:28</td>\n",
       "    </tr>\n",
       "    <tr>\n",
       "      <th>1049</th>\n",
       "      <td>2018-10-10 15:10:48</td>\n",
       "      <td>1</td>\n",
       "      <td>3</td>\n",
       "      <td>149.119293</td>\n",
       "      <td>100</td>\n",
       "      <td>0.072917</td>\n",
       "      <td>0.085648</td>\n",
       "      <td>100.000000</td>\n",
       "      <td>100.000000</td>\n",
       "      <td>0.000000</td>\n",
       "      <td>...</td>\n",
       "      <td>15</td>\n",
       "      <td>10.0</td>\n",
       "      <td>0.110431</td>\n",
       "      <td>0.2</td>\n",
       "      <td>0</td>\n",
       "      <td>0.001726</td>\n",
       "      <td>0 days 19:14:12</td>\n",
       "      <td>0</td>\n",
       "      <td>0</td>\n",
       "      <td>0 days 00:17:29</td>\n",
       "    </tr>\n",
       "    <tr>\n",
       "      <th>1050</th>\n",
       "      <td>2018-10-10 15:10:49</td>\n",
       "      <td>1</td>\n",
       "      <td>3</td>\n",
       "      <td>149.200409</td>\n",
       "      <td>100</td>\n",
       "      <td>0.070602</td>\n",
       "      <td>0.089699</td>\n",
       "      <td>100.000000</td>\n",
       "      <td>100.000000</td>\n",
       "      <td>0.000000</td>\n",
       "      <td>...</td>\n",
       "      <td>15</td>\n",
       "      <td>10.0</td>\n",
       "      <td>0.110489</td>\n",
       "      <td>0.2</td>\n",
       "      <td>0</td>\n",
       "      <td>0.001714</td>\n",
       "      <td>0 days 19:14:12</td>\n",
       "      <td>0</td>\n",
       "      <td>0</td>\n",
       "      <td>0 days 00:17:30</td>\n",
       "    </tr>\n",
       "    <tr>\n",
       "      <th>1051</th>\n",
       "      <td>2018-10-10 15:10:50</td>\n",
       "      <td>1</td>\n",
       "      <td>3</td>\n",
       "      <td>149.200409</td>\n",
       "      <td>100</td>\n",
       "      <td>0.066551</td>\n",
       "      <td>0.087963</td>\n",
       "      <td>100.000000</td>\n",
       "      <td>100.000000</td>\n",
       "      <td>0.000000</td>\n",
       "      <td>...</td>\n",
       "      <td>15</td>\n",
       "      <td>10.0</td>\n",
       "      <td>0.110537</td>\n",
       "      <td>0.2</td>\n",
       "      <td>0</td>\n",
       "      <td>0.001711</td>\n",
       "      <td>0 days 19:14:12</td>\n",
       "      <td>0</td>\n",
       "      <td>0</td>\n",
       "      <td>0 days 00:17:31</td>\n",
       "    </tr>\n",
       "    <tr>\n",
       "      <th>1052</th>\n",
       "      <td>2018-10-11 10:21:45</td>\n",
       "      <td>4</td>\n",
       "      <td>1</td>\n",
       "      <td>152.251556</td>\n",
       "      <td>100</td>\n",
       "      <td>0.075810</td>\n",
       "      <td>0.089699</td>\n",
       "      <td>100.000000</td>\n",
       "      <td>100.000000</td>\n",
       "      <td>0.000000</td>\n",
       "      <td>...</td>\n",
       "      <td>15</td>\n",
       "      <td>10.0</td>\n",
       "      <td>0.116767</td>\n",
       "      <td>0.2</td>\n",
       "      <td>0</td>\n",
       "      <td>0.001709</td>\n",
       "      <td>0 days 00:04:09</td>\n",
       "      <td>1</td>\n",
       "      <td>1</td>\n",
       "      <td>0 days 00:00:00</td>\n",
       "    </tr>\n",
       "    <tr>\n",
       "      <th>1053</th>\n",
       "      <td>2018-10-11 10:21:46</td>\n",
       "      <td>4</td>\n",
       "      <td>1</td>\n",
       "      <td>152.195923</td>\n",
       "      <td>100</td>\n",
       "      <td>0.074653</td>\n",
       "      <td>0.093750</td>\n",
       "      <td>100.000000</td>\n",
       "      <td>100.000000</td>\n",
       "      <td>0.000000</td>\n",
       "      <td>...</td>\n",
       "      <td>15</td>\n",
       "      <td>10.0</td>\n",
       "      <td>0.116733</td>\n",
       "      <td>0.2</td>\n",
       "      <td>0</td>\n",
       "      <td>0.001718</td>\n",
       "      <td>0 days 00:04:09</td>\n",
       "      <td>0</td>\n",
       "      <td>1</td>\n",
       "      <td>0 days 00:00:01</td>\n",
       "    </tr>\n",
       "    <tr>\n",
       "      <th>1054</th>\n",
       "      <td>2018-10-11 10:21:47</td>\n",
       "      <td>4</td>\n",
       "      <td>1</td>\n",
       "      <td>152.143127</td>\n",
       "      <td>100</td>\n",
       "      <td>0.075810</td>\n",
       "      <td>0.141204</td>\n",
       "      <td>100.000000</td>\n",
       "      <td>100.000000</td>\n",
       "      <td>0.000000</td>\n",
       "      <td>...</td>\n",
       "      <td>15</td>\n",
       "      <td>10.0</td>\n",
       "      <td>0.116709</td>\n",
       "      <td>0.2</td>\n",
       "      <td>0</td>\n",
       "      <td>0.001707</td>\n",
       "      <td>0 days 00:04:09</td>\n",
       "      <td>0</td>\n",
       "      <td>1</td>\n",
       "      <td>0 days 00:00:02</td>\n",
       "    </tr>\n",
       "    <tr>\n",
       "      <th>1055</th>\n",
       "      <td>2018-10-11 10:21:48</td>\n",
       "      <td>4</td>\n",
       "      <td>1</td>\n",
       "      <td>152.101624</td>\n",
       "      <td>100</td>\n",
       "      <td>0.080440</td>\n",
       "      <td>0.247685</td>\n",
       "      <td>100.000000</td>\n",
       "      <td>100.000000</td>\n",
       "      <td>0.000000</td>\n",
       "      <td>...</td>\n",
       "      <td>15</td>\n",
       "      <td>10.0</td>\n",
       "      <td>0.116713</td>\n",
       "      <td>0.2</td>\n",
       "      <td>0</td>\n",
       "      <td>0.001692</td>\n",
       "      <td>0 days 00:04:09</td>\n",
       "      <td>0</td>\n",
       "      <td>1</td>\n",
       "      <td>0 days 00:00:03</td>\n",
       "    </tr>\n",
       "    <tr>\n",
       "      <th>1056</th>\n",
       "      <td>2018-10-11 10:21:49</td>\n",
       "      <td>4</td>\n",
       "      <td>1</td>\n",
       "      <td>152.068481</td>\n",
       "      <td>100</td>\n",
       "      <td>0.078704</td>\n",
       "      <td>0.416667</td>\n",
       "      <td>99.328842</td>\n",
       "      <td>98.354942</td>\n",
       "      <td>796.162048</td>\n",
       "      <td>...</td>\n",
       "      <td>15</td>\n",
       "      <td>10.0</td>\n",
       "      <td>0.116752</td>\n",
       "      <td>0.2</td>\n",
       "      <td>0</td>\n",
       "      <td>0.001694</td>\n",
       "      <td>0 days 00:04:09</td>\n",
       "      <td>0</td>\n",
       "      <td>1</td>\n",
       "      <td>0 days 00:00:04</td>\n",
       "    </tr>\n",
       "    <tr>\n",
       "      <th>1057</th>\n",
       "      <td>2018-10-11 10:21:50</td>\n",
       "      <td>4</td>\n",
       "      <td>1</td>\n",
       "      <td>152.041229</td>\n",
       "      <td>100</td>\n",
       "      <td>0.074653</td>\n",
       "      <td>0.709491</td>\n",
       "      <td>100.000000</td>\n",
       "      <td>100.000000</td>\n",
       "      <td>734.765625</td>\n",
       "      <td>...</td>\n",
       "      <td>15</td>\n",
       "      <td>10.0</td>\n",
       "      <td>0.116785</td>\n",
       "      <td>0.2</td>\n",
       "      <td>0</td>\n",
       "      <td>0.001674</td>\n",
       "      <td>0 days 00:04:09</td>\n",
       "      <td>0</td>\n",
       "      <td>1</td>\n",
       "      <td>0 days 00:00:05</td>\n",
       "    </tr>\n",
       "  </tbody>\n",
       "</table>\n",
       "<p>10 rows × 46 columns</p>\n",
       "</div>"
      ],
      "text/plain": [
       "               timestamp  DeviationID ValueY  CuStepNo ValueY  \\\n",
       "1048 2018-10-10 15:10:47                   1                3   \n",
       "1049 2018-10-10 15:10:48                   1                3   \n",
       "1050 2018-10-10 15:10:49                   1                3   \n",
       "1051 2018-10-10 15:10:50                   1                3   \n",
       "1052 2018-10-11 10:21:45                   4                1   \n",
       "1053 2018-10-11 10:21:46                   4                1   \n",
       "1054 2018-10-11 10:21:47                   4                1   \n",
       "1055 2018-10-11 10:21:48                   4                1   \n",
       "1056 2018-10-11 10:21:49                   4                1   \n",
       "1057 2018-10-11 10:21:50                   4                1   \n",
       "\n",
       "      LevelMainTank ValueY  YC10001_MV ValueY  PI12002_PV_Out ValueY  \\\n",
       "1048            149.119293                100               0.073495   \n",
       "1049            149.119293                100               0.072917   \n",
       "1050            149.200409                100               0.070602   \n",
       "1051            149.200409                100               0.066551   \n",
       "1052            152.251556                100               0.075810   \n",
       "1053            152.195923                100               0.074653   \n",
       "1054            152.143127                100               0.075810   \n",
       "1055            152.101624                100               0.080440   \n",
       "1056            152.068481                100               0.078704   \n",
       "1057            152.041229                100               0.074653   \n",
       "\n",
       "      PI12003_PV_Out ValueY  YC14001_MV ValueY  FIC14002_MV ValueY  \\\n",
       "1048               0.083912         100.000000          100.000000   \n",
       "1049               0.085648         100.000000          100.000000   \n",
       "1050               0.089699         100.000000          100.000000   \n",
       "1051               0.087963         100.000000          100.000000   \n",
       "1052               0.089699         100.000000          100.000000   \n",
       "1053               0.093750         100.000000          100.000000   \n",
       "1054               0.141204         100.000000          100.000000   \n",
       "1055               0.247685         100.000000          100.000000   \n",
       "1056               0.416667          99.328842           98.354942   \n",
       "1057               0.709491         100.000000          100.000000   \n",
       "\n",
       "      FIC14002_PV_Out ValueY  ...  LIC21002_SP ValueY  PIC14007_MV ValueY  \\\n",
       "1048                0.000000  ...                  15                10.0   \n",
       "1049                0.000000  ...                  15                10.0   \n",
       "1050                0.000000  ...                  15                10.0   \n",
       "1051                0.000000  ...                  15                10.0   \n",
       "1052                0.000000  ...                  15                10.0   \n",
       "1053                0.000000  ...                  15                10.0   \n",
       "1054                0.000000  ...                  15                10.0   \n",
       "1055                0.000000  ...                  15                10.0   \n",
       "1056              796.162048  ...                  15                10.0   \n",
       "1057              734.765625  ...                  15                10.0   \n",
       "\n",
       "      PIC14007_PV_Out ValueY  PIC14007_SP ValueY  YC14008_Ctrl ValueY  \\\n",
       "1048                0.110383                 0.2                    0   \n",
       "1049                0.110431                 0.2                    0   \n",
       "1050                0.110489                 0.2                    0   \n",
       "1051                0.110537                 0.2                    0   \n",
       "1052                0.116767                 0.2                    0   \n",
       "1053                0.116733                 0.2                    0   \n",
       "1054                0.116709                 0.2                    0   \n",
       "1055                0.116713                 0.2                    0   \n",
       "1056                0.116752                 0.2                    0   \n",
       "1057                0.116785                 0.2                    0   \n",
       "\n",
       "      PI10003_PV_Out ValueY   step_duration  new_batch  batch_number  \\\n",
       "1048               0.001742 0 days 19:14:12          0             0   \n",
       "1049               0.001726 0 days 19:14:12          0             0   \n",
       "1050               0.001714 0 days 19:14:12          0             0   \n",
       "1051               0.001711 0 days 19:14:12          0             0   \n",
       "1052               0.001709 0 days 00:04:09          1             1   \n",
       "1053               0.001718 0 days 00:04:09          0             1   \n",
       "1054               0.001707 0 days 00:04:09          0             1   \n",
       "1055               0.001692 0 days 00:04:09          0             1   \n",
       "1056               0.001694 0 days 00:04:09          0             1   \n",
       "1057               0.001674 0 days 00:04:09          0             1   \n",
       "\n",
       "      time_since_start  \n",
       "1048   0 days 00:17:28  \n",
       "1049   0 days 00:17:29  \n",
       "1050   0 days 00:17:30  \n",
       "1051   0 days 00:17:31  \n",
       "1052   0 days 00:00:00  \n",
       "1053   0 days 00:00:01  \n",
       "1054   0 days 00:00:02  \n",
       "1055   0 days 00:00:03  \n",
       "1056   0 days 00:00:04  \n",
       "1057   0 days 00:00:05  \n",
       "\n",
       "[10 rows x 46 columns]"
      ]
     },
     "execution_count": 47,
     "metadata": {},
     "output_type": "execute_result"
    }
   ],
   "source": [
    "# left join the step durations to the original dataframe based on the timestamp\n",
    "df_exc_2 = df_exc_2.merge(df_step_changes[['timestamp', 'step_duration']], on='timestamp', how='left')\n",
    "\n",
    "# fill the missing values with the previous value because the join happens on the first value of each step\n",
    "df_exc_2['step_duration'] = df_exc_2['step_duration'].fillna(method='ffill')\n",
    "\n",
    "# identify new batches by checking if the step changes to step id 1\n",
    "df_exc_2['new_batch'] = df_exc_2['CuStepNo ValueY'].diff() == -2\n",
    "df_exc_2['new_batch'] = df_exc_2['new_batch'].astype(int)\n",
    "\n",
    "# calculate the current batch number\n",
    "df_exc_2['batch_number'] = df_exc_2['new_batch'].cumsum()\n",
    "\n",
    "# calculate the time since the start of the batch\n",
    "df_exc_2['time_since_start'] = df_exc_2['timestamp'] - df_exc_2.groupby('batch_number')['timestamp'].transform('min')\n",
    "\n",
    "# first 10 rows starting from the 1048th row\n",
    "df_exc_2.iloc[1048:1058]"
   ]
  }
 ],
 "metadata": {
  "kernelspec": {
   "display_name": "Python 3",
   "language": "python",
   "name": "python3"
  },
  "language_info": {
   "codemirror_mode": {
    "name": "ipython",
    "version": 3
   },
   "file_extension": ".py",
   "mimetype": "text/x-python",
   "name": "python",
   "nbconvert_exporter": "python",
   "pygments_lexer": "ipython3",
   "version": "3.11.0"
  },
  "orig_nbformat": 4,
  "vscode": {
   "interpreter": {
    "hash": "5c7b89af1651d0b8571dde13640ecdccf7d5a6204171d6ab33e7c296e100e08a"
   }
  }
 },
 "nbformat": 4,
 "nbformat_minor": 2
}
