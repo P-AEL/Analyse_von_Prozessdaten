{
 "cells": [
  {
   "cell_type": "code",
   "execution_count": 13,
   "metadata": {},
   "outputs": [],
   "source": [
    "import pandas as pd\n",
    "import numpy as np"
   ]
  },
  {
   "cell_type": "code",
   "execution_count": 21,
   "metadata": {},
   "outputs": [
    {
     "data": {
      "text/plain": [
       "2649.42504882813"
      ]
     },
     "execution_count": 21,
     "metadata": {},
     "output_type": "execute_result"
    }
   ],
   "source": [
    "try:\n",
    "    tank_training_data = pd.read_pickle(r\"C:\\Users\\t-ehm\\iCloudDrive\\Studium\\Data_Science_Semester4\\Analyse_von_Prozess_und_Produktdaten\\Analyse_von_Prozessdaten\\development\\setup\\current_tank_data.pkl\")\n",
    "except:\n",
    "    tank_training_data = pd.read_pickle(r\"/Users/timehmann/Library/Mobile Documents/com~apple~CloudDocs/Studium/Data_Science_Semester4/Analyse_von_Prozess_und_Produktdaten/Analyse_von_Prozessdaten/development/setup/current_tank_data.pkl\")\n",
    "# simulates new data coming in\n",
    "try:\n",
    "    new_data = pd.read_csv(r\"C:\\Users\\t-ehm\\iCloudDrive\\Studium\\Data_Science_Semester4\\Analyse_von_Prozess_und_Produktdaten\\Analyse_von_Prozessdaten\\Paul\\Batch_76.csv\")\n",
    "except:\n",
    "    new_data = pd.read_csv(r\"/Users/timehmann/Library/Mobile Documents/com~apple~CloudDocs/Studium/Data_Science_Semester4/Analyse_von_Prozess_und_Produktdaten/Analyse_von_Prozessdaten/Paul/Batch_76.csv\")\n",
    "# Daten aus dem aktuellen Batch ggf. aus Legacy Batch holen und preprocessing durchführen\n",
    "if new_data.iloc[0][\"CuStepNo ValueY\"] == 1 and tank_training_data.iloc[-1][\"CuStepNo ValueY\"] == 3:\n",
    "    data_to_analyse = new_data\n",
    "else:\n",
    "    newest_batch = tank_training_data.iloc[-1][\"Batch\"]\n",
    "    data_to_analyse = pd.concat([tank_training_data[tank_training_data[\"Batch\"] == newest_batch], new_data])\n",
    "    tank_training_data = tank_training_data[tank_training_data[\"Batch\"] != newest_batch]\n",
    "\n",
    "data_to_analyse.drop(columns=[\"DeviationID ValueY\", \"CuStepNo ValueY\", \"timestamp\", \"Unnamed: 0\"], inplace=True)\n",
    "data_to_analyse.to_numpy().reshape(1,39,data_to_analyse.__len__()).max()"
   ]
  }
 ],
 "metadata": {
  "kernelspec": {
   "display_name": "Python 3",
   "language": "python",
   "name": "python3"
  },
  "language_info": {
   "codemirror_mode": {
    "name": "ipython",
    "version": 3
   },
   "file_extension": ".py",
   "mimetype": "text/x-python",
   "name": "python",
   "nbconvert_exporter": "python",
   "pygments_lexer": "ipython3",
   "version": "3.10.8"
  },
  "orig_nbformat": 4
 },
 "nbformat": 4,
 "nbformat_minor": 2
}
