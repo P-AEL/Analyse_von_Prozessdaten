{
 "cells": [
  {
   "cell_type": "code",
   "execution_count": 2,
   "metadata": {},
   "outputs": [],
   "source": [
    "import pandas as pd"
   ]
  },
  {
   "cell_type": "code",
   "execution_count": 6,
   "metadata": {},
   "outputs": [],
   "source": [
    "df = pd.read_csv(\"/Users/florian/Documents/GitHub/4 Semester/APPD/Analyse_von_Prozessdaten/setup/SmA-Four-Tank-Batch-Process_V2.csv\", sep=\";\")"
   ]
  },
  {
   "cell_type": "code",
   "execution_count": 15,
   "metadata": {},
   "outputs": [
    {
     "name": "stdout",
     "output_type": "stream",
     "text": [
      "Number of deviations: 11\n"
     ]
    }
   ],
   "source": [
    "if df.columns.isin([\"DeviationID ValueY\", \"timestamp\"]).any():\n",
    " df[\"timestamp\"]= pd.to_datetime(df[\"timestamp\"], format= \"%Y-%m-%d %H:%M:%S\")\n",
    " print(\"Number of deviations: {}\".format(len(df[\"DeviationID ValueY\"].unique())))\n"
   ]
  },
  {
   "cell_type": "code",
   "execution_count": 4,
   "metadata": {},
   "outputs": [],
   "source": [
    "import pandas as pd\n",
    "import os.path\n",
    "\n",
    "file_name= \"SmA-Four-Tank-Batch-Process_V2.csv\"\n",
    "\n",
    "if not os.path.isfile(file_name):\n",
    " print(\"Missing file {}.\".format(file_name))\n",
    " exit()\n",
    "df= pd.read_csv(file_name, sep= \";\")\n",
    "\n",
    "if df.columns.isin([\"DeviationID ValueY\", \"timestamp\"]).any():\n",
    " df[\"timestamp\"]= pd.to_datetime(df[\"timestamp\"], format= \"%Y-%m-%d %H:%M:%S\")\n",
    " print(\"Found Data, Number of deviations: {}\".format(len(df[\"DeviationID ValueY\"].unique())))"
   ]
  },
  {
   "cell_type": "code",
   "execution_count": null,
   "metadata": {},
   "outputs": [],
   "source": []
  }
 ],
 "metadata": {
  "kernelspec": {
   "display_name": "Python 3",
   "language": "python",
   "name": "python3"
  },
  "language_info": {
   "codemirror_mode": {
    "name": "ipython",
    "version": 3
   },
   "file_extension": ".py",
   "mimetype": "text/x-python",
   "name": "python",
   "nbconvert_exporter": "python",
   "pygments_lexer": "ipython3",
   "version": "3.9.7"
  },
  "orig_nbformat": 4
 },
 "nbformat": 4,
 "nbformat_minor": 2
}
