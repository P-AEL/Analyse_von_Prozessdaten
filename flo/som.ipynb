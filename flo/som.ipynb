{
 "cells": [
  {
   "cell_type": "code",
   "execution_count": 1,
   "metadata": {},
   "outputs": [],
   "source": [
    "import numpy as np\n",
    "import pandas as pd\n",
    "import random"
   ]
  },
  {
   "cell_type": "code",
   "execution_count": 2,
   "metadata": {},
   "outputs": [],
   "source": [
    "from sklearn.model_selection import train_test_split"
   ]
  },
  {
   "cell_type": "code",
   "execution_count": 3,
   "metadata": {},
   "outputs": [],
   "source": [
    "df = pd.read_csv(\"/Users/florian/Documents/GitHub/4 Semester/APPD/Analyse_von_Prozessdaten/setup/SmA-Four-Tank-Batch-Process_V2.csv\", sep= \";\")"
   ]
  },
  {
   "cell_type": "code",
   "execution_count": 4,
   "metadata": {},
   "outputs": [],
   "source": [
    "import numpy as np\n",
    "\n",
    "class SOM:\n",
    "    def __init__(self, input_dim, output_dim, lr, max_iter):\n",
    "        self.input_dim = input_dim\n",
    "        self.output_dim = output_dim\n",
    "        self.lr = lr\n",
    "        self.max_iter = max_iter\n",
    "        self.weights = np.random.rand(output_dim[0], output_dim[1], input_dim)\n",
    "    \n",
    "    def distance(self, x, y):\n",
    "        # Euclidean distance between two vectors\n",
    "        return np.sqrt(np.sum(np.power(x - y, 2)))\n",
    "    \n",
    "    def neighbourhood(self, center, radius):\n",
    "        # Gaussian neighbourhood function\n",
    "        d = np.zeros(self.output_dim)\n",
    "        for i in range(self.output_dim[0]):\n",
    "            for j in range(self.output_dim[1]):\n",
    "                d[i,j] = self.distance(center, np.array([i,j]))\n",
    "        return np.exp(-np.power(d, 2) / (2 * np.power(radius, 2)))\n",
    "    \n",
    "    def fit(self, X):\n",
    "        for iter_count in range(self.max_iter):\n",
    "            # Select a random input sample\n",
    "            x = X[np.random.randint(X.shape[0])]\n",
    "            \n",
    "            # Find the best matching unit (BMU)\n",
    "            bmu_idx = np.array([0, 0])\n",
    "            min_dist = np.iinfo(np.int).max\n",
    "            for i in range(self.output_dim[0]):\n",
    "                for j in range(self.output_dim[1]):\n",
    "                    w = self.weights[i,j,:]\n",
    "                    d = self.distance(x, w)\n",
    "                    if d < min_dist:\n",
    "                        min_dist = d\n",
    "                        bmu_idx = np.array([i, j])\n",
    "            \n",
    "            # Update BMU and neighbourhood weights\n",
    "            radius = min(self.output_dim[0], self.output_dim[1]) / 2\n",
    "            neighbourhood = self.neighbourhood(bmu_idx, radius)\n",
    "            for i in range(self.output_dim[0]):\n",
    "                for j in range(self.output_dim[1]):\n",
    "                    w = self.weights[i,j,:]\n",
    "                    d = np.array([i,j]) - bmu_idx\n",
    "                    influence = neighbourhood[i,j] * self.lr\n",
    "                    new_w = w + influence * (x - w)\n",
    "                    self.weights[i,j,:] = new_w\n",
    "                    \n",
    "        print(\"Training complete.\")\n",
    "    \n",
    "    def detect_anomalies(self, X, threshold=0.5):\n",
    "        # Calculate node frequencies\n",
    "        node_freq = np.array(self.node_freq)\n",
    "        node_freq_norm = node_freq / np.sum(node_freq)\n",
    "        \n",
    "        # Calculate average distances\n",
    "        dist_avg = np.zeros(self.output_dim)\n",
    "        for i in range(self.output_dim[0]):\n",
    "            for j in range(self.output_dim[1]):\n",
    "                w = self.weights[i,j,:]\n",
    "                X_mapped = X[self.node_map == (i,j),:]\n",
    "                if X_mapped.shape[0] > 0:\n",
    "                    dist_avg[i,j] = np.mean([self.distance(x, w) for x in X_mapped])\n",
    "                else:\n",
    "                    dist_avg[i,j] = np.nan\n",
    "        \n",
    "        # Identify anomalous nodes\n",
    "        node_anomalous = np.logical_or(node_freq_norm < threshold, \n",
    "                                       dist_avg > np.nanmean(dist_avg) + np.nanstd(dist_avg))\n",
    "        \n",
    "        # Identify anomalous data points\n",
    "        X_anomalous = []\n",
    "        for i in range(X.shape[0]):\n",
    "            x = X[i,:]\n",
    "            bmu_idx = np.array([0, 0])\n",
    "            min_dist = np.iinfo(np.int).max\n",
    "            for i in range(self.output_dim[0]):\n",
    "                for j in range(self.output_dim[1]):\n",
    "                    w = self.weights[i,j,:]\n",
    "                    d = self.distance(x, w)\n",
    "                    if d < min_dist:\n",
    "                        min_dist = d\n",
    "                        bmu_idx = np.array([i, j])\n",
    "            if node_anomalous[bmu_idx[0], bmu_idx[1]]:\n",
    "                X_anomalous.append(x)\n",
    "        \n",
    "        return node_anomalous, np.array(X_anomalous)"
   ]
  },
  {
   "cell_type": "code",
   "execution_count": 5,
   "metadata": {},
   "outputs": [],
   "source": [
    "df1 = df.drop([\"DeviationID ValueY\", \"timestamp\"], axis= 1)"
   ]
  },
  {
   "cell_type": "code",
   "execution_count": 6,
   "metadata": {},
   "outputs": [],
   "source": [
    "randomlist = random.sample(range(0, 260), 78)\n",
    "\n",
    "X_train = df1.loc[df.index.isin(randomlist)]\n",
    "X_test = df1.loc[~df.index.isin(randomlist)]\n"
   ]
  },
  {
   "cell_type": "code",
   "execution_count": 7,
   "metadata": {},
   "outputs": [],
   "source": [
    "som = SOM(input_dim= 42, output_dim= (42,42), lr= 0.1, max_iter=1000)"
   ]
  },
  {
   "cell_type": "code",
   "execution_count": 12,
   "metadata": {},
   "outputs": [
    {
     "ename": "KeyError",
     "evalue": "25",
     "output_type": "error",
     "traceback": [
      "\u001b[0;31m---------------------------------------------------------------------------\u001b[0m",
      "\u001b[0;31mKeyError\u001b[0m                                  Traceback (most recent call last)",
      "File \u001b[0;32m/Library/Frameworks/Python.framework/Versions/3.9/lib/python3.9/site-packages/pandas/core/indexes/base.py:3621\u001b[0m, in \u001b[0;36mIndex.get_loc\u001b[0;34m(self, key, method, tolerance)\u001b[0m\n\u001b[1;32m   3620\u001b[0m \u001b[39mtry\u001b[39;00m:\n\u001b[0;32m-> 3621\u001b[0m     \u001b[39mreturn\u001b[39;00m \u001b[39mself\u001b[39;49m\u001b[39m.\u001b[39;49m_engine\u001b[39m.\u001b[39;49mget_loc(casted_key)\n\u001b[1;32m   3622\u001b[0m \u001b[39mexcept\u001b[39;00m \u001b[39mKeyError\u001b[39;00m \u001b[39mas\u001b[39;00m err:\n",
      "File \u001b[0;32mpandas/_libs/index.pyx:136\u001b[0m, in \u001b[0;36mpandas._libs.index.IndexEngine.get_loc\u001b[0;34m()\u001b[0m\n",
      "File \u001b[0;32mpandas/_libs/index.pyx:163\u001b[0m, in \u001b[0;36mpandas._libs.index.IndexEngine.get_loc\u001b[0;34m()\u001b[0m\n",
      "File \u001b[0;32mpandas/_libs/hashtable_class_helper.pxi:5198\u001b[0m, in \u001b[0;36mpandas._libs.hashtable.PyObjectHashTable.get_item\u001b[0;34m()\u001b[0m\n",
      "File \u001b[0;32mpandas/_libs/hashtable_class_helper.pxi:5206\u001b[0m, in \u001b[0;36mpandas._libs.hashtable.PyObjectHashTable.get_item\u001b[0;34m()\u001b[0m\n",
      "\u001b[0;31mKeyError\u001b[0m: 25",
      "\nThe above exception was the direct cause of the following exception:\n",
      "\u001b[0;31mKeyError\u001b[0m                                  Traceback (most recent call last)",
      "\u001b[1;32m/Users/florian/Documents/GitHub/4 Semester/APPD/Analyse_von_Prozessdaten/som.ipynb Zelle 8\u001b[0m in \u001b[0;36m<cell line: 1>\u001b[0;34m()\u001b[0m\n\u001b[0;32m----> <a href='vscode-notebook-cell:/Users/florian/Documents/GitHub/4%20Semester/APPD/Analyse_von_Prozessdaten/som.ipynb#X21sZmlsZQ%3D%3D?line=0'>1</a>\u001b[0m som\u001b[39m.\u001b[39;49mfit(X_train)\n",
      "\u001b[1;32m/Users/florian/Documents/GitHub/4 Semester/APPD/Analyse_von_Prozessdaten/som.ipynb Zelle 8\u001b[0m in \u001b[0;36mSOM.fit\u001b[0;34m(self, X)\u001b[0m\n\u001b[1;32m     <a href='vscode-notebook-cell:/Users/florian/Documents/GitHub/4%20Semester/APPD/Analyse_von_Prozessdaten/som.ipynb#X21sZmlsZQ%3D%3D?line=22'>23</a>\u001b[0m \u001b[39mdef\u001b[39;00m \u001b[39mfit\u001b[39m(\u001b[39mself\u001b[39m, X):\n\u001b[1;32m     <a href='vscode-notebook-cell:/Users/florian/Documents/GitHub/4%20Semester/APPD/Analyse_von_Prozessdaten/som.ipynb#X21sZmlsZQ%3D%3D?line=23'>24</a>\u001b[0m     \u001b[39mfor\u001b[39;00m iter_count \u001b[39min\u001b[39;00m \u001b[39mrange\u001b[39m(\u001b[39mself\u001b[39m\u001b[39m.\u001b[39mmax_iter):\n\u001b[1;32m     <a href='vscode-notebook-cell:/Users/florian/Documents/GitHub/4%20Semester/APPD/Analyse_von_Prozessdaten/som.ipynb#X21sZmlsZQ%3D%3D?line=24'>25</a>\u001b[0m         \u001b[39m# Select a random input sample\u001b[39;00m\n\u001b[0;32m---> <a href='vscode-notebook-cell:/Users/florian/Documents/GitHub/4%20Semester/APPD/Analyse_von_Prozessdaten/som.ipynb#X21sZmlsZQ%3D%3D?line=25'>26</a>\u001b[0m         x \u001b[39m=\u001b[39m X[np\u001b[39m.\u001b[39;49mrandom\u001b[39m.\u001b[39;49mrandint(X\u001b[39m.\u001b[39;49mshape[\u001b[39m0\u001b[39;49m])]\n\u001b[1;32m     <a href='vscode-notebook-cell:/Users/florian/Documents/GitHub/4%20Semester/APPD/Analyse_von_Prozessdaten/som.ipynb#X21sZmlsZQ%3D%3D?line=27'>28</a>\u001b[0m         \u001b[39m# Find the best matching unit (BMU)\u001b[39;00m\n\u001b[1;32m     <a href='vscode-notebook-cell:/Users/florian/Documents/GitHub/4%20Semester/APPD/Analyse_von_Prozessdaten/som.ipynb#X21sZmlsZQ%3D%3D?line=28'>29</a>\u001b[0m         bmu_idx \u001b[39m=\u001b[39m np\u001b[39m.\u001b[39marray([\u001b[39m0\u001b[39m, \u001b[39m0\u001b[39m])\n",
      "File \u001b[0;32m/Library/Frameworks/Python.framework/Versions/3.9/lib/python3.9/site-packages/pandas/core/frame.py:3505\u001b[0m, in \u001b[0;36mDataFrame.__getitem__\u001b[0;34m(self, key)\u001b[0m\n\u001b[1;32m   3503\u001b[0m \u001b[39mif\u001b[39;00m \u001b[39mself\u001b[39m\u001b[39m.\u001b[39mcolumns\u001b[39m.\u001b[39mnlevels \u001b[39m>\u001b[39m \u001b[39m1\u001b[39m:\n\u001b[1;32m   3504\u001b[0m     \u001b[39mreturn\u001b[39;00m \u001b[39mself\u001b[39m\u001b[39m.\u001b[39m_getitem_multilevel(key)\n\u001b[0;32m-> 3505\u001b[0m indexer \u001b[39m=\u001b[39m \u001b[39mself\u001b[39;49m\u001b[39m.\u001b[39;49mcolumns\u001b[39m.\u001b[39;49mget_loc(key)\n\u001b[1;32m   3506\u001b[0m \u001b[39mif\u001b[39;00m is_integer(indexer):\n\u001b[1;32m   3507\u001b[0m     indexer \u001b[39m=\u001b[39m [indexer]\n",
      "File \u001b[0;32m/Library/Frameworks/Python.framework/Versions/3.9/lib/python3.9/site-packages/pandas/core/indexes/base.py:3623\u001b[0m, in \u001b[0;36mIndex.get_loc\u001b[0;34m(self, key, method, tolerance)\u001b[0m\n\u001b[1;32m   3621\u001b[0m     \u001b[39mreturn\u001b[39;00m \u001b[39mself\u001b[39m\u001b[39m.\u001b[39m_engine\u001b[39m.\u001b[39mget_loc(casted_key)\n\u001b[1;32m   3622\u001b[0m \u001b[39mexcept\u001b[39;00m \u001b[39mKeyError\u001b[39;00m \u001b[39mas\u001b[39;00m err:\n\u001b[0;32m-> 3623\u001b[0m     \u001b[39mraise\u001b[39;00m \u001b[39mKeyError\u001b[39;00m(key) \u001b[39mfrom\u001b[39;00m \u001b[39merr\u001b[39;00m\n\u001b[1;32m   3624\u001b[0m \u001b[39mexcept\u001b[39;00m \u001b[39mTypeError\u001b[39;00m:\n\u001b[1;32m   3625\u001b[0m     \u001b[39m# If we have a listlike key, _check_indexing_error will raise\u001b[39;00m\n\u001b[1;32m   3626\u001b[0m     \u001b[39m#  InvalidIndexError. Otherwise we fall through and re-raise\u001b[39;00m\n\u001b[1;32m   3627\u001b[0m     \u001b[39m#  the TypeError.\u001b[39;00m\n\u001b[1;32m   3628\u001b[0m     \u001b[39mself\u001b[39m\u001b[39m.\u001b[39m_check_indexing_error(key)\n",
      "\u001b[0;31mKeyError\u001b[0m: 25"
     ]
    }
   ],
   "source": [
    "som.fit(X_train)"
   ]
  }
 ],
 "metadata": {
  "kernelspec": {
   "display_name": "Python 3",
   "language": "python",
   "name": "python3"
  },
  "language_info": {
   "codemirror_mode": {
    "name": "ipython",
    "version": 3
   },
   "file_extension": ".py",
   "mimetype": "text/x-python",
   "name": "python",
   "nbconvert_exporter": "python",
   "pygments_lexer": "ipython3",
   "version": "3.9.7"
  },
  "orig_nbformat": 4
 },
 "nbformat": 4,
 "nbformat_minor": 2
}
