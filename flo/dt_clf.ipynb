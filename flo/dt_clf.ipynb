{
 "cells": [
  {
   "cell_type": "code",
   "execution_count": 1,
   "metadata": {},
   "outputs": [],
   "source": [
    "import pandas as pd"
   ]
  },
  {
   "attachments": {},
   "cell_type": "markdown",
   "metadata": {},
   "source": [
    "### preprocessing"
   ]
  },
  {
   "cell_type": "code",
   "execution_count": 2,
   "metadata": {},
   "outputs": [],
   "source": [
    "df = pd.read_pickle(\"Tank.pkl\") "
   ]
  },
  {
   "cell_type": "code",
   "execution_count": 3,
   "metadata": {},
   "outputs": [],
   "source": [
    "df.timestamp = pd.to_datetime(df.timestamp)"
   ]
  },
  {
   "cell_type": "code",
   "execution_count": 5,
   "metadata": {},
   "outputs": [
    {
     "name": "stderr",
     "output_type": "stream",
     "text": [
      "/var/folders/f6/gs3z1yx9005b5dmpnd_z3t3m0000gn/T/ipykernel_30210/2510048616.py:2: SettingWithCopyWarning: \n",
      "A value is trying to be set on a copy of a slice from a DataFrame.\n",
      "Try using .loc[row_indexer,col_indexer] = value instead\n",
      "\n",
      "See the caveats in the documentation: https://pandas.pydata.org/pandas-docs/stable/user_guide/indexing.html#returning-a-view-versus-a-copy\n",
      "  df_new[\"Next_Step\"] = df_new[\"CuStepNo ValueY\"].shift()\n"
     ]
    }
   ],
   "source": [
    "df_new = df.loc[df[\"CuStepNo ValueY\"] != 2]\n",
    "df_new[\"Next_Step\"] = df_new[\"CuStepNo ValueY\"].shift()\n",
    "df_steps = df_new.loc[df_new[\"CuStepNo ValueY\"] != df_new[\"Next_Step\"]]"
   ]
  },
  {
   "cell_type": "markdown",
   "metadata": {},
   "source": [
    "#durchschnittliche zeit"
   ]
  },
  {
   "cell_type": "code",
   "execution_count": 7,
   "metadata": {},
   "outputs": [
    {
     "name": "stderr",
     "output_type": "stream",
     "text": [
      "/var/folders/f6/gs3z1yx9005b5dmpnd_z3t3m0000gn/T/ipykernel_30210/884090360.py:1: SettingWithCopyWarning: \n",
      "A value is trying to be set on a copy of a slice from a DataFrame.\n",
      "Try using .loc[row_indexer,col_indexer] = value instead\n",
      "\n",
      "See the caveats in the documentation: https://pandas.pydata.org/pandas-docs/stable/user_guide/indexing.html#returning-a-view-versus-a-copy\n",
      "  df_steps[\"Time_next\"] = df_steps.timestamp.shift()\n"
     ]
    }
   ],
   "source": [
    "df_steps[\"Time_next\"] = df_steps.timestamp.shift()"
   ]
  },
  {
   "cell_type": "code",
   "execution_count": 8,
   "metadata": {},
   "outputs": [
    {
     "name": "stderr",
     "output_type": "stream",
     "text": [
      "/var/folders/f6/gs3z1yx9005b5dmpnd_z3t3m0000gn/T/ipykernel_30210/1606829873.py:1: SettingWithCopyWarning: \n",
      "A value is trying to be set on a copy of a slice from a DataFrame.\n",
      "Try using .loc[row_indexer,col_indexer] = value instead\n",
      "\n",
      "See the caveats in the documentation: https://pandas.pydata.org/pandas-docs/stable/user_guide/indexing.html#returning-a-view-versus-a-copy\n",
      "  df_steps[\"Diff\"] = df_steps.timestamp - df_steps[\"Time_next\"]\n"
     ]
    }
   ],
   "source": [
    "df_steps[\"Diff\"] = df_steps.timestamp - df_steps[\"Time_next\"]"
   ]
  },
  {
   "cell_type": "code",
   "execution_count": 9,
   "metadata": {},
   "outputs": [
    {
     "data": {
      "text/plain": [
       "Next_Step\n",
       "1.0   0 days 00:04:15.301526717\n",
       "3.0   0 days 01:41:23.693486590\n",
       "7.0   0 days 00:01:11.103053435\n",
       "8.0   0 days 00:08:56.356321839\n",
       "Name: Diff, dtype: timedelta64[ns]"
      ]
     },
     "execution_count": 9,
     "metadata": {},
     "output_type": "execute_result"
    }
   ],
   "source": [
    "df_steps[1:].groupby(\"Next_Step\")[\"Diff\"].mean()"
   ]
  },
  {
   "cell_type": "code",
   "execution_count": 54,
   "metadata": {},
   "outputs": [
    {
     "name": "stderr",
     "output_type": "stream",
     "text": [
      "/var/folders/f6/gs3z1yx9005b5dmpnd_z3t3m0000gn/T/ipykernel_30210/1397815604.py:3: SettingWithCopyWarning: \n",
      "A value is trying to be set on a copy of a slice from a DataFrame.\n",
      "Try using .loc[row_indexer,col_indexer] = value instead\n",
      "\n",
      "See the caveats in the documentation: https://pandas.pydata.org/pandas-docs/stable/user_guide/indexing.html#returning-a-view-versus-a-copy\n",
      "  df_steps[\"time_since_start\"] = 0\n",
      "/var/folders/f6/gs3z1yx9005b5dmpnd_z3t3m0000gn/T/ipykernel_30210/1397815604.py:6: SettingWithCopyWarning: \n",
      "A value is trying to be set on a copy of a slice from a DataFrame.\n",
      "Try using .loc[row_indexer,col_indexer] = value instead\n",
      "\n",
      "See the caveats in the documentation: https://pandas.pydata.org/pandas-docs/stable/user_guide/indexing.html#returning-a-view-versus-a-copy\n",
      "  df_steps.loc[df_steps.timestamp == steps[i],\"time_since_start\"] = (df_new.loc[(df_new.timestamp >= steps[i])&(df_new.timestamp < steps[i+1])].timestamp -steps[i]).max()\n"
     ]
    }
   ],
   "source": [
    "import datetime\n",
    "\n",
    "df_steps[\"time_since_start\"] = 0\n",
    "steps = df_steps.timestamp.unique()\n",
    "for i in range(len(steps)-1):\n",
    "    df_steps.loc[df_steps.timestamp == steps[i],\"time_since_start\"] = (df_new.loc[(df_new.timestamp >= steps[i])&(df_new.timestamp < steps[i+1])].timestamp -steps[i]).max()\n",
    "#replace all the 0s in time_since_start with the timedelta 0\n",
    "df_steps.loc[df_steps.time_since_start == 0,\"time_since_start\"] = datetime.timedelta(0)"
   ]
  },
  {
   "cell_type": "code",
   "execution_count": 55,
   "metadata": {},
   "outputs": [
    {
     "data": {
      "text/plain": [
       "Next_Step\n",
       "1.0    0 days 00:01:10.103053435\n",
       "3.0    0 days 00:04:14.329501915\n",
       "7.0    0 days 00:08:53.312977099\n",
       "8.0    0 days 00:03:16.417624521\n",
       "Name: time_since_start, dtype: object"
      ]
     },
     "execution_count": 55,
     "metadata": {},
     "output_type": "execute_result"
    }
   ],
   "source": [
    "df_steps[:].groupby(\"Next_Step\")[\"time_since_start\"].mean()"
   ]
  },
  {
   "cell_type": "code",
   "execution_count": 56,
   "metadata": {},
   "outputs": [],
   "source": [
    "times = df_steps[df_steps[\"CuStepNo ValueY\"] == 1].timestamp.to_list()"
   ]
  },
  {
   "cell_type": "code",
   "execution_count": 57,
   "metadata": {},
   "outputs": [],
   "source": [
    "df_test2 = pd.DataFrame(columns=['CuStepNo ValueY', 'DeviationID ValueY', 'LevelMainTank ValueY',\n",
    "       'YC10001_MV ValueY', 'PI12002_PV_Out ValueY', 'PI12003_PV_Out ValueY',\n",
    "       'YC14001_MV ValueY', 'FIC14002_MV ValueY', 'FIC14002_PV_Out ValueY',\n",
    "       'FIC14002_SP ValueY', 'YC14006_MV ValueY', 'PI14012_PV_Out ValueY',\n",
    "       'YC23001_MV ValueY', 'YC22001_MV ValueY', 'YC21001_MV ValueY',\n",
    "       'FIC23002_PV_Out ValueY', 'FIC23002_MV ValueY', 'FIC23002_SP ValueY',\n",
    "       'FIC22002_MV ValueY', 'FIC22002_PV_Out ValueY', 'FIC22002_SP ValueY',\n",
    "       'FIC21002_MV ValueY', 'FIC21002_PV_Out ValueY', 'FIC21002_SP ValueY',\n",
    "       'YS23004_Ctrl ValueY', 'YS22004_Ctrl ValueY', 'YS21004_Ctrl ValueY',\n",
    "       'LIC23002_MV ValueY', 'LIC23002_PV_Out ValueY', 'LIC23002_SP ValueY',\n",
    "       'LIC22002_MV ValueY', 'LIC22002_PV_Out ValueY', 'LIC22002_SP ValueY',\n",
    "       'LIC21002_MV ValueY', 'LIC21002_PV_Out ValueY', 'LIC21002_SP ValueY',\n",
    "       'PIC14007_MV ValueY', 'PIC14007_PV_Out ValueY', 'PIC14007_SP ValueY',\n",
    "       'YC14008_Ctrl ValueY', 'PI10003_PV_Out ValueY', 'Next_Step', 'Batch'])"
   ]
  },
  {
   "cell_type": "code",
   "execution_count": 58,
   "metadata": {},
   "outputs": [],
   "source": [
    "for i in range(times.__len__()-1):\n",
    "    df_test1 = df_new.loc[(df_new.timestamp >=times[i])&(df_new.timestamp <times[i+1])].groupby(\"CuStepNo ValueY\",as_index=False,sort=False).mean()\n",
    "    df_test1[\"Batch\"] = i\n",
    "    df_test2 = pd.concat([df_test2,df_test1])"
   ]
  },
  {
   "cell_type": "code",
   "execution_count": 59,
   "metadata": {},
   "outputs": [],
   "source": [
    "df_test1 = df_new.loc[(df_new.timestamp >=times[261])].groupby(\"CuStepNo ValueY\",as_index=False,sort=False).mean()"
   ]
  },
  {
   "cell_type": "code",
   "execution_count": 91,
   "metadata": {},
   "outputs": [],
   "source": [
    "df_test2[\"time_since_start\"] = df_steps[:-3].time_since_start.values"
   ]
  },
  {
   "cell_type": "code",
   "execution_count": 105,
   "metadata": {},
   "outputs": [
    {
     "ename": "AttributeError",
     "evalue": "Can only use .dt accessor with datetimelike values",
     "output_type": "error",
     "traceback": [
      "\u001b[0;31m---------------------------------------------------------------------------\u001b[0m",
      "\u001b[0;31mAttributeError\u001b[0m                            Traceback (most recent call last)",
      "\u001b[1;32m/Users/florian/Documents/GitHub/4 Semester/APPD/Analyse_von_Prozessdaten/flo/dt_clf.ipynb Zelle 17\u001b[0m in \u001b[0;36m<cell line: 1>\u001b[0;34m()\u001b[0m\n\u001b[0;32m----> <a href='vscode-notebook-cell:/Users/florian/Documents/GitHub/4%20Semester/APPD/Analyse_von_Prozessdaten/flo/dt_clf.ipynb#X21sZmlsZQ%3D%3D?line=0'>1</a>\u001b[0m df_test2[\u001b[39m\"\u001b[39m\u001b[39mtime_since_start\u001b[39m\u001b[39m\"\u001b[39m] \u001b[39m=\u001b[39m df_test2[\u001b[39m\"\u001b[39;49m\u001b[39mtime_since_start\u001b[39;49m\u001b[39m\"\u001b[39;49m]\u001b[39m.\u001b[39;49mdt\u001b[39m.\u001b[39mtotal_seconds()\n",
      "File \u001b[0;32m/Library/Frameworks/Python.framework/Versions/3.9/lib/python3.9/site-packages/pandas/core/generic.py:5575\u001b[0m, in \u001b[0;36mNDFrame.__getattr__\u001b[0;34m(self, name)\u001b[0m\n\u001b[1;32m   5568\u001b[0m \u001b[39mif\u001b[39;00m (\n\u001b[1;32m   5569\u001b[0m     name \u001b[39mnot\u001b[39;00m \u001b[39min\u001b[39;00m \u001b[39mself\u001b[39m\u001b[39m.\u001b[39m_internal_names_set\n\u001b[1;32m   5570\u001b[0m     \u001b[39mand\u001b[39;00m name \u001b[39mnot\u001b[39;00m \u001b[39min\u001b[39;00m \u001b[39mself\u001b[39m\u001b[39m.\u001b[39m_metadata\n\u001b[1;32m   5571\u001b[0m     \u001b[39mand\u001b[39;00m name \u001b[39mnot\u001b[39;00m \u001b[39min\u001b[39;00m \u001b[39mself\u001b[39m\u001b[39m.\u001b[39m_accessors\n\u001b[1;32m   5572\u001b[0m     \u001b[39mand\u001b[39;00m \u001b[39mself\u001b[39m\u001b[39m.\u001b[39m_info_axis\u001b[39m.\u001b[39m_can_hold_identifiers_and_holds_name(name)\n\u001b[1;32m   5573\u001b[0m ):\n\u001b[1;32m   5574\u001b[0m     \u001b[39mreturn\u001b[39;00m \u001b[39mself\u001b[39m[name]\n\u001b[0;32m-> 5575\u001b[0m \u001b[39mreturn\u001b[39;00m \u001b[39mobject\u001b[39;49m\u001b[39m.\u001b[39;49m\u001b[39m__getattribute__\u001b[39;49m(\u001b[39mself\u001b[39;49m, name)\n",
      "File \u001b[0;32m/Library/Frameworks/Python.framework/Versions/3.9/lib/python3.9/site-packages/pandas/core/accessor.py:182\u001b[0m, in \u001b[0;36mCachedAccessor.__get__\u001b[0;34m(self, obj, cls)\u001b[0m\n\u001b[1;32m    179\u001b[0m \u001b[39mif\u001b[39;00m obj \u001b[39mis\u001b[39;00m \u001b[39mNone\u001b[39;00m:\n\u001b[1;32m    180\u001b[0m     \u001b[39m# we're accessing the attribute of the class, i.e., Dataset.geo\u001b[39;00m\n\u001b[1;32m    181\u001b[0m     \u001b[39mreturn\u001b[39;00m \u001b[39mself\u001b[39m\u001b[39m.\u001b[39m_accessor\n\u001b[0;32m--> 182\u001b[0m accessor_obj \u001b[39m=\u001b[39m \u001b[39mself\u001b[39;49m\u001b[39m.\u001b[39;49m_accessor(obj)\n\u001b[1;32m    183\u001b[0m \u001b[39m# Replace the property with the accessor object. Inspired by:\u001b[39;00m\n\u001b[1;32m    184\u001b[0m \u001b[39m# https://www.pydanny.com/cached-property.html\u001b[39;00m\n\u001b[1;32m    185\u001b[0m \u001b[39m# We need to use object.__setattr__ because we overwrite __setattr__ on\u001b[39;00m\n\u001b[1;32m    186\u001b[0m \u001b[39m# NDFrame\u001b[39;00m\n\u001b[1;32m    187\u001b[0m \u001b[39mobject\u001b[39m\u001b[39m.\u001b[39m\u001b[39m__setattr__\u001b[39m(obj, \u001b[39mself\u001b[39m\u001b[39m.\u001b[39m_name, accessor_obj)\n",
      "File \u001b[0;32m/Library/Frameworks/Python.framework/Versions/3.9/lib/python3.9/site-packages/pandas/core/indexes/accessors.py:509\u001b[0m, in \u001b[0;36mCombinedDatetimelikeProperties.__new__\u001b[0;34m(cls, data)\u001b[0m\n\u001b[1;32m    506\u001b[0m \u001b[39melif\u001b[39;00m is_period_dtype(data\u001b[39m.\u001b[39mdtype):\n\u001b[1;32m    507\u001b[0m     \u001b[39mreturn\u001b[39;00m PeriodProperties(data, orig)\n\u001b[0;32m--> 509\u001b[0m \u001b[39mraise\u001b[39;00m \u001b[39mAttributeError\u001b[39;00m(\u001b[39m\"\u001b[39m\u001b[39mCan only use .dt accessor with datetimelike values\u001b[39m\u001b[39m\"\u001b[39m)\n",
      "\u001b[0;31mAttributeError\u001b[0m: Can only use .dt accessor with datetimelike values"
     ]
    }
   ],
   "source": [
    "df_test2[\"time_since_start\"] = df_test2[\"time_since_start\"].dt.total_seconds()"
   ]
  },
  {
   "attachments": {},
   "cell_type": "markdown",
   "metadata": {},
   "source": [
    "### clf"
   ]
  },
  {
   "cell_type": "code",
   "execution_count": 106,
   "metadata": {},
   "outputs": [],
   "source": [
    "from sklearn.metrics import classification_report\n",
    "from sklearn.model_selection import train_test_split, GridSearchCV\n",
    "from sklearn.tree import DecisionTreeClassifier"
   ]
  },
  {
   "cell_type": "code",
   "execution_count": 107,
   "metadata": {},
   "outputs": [],
   "source": [
    "df_train = df_test2.copy()"
   ]
  },
  {
   "cell_type": "code",
   "execution_count": 108,
   "metadata": {},
   "outputs": [],
   "source": [
    "X = df_train.drop([\"DeviationID ValueY\", \"Batch\"], axis=1)\n",
    "y = df_train[\"DeviationID ValueY\"].astype(int)\n",
    "\n",
    "\n",
    "X_train, X_test, y_train, y_test = train_test_split(X, y, test_size= 0.2, random_state= 0)"
   ]
  },
  {
   "cell_type": "code",
   "execution_count": 118,
   "metadata": {},
   "outputs": [
    {
     "name": "stdout",
     "output_type": "stream",
     "text": [
      "Best param: {'max_depth': 11, 'min_samples_split': 2, 'random_state': 0} \n",
      "Best score: 0.85754446356856\n"
     ]
    }
   ],
   "source": [
    "grid_dtclf = GridSearchCV(\n",
    " estimator= DecisionTreeClassifier(),\n",
    " param_grid= dict(min_samples_split= [2, 10, 20, 50, 100], max_depth= [1, 6, 9, 11], random_state= [0]),\n",
    " scoring= \"accuracy\",\n",
    " n_jobs= -1,\n",
    " cv= 10\n",
    ").fit(X_train, y_train)\n",
    "\n",
    "print(f\"Best param: {grid_dtclf.best_params_} \\nBest score: {grid_dtclf.best_score_}\")"
   ]
  },
  {
   "cell_type": "code",
   "execution_count": 119,
   "metadata": {},
   "outputs": [
    {
     "name": "stdout",
     "output_type": "stream",
     "text": [
      "              precision    recall  f1-score   support\n",
      "\n",
      "           1       0.73      0.94      0.82        17\n",
      "           2       1.00      1.00      1.00        18\n",
      "           3       1.00      1.00      1.00        18\n",
      "           4       0.95      1.00      0.98        20\n",
      "           5       0.95      0.86      0.90        21\n",
      "           6       0.83      0.83      0.83        23\n",
      "           7       0.75      0.67      0.71        18\n",
      "           8       1.00      0.87      0.93        23\n",
      "           9       0.85      0.72      0.78        32\n",
      "          10       0.60      0.79      0.68        19\n",
      "\n",
      "    accuracy                           0.86       209\n",
      "   macro avg       0.87      0.87      0.86       209\n",
      "weighted avg       0.87      0.86      0.86       209\n",
      "\n"
     ]
    }
   ],
   "source": [
    "dtc = DecisionTreeClassifier(max_depth= 11, min_samples_split= 2, random_state= 0).fit(X_train, y_train)\n",
    "\n",
    "y_train_pred_dtc = dtc.predict(X_train)\n",
    "y_test_pred_dtc = dtc.predict(X_test)\n",
    "\n",
    "print(classification_report(y_test, y_test_pred_dtc))"
   ]
  },
  {
   "attachments": {},
   "cell_type": "markdown",
   "metadata": {},
   "source": [
    "### isof"
   ]
  },
  {
   "cell_type": "code",
   "execution_count": 114,
   "metadata": {},
   "outputs": [
    {
     "data": {
      "text/html": [
       "<div>\n",
       "<style scoped>\n",
       "    .dataframe tbody tr th:only-of-type {\n",
       "        vertical-align: middle;\n",
       "    }\n",
       "\n",
       "    .dataframe tbody tr th {\n",
       "        vertical-align: top;\n",
       "    }\n",
       "\n",
       "    .dataframe thead th {\n",
       "        text-align: right;\n",
       "    }\n",
       "</style>\n",
       "<table border=\"1\" class=\"dataframe\">\n",
       "  <thead>\n",
       "    <tr style=\"text-align: right;\">\n",
       "      <th></th>\n",
       "      <th>CuStepNo ValueY</th>\n",
       "      <th>LevelMainTank ValueY</th>\n",
       "      <th>YC10001_MV ValueY</th>\n",
       "      <th>PI12002_PV_Out ValueY</th>\n",
       "      <th>PI12003_PV_Out ValueY</th>\n",
       "      <th>YC14001_MV ValueY</th>\n",
       "      <th>FIC14002_MV ValueY</th>\n",
       "      <th>FIC14002_PV_Out ValueY</th>\n",
       "      <th>FIC14002_SP ValueY</th>\n",
       "      <th>YC14006_MV ValueY</th>\n",
       "      <th>...</th>\n",
       "      <th>LIC21002_MV ValueY</th>\n",
       "      <th>LIC21002_PV_Out ValueY</th>\n",
       "      <th>LIC21002_SP ValueY</th>\n",
       "      <th>PIC14007_MV ValueY</th>\n",
       "      <th>PIC14007_PV_Out ValueY</th>\n",
       "      <th>PIC14007_SP ValueY</th>\n",
       "      <th>YC14008_Ctrl ValueY</th>\n",
       "      <th>PI10003_PV_Out ValueY</th>\n",
       "      <th>Next_Step</th>\n",
       "      <th>time_since_start</th>\n",
       "    </tr>\n",
       "  </thead>\n",
       "  <tbody>\n",
       "    <tr>\n",
       "      <th>1</th>\n",
       "      <td>7</td>\n",
       "      <td>137.116303</td>\n",
       "      <td>100.0</td>\n",
       "      <td>0.0695</td>\n",
       "      <td>1.662774</td>\n",
       "      <td>58.530071</td>\n",
       "      <td>58.529519</td>\n",
       "      <td>1999.651501</td>\n",
       "      <td>2000.0</td>\n",
       "      <td>34.970526</td>\n",
       "      <td>...</td>\n",
       "      <td>6.176407</td>\n",
       "      <td>7.437583</td>\n",
       "      <td>15.0</td>\n",
       "      <td>28.841158</td>\n",
       "      <td>0.200669</td>\n",
       "      <td>0.2</td>\n",
       "      <td>0.0</td>\n",
       "      <td>0.001744</td>\n",
       "      <td>6.917808</td>\n",
       "      <td>72.0</td>\n",
       "    </tr>\n",
       "    <tr>\n",
       "      <th>2</th>\n",
       "      <td>8</td>\n",
       "      <td>84.734336</td>\n",
       "      <td>100.0</td>\n",
       "      <td>0.046754</td>\n",
       "      <td>1.650756</td>\n",
       "      <td>59.067402</td>\n",
       "      <td>59.069555</td>\n",
       "      <td>1999.496898</td>\n",
       "      <td>2000.0</td>\n",
       "      <td>26.478112</td>\n",
       "      <td>...</td>\n",
       "      <td>455.037783</td>\n",
       "      <td>10.419559</td>\n",
       "      <td>15.0</td>\n",
       "      <td>22.252735</td>\n",
       "      <td>0.198777</td>\n",
       "      <td>0.2</td>\n",
       "      <td>0.0</td>\n",
       "      <td>0.001731</td>\n",
       "      <td>7.998347</td>\n",
       "      <td>604.0</td>\n",
       "    </tr>\n",
       "    <tr>\n",
       "      <th>2</th>\n",
       "      <td>8</td>\n",
       "      <td>127.266632</td>\n",
       "      <td>100.0</td>\n",
       "      <td>0.07019</td>\n",
       "      <td>1.657495</td>\n",
       "      <td>59.184053</td>\n",
       "      <td>59.183315</td>\n",
       "      <td>2000.859551</td>\n",
       "      <td>2000.0</td>\n",
       "      <td>27.49577</td>\n",
       "      <td>...</td>\n",
       "      <td>466.601477</td>\n",
       "      <td>10.2926</td>\n",
       "      <td>15.0</td>\n",
       "      <td>22.159096</td>\n",
       "      <td>0.198661</td>\n",
       "      <td>0.2</td>\n",
       "      <td>0.0</td>\n",
       "      <td>0.001677</td>\n",
       "      <td>7.998311</td>\n",
       "      <td>591.0</td>\n",
       "    </tr>\n",
       "    <tr>\n",
       "      <th>3</th>\n",
       "      <td>3</td>\n",
       "      <td>137.848349</td>\n",
       "      <td>100.0</td>\n",
       "      <td>0.076524</td>\n",
       "      <td>0.140643</td>\n",
       "      <td>100.0</td>\n",
       "      <td>100.0</td>\n",
       "      <td>11.459082</td>\n",
       "      <td>2000.0</td>\n",
       "      <td>12.798493</td>\n",
       "      <td>...</td>\n",
       "      <td>10.346578</td>\n",
       "      <td>5.500016</td>\n",
       "      <td>15.0</td>\n",
       "      <td>10.740532</td>\n",
       "      <td>0.147834</td>\n",
       "      <td>0.2</td>\n",
       "      <td>0.0</td>\n",
       "      <td>0.001785</td>\n",
       "      <td>3.025907</td>\n",
       "      <td>192.0</td>\n",
       "    </tr>\n",
       "    <tr>\n",
       "      <th>2</th>\n",
       "      <td>8</td>\n",
       "      <td>79.697019</td>\n",
       "      <td>100.0</td>\n",
       "      <td>0.049512</td>\n",
       "      <td>1.645105</td>\n",
       "      <td>56.073828</td>\n",
       "      <td>56.070019</td>\n",
       "      <td>2001.551501</td>\n",
       "      <td>2000.0</td>\n",
       "      <td>26.648676</td>\n",
       "      <td>...</td>\n",
       "      <td>455.566619</td>\n",
       "      <td>10.446689</td>\n",
       "      <td>15.0</td>\n",
       "      <td>22.317588</td>\n",
       "      <td>0.198874</td>\n",
       "      <td>0.2</td>\n",
       "      <td>0.0</td>\n",
       "      <td>0.001708</td>\n",
       "      <td>7.998358</td>\n",
       "      <td>608.0</td>\n",
       "    </tr>\n",
       "    <tr>\n",
       "      <th>...</th>\n",
       "      <td>...</td>\n",
       "      <td>...</td>\n",
       "      <td>...</td>\n",
       "      <td>...</td>\n",
       "      <td>...</td>\n",
       "      <td>...</td>\n",
       "      <td>...</td>\n",
       "      <td>...</td>\n",
       "      <td>...</td>\n",
       "      <td>...</td>\n",
       "      <td>...</td>\n",
       "      <td>...</td>\n",
       "      <td>...</td>\n",
       "      <td>...</td>\n",
       "      <td>...</td>\n",
       "      <td>...</td>\n",
       "      <td>...</td>\n",
       "      <td>...</td>\n",
       "      <td>...</td>\n",
       "      <td>...</td>\n",
       "      <td>...</td>\n",
       "    </tr>\n",
       "    <tr>\n",
       "      <th>1</th>\n",
       "      <td>7</td>\n",
       "      <td>87.614875</td>\n",
       "      <td>100.0</td>\n",
       "      <td>0.059337</td>\n",
       "      <td>1.648584</td>\n",
       "      <td>63.444646</td>\n",
       "      <td>63.448236</td>\n",
       "      <td>1999.370164</td>\n",
       "      <td>2000.0</td>\n",
       "      <td>35.297919</td>\n",
       "      <td>...</td>\n",
       "      <td>22.060106</td>\n",
       "      <td>7.326194</td>\n",
       "      <td>15.0</td>\n",
       "      <td>28.758931</td>\n",
       "      <td>0.203006</td>\n",
       "      <td>0.2</td>\n",
       "      <td>0.0</td>\n",
       "      <td>0.001749</td>\n",
       "      <td>6.917808</td>\n",
       "      <td>72.0</td>\n",
       "    </tr>\n",
       "    <tr>\n",
       "      <th>3</th>\n",
       "      <td>3</td>\n",
       "      <td>90.689956</td>\n",
       "      <td>100.0</td>\n",
       "      <td>0.056754</td>\n",
       "      <td>0.156002</td>\n",
       "      <td>96.938666</td>\n",
       "      <td>96.951993</td>\n",
       "      <td>100.323638</td>\n",
       "      <td>1979.145752</td>\n",
       "      <td>12.5</td>\n",
       "      <td>...</td>\n",
       "      <td>16.371631</td>\n",
       "      <td>5.57468</td>\n",
       "      <td>15.0</td>\n",
       "      <td>10.0</td>\n",
       "      <td>0.011107</td>\n",
       "      <td>0.2</td>\n",
       "      <td>0.0</td>\n",
       "      <td>0.001787</td>\n",
       "      <td>3.02551</td>\n",
       "      <td>195.0</td>\n",
       "    </tr>\n",
       "    <tr>\n",
       "      <th>3</th>\n",
       "      <td>3</td>\n",
       "      <td>88.208259</td>\n",
       "      <td>100.0</td>\n",
       "      <td>0.050599</td>\n",
       "      <td>0.169066</td>\n",
       "      <td>99.105823</td>\n",
       "      <td>99.110701</td>\n",
       "      <td>66.371796</td>\n",
       "      <td>2000.0</td>\n",
       "      <td>13.554537</td>\n",
       "      <td>...</td>\n",
       "      <td>14.85303</td>\n",
       "      <td>5.535952</td>\n",
       "      <td>15.0</td>\n",
       "      <td>11.165654</td>\n",
       "      <td>0.121608</td>\n",
       "      <td>0.2</td>\n",
       "      <td>0.0</td>\n",
       "      <td>0.001812</td>\n",
       "      <td>3.025253</td>\n",
       "      <td>197.0</td>\n",
       "    </tr>\n",
       "    <tr>\n",
       "      <th>3</th>\n",
       "      <td>3</td>\n",
       "      <td>132.434911</td>\n",
       "      <td>100.0</td>\n",
       "      <td>0.073577</td>\n",
       "      <td>0.190655</td>\n",
       "      <td>98.492129</td>\n",
       "      <td>98.513141</td>\n",
       "      <td>74.868272</td>\n",
       "      <td>2000.0</td>\n",
       "      <td>13.582639</td>\n",
       "      <td>...</td>\n",
       "      <td>17.533413</td>\n",
       "      <td>5.654949</td>\n",
       "      <td>15.0</td>\n",
       "      <td>11.077816</td>\n",
       "      <td>0.087923</td>\n",
       "      <td>0.2</td>\n",
       "      <td>0.0</td>\n",
       "      <td>0.001775</td>\n",
       "      <td>3.025126</td>\n",
       "      <td>198.0</td>\n",
       "    </tr>\n",
       "    <tr>\n",
       "      <th>0</th>\n",
       "      <td>1</td>\n",
       "      <td>99.165659</td>\n",
       "      <td>100.0</td>\n",
       "      <td>0.052341</td>\n",
       "      <td>1.59554</td>\n",
       "      <td>76.002011</td>\n",
       "      <td>75.998775</td>\n",
       "      <td>1931.754014</td>\n",
       "      <td>2000.0</td>\n",
       "      <td>34.96812</td>\n",
       "      <td>...</td>\n",
       "      <td>170.736221</td>\n",
       "      <td>7.922992</td>\n",
       "      <td>15.0</td>\n",
       "      <td>26.916513</td>\n",
       "      <td>0.203802</td>\n",
       "      <td>0.2</td>\n",
       "      <td>0.0</td>\n",
       "      <td>0.001737</td>\n",
       "      <td>1.008097</td>\n",
       "      <td>246.0</td>\n",
       "    </tr>\n",
       "  </tbody>\n",
       "</table>\n",
       "<p>835 rows × 42 columns</p>\n",
       "</div>"
      ],
      "text/plain": [
       "   CuStepNo ValueY LevelMainTank ValueY YC10001_MV ValueY  \\\n",
       "1                7           137.116303             100.0   \n",
       "2                8            84.734336             100.0   \n",
       "2                8           127.266632             100.0   \n",
       "3                3           137.848349             100.0   \n",
       "2                8            79.697019             100.0   \n",
       "..             ...                  ...               ...   \n",
       "1                7            87.614875             100.0   \n",
       "3                3            90.689956             100.0   \n",
       "3                3            88.208259             100.0   \n",
       "3                3           132.434911             100.0   \n",
       "0                1            99.165659             100.0   \n",
       "\n",
       "   PI12002_PV_Out ValueY PI12003_PV_Out ValueY YC14001_MV ValueY  \\\n",
       "1                 0.0695              1.662774         58.530071   \n",
       "2               0.046754              1.650756         59.067402   \n",
       "2                0.07019              1.657495         59.184053   \n",
       "3               0.076524              0.140643             100.0   \n",
       "2               0.049512              1.645105         56.073828   \n",
       "..                   ...                   ...               ...   \n",
       "1               0.059337              1.648584         63.444646   \n",
       "3               0.056754              0.156002         96.938666   \n",
       "3               0.050599              0.169066         99.105823   \n",
       "3               0.073577              0.190655         98.492129   \n",
       "0               0.052341               1.59554         76.002011   \n",
       "\n",
       "   FIC14002_MV ValueY FIC14002_PV_Out ValueY FIC14002_SP ValueY  \\\n",
       "1           58.529519            1999.651501             2000.0   \n",
       "2           59.069555            1999.496898             2000.0   \n",
       "2           59.183315            2000.859551             2000.0   \n",
       "3               100.0              11.459082             2000.0   \n",
       "2           56.070019            2001.551501             2000.0   \n",
       "..                ...                    ...                ...   \n",
       "1           63.448236            1999.370164             2000.0   \n",
       "3           96.951993             100.323638        1979.145752   \n",
       "3           99.110701              66.371796             2000.0   \n",
       "3           98.513141              74.868272             2000.0   \n",
       "0           75.998775            1931.754014             2000.0   \n",
       "\n",
       "   YC14006_MV ValueY  ... LIC21002_MV ValueY LIC21002_PV_Out ValueY  \\\n",
       "1          34.970526  ...           6.176407               7.437583   \n",
       "2          26.478112  ...         455.037783              10.419559   \n",
       "2           27.49577  ...         466.601477                10.2926   \n",
       "3          12.798493  ...          10.346578               5.500016   \n",
       "2          26.648676  ...         455.566619              10.446689   \n",
       "..               ...  ...                ...                    ...   \n",
       "1          35.297919  ...          22.060106               7.326194   \n",
       "3               12.5  ...          16.371631                5.57468   \n",
       "3          13.554537  ...           14.85303               5.535952   \n",
       "3          13.582639  ...          17.533413               5.654949   \n",
       "0           34.96812  ...         170.736221               7.922992   \n",
       "\n",
       "   LIC21002_SP ValueY PIC14007_MV ValueY PIC14007_PV_Out ValueY  \\\n",
       "1                15.0          28.841158               0.200669   \n",
       "2                15.0          22.252735               0.198777   \n",
       "2                15.0          22.159096               0.198661   \n",
       "3                15.0          10.740532               0.147834   \n",
       "2                15.0          22.317588               0.198874   \n",
       "..                ...                ...                    ...   \n",
       "1                15.0          28.758931               0.203006   \n",
       "3                15.0               10.0               0.011107   \n",
       "3                15.0          11.165654               0.121608   \n",
       "3                15.0          11.077816               0.087923   \n",
       "0                15.0          26.916513               0.203802   \n",
       "\n",
       "   PIC14007_SP ValueY YC14008_Ctrl ValueY PI10003_PV_Out ValueY Next_Step  \\\n",
       "1                 0.2                 0.0              0.001744  6.917808   \n",
       "2                 0.2                 0.0              0.001731  7.998347   \n",
       "2                 0.2                 0.0              0.001677  7.998311   \n",
       "3                 0.2                 0.0              0.001785  3.025907   \n",
       "2                 0.2                 0.0              0.001708  7.998358   \n",
       "..                ...                 ...                   ...       ...   \n",
       "1                 0.2                 0.0              0.001749  6.917808   \n",
       "3                 0.2                 0.0              0.001787   3.02551   \n",
       "3                 0.2                 0.0              0.001812  3.025253   \n",
       "3                 0.2                 0.0              0.001775  3.025126   \n",
       "0                 0.2                 0.0              0.001737  1.008097   \n",
       "\n",
       "   time_since_start  \n",
       "1              72.0  \n",
       "2             604.0  \n",
       "2             591.0  \n",
       "3             192.0  \n",
       "2             608.0  \n",
       "..              ...  \n",
       "1              72.0  \n",
       "3             195.0  \n",
       "3             197.0  \n",
       "3             198.0  \n",
       "0             246.0  \n",
       "\n",
       "[835 rows x 42 columns]"
      ]
     },
     "execution_count": 114,
     "metadata": {},
     "output_type": "execute_result"
    }
   ],
   "source": [
    "X_train"
   ]
  },
  {
   "cell_type": "code",
   "execution_count": 115,
   "metadata": {},
   "outputs": [
    {
     "name": "stdout",
     "output_type": "stream",
     "text": [
      "Best param: {'random_state': 0} \n",
      "Best score: 0.13646012621916237\n"
     ]
    }
   ],
   "source": [
    "from sklearn.ensemble import IsolationForest\n",
    "\n",
    "grid_dtclf = GridSearchCV(\n",
    " estimator= IsolationForest(),\n",
    " param_grid= dict(random_state= [0]),\n",
    " scoring= \"accuracy\",\n",
    " n_jobs= -1,\n",
    " cv= 10\n",
    ").fit(X_train, y_train)\n",
    "\n",
    "print(f\"Best param: {grid_dtclf.best_params_} \\nBest score: {grid_dtclf.best_score_}\")"
   ]
  },
  {
   "cell_type": "code",
   "execution_count": null,
   "metadata": {},
   "outputs": [],
   "source": [
    "dtc = DecisionTreeClassifier(max_depth= 11, min_samples_split= 2, random_state= 0).fit(X_train, y_train)\n",
    "\n",
    "y_train_pred_dtc = dtc.predict(X_train)\n",
    "y_test_pred_dtc = dtc.predict(X_test)\n",
    "\n",
    "print(classification_report(y_test, y_test_pred_dtc))"
   ]
  },
  {
   "attachments": {},
   "cell_type": "markdown",
   "metadata": {},
   "source": [
    "### nn"
   ]
  },
  {
   "cell_type": "code",
   "execution_count": 135,
   "metadata": {},
   "outputs": [
    {
     "data": {
      "text/plain": [
       "((887, 42), (887,))"
      ]
     },
     "execution_count": 135,
     "metadata": {},
     "output_type": "execute_result"
    }
   ],
   "source": [
    "X = df_train.drop([\"DeviationID ValueY\", \"Batch\"], axis=1)\n",
    "y = df_train[\"DeviationID ValueY\"].astype(int)\n",
    "X_train, X_test, y_train, y_test = train_test_split(X, y, test_size=0.15, random_state=42)\n",
    "X_train.shape, y_train.shape"
   ]
  },
  {
   "cell_type": "code",
   "execution_count": 148,
   "metadata": {},
   "outputs": [
    {
     "name": "stdout",
     "output_type": "stream",
     "text": [
      "Using cpu device\n"
     ]
    }
   ],
   "source": [
    "import torch\n",
    "torch.manual_seed(0) # to ensure reproducibiltiy\n",
    "\n",
    "device = \"cuda\" if torch.cuda.is_available() else \"cpu\"\n",
    "print(f\"Using {device} device\")\n",
    "\n",
    "X_train = X_train.astype(float)\n",
    "X_test = X_test.astype(float)\n",
    "\n",
    "train_x = torch.Tensor(X_train.values).float().to(device)\n",
    "test_x = torch.Tensor(X_test.values).float().to(device)\n",
    "train_y = torch.Tensor(y_train.values).long().to(device)\n",
    "test_y = torch.Tensor(y_test.values).long().to(device)"
   ]
  },
  {
   "cell_type": "code",
   "execution_count": 150,
   "metadata": {},
   "outputs": [
    {
     "data": {
      "text/plain": [
       "torch.Size([887, 42])"
      ]
     },
     "execution_count": 150,
     "metadata": {},
     "output_type": "execute_result"
    }
   ],
   "source": [
    "train_x.shape"
   ]
  },
  {
   "cell_type": "code",
   "execution_count": 167,
   "metadata": {},
   "outputs": [],
   "source": [
    "import torch.nn as nn\n",
    "\n",
    "class DeepNeuralNetwork(nn.Module): \n",
    "    def __init__(self):\n",
    "        \n",
    "        super(DeepNeuralNetwork, self).__init__() \n",
    "        \n",
    "        # defining layers\n",
    "        self.hidden1 = nn.Linear(42, 10)\n",
    "        self.output = nn.Linear(10, 11)\n",
    "\n",
    "    def forward(self, x):\n",
    "        \n",
    "        z1 = self.hidden1(x)\n",
    "        a1 = torch.relu(z1)\n",
    "        z2 = self.output(a1)\n",
    "        return z2"
   ]
  },
  {
   "cell_type": "code",
   "execution_count": 168,
   "metadata": {},
   "outputs": [
    {
     "data": {
      "text/plain": [
       "DeepNeuralNetwork(\n",
       "  (hidden1): Linear(in_features=42, out_features=10, bias=True)\n",
       "  (output): Linear(in_features=10, out_features=11, bias=True)\n",
       ")"
      ]
     },
     "execution_count": 168,
     "metadata": {},
     "output_type": "execute_result"
    }
   ],
   "source": [
    "dnn = DeepNeuralNetwork()\n",
    "dnn.to(device)\n",
    "dnn.train()"
   ]
  },
  {
   "cell_type": "code",
   "execution_count": 174,
   "metadata": {},
   "outputs": [
    {
     "name": "stdout",
     "output_type": "stream",
     "text": [
      "Loss in epoch 0 is 2.3873705863952637\n",
      "Loss in epoch 20 is 2.3853323459625244\n",
      "Loss in epoch 40 is 2.3833632469177246\n",
      "Loss in epoch 60 is 2.381460666656494\n",
      "Loss in epoch 80 is 2.379621982574463\n",
      "Loss in epoch 100 is 2.3778440952301025\n",
      "Loss in epoch 120 is 2.376124858856201\n",
      "Loss in epoch 140 is 2.3744616508483887\n",
      "Loss in epoch 160 is 2.372852087020874\n",
      "Loss in epoch 180 is 2.371293067932129\n"
     ]
    }
   ],
   "source": [
    "no_epochs = 200\n",
    "learning_rate = 0.01\n",
    "\n",
    "loss_func = nn.CrossEntropyLoss()  \n",
    "optimizer = torch.optim.SGD(dnn.parameters(), lr=learning_rate)\n",
    "\n",
    "losses = []\n",
    "for iteration in range(no_epochs):\n",
    "    \n",
    "    optimizer.zero_grad()\n",
    "    y_hat = dnn(train_x) \n",
    "    \n",
    "    loss = loss_func(y_hat, train_y)\n",
    "    loss.backward() \n",
    "    optimizer.step()\n",
    "\n",
    "    losses.append(loss.item())\n",
    "    if iteration % 20 == 0:\n",
    "        print(f\"Loss in epoch {iteration} is {loss.item()}\")"
   ]
  },
  {
   "cell_type": "code",
   "execution_count": 175,
   "metadata": {},
   "outputs": [
    {
     "data": {
      "text/plain": [
       "Text(0, 0.5, 'loss')"
      ]
     },
     "execution_count": 175,
     "metadata": {},
     "output_type": "execute_result"
    },
    {
     "data": {
      "image/png": "[encoded data removed]",
      "text/plain": [
       "<Figure size 432x288 with 1 Axes>"
      ]
     },
     "metadata": {
      "needs_background": "light"
     },
     "output_type": "display_data"
    }
   ],
   "source": [
    "import matplotlib.pyplot as plt\n",
    "fig = plt.figure()\n",
    "plt.plot(range(0, no_epochs), losses)\n",
    "plt.xlabel('number of epochs')\n",
    "plt.ylabel('loss')"
   ]
  },
  {
   "cell_type": "code",
   "execution_count": 176,
   "metadata": {},
   "outputs": [
    {
     "name": "stdout",
     "output_type": "stream",
     "text": [
      "Accuarcy is 12.101910828025478%\n"
     ]
    }
   ],
   "source": [
    "dnn.eval() \n",
    "y_pred = dnn(test_x)\n",
    "predicted = torch.argmax(y_pred.data, 1)\n",
    "correct = (predicted == test_y).sum().item()\n",
    "accuracy = correct / len(test_x)\n",
    "\n",
    "print(f\"Accuarcy is {100. * accuracy}%\")"
   ]
  }
 ],
 "metadata": {
  "kernelspec": {
   "display_name": "Python 3",
   "language": "python",
   "name": "python3"
  },
  "language_info": {
   "codemirror_mode": {
    "name": "ipython",
    "version": 3
   },
   "file_extension": ".py",
   "mimetype": "text/x-python",
   "name": "python",
   "nbconvert_exporter": "python",
   "pygments_lexer": "ipython3",
   "version": "3.9.7"
  },
  "orig_nbformat": 4
 },
 "nbformat": 4,
 "nbformat_minor": 2
}
