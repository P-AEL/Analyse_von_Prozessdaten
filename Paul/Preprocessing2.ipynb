{
 "cells": [
  {
   "cell_type": "code",
   "execution_count": 1,
   "metadata": {},
   "outputs": [],
   "source": [
    "#Bestehende Daten EInlesen\n",
    "import numpy\n",
    "from sklearn.metrics import accuracy_score\n",
    "import tensorflow as tf\n",
    "import matplotlib.pyplot as plt\n",
    "\n",
    "from tslearn.datasets import CachedDatasets\n",
    "from tslearn.preprocessing import TimeSeriesScalerMinMax\n",
    "from tslearn.shapelets import LearningShapelets, \\\n",
    "    grabocka_params_to_shapelet_size_dict\n",
    "from tslearn.utils import ts_size\n",
    "import numpy\n",
    "from sklearn.metrics import accuracy_score\n",
    "\n",
    "from tslearn.generators import random_walk_blobs\n",
    "from tslearn.preprocessing import TimeSeriesScalerMinMax, \\\n",
    "    TimeSeriesScalerMeanVariance\n",
    "from tslearn.neighbors import KNeighborsTimeSeriesClassifier, \\\n",
    "    KNeighborsTimeSeries\n",
    "import pandas as pd\n",
    "import numpy as np\n",
    "import random\n",
    "from tslearn.datasets import UCR_UEA_datasets\n",
    "import sktime\n",
    "from tslearn.preprocessing import TimeSeriesResampler\n",
    "import random\n",
    "from sktime.classification.kernel_based import RocketClassifier\n",
    "from sktime.datasets import load_unit_test"
   ]
  },
  {
   "cell_type": "code",
   "execution_count": 2,
   "metadata": {},
   "outputs": [],
   "source": [
    "df = pd.read_pickle(\"Train.pkl\")\n",
    "df.drop(\"Unnamed: 0\",axis=1,inplace=True)\n",
    "df.drop(df.loc[(df.Batch == 238)&(df[\"CuStepNo ValueY\"] == 3)].tail(1).index,inplace=True)"
   ]
  },
  {
   "cell_type": "code",
   "execution_count": 3,
   "metadata": {},
   "outputs": [],
   "source": [
    "#Szenario es kommen neue Daten an (beispielsweise ein BAtch mit 450 Zeilen)\n",
    "df_test = pd.read_csv(\"Batch_76.csv\")\n",
    "df_test.drop(\"Unnamed: 0\",axis=1,inplace=True)\n",
    "df_test1 = df_test[:450]"
   ]
  },
  {
   "cell_type": "code",
   "execution_count": 4,
   "metadata": {},
   "outputs": [
    {
     "name": "stderr",
     "output_type": "stream",
     "text": [
      "C:\\Users\\paulh\\AppData\\Local\\Temp\\ipykernel_8516\\3214082494.py:4: SettingWithCopyWarning: \n",
      "A value is trying to be set on a copy of a slice from a DataFrame\n",
      "\n",
      "See the caveats in the documentation: https://pandas.pydata.org/pandas-docs/stable/user_guide/indexing.html#returning-a-view-versus-a-copy\n",
      "  df1.drop(df1.loc[(df1[\"Batch\"] == i)&(df1[\"CuStepNo ValueY\"] == df_test1[\"CuStepNo ValueY\"].unique()[-1])][df_test1[df_test1[\"CuStepNo ValueY\"] == df_test1[\"CuStepNo ValueY\"].unique()[-1]].__len__():].index,inplace=True)\n"
     ]
    }
   ],
   "source": [
    "#Dann mit den neuen Daten unsere alten Daten trainieren und nen score für den Teil des Batches abgeben\n",
    "df1 = df.loc[df[\"CuStepNo ValueY\"].isin(df_test1[\"CuStepNo ValueY\"].unique())]\n",
    "for i in df1[\"Batch\"].unique():\n",
    "    df1.drop(df1.loc[(df1[\"Batch\"] == i)&(df1[\"CuStepNo ValueY\"] == df_test1[\"CuStepNo ValueY\"].unique()[-1])][df_test1[df_test1[\"CuStepNo ValueY\"] == df_test1[\"CuStepNo ValueY\"].unique()[-1]].__len__():].index,inplace=True)"
   ]
  },
  {
   "cell_type": "code",
   "execution_count": 5,
   "metadata": {},
   "outputs": [],
   "source": [
    "#Trainingsdatensatz machen\n",
    "X_train1 = df1.drop([\"Next_Step\",\"timestamp\"],axis=1)\n",
    "y_train1 = []\n",
    "X_train_step1 = []\n",
    "for i in X_train1.Batch.unique():\n",
    "        num = numpy.array(X_train1.loc[(X_train1[\"Batch\"] == i)].drop([\"Batch\",\"CuStepNo ValueY\",\"DeviationID ValueY\"],axis=1))\n",
    "        y_train1.append(X_train1.loc[(X_train1[\"Batch\"] == i)][\"DeviationID ValueY\"].unique()[0])\n",
    "        X_train_step1.append(num)"
   ]
  },
  {
   "cell_type": "code",
   "execution_count": 6,
   "metadata": {},
   "outputs": [],
   "source": [
    "#Länge für die Interpolation bestimmen\n",
    "length = []\n",
    "for i in X_train_step1:\n",
    "    length.append(i.__len__())\n",
    "X_train_s1 = TimeSeriesResampler(sz=int(np.median(length))).fit_transform(X_train_step1)\n",
    "#Reshapen\n",
    "X_train = X_train_s1.reshape(X_train_s1.shape[0],39,X_train_s1.shape[1])"
   ]
  },
  {
   "cell_type": "code",
   "execution_count": 7,
   "metadata": {},
   "outputs": [
    {
     "data": {
      "text/html": [
       "<style>#sk-container-id-1 {color: black;background-color: white;}#sk-container-id-1 pre{padding: 0;}#sk-container-id-1 div.sk-toggleable {background-color: white;}#sk-container-id-1 label.sk-toggleable__label {cursor: pointer;display: block;width: 100%;margin-bottom: 0;padding: 0.3em;box-sizing: border-box;text-align: center;}#sk-container-id-1 label.sk-toggleable__label-arrow:before {content: \"▸\";float: left;margin-right: 0.25em;color: #696969;}#sk-container-id-1 label.sk-toggleable__label-arrow:hover:before {color: black;}#sk-container-id-1 div.sk-estimator:hover label.sk-toggleable__label-arrow:before {color: black;}#sk-container-id-1 div.sk-toggleable__content {max-height: 0;max-width: 0;overflow: hidden;text-align: left;background-color: #f0f8ff;}#sk-container-id-1 div.sk-toggleable__content pre {margin: 0.2em;color: black;border-radius: 0.25em;background-color: #f0f8ff;}#sk-container-id-1 input.sk-toggleable__control:checked~div.sk-toggleable__content {max-height: 200px;max-width: 100%;overflow: auto;}#sk-container-id-1 input.sk-toggleable__control:checked~label.sk-toggleable__label-arrow:before {content: \"▾\";}#sk-container-id-1 div.sk-estimator input.sk-toggleable__control:checked~label.sk-toggleable__label {background-color: #d4ebff;}#sk-container-id-1 div.sk-label input.sk-toggleable__control:checked~label.sk-toggleable__label {background-color: #d4ebff;}#sk-container-id-1 input.sk-hidden--visually {border: 0;clip: rect(1px 1px 1px 1px);clip: rect(1px, 1px, 1px, 1px);height: 1px;margin: -1px;overflow: hidden;padding: 0;position: absolute;width: 1px;}#sk-container-id-1 div.sk-estimator {font-family: monospace;background-color: #f0f8ff;border: 1px dotted black;border-radius: 0.25em;box-sizing: border-box;margin-bottom: 0.5em;}#sk-container-id-1 div.sk-estimator:hover {background-color: #d4ebff;}#sk-container-id-1 div.sk-parallel-item::after {content: \"\";width: 100%;border-bottom: 1px solid gray;flex-grow: 1;}#sk-container-id-1 div.sk-label:hover label.sk-toggleable__label {background-color: #d4ebff;}#sk-container-id-1 div.sk-serial::before {content: \"\";position: absolute;border-left: 1px solid gray;box-sizing: border-box;top: 0;bottom: 0;left: 50%;z-index: 0;}#sk-container-id-1 div.sk-serial {display: flex;flex-direction: column;align-items: center;background-color: white;padding-right: 0.2em;padding-left: 0.2em;position: relative;}#sk-container-id-1 div.sk-item {position: relative;z-index: 1;}#sk-container-id-1 div.sk-parallel {display: flex;align-items: stretch;justify-content: center;background-color: white;position: relative;}#sk-container-id-1 div.sk-item::before, #sk-container-id-1 div.sk-parallel-item::before {content: \"\";position: absolute;border-left: 1px solid gray;box-sizing: border-box;top: 0;bottom: 0;left: 50%;z-index: -1;}#sk-container-id-1 div.sk-parallel-item {display: flex;flex-direction: column;z-index: 1;position: relative;background-color: white;}#sk-container-id-1 div.sk-parallel-item:first-child::after {align-self: flex-end;width: 50%;}#sk-container-id-1 div.sk-parallel-item:last-child::after {align-self: flex-start;width: 50%;}#sk-container-id-1 div.sk-parallel-item:only-child::after {width: 0;}#sk-container-id-1 div.sk-dashed-wrapped {border: 1px dashed gray;margin: 0 0.4em 0.5em 0.4em;box-sizing: border-box;padding-bottom: 0.4em;background-color: white;}#sk-container-id-1 div.sk-label label {font-family: monospace;font-weight: bold;display: inline-block;line-height: 1.2em;}#sk-container-id-1 div.sk-label-container {text-align: center;}#sk-container-id-1 div.sk-container {/* jupyter's `normalize.less` sets `[hidden] { display: none; }` but bootstrap.min.css set `[hidden] { display: none !important; }` so we also need the `!important` here to be able to override the default hidden behavior on the sphinx rendered scikit-learn.org. See: https://github.com/scikit-learn/scikit-learn/issues/21755 */display: inline-block !important;position: relative;}#sk-container-id-1 div.sk-text-repr-fallback {display: none;}</style><div id=\"sk-container-id-1\" class=\"sk-top-container\"><div class=\"sk-text-repr-fallback\"><pre>RocketClassifier(num_kernels=300)</pre><b>In a Jupyter environment, please rerun this cell to show the HTML representation or trust the notebook. <br />On GitHub, the HTML representation is unable to render, please try loading this page with nbviewer.org.</b></div><div class=\"sk-container\" hidden><div class=\"sk-item\"><div class=\"sk-estimator sk-toggleable\"><input class=\"sk-toggleable__control sk-hidden--visually\" id=\"sk-estimator-id-1\" type=\"checkbox\" checked><label for=\"sk-estimator-id-1\" class=\"sk-toggleable__label sk-toggleable__label-arrow\">RocketClassifier</label><div class=\"sk-toggleable__content\"><pre>RocketClassifier(num_kernels=300)</pre></div></div></div></div></div>"
      ],
      "text/plain": [
       "RocketClassifier(num_kernels=300)"
      ]
     },
     "execution_count": 7,
     "metadata": {},
     "output_type": "execute_result"
    }
   ],
   "source": [
    "#danach trainieren und ergebniss auswerfen\n",
    "clf = RocketClassifier(num_kernels=300) \n",
    "clf.fit(X_train, np.array(y_train1)) "
   ]
  },
  {
   "cell_type": "code",
   "execution_count": 12,
   "metadata": {},
   "outputs": [
    {
     "name": "stderr",
     "output_type": "stream",
     "text": [
      "C:\\Users\\paulh\\AppData\\Local\\Temp\\ipykernel_8516\\3567498108.py:2: SettingWithCopyWarning: \n",
      "A value is trying to be set on a copy of a slice from a DataFrame\n",
      "\n",
      "See the caveats in the documentation: https://pandas.pydata.org/pandas-docs/stable/user_guide/indexing.html#returning-a-view-versus-a-copy\n",
      "  df_test1.drop([\"timestamp\",\"DeviationID ValueY\",\"CuStepNo ValueY\"],axis=1,inplace=True)\n"
     ]
    }
   ],
   "source": [
    "#Die daten die wir predicten wollen müssen auch noch preprocessed werden\n",
    "df_test1.drop([\"timestamp\",\"DeviationID ValueY\",\"CuStepNo ValueY\"],axis=1,inplace=True)"
   ]
  },
  {
   "cell_type": "code",
   "execution_count": 15,
   "metadata": {},
   "outputs": [
    {
     "data": {
      "text/plain": [
       "array([[[1.56720276e+02, 1.00000000e+02, 9.54861641e-02, ...,\n",
       "         0.00000000e+00, 2.51028633e+01, 3.71093750e+01],\n",
       "        [5.41268311e+01, 0.00000000e+00, 0.00000000e+00, ...,\n",
       "         1.53797546e+02, 1.00000000e+02, 8.21759701e-02],\n",
       "        [1.96238422e+00, 8.49550858e+01, 8.47846527e+01, ...,\n",
       "         1.62312561e+02, 0.00000000e+00, 0.00000000e+00],\n",
       "        ...,\n",
       "        [7.34051270e+02, 0.00000000e+00, 0.00000000e+00, ...,\n",
       "         1.50000000e+01, 2.29650040e+01, 2.10708082e-01],\n",
       "        [2.00000003e-01, 0.00000000e+00, 1.69744040e-03, ...,\n",
       "         7.24800781e+02, 0.00000000e+00, 0.00000000e+00],\n",
       "        [0.00000000e+00, 5.31051636e+01, 3.25303833e+02, ...,\n",
       "         2.00000003e-01, 0.00000000e+00, 1.72579661e-03]]])"
      ]
     },
     "execution_count": 15,
     "metadata": {},
     "output_type": "execute_result"
    }
   ],
   "source": [
    "np.array(df_test1).reshape(1,39,df_test1.shape[0])"
   ]
  },
  {
   "cell_type": "code",
   "execution_count": 16,
   "metadata": {},
   "outputs": [
    {
     "data": {
      "text/plain": [
       "array([7], dtype=int64)"
      ]
     },
     "execution_count": 16,
     "metadata": {},
     "output_type": "execute_result"
    }
   ],
   "source": [
    "clf.predict(np.array(df_test1).reshape(1,39,df_test1.shape[0]))"
   ]
  }
 ],
 "metadata": {
  "kernelspec": {
   "display_name": "Python 3",
   "language": "python",
   "name": "python3"
  },
  "language_info": {
   "codemirror_mode": {
    "name": "ipython",
    "version": 3
   },
   "file_extension": ".py",
   "mimetype": "text/x-python",
   "name": "python",
   "nbconvert_exporter": "python",
   "pygments_lexer": "ipython3",
   "version": "3.10.11"
  },
  "orig_nbformat": 4
 },
 "nbformat": 4,
 "nbformat_minor": 2
}
