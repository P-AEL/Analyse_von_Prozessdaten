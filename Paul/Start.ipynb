{
 "cells": [
  {
   "cell_type": "code",
   "execution_count": 7,
   "metadata": {},
   "outputs": [],
   "source": [
    "import pandas as pd\n",
    "import numpy as np\n",
    "import datetime\n",
    "import matplotlib.pyplot as plt"
   ]
  },
  {
   "cell_type": "code",
   "execution_count": 4,
   "metadata": {},
   "outputs": [],
   "source": [
    "df = pd.read_csv(\"Tank.csv\",delimiter=\";\")"
   ]
  },
  {
   "cell_type": "code",
   "execution_count": 6,
   "metadata": {},
   "outputs": [],
   "source": [
    "df.timestamp = pd.to_datetime(df.timestamp)"
   ]
  },
  {
   "cell_type": "code",
   "execution_count": 8,
   "metadata": {},
   "outputs": [
    {
     "data": {
      "text/plain": [
       "Text(0.5, 0, 'date')"
      ]
     },
     "execution_count": 8,
     "metadata": {},
     "output_type": "execute_result"
    },
    {
     "data": {
      "image/png": "[encoded data removed]",
      "text/plain": [
       "<Figure size 432x288 with 1 Axes>"
      ]
     },
     "metadata": {
      "needs_background": "light"
     },
     "output_type": "display_data"
    }
   ],
   "source": [
    "plt.plot(df['timestamp'],df['FIC14002_PV_Out ValueY'])\n",
    "plt.ylabel('mass flow of F14002 / (kg/h)')\n",
    "plt.xlabel('date')"
   ]
  },
  {
   "cell_type": "code",
   "execution_count": 9,
   "metadata": {},
   "outputs": [
    {
     "data": {
      "image/png": "[encoded data removed]",
      "text/plain": [
       "<Figure size 432x288 with 1 Axes>"
      ]
     },
     "metadata": {
      "needs_background": "light"
     },
     "output_type": "display_data"
    }
   ],
   "source": [
    "plt.plot(df['timestamp'],df['CuStepNo ValueY'])\n",
    "plt.ylabel('step number')\n",
    "plt.xlabel('date')\n",
    "plt.show()"
   ]
  },
  {
   "cell_type": "code",
   "execution_count": null,
   "metadata": {},
   "outputs": [],
   "source": [
    "\n",
    "import datetime\n",
    "import matplotlib.pyplot as plt\n",
    "\n",
    "# import data to data frame\n",
    "n=datetime.datetime.now()\n",
    "df=pd.read_csv('SmA-Four-Tank-Batch-Process_V2.csv',delimiter=';')\n",
    "n2=datetime.datetime.now()\n",
    "\n",
    "# print first lines of data frame\n",
    "print(df.head())\n",
    "# print data types\n",
    "print(df.dtypes)\n",
    "# timestamp is an object, not a timestamp\n",
    "df['timestamp']=pd.to_datetime(df['timestamp'],format='%Y-%m-%dT%H:%M:%S.%f')\n",
    "\n",
    "print('Nach Umwandlung in ein Datumsformat:')\n",
    "print('Erster Zeitstempel: {}'.format(df.at[1,'timestamp']))\n",
    "print('Differenz der Zeitstempel: {}'.format(df['timestamp'].diff()))\n",
    "print('Format des Zeitstempels: {}'.format(df['timestamp'].dtype))\n",
    "# save data frame as pickle - more efficient\n",
    "df.to_pickle('SmA-Four-Tank-Batch-Process_V2.pkl')\n",
    "# read data frame from pickle\n",
    "n3=datetime.datetime.now()\n",
    "df=pd.read_pickle('SmA-Four-Tank-Batch-Process_V2.pkl')\n",
    "n4=datetime.datetime.now()\n",
    "\n",
    "print('Time to read data into data frame from csv: {}'.format(n2-n))\n",
    "print('Time to read data into data frame from pickle: {}'.format(n4-n3))\n",
    "# print columns of data frame\n",
    "print(df.columns)\n",
    "# plot column FIC14002_PV_Out ValueY (flow rate)\n",
    "plt.subplot(121)\n",
    "plt.plot(df['timestamp'],df['FIC14002_PV_Out ValueY'])\n",
    "plt.ylabel('mass flow of F14002 / (kg/h)')\n",
    "plt.xlabel('date')\n",
    "# plot step number\n",
    "plt.subplot(122)\n",
    "plt.plot(df['timestamp'],df['CuStepNo ValueY'])\n",
    "plt.ylabel('step number')\n",
    "plt.xlabel('date')\n",
    "plt.show()\n",
    "# filter dataframe by step 1\n",
    "df1=df[df['CuStepNo ValueY']==1]\n",
    "print(df.describe())\n",
    "print(df1.describe())\n",
    "print('Shape of df (all steps): {}'.format(df.shape))\n",
    "print('Shape of df1 (step 1): {}'.format(df1.shape))"
   ]
  },
  {
   "cell_type": "code",
   "execution_count": null,
   "metadata": {},
   "outputs": [],
   "source": [
    "import pandas as pd\n",
    "# read data frame from pickle\n",
    "df=pd.read_pickle('SmA-Four-Tank-Batch-Process_V2.pkl')\n",
    "# remove steps data are not mentioned in the documentation\n",
    "vsteps=[1,7,8,3]\n",
    "df=df[df['CuStepNo ValueY'].isin(vsteps)]\n",
    "# determine start and end of steps\n",
    "df['dstep_p']=df['CuStepNo ValueY'].diff()\n",
    "df['dstep_n']=df['CuStepNo ValueY'].diff(-1)\n",
    "# select rows with a step change\n",
    "dfsen=df[(df['dstep_n']!=0)]\n",
    "dfsep=df[(df['dstep_p']!=0)]\n",
    "dfse=pd.concat([dfsen,dfsep])\n",
    "dfse=dfse.sort_values(by=['timestamp'])\n",
    "# create new dataframe where we store extracted information\n",
    "dfinfo_steps=pd.DataFrame(columns=['step_length','start','end','stepn'])\n",
    "# iterative approach\n",
    "pstep=-1\n",
    "c=0\n",
    "for n in range(dfse.shape[0]):\n",
    "    # get row\n",
    "    r=dfse.iloc[n]\n",
    "    if pstep==r['CuStepNo ValueY']:\n",
    "        # determine step length\n",
    "        stepl=r['timestamp']-dfse.iloc[n-1]['timestamp']\n",
    "        # update dataframe\n",
    "        dfinfo_steps.loc[c]=(stepl,dfse.iloc[n-1]['timestamp'],r['timestamp'],r['CuStepNo ValueY'])\n",
    "        c=c+1\n",
    "    else:\n",
    "        pstep=r['CuStepNo ValueY']\n",
    "print(dfinfo_steps.head())\n",
    "print('Max step_length: {}'.format(dfinfo_steps['step_length'].max()))\n",
    "print('Min step_length: {}'.format(dfinfo_steps['step_length'].min()))\n",
    "print('#steps: {}'.format(dfinfo_steps.shape[0]))\n",
    "# now determine whether the batch is complete\n",
    "batchn=1\n",
    "batchi=-1\n",
    "dfinfo_steps[\"batchn\"]=0\n",
    "dfinfo_steps[\"is_complete\"]=False\n",
    "dfinfo_batches=pd.DataFrame(columns=['batch_length','start','end','steps','batchn','is_complete'])\n",
    "n=0\n",
    "b=0\n",
    "while True:\n",
    "    if n+len(vsteps)>dfinfo_steps.shape[0]:\n",
    "        # complete info at incomplete, last batch\n",
    "        steps=[]\n",
    "        for v in range(dfinfo_steps.shape[0]-n):\n",
    "            dfinfo_steps.at[n+v,'batchn']=batchi\n",
    "            dfinfo_steps.at[n+v,'is_complete']=False\n",
    "            steps.append(dfinfo_steps.at[n+v,'stepn'])\n",
    "        dfinfo_batches.loc[b]=[dfinfo_steps.at[n+v,'end']-dfinfo_steps.at[n,'start'],dfinfo_steps.at[n,'start'], \\\n",
    "                               dfinfo_steps.at[n+v,'end'],steps,batchi,False]\n",
    "        b=b+1\n",
    "        break\n",
    "    # check if all steps of a batch are present and in correct order\n",
    "    isCorrect=True\n",
    "    for v in range(len(vsteps)):\n",
    "        isCorrect=dfinfo_steps.loc[n+v,'stepn']==vsteps[v]\n",
    "        if not isCorrect:\n",
    "            break\n",
    "    if isCorrect:\n",
    "        steps=[]\n",
    "        for v in range(len(vsteps)):\n",
    "            dfinfo_steps.at[n+v,'batchn']=batchn\n",
    "            dfinfo_steps.at[n+v,'is_complete']=True\n",
    "            steps.append(dfinfo_steps.at[n+v,'stepn'])\n",
    "        dfinfo_batches.loc[b]=[dfinfo_steps.at[n+v,'end']-dfinfo_steps.at[n,'start'],dfinfo_steps.at[n,'start'], \\\n",
    "                               dfinfo_steps.at[n+v,'end'],steps,batchn,True]\n",
    "        n=n+len(vsteps)\n",
    "        batchn=batchn+1\n",
    "        b=b+1\n",
    "    else:\n",
    "        steps=[]\n",
    "        for vc in range(v):\n",
    "            dfinfo_steps.at[n+vc,'batchn']=batchi\n",
    "            dfinfo_steps.at[n+vc,'is_complete']=False\n",
    "            steps.append(dfinfo_steps.at[n+v,'stepn'])\n",
    "        dfinfo_batches.loc[b]=[dfinfo_steps.at[n+vc,'end']-dfinfo_steps.at[n,'start'],dfinfo_steps.at[n,'start'], \\\n",
    "                               dfinfo_steps.at[n+vc,'end'],steps,batchi,False]\n",
    "        batchi=batchi-1\n",
    "        n=n+vc\n",
    "        b=b+1\n",
    "# save dfinfo_steps to file\n",
    "dfinfo_steps.to_pickle('SmA-Four-Tank-Info-Steps.pkl')\n",
    "dfinfo_batches.to_pickle('SmA-Four-Tank-Info-Batches.pkl')"
   ]
  },
  {
   "cell_type": "code",
   "execution_count": null,
   "metadata": {},
   "outputs": [],
   "source": [
    "import pandas as pd\n",
    "dfinfo_steps=pd.read_pickle('SmA-Four-Tank-Info-Steps.pkl')\n",
    "dfinfo_batches=pd.read_pickle('SmA-Four-Tank-Info-Batches.pkl')\n",
    "print('#complete batches: {}'.format(dfinfo_steps['batchn'].max()))\n",
    "print('#incomplete batches: {}'.format(abs(dfinfo_steps['batchn'].min())))\n",
    "print('step#\\tshortest\\tlongest')\n",
    "for v in set(dfinfo_steps['stepn']):\n",
    "    tmp=dfinfo_steps[dfinfo_steps['stepn']==v]\n",
    "    print('{}\\t{}\\t\\t{}'.format(v,tmp['step_length'].min().total_seconds(),tmp['step_length'].max().total_seconds()))\n",
    "print('Longest batch: {}'.format(dfinfo_batches['batch_length'].max()))\n",
    "print('Shortest batch: {}'.format(dfinfo_batches['batch_length'].min()))\n"
   ]
  }
 ],
 "metadata": {
  "kernelspec": {
   "display_name": "Python 3",
   "language": "python",
   "name": "python3"
  },
  "language_info": {
   "codemirror_mode": {
    "name": "ipython",
    "version": 3
   },
   "file_extension": ".py",
   "mimetype": "text/x-python",
   "name": "python",
   "nbconvert_exporter": "python",
   "pygments_lexer": "ipython3",
   "version": "3.10.10"
  },
  "orig_nbformat": 4
 },
 "nbformat": 4,
 "nbformat_minor": 2
}
