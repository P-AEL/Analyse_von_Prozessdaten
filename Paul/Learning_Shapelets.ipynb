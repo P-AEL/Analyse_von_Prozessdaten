{
 "cells": [
  {
   "cell_type": "code",
   "execution_count": 1,
   "metadata": {},
   "outputs": [],
   "source": [
    "import numpy\n",
    "from sklearn.metrics import accuracy_score\n",
    "import tensorflow as tf\n",
    "import matplotlib.pyplot as plt\n",
    "\n",
    "from tslearn.datasets import CachedDatasets\n",
    "from tslearn.preprocessing import TimeSeriesScalerMinMax\n",
    "from tslearn.shapelets import LearningShapelets, \\\n",
    "    grabocka_params_to_shapelet_size_dict\n",
    "from tslearn.utils import ts_size\n",
    "import numpy\n",
    "from sklearn.metrics import accuracy_score\n",
    "\n",
    "from tslearn.generators import random_walk_blobs\n",
    "from tslearn.preprocessing import TimeSeriesScalerMinMax, \\\n",
    "    TimeSeriesScalerMeanVariance\n",
    "from tslearn.neighbors import KNeighborsTimeSeriesClassifier, \\\n",
    "    KNeighborsTimeSeries\n",
    "import pandas as pd\n",
    "import numpy as np\n",
    "import random\n",
    "from tslearn.datasets import UCR_UEA_datasets\n",
    "from tslearn.preprocessing import TimeSeriesResampler"
   ]
  },
  {
   "cell_type": "code",
   "execution_count": 8,
   "metadata": {},
   "outputs": [],
   "source": [
    "df = pd.read_pickle(\"Train.pkl\")\n",
    "randomlist1 = random.sample(range(0, 260), 20)\n",
    "\n",
    "df_test1 = df.loc[df[\"Batch\"].isin(randomlist1)]\n",
    "df_train1 = df.loc[~df[\"Batch\"].isin(randomlist1)]\n",
    "df_steps1 = df_test1.loc[df_test1[\"CuStepNo ValueY\"] != df_test1[\"Next_Step\"]]\n",
    "df_steps2 = df_train1.loc[df_train1[\"CuStepNo ValueY\"] != df_train1[\"Next_Step\"]]\n"
   ]
  },
  {
   "cell_type": "code",
   "execution_count": 9,
   "metadata": {},
   "outputs": [],
   "source": [
    "y_train1 = df_steps2.loc[df_steps2[\"CuStepNo ValueY\"] == 7,\"DeviationID ValueY\"].astype(int)\n",
    "y_test1 = df_steps1.loc[df_steps1[\"CuStepNo ValueY\"] == 7,\"DeviationID ValueY\"].astype(int)\n",
    "X_train1 = df_train1.drop([\"DeviationID ValueY\",\"Next_Step\",\"timestamp\",\"Unnamed: 0\"],axis=1)\n",
    "X_test1 = df_test1.drop([\"DeviationID ValueY\",\"Next_Step\",\"timestamp\",\"Unnamed: 0\"],axis=1)"
   ]
  },
  {
   "cell_type": "code",
   "execution_count": 10,
   "metadata": {},
   "outputs": [],
   "source": [
    "X_train_step1 = []\n",
    "for i in X_train1.Batch.unique():\n",
    "        num = numpy.array(X_train1.loc[(X_train1[\"Batch\"] == i)&(X_train1[\"CuStepNo ValueY\"] == 7)].drop([\"Batch\",\"CuStepNo ValueY\"],axis=1))\n",
    "        X_train_step1.append(num)"
   ]
  },
  {
   "cell_type": "code",
   "execution_count": 11,
   "metadata": {},
   "outputs": [],
   "source": [
    "X_test_step1 = []\n",
    "for i in X_test1.Batch.unique():\n",
    "        num = numpy.array(X_test1.loc[(X_test1[\"Batch\"] == i)&(X_test1[\"CuStepNo ValueY\"] == 7)].drop([\"Batch\",\"CuStepNo ValueY\"],axis=1))\n",
    "        X_test_step1.append(num)"
   ]
  },
  {
   "cell_type": "code",
   "execution_count": 12,
   "metadata": {},
   "outputs": [],
   "source": [
    "length = []\n",
    "for i in X_train_step1:\n",
    "    length.append(len(i))"
   ]
  },
  {
   "cell_type": "code",
   "execution_count": 13,
   "metadata": {},
   "outputs": [],
   "source": [
    "X_train_s1 = TimeSeriesResampler(sz=int(np.median(length))).fit_transform(X_train_step1)\n",
    "X_test_s1 = TimeSeriesResampler(sz=int(np.median(length))).fit_transform(X_test_step1)"
   ]
  },
  {
   "cell_type": "code",
   "execution_count": 18,
   "metadata": {},
   "outputs": [],
   "source": [
    "# X_train_s1 = X_train_s1.reshape(X_train_s1.shape[0],39,X_train_s1.shape[1])\n",
    "# X_test_s1 = X_test_s1.reshape(X_test_s1.shape[0],39,X_test_s1.shape[1])"
   ]
  },
  {
   "cell_type": "code",
   "execution_count": 14,
   "metadata": {},
   "outputs": [],
   "source": [
    "scaler = TimeSeriesScalerMinMax()\n",
    "X_train = scaler.fit_transform(X_train_s1)\n",
    "X_test = scaler.transform(X_test_s1)"
   ]
  },
  {
   "cell_type": "code",
   "execution_count": 9,
   "metadata": {},
   "outputs": [],
   "source": [
    "n_ts, ts_sz = X_train_s1.shape[:2]\n",
    "n_classes = len(set(y_train1))"
   ]
  },
  {
   "cell_type": "code",
   "execution_count": 15,
   "metadata": {},
   "outputs": [
    {
     "data": {
      "text/plain": [
       "(233, 72, 39)"
      ]
     },
     "execution_count": 15,
     "metadata": {},
     "output_type": "execute_result"
    }
   ],
   "source": [
    "X_train_s1.shape"
   ]
  },
  {
   "cell_type": "code",
   "execution_count": 11,
   "metadata": {},
   "outputs": [],
   "source": [
    "shapelet_sizes = grabocka_params_to_shapelet_size_dict(n_ts=n_ts,\n",
    "                                                       ts_sz=ts_sz,\n",
    "                                                       n_classes=n_classes,\n",
    "                                                       l=0.1,\n",
    "                                                       r=1)"
   ]
  },
  {
   "cell_type": "code",
   "execution_count": 60,
   "metadata": {},
   "outputs": [
    {
     "data": {
      "text/plain": [
       "(76,)"
      ]
     },
     "execution_count": 60,
     "metadata": {},
     "output_type": "execute_result"
    }
   ],
   "source": [
    "y_test1.shape"
   ]
  },
  {
   "cell_type": "code",
   "execution_count": null,
   "metadata": {},
   "outputs": [],
   "source": [
    "{7:10}"
   ]
  },
  {
   "cell_type": "code",
   "execution_count": 16,
   "metadata": {},
   "outputs": [
    {
     "data": {
      "text/html": [
       "<style>#sk-container-id-1 {color: black;background-color: white;}#sk-container-id-1 pre{padding: 0;}#sk-container-id-1 div.sk-toggleable {background-color: white;}#sk-container-id-1 label.sk-toggleable__label {cursor: pointer;display: block;width: 100%;margin-bottom: 0;padding: 0.3em;box-sizing: border-box;text-align: center;}#sk-container-id-1 label.sk-toggleable__label-arrow:before {content: \"▸\";float: left;margin-right: 0.25em;color: #696969;}#sk-container-id-1 label.sk-toggleable__label-arrow:hover:before {color: black;}#sk-container-id-1 div.sk-estimator:hover label.sk-toggleable__label-arrow:before {color: black;}#sk-container-id-1 div.sk-toggleable__content {max-height: 0;max-width: 0;overflow: hidden;text-align: left;background-color: #f0f8ff;}#sk-container-id-1 div.sk-toggleable__content pre {margin: 0.2em;color: black;border-radius: 0.25em;background-color: #f0f8ff;}#sk-container-id-1 input.sk-toggleable__control:checked~div.sk-toggleable__content {max-height: 200px;max-width: 100%;overflow: auto;}#sk-container-id-1 input.sk-toggleable__control:checked~label.sk-toggleable__label-arrow:before {content: \"▾\";}#sk-container-id-1 div.sk-estimator input.sk-toggleable__control:checked~label.sk-toggleable__label {background-color: #d4ebff;}#sk-container-id-1 div.sk-label input.sk-toggleable__control:checked~label.sk-toggleable__label {background-color: #d4ebff;}#sk-container-id-1 input.sk-hidden--visually {border: 0;clip: rect(1px 1px 1px 1px);clip: rect(1px, 1px, 1px, 1px);height: 1px;margin: -1px;overflow: hidden;padding: 0;position: absolute;width: 1px;}#sk-container-id-1 div.sk-estimator {font-family: monospace;background-color: #f0f8ff;border: 1px dotted black;border-radius: 0.25em;box-sizing: border-box;margin-bottom: 0.5em;}#sk-container-id-1 div.sk-estimator:hover {background-color: #d4ebff;}#sk-container-id-1 div.sk-parallel-item::after {content: \"\";width: 100%;border-bottom: 1px solid gray;flex-grow: 1;}#sk-container-id-1 div.sk-label:hover label.sk-toggleable__label {background-color: #d4ebff;}#sk-container-id-1 div.sk-serial::before {content: \"\";position: absolute;border-left: 1px solid gray;box-sizing: border-box;top: 0;bottom: 0;left: 50%;z-index: 0;}#sk-container-id-1 div.sk-serial {display: flex;flex-direction: column;align-items: center;background-color: white;padding-right: 0.2em;padding-left: 0.2em;position: relative;}#sk-container-id-1 div.sk-item {position: relative;z-index: 1;}#sk-container-id-1 div.sk-parallel {display: flex;align-items: stretch;justify-content: center;background-color: white;position: relative;}#sk-container-id-1 div.sk-item::before, #sk-container-id-1 div.sk-parallel-item::before {content: \"\";position: absolute;border-left: 1px solid gray;box-sizing: border-box;top: 0;bottom: 0;left: 50%;z-index: -1;}#sk-container-id-1 div.sk-parallel-item {display: flex;flex-direction: column;z-index: 1;position: relative;background-color: white;}#sk-container-id-1 div.sk-parallel-item:first-child::after {align-self: flex-end;width: 50%;}#sk-container-id-1 div.sk-parallel-item:last-child::after {align-self: flex-start;width: 50%;}#sk-container-id-1 div.sk-parallel-item:only-child::after {width: 0;}#sk-container-id-1 div.sk-dashed-wrapped {border: 1px dashed gray;margin: 0 0.4em 0.5em 0.4em;box-sizing: border-box;padding-bottom: 0.4em;background-color: white;}#sk-container-id-1 div.sk-label label {font-family: monospace;font-weight: bold;display: inline-block;line-height: 1.2em;}#sk-container-id-1 div.sk-label-container {text-align: center;}#sk-container-id-1 div.sk-container {/* jupyter's `normalize.less` sets `[hidden] { display: none; }` but bootstrap.min.css set `[hidden] { display: none !important; }` so we also need the `!important` here to be able to override the default hidden behavior on the sphinx rendered scikit-learn.org. See: https://github.com/scikit-learn/scikit-learn/issues/21755 */display: inline-block !important;position: relative;}#sk-container-id-1 div.sk-text-repr-fallback {display: none;}</style><div id=\"sk-container-id-1\" class=\"sk-top-container\"><div class=\"sk-text-repr-fallback\"><pre>LearningShapelets(batch_size=200, max_iter=250, n_shapelets_per_size={23: 10},\n",
       "                  optimizer=&lt;keras.optimizers.adam.Adam object at 0x000001CB7A6D4BB0&gt;,\n",
       "                  random_state=42, scale=True, weight_regularizer=0.01)</pre><b>In a Jupyter environment, please rerun this cell to show the HTML representation or trust the notebook. <br />On GitHub, the HTML representation is unable to render, please try loading this page with nbviewer.org.</b></div><div class=\"sk-container\" hidden><div class=\"sk-item\"><div class=\"sk-estimator sk-toggleable\"><input class=\"sk-toggleable__control sk-hidden--visually\" id=\"sk-estimator-id-1\" type=\"checkbox\" checked><label for=\"sk-estimator-id-1\" class=\"sk-toggleable__label sk-toggleable__label-arrow\">LearningShapelets</label><div class=\"sk-toggleable__content\"><pre>LearningShapelets(batch_size=200, max_iter=250, n_shapelets_per_size={23: 10},\n",
       "                  optimizer=&lt;keras.optimizers.adam.Adam object at 0x000001CB7A6D4BB0&gt;,\n",
       "                  random_state=42, scale=True, weight_regularizer=0.01)</pre></div></div></div></div></div>"
      ],
      "text/plain": [
       "LearningShapelets(batch_size=200, max_iter=250, n_shapelets_per_size={23: 10},\n",
       "                  optimizer=<keras.optimizers.adam.Adam object at 0x000001CB7A6D4BB0>,\n",
       "                  random_state=42, scale=True, weight_regularizer=0.01)"
      ]
     },
     "execution_count": 16,
     "metadata": {},
     "output_type": "execute_result"
    }
   ],
   "source": [
    "shp_clf = LearningShapelets(n_shapelets_per_size={23:10},\n",
    "                            optimizer=tf.optimizers.Adam(.01),\n",
    "                            batch_size=200,\n",
    "                            weight_regularizer=.01,\n",
    "                            max_iter=250,\n",
    "                            random_state=42,\n",
    "                            scale=True,\n",
    "                            verbose=0)\n",
    "shp_clf.fit(X_train, y_train1)"
   ]
  },
  {
   "cell_type": "code",
   "execution_count": 17,
   "metadata": {},
   "outputs": [
    {
     "name": "stdout",
     "output_type": "stream",
     "text": [
      "Correct classification rate: 0.6111111111111112\n"
     ]
    }
   ],
   "source": [
    "pred_labels = shp_clf.predict(X_test)\n",
    "print(\"Correct classification rate:\", accuracy_score(y_test1, pred_labels))"
   ]
  },
  {
   "cell_type": "code",
   "execution_count": 21,
   "metadata": {},
   "outputs": [],
   "source": [
    "from sklearn import preprocessing"
   ]
  },
  {
   "cell_type": "code",
   "execution_count": 86,
   "metadata": {},
   "outputs": [],
   "source": [
    "X_train2 = shp_clf.transform(X_train)"
   ]
  },
  {
   "cell_type": "code",
   "execution_count": 87,
   "metadata": {},
   "outputs": [],
   "source": [
    "scaler = preprocessing.StandardScaler().fit(X_train2)\n",
    "X_train2 = scaler.transform(X_train2)\n",
    "X_test2 = shp_clf.transform(X_test)\n",
    "X_test2 = scaler.transform(X_test2)"
   ]
  },
  {
   "cell_type": "code",
   "execution_count": 88,
   "metadata": {},
   "outputs": [
    {
     "data": {
      "text/html": [
       "<style>#sk-container-id-14 {color: black;background-color: white;}#sk-container-id-14 pre{padding: 0;}#sk-container-id-14 div.sk-toggleable {background-color: white;}#sk-container-id-14 label.sk-toggleable__label {cursor: pointer;display: block;width: 100%;margin-bottom: 0;padding: 0.3em;box-sizing: border-box;text-align: center;}#sk-container-id-14 label.sk-toggleable__label-arrow:before {content: \"▸\";float: left;margin-right: 0.25em;color: #696969;}#sk-container-id-14 label.sk-toggleable__label-arrow:hover:before {color: black;}#sk-container-id-14 div.sk-estimator:hover label.sk-toggleable__label-arrow:before {color: black;}#sk-container-id-14 div.sk-toggleable__content {max-height: 0;max-width: 0;overflow: hidden;text-align: left;background-color: #f0f8ff;}#sk-container-id-14 div.sk-toggleable__content pre {margin: 0.2em;color: black;border-radius: 0.25em;background-color: #f0f8ff;}#sk-container-id-14 input.sk-toggleable__control:checked~div.sk-toggleable__content {max-height: 200px;max-width: 100%;overflow: auto;}#sk-container-id-14 input.sk-toggleable__control:checked~label.sk-toggleable__label-arrow:before {content: \"▾\";}#sk-container-id-14 div.sk-estimator input.sk-toggleable__control:checked~label.sk-toggleable__label {background-color: #d4ebff;}#sk-container-id-14 div.sk-label input.sk-toggleable__control:checked~label.sk-toggleable__label {background-color: #d4ebff;}#sk-container-id-14 input.sk-hidden--visually {border: 0;clip: rect(1px 1px 1px 1px);clip: rect(1px, 1px, 1px, 1px);height: 1px;margin: -1px;overflow: hidden;padding: 0;position: absolute;width: 1px;}#sk-container-id-14 div.sk-estimator {font-family: monospace;background-color: #f0f8ff;border: 1px dotted black;border-radius: 0.25em;box-sizing: border-box;margin-bottom: 0.5em;}#sk-container-id-14 div.sk-estimator:hover {background-color: #d4ebff;}#sk-container-id-14 div.sk-parallel-item::after {content: \"\";width: 100%;border-bottom: 1px solid gray;flex-grow: 1;}#sk-container-id-14 div.sk-label:hover label.sk-toggleable__label {background-color: #d4ebff;}#sk-container-id-14 div.sk-serial::before {content: \"\";position: absolute;border-left: 1px solid gray;box-sizing: border-box;top: 0;bottom: 0;left: 50%;z-index: 0;}#sk-container-id-14 div.sk-serial {display: flex;flex-direction: column;align-items: center;background-color: white;padding-right: 0.2em;padding-left: 0.2em;position: relative;}#sk-container-id-14 div.sk-item {position: relative;z-index: 1;}#sk-container-id-14 div.sk-parallel {display: flex;align-items: stretch;justify-content: center;background-color: white;position: relative;}#sk-container-id-14 div.sk-item::before, #sk-container-id-14 div.sk-parallel-item::before {content: \"\";position: absolute;border-left: 1px solid gray;box-sizing: border-box;top: 0;bottom: 0;left: 50%;z-index: -1;}#sk-container-id-14 div.sk-parallel-item {display: flex;flex-direction: column;z-index: 1;position: relative;background-color: white;}#sk-container-id-14 div.sk-parallel-item:first-child::after {align-self: flex-end;width: 50%;}#sk-container-id-14 div.sk-parallel-item:last-child::after {align-self: flex-start;width: 50%;}#sk-container-id-14 div.sk-parallel-item:only-child::after {width: 0;}#sk-container-id-14 div.sk-dashed-wrapped {border: 1px dashed gray;margin: 0 0.4em 0.5em 0.4em;box-sizing: border-box;padding-bottom: 0.4em;background-color: white;}#sk-container-id-14 div.sk-label label {font-family: monospace;font-weight: bold;display: inline-block;line-height: 1.2em;}#sk-container-id-14 div.sk-label-container {text-align: center;}#sk-container-id-14 div.sk-container {/* jupyter's `normalize.less` sets `[hidden] { display: none; }` but bootstrap.min.css set `[hidden] { display: none !important; }` so we also need the `!important` here to be able to override the default hidden behavior on the sphinx rendered scikit-learn.org. See: https://github.com/scikit-learn/scikit-learn/issues/21755 */display: inline-block !important;position: relative;}#sk-container-id-14 div.sk-text-repr-fallback {display: none;}</style><div id=\"sk-container-id-14\" class=\"sk-top-container\"><div class=\"sk-text-repr-fallback\"><pre>LogisticRegression(max_iter=1000)</pre><b>In a Jupyter environment, please rerun this cell to show the HTML representation or trust the notebook. <br />On GitHub, the HTML representation is unable to render, please try loading this page with nbviewer.org.</b></div><div class=\"sk-container\" hidden><div class=\"sk-item\"><div class=\"sk-estimator sk-toggleable\"><input class=\"sk-toggleable__control sk-hidden--visually\" id=\"sk-estimator-id-14\" type=\"checkbox\" checked><label for=\"sk-estimator-id-14\" class=\"sk-toggleable__label sk-toggleable__label-arrow\">LogisticRegression</label><div class=\"sk-toggleable__content\"><pre>LogisticRegression(max_iter=1000)</pre></div></div></div></div></div>"
      ],
      "text/plain": [
       "LogisticRegression(max_iter=1000)"
      ]
     },
     "execution_count": 88,
     "metadata": {},
     "output_type": "execute_result"
    }
   ],
   "source": [
    "#import from sklearn logistic regression\n",
    "from sklearn.linear_model import LogisticRegression\n",
    "#instantiate the model (using the default parameters)\n",
    "logreg = LogisticRegression(max_iter=1000)\n",
    "#fit the model with data\n",
    "logreg.fit(X_train2,y_train1)\n",
    "\n"
   ]
  },
  {
   "cell_type": "code",
   "execution_count": 89,
   "metadata": {},
   "outputs": [
    {
     "name": "stdout",
     "output_type": "stream",
     "text": [
      "Accuracy: 0.6794871794871795\n"
     ]
    }
   ],
   "source": [
    "\n",
    "\n",
    "y_pred=logreg.predict(X_test2)\n",
    "\n",
    "#accuracy\n",
    "from sklearn import metrics\n",
    "print(\"Accuracy:\",metrics.accuracy_score(y_test1, y_pred))"
   ]
  },
  {
   "cell_type": "code",
   "execution_count": 18,
   "metadata": {},
   "outputs": [],
   "source": [
    "shapelets = shp_clf.shapelets_as_time_series_\n"
   ]
  },
  {
   "cell_type": "code",
   "execution_count": 19,
   "metadata": {},
   "outputs": [
    {
     "data": {
      "text/plain": [
       "(10, 23, 39)"
      ]
     },
     "execution_count": 19,
     "metadata": {},
     "output_type": "execute_result"
    }
   ],
   "source": [
    "shapelets.shape"
   ]
  },
  {
   "cell_type": "code",
   "execution_count": 29,
   "metadata": {},
   "outputs": [
    {
     "data": {
      "text/plain": [
       "2535"
      ]
     },
     "execution_count": 29,
     "metadata": {},
     "output_type": "execute_result"
    }
   ],
   "source": [
    "distances.__len__()"
   ]
  },
  {
   "cell_type": "code",
   "execution_count": 31,
   "metadata": {},
   "outputs": [
    {
     "data": {
      "text/plain": [
       "(174, 10)"
      ]
     },
     "execution_count": 31,
     "metadata": {},
     "output_type": "execute_result"
    }
   ],
   "source": [
    "predicted_locations.shape"
   ]
  },
  {
   "cell_type": "code",
   "execution_count": 14,
   "metadata": {},
   "outputs": [],
   "source": [
    "distances = shp_clf.transform(X_train)\n",
    "predicted_locations = shp_clf.locate(X_train)"
   ]
  },
  {
   "cell_type": "code",
   "execution_count": 20,
   "metadata": {},
   "outputs": [
    {
     "data": {
      "image/png": "[encoded data removed]",
      "text/plain": [
       "<Figure size 432x288 with 2 Axes>"
      ]
     },
     "metadata": {
      "needs_background": "light"
     },
     "output_type": "display_data"
    }
   ],
   "source": [
    "f, ax = plt.subplots(2, 1, sharex=True)"
   ]
  },
  {
   "cell_type": "code",
   "execution_count": 20,
   "metadata": {},
   "outputs": [
    {
     "data": {
      "text/plain": [
       "array([[ 3.18061471e-01,  1.15470028e+00, -3.93580943e-01,\n",
       "         1.77840739e-01,  9.27982271e-01,  1.00062335e+00,\n",
       "         7.04486310e-01,  9.15568829e-01, -2.24421486e-01,\n",
       "        -6.03855699e-02,  1.37139842e-01,  3.50630358e-02,\n",
       "        -4.19883400e-01,  4.54370707e-01,  3.58839408e-02,\n",
       "         9.83215868e-03,  1.55291885e-01,  9.10252571e-01,\n",
       "        -1.24900796e-01,  1.42023899e-03,  3.63160491e-01,\n",
       "         4.22676802e-01,  1.10118397e-01,  3.09291221e-02,\n",
       "         2.21630204e-02, -2.81043258e-02, -6.93611383e-01,\n",
       "        -8.85713518e-01, -1.56583309e-01, -3.09362084e-01,\n",
       "        -1.03648233e+00,  4.29376453e-01,  9.01490927e-01,\n",
       "         9.10082519e-01,  1.42340019e-01,  1.14038372e+00,\n",
       "        -4.82105821e-01, -5.33872051e-03,  3.22302431e-01],\n",
       "       [ 1.75783724e-01,  5.89383841e-01, -4.70401824e-01,\n",
       "         3.45558554e-01,  1.68096229e-01,  1.22878931e-01,\n",
       "         3.34806681e-01,  1.00189543e+00, -3.58516335e-01,\n",
       "        -8.06795992e-03,  1.54397577e-01,  4.26601321e-02,\n",
       "         4.12557386e-02,  6.05903983e-01,  4.45572101e-02,\n",
       "        -5.58156222e-02,  1.74134329e-01,  8.86079729e-01,\n",
       "        -3.77833784e-01,  5.24102934e-02, -4.01647715e-03,\n",
       "         1.03279829e-01,  1.24874160e-01,  4.06297222e-02,\n",
       "         2.90790945e-02, -1.65304005e-01, -6.84463322e-01,\n",
       "        -6.90135121e-01, -2.69802272e-01, -1.67901427e-01,\n",
       "        -8.45362544e-01,  6.34360537e-02,  9.41119313e-01,\n",
       "         4.91088420e-01,  3.32687944e-01,  1.26767313e+00,\n",
       "        -5.23706317e-01, -5.81069989e-03,  3.11664581e-01],\n",
       "       [-4.41352762e-02,  1.00065768e+00, -3.53999227e-01,\n",
       "         4.65531051e-01,  7.89142102e-02,  9.02097821e-02,\n",
       "         1.26483858e-01,  1.10974610e+00, -4.44905907e-01,\n",
       "         6.73688874e-02,  1.72198117e-01,  5.09906448e-02,\n",
       "         4.92294431e-02,  4.59259719e-01,  5.42247109e-02,\n",
       "        -6.65833578e-02,  1.93408415e-01,  1.30702519e+00,\n",
       "         4.99067008e-01,  6.23275638e-02, -4.04433638e-01,\n",
       "        -3.42645913e-01,  1.40414134e-01,  5.15420213e-02,\n",
       "         3.66026126e-02, -1.61667138e-01, -6.55212045e-01,\n",
       "        -5.65967560e-01,  4.94345337e-01, -9.67322960e-02,\n",
       "        -4.66649622e-01, -3.38072121e-01,  9.95496094e-01,\n",
       "         1.02669203e+00,  6.98568719e-03,  9.03175592e-01,\n",
       "        -5.60020506e-01, -6.09883154e-03,  2.56333143e-01],\n",
       "       [-2.02135772e-01,  4.58187789e-01, -4.16239470e-01,\n",
       "         6.68874443e-01, -3.78848702e-01, -3.90672594e-01,\n",
       "         1.70420352e-02,  6.95591807e-01, -4.58414584e-01,\n",
       "         1.20987155e-01,  1.90054595e-01,  5.98909855e-02,\n",
       "         5.85329644e-02,  3.15954715e-01,  6.45136535e-02,\n",
       "        -4.03387338e-01,  2.14262679e-01,  6.55064464e-01,\n",
       "        -5.63161790e-01,  7.29287490e-02, -5.28749049e-01,\n",
       "        -5.87803125e-01,  1.56418249e-01,  6.39898032e-02,\n",
       "         4.50954475e-02, -5.27642071e-01, -5.98549962e-01,\n",
       "        -7.21027672e-01, -5.21487057e-01,  2.77765505e-02,\n",
       "        -8.55015576e-01, -5.75173318e-01,  1.05001402e+00,\n",
       "         5.84828675e-01, -1.07063353e-01,  5.34697115e-01,\n",
       "        -6.51740491e-01, -6.26120763e-03,  4.13179845e-01],\n",
       "       [-2.92009503e-01,  1.23150599e+00,  1.01881608e-01,\n",
       "         5.33908725e-01, -2.28775576e-01, -1.89469516e-01,\n",
       "        -2.05121681e-01,  1.38052964e+00, -4.99035895e-01,\n",
       "         2.28034049e-01,  2.08713472e-01,  6.95821047e-02,\n",
       "         6.90020248e-02,  6.82769120e-01,  7.49983191e-02,\n",
       "         3.77815403e-02,  2.34830588e-01,  1.03277528e+00,\n",
       "         3.55011433e-01,  8.46121535e-02, -4.42910165e-01,\n",
       "        -4.51392055e-01,  1.73881739e-01,  7.71682858e-02,\n",
       "         5.42376190e-02, -4.20550406e-02, -5.62833786e-01,\n",
       "        -7.11246908e-01,  3.18033725e-01,  1.15871608e-01,\n",
       "        -6.00288928e-01, -4.49067354e-01,  1.08747280e+00,\n",
       "         1.15519845e+00, -4.98506129e-02,  3.96827519e-01,\n",
       "        -5.24080992e-01, -6.35094522e-03,  4.37837720e-01],\n",
       "       [-3.13506752e-01,  1.34027719e+00, -5.23715377e-01,\n",
       "         7.82791317e-01, -3.37315917e-01, -3.61014307e-01,\n",
       "        -2.77711661e-03,  1.01884353e+00, -5.58196366e-01,\n",
       "         2.33379722e-01,  2.27988824e-01,  8.00047144e-02,\n",
       "         8.03041458e-02,  7.41107345e-01,  8.67865607e-02,\n",
       "        -1.39924973e-01,  2.56006598e-01,  2.59354353e-01,\n",
       "        -5.56201994e-01,  9.75559875e-02, -7.06457853e-01,\n",
       "        -6.86376750e-01,  1.91057473e-01,  9.08292904e-02,\n",
       "         6.41671866e-02, -3.59710217e-01, -5.21454036e-01,\n",
       "        -8.02050829e-01, -3.99877638e-01,  1.59585640e-01,\n",
       "        -7.18549669e-01, -6.77085161e-01,  1.14789724e+00,\n",
       "         1.25750208e+00,  2.55506150e-02,  4.14602995e-01,\n",
       "        -5.26459098e-01, -6.38084114e-03,  2.76586741e-01],\n",
       "       [-3.23279619e-01,  1.25450504e+00, -3.06550622e-01,\n",
       "         1.06288314e+00, -4.20328230e-01, -4.30543035e-01,\n",
       "        -6.09701984e-02,  1.36905944e+00, -5.38093269e-01,\n",
       "         3.54366302e-01,  2.47527808e-01,  9.13822502e-02,\n",
       "         9.22889337e-02,  5.49350858e-01,  9.88990366e-02,\n",
       "         3.35746050e-01,  2.77401775e-01,  1.05765355e+00,\n",
       "         2.74456739e-01,  1.11172542e-01, -1.04856062e+00,\n",
       "        -9.95022237e-01,  2.08512545e-01,  1.04562737e-01,\n",
       "         7.47242942e-02,  2.09224656e-01, -4.17855352e-01,\n",
       "        -4.50590521e-01,  2.80489594e-01,  2.21846312e-01,\n",
       "        -3.65979820e-01, -9.97818172e-01,  1.18099022e+00,\n",
       "         7.22013593e-01, -7.98722059e-02,  4.22830462e-01,\n",
       "        -5.49566865e-01, -6.38356525e-03,  3.59772056e-01],\n",
       "       [-2.74371862e-01,  1.25867009e+00,  1.28127113e-01,\n",
       "         1.42897630e+00, -3.94311041e-01, -4.19446737e-01,\n",
       "        -4.70870376e-01,  1.02679729e+00, -4.60066259e-01,\n",
       "         6.68433487e-01,  2.67349184e-01,  1.03742823e-01,\n",
       "         1.04827814e-01,  3.91085476e-01,  1.12668917e-01,\n",
       "         2.37197056e-01,  2.99097657e-01,  3.96264970e-01,\n",
       "         3.07007635e-04,  1.25027686e-01, -1.00617492e+00,\n",
       "        -1.02346933e+00,  2.26284161e-01,  1.17742695e-01,\n",
       "         8.63387361e-02,  1.31475508e-01, -3.52108061e-01,\n",
       "        -6.76272810e-01,  1.60014346e-01,  2.57024735e-01,\n",
       "        -6.11371875e-01, -1.01950872e+00,  1.21168959e+00,\n",
       "         9.22209918e-01, -9.96028185e-02,  4.24750745e-01,\n",
       "        -5.50348917e-03, -6.37855986e-03,  4.50283170e-01],\n",
       "       [-2.97058523e-01,  1.49071276e+00, -6.36303946e-02,\n",
       "         1.54841256e+00, -2.97552645e-01, -2.89898545e-01,\n",
       "        -5.17916203e-01,  9.43136990e-01, -3.61433178e-01,\n",
       "         9.97516870e-01,  2.87461758e-01,  1.16268694e-01,\n",
       "         1.18110612e-01,  2.90769875e-01,  1.26335755e-01,\n",
       "         1.05180584e-01,  3.20383996e-01,  4.56106424e-01,\n",
       "         8.03482711e-01,  1.39432356e-01, -8.45742285e-01,\n",
       "        -8.70899081e-01,  2.45000198e-01,  1.31684244e-01,\n",
       "         9.89051089e-02, -8.44224989e-02, -3.05157185e-01,\n",
       "        -4.64560807e-01,  7.40954936e-01,  2.76927680e-01,\n",
       "        -3.70737344e-01, -8.79269958e-01,  1.23699212e+00,\n",
       "         7.45529234e-01, -2.03913718e-01,  3.34965944e-01,\n",
       "        -4.29036498e-01, -6.37782505e-03,  4.58246082e-01],\n",
       "       [-2.68221974e-01,  1.38166130e+00,  2.46954560e-01,\n",
       "         1.62886024e+00, -3.14750135e-01, -2.84190506e-01,\n",
       "        -4.44600672e-01,  7.80460179e-01, -2.10431799e-01,\n",
       "         1.19543862e+00,  3.08365256e-01,  1.29441485e-01,\n",
       "         1.32462949e-01,  6.94467366e-01,  1.41807467e-01,\n",
       "         7.97068030e-02,  3.42251360e-01,  9.29057360e-01,\n",
       "        -3.20970088e-01,  1.54949546e-01, -7.23453403e-01,\n",
       "        -7.31279671e-01,  2.63373882e-01,  1.45295829e-01,\n",
       "         1.12403862e-01, -1.95001408e-01, -1.46433532e-01,\n",
       "        -6.67921782e-01, -2.72559851e-01,  3.35752100e-01,\n",
       "        -7.04843104e-01, -7.33423650e-01,  1.19755459e+00,\n",
       "         9.69396293e-01, -2.71369785e-01,  2.36645758e-01,\n",
       "        -5.73398471e-01, -6.38235081e-03,  4.55933273e-01],\n",
       "       [-2.82987684e-01,  1.22725153e+00, -9.53143835e-02,\n",
       "         1.33391368e+00, -2.07423061e-01, -1.81105182e-01,\n",
       "        -4.13364679e-01,  9.44535673e-01, -8.15175623e-02,\n",
       "         1.39983857e+00,  3.29017162e-01,  1.43402740e-01,\n",
       "         1.47581995e-01,  6.20297492e-01,  1.58396095e-01,\n",
       "         2.08839715e-01,  3.62854809e-01,  7.53305912e-01,\n",
       "        -3.45021904e-01,  1.71339259e-01, -5.99233091e-01,\n",
       "        -5.98505616e-01,  2.82136977e-01,  1.59849033e-01,\n",
       "         1.26819104e-01,  3.63247804e-02, -9.14159939e-02,\n",
       "        -5.28540373e-01,  8.72931257e-03,  3.38783830e-01,\n",
       "        -6.20621145e-01, -6.14996791e-01,  1.20192385e+00,\n",
       "         5.25643766e-01, -4.17655647e-01,  4.27994095e-02,\n",
       "        -5.57045937e-01, -6.38399087e-03,  1.12013049e-01],\n",
       "       [-3.25730771e-01,  1.34572113e+00, -4.89821196e-01,\n",
       "         1.29577947e+00, -2.76001245e-01, -2.92242110e-01,\n",
       "        -1.38877660e-01,  1.26906347e+00, -4.03605681e-03,\n",
       "         1.23145390e+00,  3.49637002e-01,  1.58687234e-01,\n",
       "         1.63190678e-01,  4.58370119e-01,  1.75339907e-01,\n",
       "         4.26334769e-01,  3.84649962e-01,  9.94335592e-01,\n",
       "         6.57182157e-01,  1.88252822e-01, -4.20946360e-01,\n",
       "        -4.50003862e-01,  3.02366018e-01,  1.73677415e-01,\n",
       "         1.42248094e-01,  3.68887782e-01, -1.59398057e-02,\n",
       "        -5.14066637e-01,  6.19785786e-01,  3.67594153e-01,\n",
       "        -5.21274924e-01, -4.78556484e-01,  1.18033743e+00,\n",
       "         1.07993495e+00, -4.93138939e-01,  6.54579699e-02,\n",
       "        -3.75121117e-01, -6.36338675e-03,  3.23408961e-01],\n",
       "       [-3.62784654e-01,  1.38979733e+00, -5.01020193e-01,\n",
       "         8.88591886e-01, -3.09891641e-01, -3.70359212e-01,\n",
       "         1.07730895e-01,  1.12591612e+00, -9.70944464e-02,\n",
       "         8.06662858e-01,  3.68954808e-01,  1.74614921e-01,\n",
       "         1.79518923e-01,  6.51520789e-01,  1.92999378e-01,\n",
       "         5.97631693e-01,  4.06177521e-01,  7.28297114e-01,\n",
       "         3.68558228e-01,  2.06274897e-01, -1.84891462e-01,\n",
       "        -1.85937539e-01,  3.22951078e-01,  1.88233420e-01,\n",
       "         1.58595070e-01,  6.26999438e-01,  4.44776267e-02,\n",
       "        -7.37541676e-01,  4.07155871e-01,  3.77239347e-01,\n",
       "        -6.65634274e-01, -1.97173908e-01,  1.13360131e+00,\n",
       "         4.27354395e-01, -3.22804004e-01,  4.50240970e-01,\n",
       "        -6.31873190e-01, -6.29418297e-03,  5.11280060e-01],\n",
       "       [-3.83905828e-01,  1.27297735e+00,  3.23656052e-02,\n",
       "         8.96991670e-01, -4.30630177e-01, -4.45157379e-01,\n",
       "         3.93035412e-02,  8.07188272e-01, -2.09669143e-01,\n",
       "         5.77495731e-02,  3.88786465e-01,  1.90423921e-01,\n",
       "         1.96703181e-01,  3.90354246e-01,  2.11055636e-01,\n",
       "         1.22466780e-01,  4.26906645e-01,  8.28988492e-01,\n",
       "         1.06815135e+00,  2.24873111e-01, -6.37026578e-02,\n",
       "        -6.64741993e-02,  3.43077362e-01,  2.02020705e-01,\n",
       "         1.75582141e-01,  5.78590529e-03,  1.58573061e-01,\n",
       "        -7.01747775e-01,  1.03102887e+00,  4.02894944e-01,\n",
       "        -6.51407838e-01, -7.62541965e-02,  1.05909610e+00,\n",
       "         5.64731061e-01, -2.62450993e-01,  8.30196679e-01,\n",
       "        -9.36035216e-01, -6.12386037e-03,  6.91221654e-01],\n",
       "       [-4.60275203e-01,  1.05677021e+00,  4.11236018e-01,\n",
       "         1.37878275e+00, -3.66225421e-01, -3.61985624e-01,\n",
       "        -3.85495514e-01,  9.44659352e-01, -2.53333807e-01,\n",
       "         9.95415151e-02,  4.08617675e-01,  2.07030028e-01,\n",
       "         2.14977011e-01,  5.21184921e-01,  2.28441089e-01,\n",
       "         2.06439197e-01,  4.47853148e-01,  1.24779761e+00,\n",
       "         9.18224692e-01,  2.44086906e-01, -4.67374958e-02,\n",
       "        -4.14118357e-02,  3.63599807e-01,  2.15800717e-01,\n",
       "         1.92853197e-01,  5.83736226e-02,  2.06150696e-01,\n",
       "        -5.59197903e-01,  7.95585334e-01,  4.15221035e-01,\n",
       "        -5.66129446e-01, -5.45407757e-02,  1.00909436e+00,\n",
       "         6.14221275e-01, -2.99843311e-01,  1.01719534e+00,\n",
       "        -5.56449056e-01, -5.77771617e-03,  3.16588372e-01],\n",
       "       [-4.69666302e-01,  1.33754683e+00,  7.89817609e-03,\n",
       "         1.55579758e+00, -2.15754524e-01, -2.23017886e-01,\n",
       "        -4.85695362e-01,  7.59574771e-01, -2.29831859e-01,\n",
       "         5.24536073e-01,  4.27751124e-01,  2.24195406e-01,\n",
       "         2.33939901e-01,  1.03274572e+00,  2.44854167e-01,\n",
       "         2.64095098e-01,  4.68116820e-01,  7.19568193e-01,\n",
       "        -3.01411361e-01,  2.63485342e-01, -3.09208483e-02,\n",
       "        -1.71046723e-02,  3.83558869e-01,  2.30434999e-01,\n",
       "         2.11223364e-01,  8.56577903e-02,  2.73823947e-01,\n",
       "        -6.62687123e-01,  2.90245324e-01,  4.32980478e-01,\n",
       "        -6.80436611e-01, -3.45198140e-02,  9.45642591e-01,\n",
       "         8.52613568e-01, -4.75781351e-01,  9.27956760e-01,\n",
       "        -5.33950329e-01, -5.13220206e-03,  6.79614186e-01],\n",
       "       [-4.57109660e-01,  1.32916403e+00,  1.18439756e-02,\n",
       "         1.69791496e+00,  3.06357872e-02, -1.97581481e-02,\n",
       "        -6.03615403e-01,  4.91705209e-01, -9.58351791e-02,\n",
       "         8.80035341e-01,  4.46867645e-01,  2.41894737e-01,\n",
       "         2.53775030e-01,  6.93680465e-01,  2.61447787e-01,\n",
       "         2.72176594e-01,  4.89327729e-01,  6.75406277e-01,\n",
       "        -2.02096075e-01,  2.83567160e-01, -6.23060996e-03,\n",
       "         1.31281726e-02,  4.03382987e-01,  2.45183498e-01,\n",
       "         2.29825675e-01,  1.45474985e-01,  3.48955840e-01,\n",
       "        -5.23411930e-01,  9.41934660e-02,  4.42307055e-01,\n",
       "        -5.08598328e-01, -7.34579237e-03,  9.03328180e-01,\n",
       "         5.66556156e-01, -6.25141203e-01,  7.00676143e-01,\n",
       "        -7.22365022e-01, -4.10398422e-03,  9.09229279e-01],\n",
       "       [-4.50985938e-01,  1.37762105e+00,  3.06318551e-01,\n",
       "         1.60115564e+00,  6.07374422e-02,  3.31768580e-02,\n",
       "        -5.17121613e-01,  1.11898565e+00,  8.90119299e-02,\n",
       "         1.12538719e+00,  4.66163248e-01,  2.60744721e-01,\n",
       "         2.74134308e-01,  8.27966750e-01,  2.77422547e-01,\n",
       "         8.23087633e-01,  5.09715796e-01,  1.33330643e+00,\n",
       "         4.02758002e-01,  3.03646237e-01,  6.64827228e-03,\n",
       "         3.30277421e-02,  4.23326105e-01,  2.60127068e-01,\n",
       "         2.48963580e-01,  8.16265404e-01,  4.55871522e-01,\n",
       "        -4.54590410e-01,  4.41672325e-01,  4.56566036e-01,\n",
       "        -4.79852498e-01,  7.96059426e-03,  8.36567104e-01,\n",
       "         5.53293705e-01, -6.44416571e-01,  6.59331441e-01,\n",
       "        -1.07641137e+00, -2.63043330e-03,  5.56931436e-01],\n",
       "       [-4.07220870e-01,  1.35998690e+00, -4.43127677e-02,\n",
       "         1.42503583e+00,  2.65542030e-01,  2.33565524e-01,\n",
       "        -2.86271036e-01,  1.17362761e+00,  2.50445634e-01,\n",
       "         1.32824707e+00,  4.86309201e-01,  2.79671967e-01,\n",
       "         2.94877738e-01,  7.11842597e-01,  2.92919338e-01,\n",
       "         8.73654127e-01,  5.30313790e-01,  1.13967919e+00,\n",
       "        -3.09138805e-01,  3.24092746e-01,  6.03719288e-03,\n",
       "         4.37932089e-02,  4.42777961e-01,  2.75289208e-01,\n",
       "         2.68652439e-01,  7.96031296e-01,  4.86686736e-01,\n",
       "        -5.52397430e-01,  1.67462662e-01,  4.64941412e-01,\n",
       "        -7.13865161e-01,  1.21441633e-02,  8.08802664e-01,\n",
       "         9.79254246e-01, -5.17477691e-01,  9.07029033e-01,\n",
       "        -9.68122065e-01, -7.03251630e-04, -2.08162237e-04],\n",
       "       [-4.08861756e-01,  1.07193649e+00, -8.37443247e-02,\n",
       "         8.81853044e-01,  1.75949231e-01,  1.90249518e-01,\n",
       "        -1.69283468e-02,  7.25560069e-01,  3.15298706e-01,\n",
       "         1.28693068e+00,  5.05872309e-01,  2.99046963e-01,\n",
       "         3.15174907e-01,  7.83852875e-01,  3.09163630e-01,\n",
       "         5.25801599e-01,  5.50392866e-01,  1.19406402e+00,\n",
       "         5.53993762e-01,  3.44787478e-01,  7.73895811e-03,\n",
       "         5.50756827e-02,  4.62309152e-01,  2.91361123e-01,\n",
       "         2.88758576e-01,  3.88522208e-01,  5.92462182e-01,\n",
       "        -7.73847044e-01,  5.46947837e-01,  4.73776996e-01,\n",
       "        -9.24976110e-01,  1.77594889e-02,  7.79692531e-01,\n",
       "         8.01665068e-01, -3.61584991e-01,  1.21365881e+00,\n",
       "        -7.76305258e-01,  1.93477469e-03, -1.90591648e-01],\n",
       "       [-3.84888053e-01,  1.02949977e+00,  4.69774127e-01,\n",
       "         2.94418931e-01, -3.94133851e-03, -4.71057855e-02,\n",
       "         6.05400205e-01,  4.39184010e-01,  2.67374426e-01,\n",
       "         9.04865444e-01,  5.25612473e-01,  3.18728298e-01,\n",
       "         3.35233420e-01,  7.55614460e-01,  3.25066417e-01,\n",
       "         4.64298129e-01,  5.70062160e-01,  1.47326016e+00,\n",
       "         1.98195413e-01,  3.65255415e-01,  8.12079012e-03,\n",
       "         7.04975277e-02,  4.81758326e-01,  3.07311118e-01,\n",
       "         3.08660686e-01,  3.43834937e-01,  6.77964687e-01,\n",
       "        -6.55258536e-01,  3.40860575e-01,  4.86391008e-01,\n",
       "        -7.14623988e-01,  2.56767552e-02,  7.54586279e-01,\n",
       "         1.15881646e+00, -4.11943883e-01,  1.31800461e+00,\n",
       "        -8.36654425e-01,  5.33918198e-03, -2.62638517e-02],\n",
       "       [-3.38152379e-01,  1.28352308e+00,  5.67133278e-02,\n",
       "         3.20944667e-01, -1.81261018e-01, -2.17871234e-01,\n",
       "         1.20393038e+00,  4.04654890e-01,  2.06026345e-01,\n",
       "         6.13963842e-01,  5.45505583e-01,  3.38299304e-01,\n",
       "         3.54809046e-01,  1.10972631e+00,  3.41954976e-01,\n",
       "         3.98788661e-01,  5.90278685e-01,  1.16672719e+00,\n",
       "        -3.63675714e-01,  3.85901511e-01,  8.84725340e-03,\n",
       "         8.42087120e-02,  5.02022386e-01,  3.23726028e-01,\n",
       "         3.28956753e-01,  3.10767293e-01,  7.05382884e-01,\n",
       "        -8.02211463e-01,  2.07750693e-01,  4.92266387e-01,\n",
       "        -8.53449762e-01,  3.21321525e-02,  7.59895027e-01,\n",
       "         6.78238988e-01, -5.33144355e-01,  1.24837887e+00,\n",
       "        -9.57829595e-01,  9.52398404e-03, -3.17582905e-01],\n",
       "       [-2.70249069e-01,  1.11081576e+00,  7.23035410e-02,\n",
       "         3.88915479e-01, -2.67558753e-01, -2.69322038e-01,\n",
       "         8.65857780e-01, -1.42640071e-02,  1.09334014e-01,\n",
       "         1.96821257e-01,  5.65617502e-01,  3.58836353e-01,\n",
       "         3.74589115e-01,  8.90047848e-01,  3.58712882e-01,\n",
       "         7.54620790e-01,  6.10178053e-01,  1.51009130e+00,\n",
       "         1.16439438e+00,  4.06851649e-01,  8.14494770e-03,\n",
       "         1.01829275e-01,  5.21887779e-01,  3.40436369e-01,\n",
       "         3.49822313e-01,  7.43802309e-01,  7.97479570e-01,\n",
       "        -6.22367084e-01,  1.05145144e+00,  5.04075587e-01,\n",
       "        -6.78004861e-01,  4.13745716e-02,  7.51271427e-01,\n",
       "         1.00168705e+00, -7.12226927e-01,  1.04503655e+00,\n",
       "        -7.68442154e-01,  1.46423196e-02, -4.42636490e-01]])"
      ]
     },
     "execution_count": 20,
     "metadata": {},
     "output_type": "execute_result"
    }
   ],
   "source": [
    "shp_clf.shapelets_[0]"
   ]
  },
  {
   "attachments": {},
   "cell_type": "markdown",
   "metadata": {},
   "source": [
    "Für des erste Shapelet"
   ]
  },
  {
   "cell_type": "code",
   "execution_count": 132,
   "metadata": {},
   "outputs": [
    {
     "data": {
      "text/plain": [
       "(174, 72, 39)"
      ]
     },
     "execution_count": 132,
     "metadata": {},
     "output_type": "execute_result"
    }
   ],
   "source": [
    "scaler._X_fit_dims"
   ]
  },
  {
   "cell_type": "code",
   "execution_count": 24,
   "metadata": {},
   "outputs": [],
   "source": [
    "#list in range from 1 to 7\n",
    "list1 = []\n",
    "for i in range(1,24):\n",
    "    list1.append(i)"
   ]
  },
  {
   "cell_type": "code",
   "execution_count": 12,
   "metadata": {},
   "outputs": [
    {
     "data": {
      "text/plain": [
       "[1, 2, 3, 4, 5, 6, 7]"
      ]
     },
     "execution_count": 12,
     "metadata": {},
     "output_type": "execute_result"
    }
   ],
   "source": [
    "list1"
   ]
  },
  {
   "cell_type": "code",
   "execution_count": 225,
   "metadata": {},
   "outputs": [],
   "source": [
    "scaler2 = TimeSeriesScalerMinMax()"
   ]
  },
  {
   "cell_type": "code",
   "execution_count": 23,
   "metadata": {},
   "outputs": [
    {
     "data": {
      "text/plain": [
       "(10, 23, 39)"
      ]
     },
     "execution_count": 23,
     "metadata": {},
     "output_type": "execute_result"
    }
   ],
   "source": [
    "shp_clf.shapelets_as_time_series_.shape"
   ]
  },
  {
   "cell_type": "code",
   "execution_count": 34,
   "metadata": {},
   "outputs": [
    {
     "data": {
      "text/plain": [
       "7"
      ]
     },
     "execution_count": 34,
     "metadata": {},
     "output_type": "execute_result"
    }
   ],
   "source": [
    "int(y_train1[0:1])"
   ]
  },
  {
   "cell_type": "code",
   "execution_count": 25,
   "metadata": {},
   "outputs": [
    {
     "data": {
      "image/png": "[encoded data removed]",
      "text/plain": [
       "<Figure size 432x288 with 7 Axes>"
      ]
     },
     "metadata": {
      "needs_background": "light"
     },
     "output_type": "display_data"
    }
   ],
   "source": [
    "#make subplots\n",
    "f, ax = plt.subplots(7, 1, sharey=\"col\")\n",
    "#loop through the shapelets\n",
    "for i in range(0,7):\n",
    "    #loop through the classes\n",
    "    ax[i].plot(list1,shp_clf.shapelets_as_time_series_[0][:,i])\n",
    "    for j in range(0,7):\n",
    "        #get the index of the shapelet\n",
    "        index = np.where(y_train1 == list1[j])\n",
    "        #get the shapelet\n",
    "        shapelet = shp_clf.shapelets_as_time_series_[i]\n",
    "        #plot the shapelet\n",
    "        ax[i].plot(list1, X_train[j][shp_clf.locate(X_train)[j][0]:shp_clf.locate(X_train)[j][0]+23][:,i])\n",
    "        ax[i].set_title(\"Shapelet \" + str(i+1))\n",
    "        ax[i].set_ylabel(\"Value\")\n",
    "        ax[i].set_xlabel(\"Time\")\n",
    "        ax[i].set_xlim(0,10)\n",
    "        ax[i].set_ylim(-0.1,1.1)\n",
    "        ax[i].grid(True)\n",
    "\n",
    "plt.show()\n"
   ]
  },
  {
   "cell_type": "code",
   "execution_count": 45,
   "metadata": {},
   "outputs": [
    {
     "data": {
      "image/png": "[encoded data removed]",
      "text/plain": [
       "<Figure size 432x288 with 1 Axes>"
      ]
     },
     "metadata": {
      "needs_background": "light"
     },
     "output_type": "display_data"
    }
   ],
   "source": [
    "\n",
    "plt.plot(list1,shp_clf.shapelets_as_time_series_[0][:,2])\n",
    "for i in range(0,10):\n",
    "    plt.plot(list1, X_train[i][shp_clf.locate(X_train)[i][0]:shp_clf.locate(X_train)[i][0]+23][:,2],\n",
    ")\n"
   ]
  },
  {
   "cell_type": "code",
   "execution_count": 43,
   "metadata": {},
   "outputs": [
    {
     "ename": "ValueError",
     "evalue": "1 is not a valid value for color",
     "output_type": "error",
     "traceback": [
      "\u001b[1;31m---------------------------------------------------------------------------\u001b[0m",
      "\u001b[1;31mValueError\u001b[0m                                Traceback (most recent call last)",
      "\u001b[1;32md:\\Users\\paulh\\Desktop\\4.semester\\Analyse_von_Prozessdaten\\Paul\\Learning_Shapelets.ipynb Cell 33\u001b[0m in \u001b[0;36m<cell line: 1>\u001b[1;34m()\u001b[0m\n\u001b[1;32m----> <a href='vscode-notebook-cell:/d%3A/Users/paulh/Desktop/4.semester/Analyse_von_Prozessdaten/Paul/Learning_Shapelets.ipynb#Y156sZmlsZQ%3D%3D?line=0'>1</a>\u001b[0m plt\u001b[39m.\u001b[39;49mplot(list1,shp_clf\u001b[39m.\u001b[39;49mshapelets_as_time_series_[\u001b[39m0\u001b[39;49m][:,\u001b[39m2\u001b[39;49m],color\u001b[39m=\u001b[39;49m\u001b[39m1\u001b[39;49m)\n",
      "File \u001b[1;32m~\\AppData\\Local\\Packages\\PythonSoftwareFoundation.Python.3.10_qbz5n2kfra8p0\\LocalCache\\local-packages\\Python310\\site-packages\\matplotlib\\pyplot.py:2769\u001b[0m, in \u001b[0;36mplot\u001b[1;34m(scalex, scaley, data, *args, **kwargs)\u001b[0m\n\u001b[0;32m   2767\u001b[0m \u001b[39m@_copy_docstring_and_deprecators\u001b[39m(Axes\u001b[39m.\u001b[39mplot)\n\u001b[0;32m   2768\u001b[0m \u001b[39mdef\u001b[39;00m \u001b[39mplot\u001b[39m(\u001b[39m*\u001b[39margs, scalex\u001b[39m=\u001b[39m\u001b[39mTrue\u001b[39;00m, scaley\u001b[39m=\u001b[39m\u001b[39mTrue\u001b[39;00m, data\u001b[39m=\u001b[39m\u001b[39mNone\u001b[39;00m, \u001b[39m*\u001b[39m\u001b[39m*\u001b[39mkwargs):\n\u001b[1;32m-> 2769\u001b[0m     \u001b[39mreturn\u001b[39;00m gca()\u001b[39m.\u001b[39mplot(\n\u001b[0;32m   2770\u001b[0m         \u001b[39m*\u001b[39margs, scalex\u001b[39m=\u001b[39mscalex, scaley\u001b[39m=\u001b[39mscaley,\n\u001b[0;32m   2771\u001b[0m         \u001b[39m*\u001b[39m\u001b[39m*\u001b[39m({\u001b[39m\"\u001b[39m\u001b[39mdata\u001b[39m\u001b[39m\"\u001b[39m: data} \u001b[39mif\u001b[39;00m data \u001b[39mis\u001b[39;00m \u001b[39mnot\u001b[39;00m \u001b[39mNone\u001b[39;00m \u001b[39melse\u001b[39;00m {}), \u001b[39m*\u001b[39m\u001b[39m*\u001b[39mkwargs)\n",
      "File \u001b[1;32m~\\AppData\\Local\\Packages\\PythonSoftwareFoundation.Python.3.10_qbz5n2kfra8p0\\LocalCache\\local-packages\\Python310\\site-packages\\matplotlib\\axes\\_axes.py:1632\u001b[0m, in \u001b[0;36mAxes.plot\u001b[1;34m(self, scalex, scaley, data, *args, **kwargs)\u001b[0m\n\u001b[0;32m   1390\u001b[0m \u001b[39m\"\"\"\u001b[39;00m\n\u001b[0;32m   1391\u001b[0m \u001b[39mPlot y versus x as lines and/or markers.\u001b[39;00m\n\u001b[0;32m   1392\u001b[0m \n\u001b[1;32m   (...)\u001b[0m\n\u001b[0;32m   1629\u001b[0m \u001b[39m(``'green'``) or hex strings (``'#008000'``).\u001b[39;00m\n\u001b[0;32m   1630\u001b[0m \u001b[39m\"\"\"\u001b[39;00m\n\u001b[0;32m   1631\u001b[0m kwargs \u001b[39m=\u001b[39m cbook\u001b[39m.\u001b[39mnormalize_kwargs(kwargs, mlines\u001b[39m.\u001b[39mLine2D)\n\u001b[1;32m-> 1632\u001b[0m lines \u001b[39m=\u001b[39m [\u001b[39m*\u001b[39m\u001b[39mself\u001b[39m\u001b[39m.\u001b[39m_get_lines(\u001b[39m*\u001b[39margs, data\u001b[39m=\u001b[39mdata, \u001b[39m*\u001b[39m\u001b[39m*\u001b[39mkwargs)]\n\u001b[0;32m   1633\u001b[0m \u001b[39mfor\u001b[39;00m line \u001b[39min\u001b[39;00m lines:\n\u001b[0;32m   1634\u001b[0m     \u001b[39mself\u001b[39m\u001b[39m.\u001b[39madd_line(line)\n",
      "File \u001b[1;32m~\\AppData\\Local\\Packages\\PythonSoftwareFoundation.Python.3.10_qbz5n2kfra8p0\\LocalCache\\local-packages\\Python310\\site-packages\\matplotlib\\axes\\_base.py:312\u001b[0m, in \u001b[0;36m_process_plot_var_args.__call__\u001b[1;34m(self, data, *args, **kwargs)\u001b[0m\n\u001b[0;32m    310\u001b[0m     this \u001b[39m+\u001b[39m\u001b[39m=\u001b[39m args[\u001b[39m0\u001b[39m],\n\u001b[0;32m    311\u001b[0m     args \u001b[39m=\u001b[39m args[\u001b[39m1\u001b[39m:]\n\u001b[1;32m--> 312\u001b[0m \u001b[39myield from\u001b[39;00m \u001b[39mself\u001b[39;49m\u001b[39m.\u001b[39;49m_plot_args(this, kwargs)\n",
      "File \u001b[1;32m~\\AppData\\Local\\Packages\\PythonSoftwareFoundation.Python.3.10_qbz5n2kfra8p0\\LocalCache\\local-packages\\Python310\\site-packages\\matplotlib\\axes\\_base.py:538\u001b[0m, in \u001b[0;36m_process_plot_var_args._plot_args\u001b[1;34m(self, tup, kwargs, return_kwargs)\u001b[0m\n\u001b[0;32m    536\u001b[0m     \u001b[39mreturn\u001b[39;00m \u001b[39mlist\u001b[39m(result)\n\u001b[0;32m    537\u001b[0m \u001b[39melse\u001b[39;00m:\n\u001b[1;32m--> 538\u001b[0m     \u001b[39mreturn\u001b[39;00m [l[\u001b[39m0\u001b[39m] \u001b[39mfor\u001b[39;00m l \u001b[39min\u001b[39;00m result]\n",
      "File \u001b[1;32m~\\AppData\\Local\\Packages\\PythonSoftwareFoundation.Python.3.10_qbz5n2kfra8p0\\LocalCache\\local-packages\\Python310\\site-packages\\matplotlib\\axes\\_base.py:538\u001b[0m, in \u001b[0;36m<listcomp>\u001b[1;34m(.0)\u001b[0m\n\u001b[0;32m    536\u001b[0m     \u001b[39mreturn\u001b[39;00m \u001b[39mlist\u001b[39m(result)\n\u001b[0;32m    537\u001b[0m \u001b[39melse\u001b[39;00m:\n\u001b[1;32m--> 538\u001b[0m     \u001b[39mreturn\u001b[39;00m [l[\u001b[39m0\u001b[39m] \u001b[39mfor\u001b[39;00m l \u001b[39min\u001b[39;00m result]\n",
      "File \u001b[1;32m~\\AppData\\Local\\Packages\\PythonSoftwareFoundation.Python.3.10_qbz5n2kfra8p0\\LocalCache\\local-packages\\Python310\\site-packages\\matplotlib\\axes\\_base.py:531\u001b[0m, in \u001b[0;36m<genexpr>\u001b[1;34m(.0)\u001b[0m\n\u001b[0;32m    528\u001b[0m \u001b[39melse\u001b[39;00m:\n\u001b[0;32m    529\u001b[0m     labels \u001b[39m=\u001b[39m [label] \u001b[39m*\u001b[39m n_datasets\n\u001b[1;32m--> 531\u001b[0m result \u001b[39m=\u001b[39m (make_artist(x[:, j \u001b[39m%\u001b[39;49m ncx], y[:, j \u001b[39m%\u001b[39;49m ncy], kw,\n\u001b[0;32m    532\u001b[0m                       {\u001b[39m*\u001b[39;49m\u001b[39m*\u001b[39;49mkwargs, \u001b[39m'\u001b[39;49m\u001b[39mlabel\u001b[39;49m\u001b[39m'\u001b[39;49m: label})\n\u001b[0;32m    533\u001b[0m           \u001b[39mfor\u001b[39;00m j, label \u001b[39min\u001b[39;00m \u001b[39menumerate\u001b[39m(labels))\n\u001b[0;32m    535\u001b[0m \u001b[39mif\u001b[39;00m return_kwargs:\n\u001b[0;32m    536\u001b[0m     \u001b[39mreturn\u001b[39;00m \u001b[39mlist\u001b[39m(result)\n",
      "File \u001b[1;32m~\\AppData\\Local\\Packages\\PythonSoftwareFoundation.Python.3.10_qbz5n2kfra8p0\\LocalCache\\local-packages\\Python310\\site-packages\\matplotlib\\axes\\_base.py:351\u001b[0m, in \u001b[0;36m_process_plot_var_args._makeline\u001b[1;34m(self, x, y, kw, kwargs)\u001b[0m\n\u001b[0;32m    349\u001b[0m default_dict \u001b[39m=\u001b[39m \u001b[39mself\u001b[39m\u001b[39m.\u001b[39m_getdefaults(\u001b[39mset\u001b[39m(), kw)\n\u001b[0;32m    350\u001b[0m \u001b[39mself\u001b[39m\u001b[39m.\u001b[39m_setdefaults(default_dict, kw)\n\u001b[1;32m--> 351\u001b[0m seg \u001b[39m=\u001b[39m mlines\u001b[39m.\u001b[39mLine2D(x, y, \u001b[39m*\u001b[39m\u001b[39m*\u001b[39mkw)\n\u001b[0;32m    352\u001b[0m \u001b[39mreturn\u001b[39;00m seg, kw\n",
      "File \u001b[1;32m~\\AppData\\Local\\Packages\\PythonSoftwareFoundation.Python.3.10_qbz5n2kfra8p0\\LocalCache\\local-packages\\Python310\\site-packages\\matplotlib\\lines.py:370\u001b[0m, in \u001b[0;36mLine2D.__init__\u001b[1;34m(self, xdata, ydata, linewidth, linestyle, color, marker, markersize, markeredgewidth, markeredgecolor, markerfacecolor, markerfacecoloralt, fillstyle, antialiased, dash_capstyle, solid_capstyle, dash_joinstyle, solid_joinstyle, pickradius, drawstyle, markevery, **kwargs)\u001b[0m\n\u001b[0;32m    367\u001b[0m \u001b[39mself\u001b[39m\u001b[39m.\u001b[39mset_drawstyle(drawstyle)\n\u001b[0;32m    369\u001b[0m \u001b[39mself\u001b[39m\u001b[39m.\u001b[39m_color \u001b[39m=\u001b[39m \u001b[39mNone\u001b[39;00m\n\u001b[1;32m--> 370\u001b[0m \u001b[39mself\u001b[39;49m\u001b[39m.\u001b[39;49mset_color(color)\n\u001b[0;32m    371\u001b[0m \u001b[39mself\u001b[39m\u001b[39m.\u001b[39m_marker \u001b[39m=\u001b[39m MarkerStyle(marker, fillstyle)\n\u001b[0;32m    373\u001b[0m \u001b[39mself\u001b[39m\u001b[39m.\u001b[39m_markevery \u001b[39m=\u001b[39m \u001b[39mNone\u001b[39;00m\n",
      "File \u001b[1;32m~\\AppData\\Local\\Packages\\PythonSoftwareFoundation.Python.3.10_qbz5n2kfra8p0\\LocalCache\\local-packages\\Python310\\site-packages\\matplotlib\\lines.py:1030\u001b[0m, in \u001b[0;36mLine2D.set_color\u001b[1;34m(self, color)\u001b[0m\n\u001b[0;32m   1022\u001b[0m \u001b[39mdef\u001b[39;00m \u001b[39mset_color\u001b[39m(\u001b[39mself\u001b[39m, color):\n\u001b[0;32m   1023\u001b[0m     \u001b[39m\"\"\"\u001b[39;00m\n\u001b[0;32m   1024\u001b[0m \u001b[39m    Set the color of the line.\u001b[39;00m\n\u001b[0;32m   1025\u001b[0m \n\u001b[1;32m   (...)\u001b[0m\n\u001b[0;32m   1028\u001b[0m \u001b[39m    color : color\u001b[39;00m\n\u001b[0;32m   1029\u001b[0m \u001b[39m    \"\"\"\u001b[39;00m\n\u001b[1;32m-> 1030\u001b[0m     mcolors\u001b[39m.\u001b[39;49m_check_color_like(color\u001b[39m=\u001b[39;49mcolor)\n\u001b[0;32m   1031\u001b[0m     \u001b[39mself\u001b[39m\u001b[39m.\u001b[39m_color \u001b[39m=\u001b[39m color\n\u001b[0;32m   1032\u001b[0m     \u001b[39mself\u001b[39m\u001b[39m.\u001b[39mstale \u001b[39m=\u001b[39m \u001b[39mTrue\u001b[39;00m\n",
      "File \u001b[1;32m~\\AppData\\Local\\Packages\\PythonSoftwareFoundation.Python.3.10_qbz5n2kfra8p0\\LocalCache\\local-packages\\Python310\\site-packages\\matplotlib\\colors.py:130\u001b[0m, in \u001b[0;36m_check_color_like\u001b[1;34m(**kwargs)\u001b[0m\n\u001b[0;32m    128\u001b[0m \u001b[39mfor\u001b[39;00m k, v \u001b[39min\u001b[39;00m kwargs\u001b[39m.\u001b[39mitems():\n\u001b[0;32m    129\u001b[0m     \u001b[39mif\u001b[39;00m \u001b[39mnot\u001b[39;00m is_color_like(v):\n\u001b[1;32m--> 130\u001b[0m         \u001b[39mraise\u001b[39;00m \u001b[39mValueError\u001b[39;00m(\u001b[39mf\u001b[39m\u001b[39m\"\u001b[39m\u001b[39m{\u001b[39;00mv\u001b[39m!r}\u001b[39;00m\u001b[39m is not a valid value for \u001b[39m\u001b[39m{\u001b[39;00mk\u001b[39m}\u001b[39;00m\u001b[39m\"\u001b[39m)\n",
      "\u001b[1;31mValueError\u001b[0m: 1 is not a valid value for color"
     ]
    },
    {
     "data": {
      "image/png": "[encoded data removed]",
      "text/plain": [
       "<Figure size 432x288 with 1 Axes>"
      ]
     },
     "metadata": {
      "needs_background": "light"
     },
     "output_type": "display_data"
    }
   ],
   "source": [
    "plt.plot(list1,shp_clf.shapelets_as_time_series_[0][:,2],color=1)"
   ]
  },
  {
   "cell_type": "code",
   "execution_count": 38,
   "metadata": {},
   "outputs": [],
   "source": [
    "from plotly.subplots import make_subplots\n",
    "import plotly.graph_objects as go\n",
    "\n",
    "fig = make_subplots(rows=1, cols=2)"
   ]
  },
  {
   "cell_type": "code",
   "execution_count": 53,
   "metadata": {},
   "outputs": [
    {
     "data": {
      "text/plain": [
       "array([ 0,  2,  0, 32, 64,  4, 19, 45, 34, 24])"
      ]
     },
     "execution_count": 53,
     "metadata": {},
     "output_type": "execute_result"
    }
   ],
   "source": [
    "shp_clf.locate(X_train)[0]"
   ]
  },
  {
   "cell_type": "code",
   "execution_count": 48,
   "metadata": {},
   "outputs": [
    {
     "data": {
      "text/plain": [
       "array([[0.00882749, 0.33333333, 0.68484009, ..., 0.5       , 0.        ,\n",
       "        0.42070467],\n",
       "       [0.00529455, 0.33333333, 0.5591485 , ..., 0.5       , 0.        ,\n",
       "        0.19577232],\n",
       "       [0.00244039, 0.33333333, 0.93992006, ..., 0.5       , 0.        ,\n",
       "        0.        ],\n",
       "       ...,\n",
       "       [0.99108726, 0.66666667, 0.81422867, ..., 1.        , 0.        ,\n",
       "        0.4609462 ],\n",
       "       [1.        , 0.33333333, 0.75138935, ..., 0.5       , 0.        ,\n",
       "        0.5262546 ],\n",
       "       [0.99389208, 0.33333333, 0.81607688, ..., 0.5       , 0.        ,\n",
       "        0.68865435]])"
      ]
     },
     "execution_count": 48,
     "metadata": {},
     "output_type": "execute_result"
    }
   ],
   "source": [
    "X_train[i]"
   ]
  },
  {
   "cell_type": "code",
   "execution_count": 46,
   "metadata": {},
   "outputs": [
    {
     "data": {
      "text/plain": [
       "array([0.44362763, 0.21349113, 0.26340361, 0.74029225, 0.81422695,\n",
       "       0.30960861, 0.3262494 ])"
      ]
     },
     "execution_count": 46,
     "metadata": {},
     "output_type": "execute_result"
    }
   ],
   "source": [
    "X_train[i][shp_clf.locate(X_train)[i][0]:shp_clf.locate(X_train)[i][0]+7][:,2]"
   ]
  },
  {
   "cell_type": "code",
   "execution_count": 55,
   "metadata": {},
   "outputs": [
    {
     "data": {
      "application/vnd.plotly.v1+json": {
       "config": {
        "plotlyServerURL": "https://plot.ly"
       },
       "data": [
        {
         "mode": "lines",
         "name": "Deviation1",
         "type": "scatter",
         "x": [
          1,
          2,
          3,
          4,
          5,
          6,
          7
         ],
         "y": [
          -0.0015830654883757234,
          -0.34262213110923767,
          0.1753433346748352,
          -0.37926673889160156,
          0.07463625073432922,
          -0.11331362277269363,
          -0.19307342171669006
         ]
        },
        {
         "mode": "lines",
         "name": "Time Series 7",
         "type": "scatter",
         "x": [
          1,
          2,
          3,
          4,
          5,
          6,
          7
         ],
         "y": [
          0.2041181337537611,
          0,
          0.04741706648272901,
          0.17319008195662833,
          0.1515458610542891,
          0.6525775393983064,
          0.47113466779022994
         ]
        },
        {
         "mode": "lines",
         "name": "Time Series 8",
         "type": "scatter",
         "x": [
          1,
          2,
          3,
          4,
          5,
          6,
          7
         ],
         "y": [
          0.2499948501390482,
          0.20000000000000215,
          0.2499948501390482,
          0.34999485013904535,
          0.29999999999999816,
          0.3999999999999953,
          0.29999999999999816
         ]
        },
        {
         "mode": "lines",
         "name": "Time Series 9",
         "type": "scatter",
         "x": [
          1,
          2,
          3,
          4,
          5,
          6,
          7
         ],
         "y": [
          0.14694771880419505,
          0.08780439234238442,
          0.08133559101062413,
          0.12754131480891417,
          0.14694771880419505,
          0.28003391085094276,
          0.32901978374122126
         ]
        },
        {
         "mode": "lines",
         "name": "Time Series 9",
         "type": "scatter",
         "x": [
          1,
          2,
          3,
          4,
          5,
          6,
          7
         ],
         "y": [
          1,
          0.8392224896916635,
          0.3987056810432693,
          0.20539713085739533,
          0.27417036505813625,
          0.3968442647587549,
          0.458179300162617
         ]
        },
        {
         "mode": "lines",
         "name": "Time Series 3",
         "type": "scatter",
         "x": [
          1,
          2,
          3,
          4,
          5,
          6,
          7
         ],
         "y": [
          0.619049487468737,
          0.7619010250625351,
          0.19047525626563663,
          0.4285742312031015,
          0.619049487468737,
          0.238098974937466,
          0.047623718671838504
         ]
        },
        {
         "mode": "lines",
         "name": "Time Series 4",
         "type": "scatter",
         "x": [
          1,
          2,
          3,
          4,
          5,
          6,
          7
         ],
         "y": [
          0.5,
          0.46666346233074485,
          0.4333337910956107,
          0.6666620890439199,
          0.7333351643824357,
          0.33333104452195994,
          0.39999725342635
         ]
        },
        {
         "mode": "lines",
         "name": "Time Series 5",
         "type": "scatter",
         "x": [
          1,
          2,
          3,
          4,
          5,
          6,
          7
         ],
         "y": [
          0.2935635792778646,
          0.1679748822605945,
          0.4968566445252283,
          0.6020350762931268,
          0.40109316106549947,
          0.2943447088938044,
          0.39795780929927643
         ]
        },
        {
         "mode": "lines",
         "name": "Time Series 9",
         "type": "scatter",
         "x": [
          1,
          2,
          3,
          4,
          5,
          6,
          7
         ],
         "y": [
          0.6552176911996759,
          0.8981514503015754,
          0.3901805480818318,
          0.37545725931788093,
          0.1656516581898032,
          0.6441742136201369,
          0.555824118219018
         ]
        },
        {
         "mode": "lines",
         "name": "Time Series 10",
         "type": "scatter",
         "x": [
          1,
          2,
          3,
          4,
          5,
          6,
          7
         ],
         "y": [
          0.17024929081859858,
          0.1976462473752151,
          0.13306770692033323,
          0.14089964150915876,
          0.3542145954511663,
          0.46967319808262303,
          0.3111565915272301
         ]
        },
        {
         "mode": "lines",
         "name": "Time Series 1",
         "type": "scatter",
         "x": [
          1,
          2,
          3,
          4,
          5,
          6,
          7
         ],
         "y": [
          0.4436276268958368,
          0.21349113349776266,
          0.26340360599965923,
          0.7402922533166694,
          0.8142269546618048,
          0.3096086059663395,
          0.3262493967313551
         ]
        }
       ],
       "layout": {
        "template": {
         "data": {
          "bar": [
           {
            "error_x": {
             "color": "#2a3f5f"
            },
            "error_y": {
             "color": "#2a3f5f"
            },
            "marker": {
             "line": {
              "color": "#E5ECF6",
              "width": 0.5
             },
             "pattern": {
              "fillmode": "overlay",
              "size": 10,
              "solidity": 0.2
             }
            },
            "type": "bar"
           }
          ],
          "barpolar": [
           {
            "marker": {
             "line": {
              "color": "#E5ECF6",
              "width": 0.5
             },
             "pattern": {
              "fillmode": "overlay",
              "size": 10,
              "solidity": 0.2
             }
            },
            "type": "barpolar"
           }
          ],
          "carpet": [
           {
            "aaxis": {
             "endlinecolor": "#2a3f5f",
             "gridcolor": "white",
             "linecolor": "white",
             "minorgridcolor": "white",
             "startlinecolor": "#2a3f5f"
            },
            "baxis": {
             "endlinecolor": "#2a3f5f",
             "gridcolor": "white",
             "linecolor": "white",
             "minorgridcolor": "white",
             "startlinecolor": "#2a3f5f"
            },
            "type": "carpet"
           }
          ],
          "choropleth": [
           {
            "colorbar": {
             "outlinewidth": 0,
             "ticks": ""
            },
            "type": "choropleth"
           }
          ],
          "contour": [
           {
            "colorbar": {
             "outlinewidth": 0,
             "ticks": ""
            },
            "colorscale": [
             [
              0,
              "#0d0887"
             ],
             [
              0.1111111111111111,
              "#46039f"
             ],
             [
              0.2222222222222222,
              "#7201a8"
             ],
             [
              0.3333333333333333,
              "#9c179e"
             ],
             [
              0.4444444444444444,
              "#bd3786"
             ],
             [
              0.5555555555555556,
              "#d8576b"
             ],
             [
              0.6666666666666666,
              "#ed7953"
             ],
             [
              0.7777777777777778,
              "#fb9f3a"
             ],
             [
              0.8888888888888888,
              "#fdca26"
             ],
             [
              1,
              "#f0f921"
             ]
            ],
            "type": "contour"
           }
          ],
          "contourcarpet": [
           {
            "colorbar": {
             "outlinewidth": 0,
             "ticks": ""
            },
            "type": "contourcarpet"
           }
          ],
          "heatmap": [
           {
            "colorbar": {
             "outlinewidth": 0,
             "ticks": ""
            },
            "colorscale": [
             [
              0,
              "#0d0887"
             ],
             [
              0.1111111111111111,
              "#46039f"
             ],
             [
              0.2222222222222222,
              "#7201a8"
             ],
             [
              0.3333333333333333,
              "#9c179e"
             ],
             [
              0.4444444444444444,
              "#bd3786"
             ],
             [
              0.5555555555555556,
              "#d8576b"
             ],
             [
              0.6666666666666666,
              "#ed7953"
             ],
             [
              0.7777777777777778,
              "#fb9f3a"
             ],
             [
              0.8888888888888888,
              "#fdca26"
             ],
             [
              1,
              "#f0f921"
             ]
            ],
            "type": "heatmap"
           }
          ],
          "heatmapgl": [
           {
            "colorbar": {
             "outlinewidth": 0,
             "ticks": ""
            },
            "colorscale": [
             [
              0,
              "#0d0887"
             ],
             [
              0.1111111111111111,
              "#46039f"
             ],
             [
              0.2222222222222222,
              "#7201a8"
             ],
             [
              0.3333333333333333,
              "#9c179e"
             ],
             [
              0.4444444444444444,
              "#bd3786"
             ],
             [
              0.5555555555555556,
              "#d8576b"
             ],
             [
              0.6666666666666666,
              "#ed7953"
             ],
             [
              0.7777777777777778,
              "#fb9f3a"
             ],
             [
              0.8888888888888888,
              "#fdca26"
             ],
             [
              1,
              "#f0f921"
             ]
            ],
            "type": "heatmapgl"
           }
          ],
          "histogram": [
           {
            "marker": {
             "pattern": {
              "fillmode": "overlay",
              "size": 10,
              "solidity": 0.2
             }
            },
            "type": "histogram"
           }
          ],
          "histogram2d": [
           {
            "colorbar": {
             "outlinewidth": 0,
             "ticks": ""
            },
            "colorscale": [
             [
              0,
              "#0d0887"
             ],
             [
              0.1111111111111111,
              "#46039f"
             ],
             [
              0.2222222222222222,
              "#7201a8"
             ],
             [
              0.3333333333333333,
              "#9c179e"
             ],
             [
              0.4444444444444444,
              "#bd3786"
             ],
             [
              0.5555555555555556,
              "#d8576b"
             ],
             [
              0.6666666666666666,
              "#ed7953"
             ],
             [
              0.7777777777777778,
              "#fb9f3a"
             ],
             [
              0.8888888888888888,
              "#fdca26"
             ],
             [
              1,
              "#f0f921"
             ]
            ],
            "type": "histogram2d"
           }
          ],
          "histogram2dcontour": [
           {
            "colorbar": {
             "outlinewidth": 0,
             "ticks": ""
            },
            "colorscale": [
             [
              0,
              "#0d0887"
             ],
             [
              0.1111111111111111,
              "#46039f"
             ],
             [
              0.2222222222222222,
              "#7201a8"
             ],
             [
              0.3333333333333333,
              "#9c179e"
             ],
             [
              0.4444444444444444,
              "#bd3786"
             ],
             [
              0.5555555555555556,
              "#d8576b"
             ],
             [
              0.6666666666666666,
              "#ed7953"
             ],
             [
              0.7777777777777778,
              "#fb9f3a"
             ],
             [
              0.8888888888888888,
              "#fdca26"
             ],
             [
              1,
              "#f0f921"
             ]
            ],
            "type": "histogram2dcontour"
           }
          ],
          "mesh3d": [
           {
            "colorbar": {
             "outlinewidth": 0,
             "ticks": ""
            },
            "type": "mesh3d"
           }
          ],
          "parcoords": [
           {
            "line": {
             "colorbar": {
              "outlinewidth": 0,
              "ticks": ""
             }
            },
            "type": "parcoords"
           }
          ],
          "pie": [
           {
            "automargin": true,
            "type": "pie"
           }
          ],
          "scatter": [
           {
            "fillpattern": {
             "fillmode": "overlay",
             "size": 10,
             "solidity": 0.2
            },
            "type": "scatter"
           }
          ],
          "scatter3d": [
           {
            "line": {
             "colorbar": {
              "outlinewidth": 0,
              "ticks": ""
             }
            },
            "marker": {
             "colorbar": {
              "outlinewidth": 0,
              "ticks": ""
             }
            },
            "type": "scatter3d"
           }
          ],
          "scattercarpet": [
           {
            "marker": {
             "colorbar": {
              "outlinewidth": 0,
              "ticks": ""
             }
            },
            "type": "scattercarpet"
           }
          ],
          "scattergeo": [
           {
            "marker": {
             "colorbar": {
              "outlinewidth": 0,
              "ticks": ""
             }
            },
            "type": "scattergeo"
           }
          ],
          "scattergl": [
           {
            "marker": {
             "colorbar": {
              "outlinewidth": 0,
              "ticks": ""
             }
            },
            "type": "scattergl"
           }
          ],
          "scattermapbox": [
           {
            "marker": {
             "colorbar": {
              "outlinewidth": 0,
              "ticks": ""
             }
            },
            "type": "scattermapbox"
           }
          ],
          "scatterpolar": [
           {
            "marker": {
             "colorbar": {
              "outlinewidth": 0,
              "ticks": ""
             }
            },
            "type": "scatterpolar"
           }
          ],
          "scatterpolargl": [
           {
            "marker": {
             "colorbar": {
              "outlinewidth": 0,
              "ticks": ""
             }
            },
            "type": "scatterpolargl"
           }
          ],
          "scatterternary": [
           {
            "marker": {
             "colorbar": {
              "outlinewidth": 0,
              "ticks": ""
             }
            },
            "type": "scatterternary"
           }
          ],
          "surface": [
           {
            "colorbar": {
             "outlinewidth": 0,
             "ticks": ""
            },
            "colorscale": [
             [
              0,
              "#0d0887"
             ],
             [
              0.1111111111111111,
              "#46039f"
             ],
             [
              0.2222222222222222,
              "#7201a8"
             ],
             [
              0.3333333333333333,
              "#9c179e"
             ],
             [
              0.4444444444444444,
              "#bd3786"
             ],
             [
              0.5555555555555556,
              "#d8576b"
             ],
             [
              0.6666666666666666,
              "#ed7953"
             ],
             [
              0.7777777777777778,
              "#fb9f3a"
             ],
             [
              0.8888888888888888,
              "#fdca26"
             ],
             [
              1,
              "#f0f921"
             ]
            ],
            "type": "surface"
           }
          ],
          "table": [
           {
            "cells": {
             "fill": {
              "color": "#EBF0F8"
             },
             "line": {
              "color": "white"
             }
            },
            "header": {
             "fill": {
              "color": "#C8D4E3"
             },
             "line": {
              "color": "white"
             }
            },
            "type": "table"
           }
          ]
         },
         "layout": {
          "annotationdefaults": {
           "arrowcolor": "#2a3f5f",
           "arrowhead": 0,
           "arrowwidth": 1
          },
          "autotypenumbers": "strict",
          "coloraxis": {
           "colorbar": {
            "outlinewidth": 0,
            "ticks": ""
           }
          },
          "colorscale": {
           "diverging": [
            [
             0,
             "#8e0152"
            ],
            [
             0.1,
             "#c51b7d"
            ],
            [
             0.2,
             "#de77ae"
            ],
            [
             0.3,
             "#f1b6da"
            ],
            [
             0.4,
             "#fde0ef"
            ],
            [
             0.5,
             "#f7f7f7"
            ],
            [
             0.6,
             "#e6f5d0"
            ],
            [
             0.7,
             "#b8e186"
            ],
            [
             0.8,
             "#7fbc41"
            ],
            [
             0.9,
             "#4d9221"
            ],
            [
             1,
             "#276419"
            ]
           ],
           "sequential": [
            [
             0,
             "#0d0887"
            ],
            [
             0.1111111111111111,
             "#46039f"
            ],
            [
             0.2222222222222222,
             "#7201a8"
            ],
            [
             0.3333333333333333,
             "#9c179e"
            ],
            [
             0.4444444444444444,
             "#bd3786"
            ],
            [
             0.5555555555555556,
             "#d8576b"
            ],
            [
             0.6666666666666666,
             "#ed7953"
            ],
            [
             0.7777777777777778,
             "#fb9f3a"
            ],
            [
             0.8888888888888888,
             "#fdca26"
            ],
            [
             1,
             "#f0f921"
            ]
           ],
           "sequentialminus": [
            [
             0,
             "#0d0887"
            ],
            [
             0.1111111111111111,
             "#46039f"
            ],
            [
             0.2222222222222222,
             "#7201a8"
            ],
            [
             0.3333333333333333,
             "#9c179e"
            ],
            [
             0.4444444444444444,
             "#bd3786"
            ],
            [
             0.5555555555555556,
             "#d8576b"
            ],
            [
             0.6666666666666666,
             "#ed7953"
            ],
            [
             0.7777777777777778,
             "#fb9f3a"
            ],
            [
             0.8888888888888888,
             "#fdca26"
            ],
            [
             1,
             "#f0f921"
            ]
           ]
          },
          "colorway": [
           "#636efa",
           "#EF553B",
           "#00cc96",
           "#ab63fa",
           "#FFA15A",
           "#19d3f3",
           "#FF6692",
           "#B6E880",
           "#FF97FF",
           "#FECB52"
          ],
          "font": {
           "color": "#2a3f5f"
          },
          "geo": {
           "bgcolor": "white",
           "lakecolor": "white",
           "landcolor": "#E5ECF6",
           "showlakes": true,
           "showland": true,
           "subunitcolor": "white"
          },
          "hoverlabel": {
           "align": "left"
          },
          "hovermode": "closest",
          "mapbox": {
           "style": "light"
          },
          "paper_bgcolor": "white",
          "plot_bgcolor": "#E5ECF6",
          "polar": {
           "angularaxis": {
            "gridcolor": "white",
            "linecolor": "white",
            "ticks": ""
           },
           "bgcolor": "#E5ECF6",
           "radialaxis": {
            "gridcolor": "white",
            "linecolor": "white",
            "ticks": ""
           }
          },
          "scene": {
           "xaxis": {
            "backgroundcolor": "#E5ECF6",
            "gridcolor": "white",
            "gridwidth": 2,
            "linecolor": "white",
            "showbackground": true,
            "ticks": "",
            "zerolinecolor": "white"
           },
           "yaxis": {
            "backgroundcolor": "#E5ECF6",
            "gridcolor": "white",
            "gridwidth": 2,
            "linecolor": "white",
            "showbackground": true,
            "ticks": "",
            "zerolinecolor": "white"
           },
           "zaxis": {
            "backgroundcolor": "#E5ECF6",
            "gridcolor": "white",
            "gridwidth": 2,
            "linecolor": "white",
            "showbackground": true,
            "ticks": "",
            "zerolinecolor": "white"
           }
          },
          "shapedefaults": {
           "line": {
            "color": "#2a3f5f"
           }
          },
          "ternary": {
           "aaxis": {
            "gridcolor": "white",
            "linecolor": "white",
            "ticks": ""
           },
           "baxis": {
            "gridcolor": "white",
            "linecolor": "white",
            "ticks": ""
           },
           "bgcolor": "#E5ECF6",
           "caxis": {
            "gridcolor": "white",
            "linecolor": "white",
            "ticks": ""
           }
          },
          "title": {
           "x": 0.05
          },
          "xaxis": {
           "automargin": true,
           "gridcolor": "white",
           "linecolor": "white",
           "ticks": "",
           "title": {
            "standoff": 15
           },
           "zerolinecolor": "white",
           "zerolinewidth": 2
          },
          "yaxis": {
           "automargin": true,
           "gridcolor": "white",
           "linecolor": "white",
           "ticks": "",
           "title": {
            "standoff": 15
           },
           "zerolinecolor": "white",
           "zerolinewidth": 2
          }
         }
        },
        "title": {
         "text": "Shapelet nr. 1"
        },
        "xaxis": {
         "title": {
          "text": "Time"
         }
        },
        "yaxis": {
         "title": {
          "text": "Value"
         }
        }
       }
      }
     },
     "metadata": {},
     "output_type": "display_data"
    }
   ],
   "source": [
    "import plotly.express as px\n",
    "import plotly.graph_objects as go\n",
    "\n",
    "# px.line(x=list1,y=shp_clf.shapelets_as_time_series_[0][:,0])\n",
    "# px.line(x=list1,y=X_train[0][8:15][:,0])\n",
    "#combine both plotly plots\n",
    "fig = go.Figure()\n",
    "fig.add_trace(go.Scatter(x=list1, y=shp_clf.shapelets_as_time_series_[0][:,2],\n",
    "                    mode='lines',\n",
    "                    name='Deviation1'))\n",
    "for i in range(0,10):\n",
    "    fig.add_trace(go.Scatter(x=list1, y=X_train[i][shp_clf.locate(X_train)[i][0]:shp_clf.locate(X_train)[i][0]+7][:,2],\n",
    "                        mode='lines',\n",
    "                        name=f'Time Series {int(y_train1[i:i+1])}'))\n",
    "fig.update_layout(title='Shapelet nr. 1',\n",
    "                     xaxis_title='Time',\n",
    "                        yaxis_title='Value')"
   ]
  },
  {
   "cell_type": "code",
   "execution_count": 137,
   "metadata": {},
   "outputs": [
    {
     "data": {
      "application/vnd.plotly.v1+json": {
       "config": {
        "plotlyServerURL": "https://plot.ly"
       },
       "data": [
        {
         "mode": "lines",
         "name": "Shapelet",
         "type": "scatter",
         "x": [
          1,
          2,
          3,
          4,
          5,
          6,
          7
         ],
         "y": [
          0.24520226766788844,
          0.39202521340091284,
          0.42214996620913076,
          0.4374623640650332,
          0.4400802903244921,
          0.5020965565734792,
          0.56968423946237
         ]
        },
        {
         "mode": "lines",
         "name": "Time Series",
         "type": "scatter",
         "x": [
          1,
          2,
          3,
          4,
          5,
          6,
          7
         ],
         "y": [
          0.11393004312002436,
          0.11111008069428407,
          0.10853368408395772,
          0.09629084800147353,
          0.07885374648077403,
          0.06386528636638761,
          0.0519275938108424
         ]
        },
        {
         "mode": "lines",
         "name": "Time Series",
         "type": "scatter",
         "x": [
          1,
          2,
          3,
          4,
          5,
          6,
          7
         ],
         "y": [
          0.27807175307066967,
          0.2891867495829598,
          0.3003153616732595,
          0.30723873664121987,
          0.3154333380939003,
          0.32300747912471495,
          0.3302681690553048
         ]
        },
        {
         "mode": "lines",
         "name": "Time Series",
         "type": "scatter",
         "x": [
          1,
          2,
          3,
          4,
          5,
          6,
          7
         ],
         "y": [
          0.20768488886931835,
          0.22022817938702552,
          0.23999934242240317,
          0.2670312568497195,
          0.2979867169347458,
          0.32244859935989156,
          0.3418142562798446
         ]
        },
        {
         "mode": "lines",
         "name": "Time Series",
         "type": "scatter",
         "x": [
          1,
          2,
          3,
          4,
          5,
          6,
          7
         ],
         "y": [
          0.24815709486002974,
          0.23992178220380506,
          0.21748282304648725,
          0.1963584603282207,
          0.18037185181459064,
          0.16256682647232393,
          0.13652191022443563
         ]
        },
        {
         "mode": "lines",
         "name": "Time Series",
         "type": "scatter",
         "x": [
          1,
          2,
          3,
          4,
          5,
          6,
          7
         ],
         "y": [
          0.05640530783122147,
          0.005300149786841802,
          0.005300149786841802,
          0,
          0.0025876637094350784,
          0.04292449206903689,
          0.04292449206903689
         ]
        },
        {
         "mode": "lines",
         "name": "Time Series",
         "type": "scatter",
         "x": [
          1,
          2,
          3,
          4,
          5,
          6,
          7
         ],
         "y": [
          0.04860362608432225,
          0.06283509197940189,
          0.08483685029807697,
          0.11533086666114706,
          0.15673211345245375,
          0.18872136825852628,
          0.21856959448868593
         ]
        },
        {
         "mode": "lines",
         "name": "Time Series",
         "type": "scatter",
         "x": [
          1,
          2,
          3,
          4,
          5,
          6,
          7
         ],
         "y": [
          0.10477405597374576,
          0.10739595540902236,
          0.10222111830809277,
          0.0968050840374308,
          0.09286471331887859,
          0.09028540791766047,
          0.0880766030040004
         ]
        }
       ],
       "layout": {
        "template": {
         "data": {
          "bar": [
           {
            "error_x": {
             "color": "#2a3f5f"
            },
            "error_y": {
             "color": "#2a3f5f"
            },
            "marker": {
             "line": {
              "color": "#E5ECF6",
              "width": 0.5
             },
             "pattern": {
              "fillmode": "overlay",
              "size": 10,
              "solidity": 0.2
             }
            },
            "type": "bar"
           }
          ],
          "barpolar": [
           {
            "marker": {
             "line": {
              "color": "#E5ECF6",
              "width": 0.5
             },
             "pattern": {
              "fillmode": "overlay",
              "size": 10,
              "solidity": 0.2
             }
            },
            "type": "barpolar"
           }
          ],
          "carpet": [
           {
            "aaxis": {
             "endlinecolor": "#2a3f5f",
             "gridcolor": "white",
             "linecolor": "white",
             "minorgridcolor": "white",
             "startlinecolor": "#2a3f5f"
            },
            "baxis": {
             "endlinecolor": "#2a3f5f",
             "gridcolor": "white",
             "linecolor": "white",
             "minorgridcolor": "white",
             "startlinecolor": "#2a3f5f"
            },
            "type": "carpet"
           }
          ],
          "choropleth": [
           {
            "colorbar": {
             "outlinewidth": 0,
             "ticks": ""
            },
            "type": "choropleth"
           }
          ],
          "contour": [
           {
            "colorbar": {
             "outlinewidth": 0,
             "ticks": ""
            },
            "colorscale": [
             [
              0,
              "#0d0887"
             ],
             [
              0.1111111111111111,
              "#46039f"
             ],
             [
              0.2222222222222222,
              "#7201a8"
             ],
             [
              0.3333333333333333,
              "#9c179e"
             ],
             [
              0.4444444444444444,
              "#bd3786"
             ],
             [
              0.5555555555555556,
              "#d8576b"
             ],
             [
              0.6666666666666666,
              "#ed7953"
             ],
             [
              0.7777777777777778,
              "#fb9f3a"
             ],
             [
              0.8888888888888888,
              "#fdca26"
             ],
             [
              1,
              "#f0f921"
             ]
            ],
            "type": "contour"
           }
          ],
          "contourcarpet": [
           {
            "colorbar": {
             "outlinewidth": 0,
             "ticks": ""
            },
            "type": "contourcarpet"
           }
          ],
          "heatmap": [
           {
            "colorbar": {
             "outlinewidth": 0,
             "ticks": ""
            },
            "colorscale": [
             [
              0,
              "#0d0887"
             ],
             [
              0.1111111111111111,
              "#46039f"
             ],
             [
              0.2222222222222222,
              "#7201a8"
             ],
             [
              0.3333333333333333,
              "#9c179e"
             ],
             [
              0.4444444444444444,
              "#bd3786"
             ],
             [
              0.5555555555555556,
              "#d8576b"
             ],
             [
              0.6666666666666666,
              "#ed7953"
             ],
             [
              0.7777777777777778,
              "#fb9f3a"
             ],
             [
              0.8888888888888888,
              "#fdca26"
             ],
             [
              1,
              "#f0f921"
             ]
            ],
            "type": "heatmap"
           }
          ],
          "heatmapgl": [
           {
            "colorbar": {
             "outlinewidth": 0,
             "ticks": ""
            },
            "colorscale": [
             [
              0,
              "#0d0887"
             ],
             [
              0.1111111111111111,
              "#46039f"
             ],
             [
              0.2222222222222222,
              "#7201a8"
             ],
             [
              0.3333333333333333,
              "#9c179e"
             ],
             [
              0.4444444444444444,
              "#bd3786"
             ],
             [
              0.5555555555555556,
              "#d8576b"
             ],
             [
              0.6666666666666666,
              "#ed7953"
             ],
             [
              0.7777777777777778,
              "#fb9f3a"
             ],
             [
              0.8888888888888888,
              "#fdca26"
             ],
             [
              1,
              "#f0f921"
             ]
            ],
            "type": "heatmapgl"
           }
          ],
          "histogram": [
           {
            "marker": {
             "pattern": {
              "fillmode": "overlay",
              "size": 10,
              "solidity": 0.2
             }
            },
            "type": "histogram"
           }
          ],
          "histogram2d": [
           {
            "colorbar": {
             "outlinewidth": 0,
             "ticks": ""
            },
            "colorscale": [
             [
              0,
              "#0d0887"
             ],
             [
              0.1111111111111111,
              "#46039f"
             ],
             [
              0.2222222222222222,
              "#7201a8"
             ],
             [
              0.3333333333333333,
              "#9c179e"
             ],
             [
              0.4444444444444444,
              "#bd3786"
             ],
             [
              0.5555555555555556,
              "#d8576b"
             ],
             [
              0.6666666666666666,
              "#ed7953"
             ],
             [
              0.7777777777777778,
              "#fb9f3a"
             ],
             [
              0.8888888888888888,
              "#fdca26"
             ],
             [
              1,
              "#f0f921"
             ]
            ],
            "type": "histogram2d"
           }
          ],
          "histogram2dcontour": [
           {
            "colorbar": {
             "outlinewidth": 0,
             "ticks": ""
            },
            "colorscale": [
             [
              0,
              "#0d0887"
             ],
             [
              0.1111111111111111,
              "#46039f"
             ],
             [
              0.2222222222222222,
              "#7201a8"
             ],
             [
              0.3333333333333333,
              "#9c179e"
             ],
             [
              0.4444444444444444,
              "#bd3786"
             ],
             [
              0.5555555555555556,
              "#d8576b"
             ],
             [
              0.6666666666666666,
              "#ed7953"
             ],
             [
              0.7777777777777778,
              "#fb9f3a"
             ],
             [
              0.8888888888888888,
              "#fdca26"
             ],
             [
              1,
              "#f0f921"
             ]
            ],
            "type": "histogram2dcontour"
           }
          ],
          "mesh3d": [
           {
            "colorbar": {
             "outlinewidth": 0,
             "ticks": ""
            },
            "type": "mesh3d"
           }
          ],
          "parcoords": [
           {
            "line": {
             "colorbar": {
              "outlinewidth": 0,
              "ticks": ""
             }
            },
            "type": "parcoords"
           }
          ],
          "pie": [
           {
            "automargin": true,
            "type": "pie"
           }
          ],
          "scatter": [
           {
            "fillpattern": {
             "fillmode": "overlay",
             "size": 10,
             "solidity": 0.2
            },
            "type": "scatter"
           }
          ],
          "scatter3d": [
           {
            "line": {
             "colorbar": {
              "outlinewidth": 0,
              "ticks": ""
             }
            },
            "marker": {
             "colorbar": {
              "outlinewidth": 0,
              "ticks": ""
             }
            },
            "type": "scatter3d"
           }
          ],
          "scattercarpet": [
           {
            "marker": {
             "colorbar": {
              "outlinewidth": 0,
              "ticks": ""
             }
            },
            "type": "scattercarpet"
           }
          ],
          "scattergeo": [
           {
            "marker": {
             "colorbar": {
              "outlinewidth": 0,
              "ticks": ""
             }
            },
            "type": "scattergeo"
           }
          ],
          "scattergl": [
           {
            "marker": {
             "colorbar": {
              "outlinewidth": 0,
              "ticks": ""
             }
            },
            "type": "scattergl"
           }
          ],
          "scattermapbox": [
           {
            "marker": {
             "colorbar": {
              "outlinewidth": 0,
              "ticks": ""
             }
            },
            "type": "scattermapbox"
           }
          ],
          "scatterpolar": [
           {
            "marker": {
             "colorbar": {
              "outlinewidth": 0,
              "ticks": ""
             }
            },
            "type": "scatterpolar"
           }
          ],
          "scatterpolargl": [
           {
            "marker": {
             "colorbar": {
              "outlinewidth": 0,
              "ticks": ""
             }
            },
            "type": "scatterpolargl"
           }
          ],
          "scatterternary": [
           {
            "marker": {
             "colorbar": {
              "outlinewidth": 0,
              "ticks": ""
             }
            },
            "type": "scatterternary"
           }
          ],
          "surface": [
           {
            "colorbar": {
             "outlinewidth": 0,
             "ticks": ""
            },
            "colorscale": [
             [
              0,
              "#0d0887"
             ],
             [
              0.1111111111111111,
              "#46039f"
             ],
             [
              0.2222222222222222,
              "#7201a8"
             ],
             [
              0.3333333333333333,
              "#9c179e"
             ],
             [
              0.4444444444444444,
              "#bd3786"
             ],
             [
              0.5555555555555556,
              "#d8576b"
             ],
             [
              0.6666666666666666,
              "#ed7953"
             ],
             [
              0.7777777777777778,
              "#fb9f3a"
             ],
             [
              0.8888888888888888,
              "#fdca26"
             ],
             [
              1,
              "#f0f921"
             ]
            ],
            "type": "surface"
           }
          ],
          "table": [
           {
            "cells": {
             "fill": {
              "color": "#EBF0F8"
             },
             "line": {
              "color": "white"
             }
            },
            "header": {
             "fill": {
              "color": "#C8D4E3"
             },
             "line": {
              "color": "white"
             }
            },
            "type": "table"
           }
          ]
         },
         "layout": {
          "annotationdefaults": {
           "arrowcolor": "#2a3f5f",
           "arrowhead": 0,
           "arrowwidth": 1
          },
          "autotypenumbers": "strict",
          "coloraxis": {
           "colorbar": {
            "outlinewidth": 0,
            "ticks": ""
           }
          },
          "colorscale": {
           "diverging": [
            [
             0,
             "#8e0152"
            ],
            [
             0.1,
             "#c51b7d"
            ],
            [
             0.2,
             "#de77ae"
            ],
            [
             0.3,
             "#f1b6da"
            ],
            [
             0.4,
             "#fde0ef"
            ],
            [
             0.5,
             "#f7f7f7"
            ],
            [
             0.6,
             "#e6f5d0"
            ],
            [
             0.7,
             "#b8e186"
            ],
            [
             0.8,
             "#7fbc41"
            ],
            [
             0.9,
             "#4d9221"
            ],
            [
             1,
             "#276419"
            ]
           ],
           "sequential": [
            [
             0,
             "#0d0887"
            ],
            [
             0.1111111111111111,
             "#46039f"
            ],
            [
             0.2222222222222222,
             "#7201a8"
            ],
            [
             0.3333333333333333,
             "#9c179e"
            ],
            [
             0.4444444444444444,
             "#bd3786"
            ],
            [
             0.5555555555555556,
             "#d8576b"
            ],
            [
             0.6666666666666666,
             "#ed7953"
            ],
            [
             0.7777777777777778,
             "#fb9f3a"
            ],
            [
             0.8888888888888888,
             "#fdca26"
            ],
            [
             1,
             "#f0f921"
            ]
           ],
           "sequentialminus": [
            [
             0,
             "#0d0887"
            ],
            [
             0.1111111111111111,
             "#46039f"
            ],
            [
             0.2222222222222222,
             "#7201a8"
            ],
            [
             0.3333333333333333,
             "#9c179e"
            ],
            [
             0.4444444444444444,
             "#bd3786"
            ],
            [
             0.5555555555555556,
             "#d8576b"
            ],
            [
             0.6666666666666666,
             "#ed7953"
            ],
            [
             0.7777777777777778,
             "#fb9f3a"
            ],
            [
             0.8888888888888888,
             "#fdca26"
            ],
            [
             1,
             "#f0f921"
            ]
           ]
          },
          "colorway": [
           "#636efa",
           "#EF553B",
           "#00cc96",
           "#ab63fa",
           "#FFA15A",
           "#19d3f3",
           "#FF6692",
           "#B6E880",
           "#FF97FF",
           "#FECB52"
          ],
          "font": {
           "color": "#2a3f5f"
          },
          "geo": {
           "bgcolor": "white",
           "lakecolor": "white",
           "landcolor": "#E5ECF6",
           "showlakes": true,
           "showland": true,
           "subunitcolor": "white"
          },
          "hoverlabel": {
           "align": "left"
          },
          "hovermode": "closest",
          "mapbox": {
           "style": "light"
          },
          "paper_bgcolor": "white",
          "plot_bgcolor": "#E5ECF6",
          "polar": {
           "angularaxis": {
            "gridcolor": "white",
            "linecolor": "white",
            "ticks": ""
           },
           "bgcolor": "#E5ECF6",
           "radialaxis": {
            "gridcolor": "white",
            "linecolor": "white",
            "ticks": ""
           }
          },
          "scene": {
           "xaxis": {
            "backgroundcolor": "#E5ECF6",
            "gridcolor": "white",
            "gridwidth": 2,
            "linecolor": "white",
            "showbackground": true,
            "ticks": "",
            "zerolinecolor": "white"
           },
           "yaxis": {
            "backgroundcolor": "#E5ECF6",
            "gridcolor": "white",
            "gridwidth": 2,
            "linecolor": "white",
            "showbackground": true,
            "ticks": "",
            "zerolinecolor": "white"
           },
           "zaxis": {
            "backgroundcolor": "#E5ECF6",
            "gridcolor": "white",
            "gridwidth": 2,
            "linecolor": "white",
            "showbackground": true,
            "ticks": "",
            "zerolinecolor": "white"
           }
          },
          "shapedefaults": {
           "line": {
            "color": "#2a3f5f"
           }
          },
          "ternary": {
           "aaxis": {
            "gridcolor": "white",
            "linecolor": "white",
            "ticks": ""
           },
           "baxis": {
            "gridcolor": "white",
            "linecolor": "white",
            "ticks": ""
           },
           "bgcolor": "#E5ECF6",
           "caxis": {
            "gridcolor": "white",
            "linecolor": "white",
            "ticks": ""
           }
          },
          "title": {
           "x": 0.05
          },
          "xaxis": {
           "automargin": true,
           "gridcolor": "white",
           "linecolor": "white",
           "ticks": "",
           "title": {
            "standoff": 15
           },
           "zerolinecolor": "white",
           "zerolinewidth": 2
          },
          "yaxis": {
           "automargin": true,
           "gridcolor": "white",
           "linecolor": "white",
           "ticks": "",
           "title": {
            "standoff": 15
           },
           "zerolinecolor": "white",
           "zerolinewidth": 2
          }
         }
        },
        "title": {
         "text": "Shapelet nr. 1"
        },
        "xaxis": {
         "title": {
          "text": "Time"
         }
        },
        "yaxis": {
         "title": {
          "text": "Value"
         }
        }
       }
      }
     },
     "metadata": {},
     "output_type": "display_data"
    }
   ],
   "source": [
    "import plotly.express as px\n",
    "import plotly.graph_objects as go\n",
    "\n",
    "# px.line(x=list1,y=shp_clf.shapelets_as_time_series_[0][:,0])\n",
    "# px.line(x=list1,y=X_train[0][8:15][:,0])\n",
    "#combine both plotly plots\n",
    "fig = go.Figure()\n",
    "fig.add_trace(go.Scatter(x=list1, y=scaler.fit_transform(shp_clf.shapelets_as_time_series_[0]).reshape(7,39)[:,0],\n",
    "                    mode='lines',\n",
    "                    name='Shapelet'))\n",
    "for i in range(0,7):\n",
    "    fig.add_trace(go.Scatter(x=list1, y=X_train[i][shp_clf.locate(X_train)[i][0]:shp_clf.locate(X_train)[i][0]+7][:,0],\n",
    "                        mode='lines',\n",
    "                        name='Time Series'))\n",
    "# fig.add_trace(go.Scatter(x=list1, y=X_train[0][8:15][:,0],\n",
    "#                     mode='lines',\n",
    "#                     name='Time Series1'))\n",
    "# fig.add_trace(go.Scatter(x=list1, y=X_train[1][shp_clf.locate(X_train)[1][0]:shp_clf.locate(X_train)[1][0]+7][:,0],\n",
    "#                     mode='lines',\n",
    "#                     name='Time Serie2'))\n",
    "#title\n",
    "fig.update_layout(title='Shapelet nr. 1',\n",
    "                     xaxis_title='Time',\n",
    "                        yaxis_title='Value')\n",
    "fig.show()"
   ]
  },
  {
   "cell_type": "code",
   "execution_count": 102,
   "metadata": {},
   "outputs": [
    {
     "data": {
      "application/vnd.plotly.v1+json": {
       "config": {
        "plotlyServerURL": "https://plot.ly"
       },
       "data": [
        {
         "mode": "lines",
         "name": "Shapelet",
         "type": "scatter",
         "x": [
          1,
          2,
          3,
          4,
          5,
          6,
          7
         ],
         "y": [
          0.24520226766788844,
          0.39202521340091284,
          0.42214996620913076,
          0.4374623640650332,
          0.4400802903244921,
          0.5020965565734792,
          0.56968423946237
         ]
        },
        {
         "mode": "lines",
         "name": "Time Series",
         "type": "scatter",
         "x": [
          1,
          2,
          3,
          4,
          5,
          6,
          7
         ],
         "y": [
          0.11393004312002436,
          0.11111008069428407,
          0.10853368408395772,
          0.09629084800147353,
          0.07885374648077403,
          0.06386528636638761,
          0.0519275938108424
         ]
        }
       ],
       "layout": {
        "template": {
         "data": {
          "bar": [
           {
            "error_x": {
             "color": "#2a3f5f"
            },
            "error_y": {
             "color": "#2a3f5f"
            },
            "marker": {
             "line": {
              "color": "#E5ECF6",
              "width": 0.5
             },
             "pattern": {
              "fillmode": "overlay",
              "size": 10,
              "solidity": 0.2
             }
            },
            "type": "bar"
           }
          ],
          "barpolar": [
           {
            "marker": {
             "line": {
              "color": "#E5ECF6",
              "width": 0.5
             },
             "pattern": {
              "fillmode": "overlay",
              "size": 10,
              "solidity": 0.2
             }
            },
            "type": "barpolar"
           }
          ],
          "carpet": [
           {
            "aaxis": {
             "endlinecolor": "#2a3f5f",
             "gridcolor": "white",
             "linecolor": "white",
             "minorgridcolor": "white",
             "startlinecolor": "#2a3f5f"
            },
            "baxis": {
             "endlinecolor": "#2a3f5f",
             "gridcolor": "white",
             "linecolor": "white",
             "minorgridcolor": "white",
             "startlinecolor": "#2a3f5f"
            },
            "type": "carpet"
           }
          ],
          "choropleth": [
           {
            "colorbar": {
             "outlinewidth": 0,
             "ticks": ""
            },
            "type": "choropleth"
           }
          ],
          "contour": [
           {
            "colorbar": {
             "outlinewidth": 0,
             "ticks": ""
            },
            "colorscale": [
             [
              0,
              "#0d0887"
             ],
             [
              0.1111111111111111,
              "#46039f"
             ],
             [
              0.2222222222222222,
              "#7201a8"
             ],
             [
              0.3333333333333333,
              "#9c179e"
             ],
             [
              0.4444444444444444,
              "#bd3786"
             ],
             [
              0.5555555555555556,
              "#d8576b"
             ],
             [
              0.6666666666666666,
              "#ed7953"
             ],
             [
              0.7777777777777778,
              "#fb9f3a"
             ],
             [
              0.8888888888888888,
              "#fdca26"
             ],
             [
              1,
              "#f0f921"
             ]
            ],
            "type": "contour"
           }
          ],
          "contourcarpet": [
           {
            "colorbar": {
             "outlinewidth": 0,
             "ticks": ""
            },
            "type": "contourcarpet"
           }
          ],
          "heatmap": [
           {
            "colorbar": {
             "outlinewidth": 0,
             "ticks": ""
            },
            "colorscale": [
             [
              0,
              "#0d0887"
             ],
             [
              0.1111111111111111,
              "#46039f"
             ],
             [
              0.2222222222222222,
              "#7201a8"
             ],
             [
              0.3333333333333333,
              "#9c179e"
             ],
             [
              0.4444444444444444,
              "#bd3786"
             ],
             [
              0.5555555555555556,
              "#d8576b"
             ],
             [
              0.6666666666666666,
              "#ed7953"
             ],
             [
              0.7777777777777778,
              "#fb9f3a"
             ],
             [
              0.8888888888888888,
              "#fdca26"
             ],
             [
              1,
              "#f0f921"
             ]
            ],
            "type": "heatmap"
           }
          ],
          "heatmapgl": [
           {
            "colorbar": {
             "outlinewidth": 0,
             "ticks": ""
            },
            "colorscale": [
             [
              0,
              "#0d0887"
             ],
             [
              0.1111111111111111,
              "#46039f"
             ],
             [
              0.2222222222222222,
              "#7201a8"
             ],
             [
              0.3333333333333333,
              "#9c179e"
             ],
             [
              0.4444444444444444,
              "#bd3786"
             ],
             [
              0.5555555555555556,
              "#d8576b"
             ],
             [
              0.6666666666666666,
              "#ed7953"
             ],
             [
              0.7777777777777778,
              "#fb9f3a"
             ],
             [
              0.8888888888888888,
              "#fdca26"
             ],
             [
              1,
              "#f0f921"
             ]
            ],
            "type": "heatmapgl"
           }
          ],
          "histogram": [
           {
            "marker": {
             "pattern": {
              "fillmode": "overlay",
              "size": 10,
              "solidity": 0.2
             }
            },
            "type": "histogram"
           }
          ],
          "histogram2d": [
           {
            "colorbar": {
             "outlinewidth": 0,
             "ticks": ""
            },
            "colorscale": [
             [
              0,
              "#0d0887"
             ],
             [
              0.1111111111111111,
              "#46039f"
             ],
             [
              0.2222222222222222,
              "#7201a8"
             ],
             [
              0.3333333333333333,
              "#9c179e"
             ],
             [
              0.4444444444444444,
              "#bd3786"
             ],
             [
              0.5555555555555556,
              "#d8576b"
             ],
             [
              0.6666666666666666,
              "#ed7953"
             ],
             [
              0.7777777777777778,
              "#fb9f3a"
             ],
             [
              0.8888888888888888,
              "#fdca26"
             ],
             [
              1,
              "#f0f921"
             ]
            ],
            "type": "histogram2d"
           }
          ],
          "histogram2dcontour": [
           {
            "colorbar": {
             "outlinewidth": 0,
             "ticks": ""
            },
            "colorscale": [
             [
              0,
              "#0d0887"
             ],
             [
              0.1111111111111111,
              "#46039f"
             ],
             [
              0.2222222222222222,
              "#7201a8"
             ],
             [
              0.3333333333333333,
              "#9c179e"
             ],
             [
              0.4444444444444444,
              "#bd3786"
             ],
             [
              0.5555555555555556,
              "#d8576b"
             ],
             [
              0.6666666666666666,
              "#ed7953"
             ],
             [
              0.7777777777777778,
              "#fb9f3a"
             ],
             [
              0.8888888888888888,
              "#fdca26"
             ],
             [
              1,
              "#f0f921"
             ]
            ],
            "type": "histogram2dcontour"
           }
          ],
          "mesh3d": [
           {
            "colorbar": {
             "outlinewidth": 0,
             "ticks": ""
            },
            "type": "mesh3d"
           }
          ],
          "parcoords": [
           {
            "line": {
             "colorbar": {
              "outlinewidth": 0,
              "ticks": ""
             }
            },
            "type": "parcoords"
           }
          ],
          "pie": [
           {
            "automargin": true,
            "type": "pie"
           }
          ],
          "scatter": [
           {
            "fillpattern": {
             "fillmode": "overlay",
             "size": 10,
             "solidity": 0.2
            },
            "type": "scatter"
           }
          ],
          "scatter3d": [
           {
            "line": {
             "colorbar": {
              "outlinewidth": 0,
              "ticks": ""
             }
            },
            "marker": {
             "colorbar": {
              "outlinewidth": 0,
              "ticks": ""
             }
            },
            "type": "scatter3d"
           }
          ],
          "scattercarpet": [
           {
            "marker": {
             "colorbar": {
              "outlinewidth": 0,
              "ticks": ""
             }
            },
            "type": "scattercarpet"
           }
          ],
          "scattergeo": [
           {
            "marker": {
             "colorbar": {
              "outlinewidth": 0,
              "ticks": ""
             }
            },
            "type": "scattergeo"
           }
          ],
          "scattergl": [
           {
            "marker": {
             "colorbar": {
              "outlinewidth": 0,
              "ticks": ""
             }
            },
            "type": "scattergl"
           }
          ],
          "scattermapbox": [
           {
            "marker": {
             "colorbar": {
              "outlinewidth": 0,
              "ticks": ""
             }
            },
            "type": "scattermapbox"
           }
          ],
          "scatterpolar": [
           {
            "marker": {
             "colorbar": {
              "outlinewidth": 0,
              "ticks": ""
             }
            },
            "type": "scatterpolar"
           }
          ],
          "scatterpolargl": [
           {
            "marker": {
             "colorbar": {
              "outlinewidth": 0,
              "ticks": ""
             }
            },
            "type": "scatterpolargl"
           }
          ],
          "scatterternary": [
           {
            "marker": {
             "colorbar": {
              "outlinewidth": 0,
              "ticks": ""
             }
            },
            "type": "scatterternary"
           }
          ],
          "surface": [
           {
            "colorbar": {
             "outlinewidth": 0,
             "ticks": ""
            },
            "colorscale": [
             [
              0,
              "#0d0887"
             ],
             [
              0.1111111111111111,
              "#46039f"
             ],
             [
              0.2222222222222222,
              "#7201a8"
             ],
             [
              0.3333333333333333,
              "#9c179e"
             ],
             [
              0.4444444444444444,
              "#bd3786"
             ],
             [
              0.5555555555555556,
              "#d8576b"
             ],
             [
              0.6666666666666666,
              "#ed7953"
             ],
             [
              0.7777777777777778,
              "#fb9f3a"
             ],
             [
              0.8888888888888888,
              "#fdca26"
             ],
             [
              1,
              "#f0f921"
             ]
            ],
            "type": "surface"
           }
          ],
          "table": [
           {
            "cells": {
             "fill": {
              "color": "#EBF0F8"
             },
             "line": {
              "color": "white"
             }
            },
            "header": {
             "fill": {
              "color": "#C8D4E3"
             },
             "line": {
              "color": "white"
             }
            },
            "type": "table"
           }
          ]
         },
         "layout": {
          "annotationdefaults": {
           "arrowcolor": "#2a3f5f",
           "arrowhead": 0,
           "arrowwidth": 1
          },
          "autotypenumbers": "strict",
          "coloraxis": {
           "colorbar": {
            "outlinewidth": 0,
            "ticks": ""
           }
          },
          "colorscale": {
           "diverging": [
            [
             0,
             "#8e0152"
            ],
            [
             0.1,
             "#c51b7d"
            ],
            [
             0.2,
             "#de77ae"
            ],
            [
             0.3,
             "#f1b6da"
            ],
            [
             0.4,
             "#fde0ef"
            ],
            [
             0.5,
             "#f7f7f7"
            ],
            [
             0.6,
             "#e6f5d0"
            ],
            [
             0.7,
             "#b8e186"
            ],
            [
             0.8,
             "#7fbc41"
            ],
            [
             0.9,
             "#4d9221"
            ],
            [
             1,
             "#276419"
            ]
           ],
           "sequential": [
            [
             0,
             "#0d0887"
            ],
            [
             0.1111111111111111,
             "#46039f"
            ],
            [
             0.2222222222222222,
             "#7201a8"
            ],
            [
             0.3333333333333333,
             "#9c179e"
            ],
            [
             0.4444444444444444,
             "#bd3786"
            ],
            [
             0.5555555555555556,
             "#d8576b"
            ],
            [
             0.6666666666666666,
             "#ed7953"
            ],
            [
             0.7777777777777778,
             "#fb9f3a"
            ],
            [
             0.8888888888888888,
             "#fdca26"
            ],
            [
             1,
             "#f0f921"
            ]
           ],
           "sequentialminus": [
            [
             0,
             "#0d0887"
            ],
            [
             0.1111111111111111,
             "#46039f"
            ],
            [
             0.2222222222222222,
             "#7201a8"
            ],
            [
             0.3333333333333333,
             "#9c179e"
            ],
            [
             0.4444444444444444,
             "#bd3786"
            ],
            [
             0.5555555555555556,
             "#d8576b"
            ],
            [
             0.6666666666666666,
             "#ed7953"
            ],
            [
             0.7777777777777778,
             "#fb9f3a"
            ],
            [
             0.8888888888888888,
             "#fdca26"
            ],
            [
             1,
             "#f0f921"
            ]
           ]
          },
          "colorway": [
           "#636efa",
           "#EF553B",
           "#00cc96",
           "#ab63fa",
           "#FFA15A",
           "#19d3f3",
           "#FF6692",
           "#B6E880",
           "#FF97FF",
           "#FECB52"
          ],
          "font": {
           "color": "#2a3f5f"
          },
          "geo": {
           "bgcolor": "white",
           "lakecolor": "white",
           "landcolor": "#E5ECF6",
           "showlakes": true,
           "showland": true,
           "subunitcolor": "white"
          },
          "hoverlabel": {
           "align": "left"
          },
          "hovermode": "closest",
          "mapbox": {
           "style": "light"
          },
          "paper_bgcolor": "white",
          "plot_bgcolor": "#E5ECF6",
          "polar": {
           "angularaxis": {
            "gridcolor": "white",
            "linecolor": "white",
            "ticks": ""
           },
           "bgcolor": "#E5ECF6",
           "radialaxis": {
            "gridcolor": "white",
            "linecolor": "white",
            "ticks": ""
           }
          },
          "scene": {
           "xaxis": {
            "backgroundcolor": "#E5ECF6",
            "gridcolor": "white",
            "gridwidth": 2,
            "linecolor": "white",
            "showbackground": true,
            "ticks": "",
            "zerolinecolor": "white"
           },
           "yaxis": {
            "backgroundcolor": "#E5ECF6",
            "gridcolor": "white",
            "gridwidth": 2,
            "linecolor": "white",
            "showbackground": true,
            "ticks": "",
            "zerolinecolor": "white"
           },
           "zaxis": {
            "backgroundcolor": "#E5ECF6",
            "gridcolor": "white",
            "gridwidth": 2,
            "linecolor": "white",
            "showbackground": true,
            "ticks": "",
            "zerolinecolor": "white"
           }
          },
          "shapedefaults": {
           "line": {
            "color": "#2a3f5f"
           }
          },
          "ternary": {
           "aaxis": {
            "gridcolor": "white",
            "linecolor": "white",
            "ticks": ""
           },
           "baxis": {
            "gridcolor": "white",
            "linecolor": "white",
            "ticks": ""
           },
           "bgcolor": "#E5ECF6",
           "caxis": {
            "gridcolor": "white",
            "linecolor": "white",
            "ticks": ""
           }
          },
          "title": {
           "x": 0.05
          },
          "xaxis": {
           "automargin": true,
           "gridcolor": "white",
           "linecolor": "white",
           "ticks": "",
           "title": {
            "standoff": 15
           },
           "zerolinecolor": "white",
           "zerolinewidth": 2
          },
          "yaxis": {
           "automargin": true,
           "gridcolor": "white",
           "linecolor": "white",
           "ticks": "",
           "title": {
            "standoff": 15
           },
           "zerolinecolor": "white",
           "zerolinewidth": 2
          }
         }
        }
       }
      }
     },
     "metadata": {},
     "output_type": "display_data"
    }
   ],
   "source": [
    "import plotly.express as px\n",
    "import plotly.graph_objects as go\n",
    "\n",
    "# px.line(x=list1,y=shp_clf.shapelets_as_time_series_[0][:,0])\n",
    "# px.line(x=list1,y=X_train[0][8:15][:,0])\n",
    "#combine both plotly plots\n",
    "fig = go.Figure()\n",
    "fig.add_trace(go.Scatter(x=list1, y=scaler.fit_transform(shp_clf.shapelets_as_time_series_[0]).reshape(7,39)[:,0],\n",
    "                    mode='lines',\n",
    "                    name='Shapelet'))\n",
    "fig.add_trace(go.Scatter(x=list1, y=X_train[0][8:15][:,0],\n",
    "                    mode='lines',\n",
    "                    name='Time Series'))\n",
    "fig.add_trace(go.Scatter(x=list1, y=X_train[0][8:15][:,0],\n",
    "                    mode='lines',\n",
    "                    name='Time Series'))\n",
    "fig.show()"
   ]
  },
  {
   "cell_type": "code",
   "execution_count": 89,
   "metadata": {},
   "outputs": [
    {
     "data": {
      "application/vnd.plotly.v1+json": {
       "config": {
        "plotlyServerURL": "https://plot.ly"
       },
       "data": [
        {
         "hovertemplate": "x=%{x}<br>y=%{y}<extra></extra>",
         "legendgroup": "",
         "line": {
          "color": "#636efa",
          "dash": "solid"
         },
         "marker": {
          "symbol": "circle"
         },
         "mode": "lines",
         "name": "",
         "orientation": "v",
         "showlegend": false,
         "type": "scatter",
         "x": [
          1,
          2,
          3,
          4,
          5,
          6,
          7
         ],
         "xaxis": "x",
         "y": [
          0.11393004312002436,
          0.11111008069428407,
          0.10853368408395772,
          0.09629084800147353,
          0.07885374648077403,
          0.06386528636638761,
          0.0519275938108424
         ],
         "yaxis": "y"
        }
       ],
       "layout": {
        "legend": {
         "tracegroupgap": 0
        },
        "margin": {
         "t": 60
        },
        "template": {
         "data": {
          "bar": [
           {
            "error_x": {
             "color": "#2a3f5f"
            },
            "error_y": {
             "color": "#2a3f5f"
            },
            "marker": {
             "line": {
              "color": "#E5ECF6",
              "width": 0.5
             },
             "pattern": {
              "fillmode": "overlay",
              "size": 10,
              "solidity": 0.2
             }
            },
            "type": "bar"
           }
          ],
          "barpolar": [
           {
            "marker": {
             "line": {
              "color": "#E5ECF6",
              "width": 0.5
             },
             "pattern": {
              "fillmode": "overlay",
              "size": 10,
              "solidity": 0.2
             }
            },
            "type": "barpolar"
           }
          ],
          "carpet": [
           {
            "aaxis": {
             "endlinecolor": "#2a3f5f",
             "gridcolor": "white",
             "linecolor": "white",
             "minorgridcolor": "white",
             "startlinecolor": "#2a3f5f"
            },
            "baxis": {
             "endlinecolor": "#2a3f5f",
             "gridcolor": "white",
             "linecolor": "white",
             "minorgridcolor": "white",
             "startlinecolor": "#2a3f5f"
            },
            "type": "carpet"
           }
          ],
          "choropleth": [
           {
            "colorbar": {
             "outlinewidth": 0,
             "ticks": ""
            },
            "type": "choropleth"
           }
          ],
          "contour": [
           {
            "colorbar": {
             "outlinewidth": 0,
             "ticks": ""
            },
            "colorscale": [
             [
              0,
              "#0d0887"
             ],
             [
              0.1111111111111111,
              "#46039f"
             ],
             [
              0.2222222222222222,
              "#7201a8"
             ],
             [
              0.3333333333333333,
              "#9c179e"
             ],
             [
              0.4444444444444444,
              "#bd3786"
             ],
             [
              0.5555555555555556,
              "#d8576b"
             ],
             [
              0.6666666666666666,
              "#ed7953"
             ],
             [
              0.7777777777777778,
              "#fb9f3a"
             ],
             [
              0.8888888888888888,
              "#fdca26"
             ],
             [
              1,
              "#f0f921"
             ]
            ],
            "type": "contour"
           }
          ],
          "contourcarpet": [
           {
            "colorbar": {
             "outlinewidth": 0,
             "ticks": ""
            },
            "type": "contourcarpet"
           }
          ],
          "heatmap": [
           {
            "colorbar": {
             "outlinewidth": 0,
             "ticks": ""
            },
            "colorscale": [
             [
              0,
              "#0d0887"
             ],
             [
              0.1111111111111111,
              "#46039f"
             ],
             [
              0.2222222222222222,
              "#7201a8"
             ],
             [
              0.3333333333333333,
              "#9c179e"
             ],
             [
              0.4444444444444444,
              "#bd3786"
             ],
             [
              0.5555555555555556,
              "#d8576b"
             ],
             [
              0.6666666666666666,
              "#ed7953"
             ],
             [
              0.7777777777777778,
              "#fb9f3a"
             ],
             [
              0.8888888888888888,
              "#fdca26"
             ],
             [
              1,
              "#f0f921"
             ]
            ],
            "type": "heatmap"
           }
          ],
          "heatmapgl": [
           {
            "colorbar": {
             "outlinewidth": 0,
             "ticks": ""
            },
            "colorscale": [
             [
              0,
              "#0d0887"
             ],
             [
              0.1111111111111111,
              "#46039f"
             ],
             [
              0.2222222222222222,
              "#7201a8"
             ],
             [
              0.3333333333333333,
              "#9c179e"
             ],
             [
              0.4444444444444444,
              "#bd3786"
             ],
             [
              0.5555555555555556,
              "#d8576b"
             ],
             [
              0.6666666666666666,
              "#ed7953"
             ],
             [
              0.7777777777777778,
              "#fb9f3a"
             ],
             [
              0.8888888888888888,
              "#fdca26"
             ],
             [
              1,
              "#f0f921"
             ]
            ],
            "type": "heatmapgl"
           }
          ],
          "histogram": [
           {
            "marker": {
             "pattern": {
              "fillmode": "overlay",
              "size": 10,
              "solidity": 0.2
             }
            },
            "type": "histogram"
           }
          ],
          "histogram2d": [
           {
            "colorbar": {
             "outlinewidth": 0,
             "ticks": ""
            },
            "colorscale": [
             [
              0,
              "#0d0887"
             ],
             [
              0.1111111111111111,
              "#46039f"
             ],
             [
              0.2222222222222222,
              "#7201a8"
             ],
             [
              0.3333333333333333,
              "#9c179e"
             ],
             [
              0.4444444444444444,
              "#bd3786"
             ],
             [
              0.5555555555555556,
              "#d8576b"
             ],
             [
              0.6666666666666666,
              "#ed7953"
             ],
             [
              0.7777777777777778,
              "#fb9f3a"
             ],
             [
              0.8888888888888888,
              "#fdca26"
             ],
             [
              1,
              "#f0f921"
             ]
            ],
            "type": "histogram2d"
           }
          ],
          "histogram2dcontour": [
           {
            "colorbar": {
             "outlinewidth": 0,
             "ticks": ""
            },
            "colorscale": [
             [
              0,
              "#0d0887"
             ],
             [
              0.1111111111111111,
              "#46039f"
             ],
             [
              0.2222222222222222,
              "#7201a8"
             ],
             [
              0.3333333333333333,
              "#9c179e"
             ],
             [
              0.4444444444444444,
              "#bd3786"
             ],
             [
              0.5555555555555556,
              "#d8576b"
             ],
             [
              0.6666666666666666,
              "#ed7953"
             ],
             [
              0.7777777777777778,
              "#fb9f3a"
             ],
             [
              0.8888888888888888,
              "#fdca26"
             ],
             [
              1,
              "#f0f921"
             ]
            ],
            "type": "histogram2dcontour"
           }
          ],
          "mesh3d": [
           {
            "colorbar": {
             "outlinewidth": 0,
             "ticks": ""
            },
            "type": "mesh3d"
           }
          ],
          "parcoords": [
           {
            "line": {
             "colorbar": {
              "outlinewidth": 0,
              "ticks": ""
             }
            },
            "type": "parcoords"
           }
          ],
          "pie": [
           {
            "automargin": true,
            "type": "pie"
           }
          ],
          "scatter": [
           {
            "fillpattern": {
             "fillmode": "overlay",
             "size": 10,
             "solidity": 0.2
            },
            "type": "scatter"
           }
          ],
          "scatter3d": [
           {
            "line": {
             "colorbar": {
              "outlinewidth": 0,
              "ticks": ""
             }
            },
            "marker": {
             "colorbar": {
              "outlinewidth": 0,
              "ticks": ""
             }
            },
            "type": "scatter3d"
           }
          ],
          "scattercarpet": [
           {
            "marker": {
             "colorbar": {
              "outlinewidth": 0,
              "ticks": ""
             }
            },
            "type": "scattercarpet"
           }
          ],
          "scattergeo": [
           {
            "marker": {
             "colorbar": {
              "outlinewidth": 0,
              "ticks": ""
             }
            },
            "type": "scattergeo"
           }
          ],
          "scattergl": [
           {
            "marker": {
             "colorbar": {
              "outlinewidth": 0,
              "ticks": ""
             }
            },
            "type": "scattergl"
           }
          ],
          "scattermapbox": [
           {
            "marker": {
             "colorbar": {
              "outlinewidth": 0,
              "ticks": ""
             }
            },
            "type": "scattermapbox"
           }
          ],
          "scatterpolar": [
           {
            "marker": {
             "colorbar": {
              "outlinewidth": 0,
              "ticks": ""
             }
            },
            "type": "scatterpolar"
           }
          ],
          "scatterpolargl": [
           {
            "marker": {
             "colorbar": {
              "outlinewidth": 0,
              "ticks": ""
             }
            },
            "type": "scatterpolargl"
           }
          ],
          "scatterternary": [
           {
            "marker": {
             "colorbar": {
              "outlinewidth": 0,
              "ticks": ""
             }
            },
            "type": "scatterternary"
           }
          ],
          "surface": [
           {
            "colorbar": {
             "outlinewidth": 0,
             "ticks": ""
            },
            "colorscale": [
             [
              0,
              "#0d0887"
             ],
             [
              0.1111111111111111,
              "#46039f"
             ],
             [
              0.2222222222222222,
              "#7201a8"
             ],
             [
              0.3333333333333333,
              "#9c179e"
             ],
             [
              0.4444444444444444,
              "#bd3786"
             ],
             [
              0.5555555555555556,
              "#d8576b"
             ],
             [
              0.6666666666666666,
              "#ed7953"
             ],
             [
              0.7777777777777778,
              "#fb9f3a"
             ],
             [
              0.8888888888888888,
              "#fdca26"
             ],
             [
              1,
              "#f0f921"
             ]
            ],
            "type": "surface"
           }
          ],
          "table": [
           {
            "cells": {
             "fill": {
              "color": "#EBF0F8"
             },
             "line": {
              "color": "white"
             }
            },
            "header": {
             "fill": {
              "color": "#C8D4E3"
             },
             "line": {
              "color": "white"
             }
            },
            "type": "table"
           }
          ]
         },
         "layout": {
          "annotationdefaults": {
           "arrowcolor": "#2a3f5f",
           "arrowhead": 0,
           "arrowwidth": 1
          },
          "autotypenumbers": "strict",
          "coloraxis": {
           "colorbar": {
            "outlinewidth": 0,
            "ticks": ""
           }
          },
          "colorscale": {
           "diverging": [
            [
             0,
             "#8e0152"
            ],
            [
             0.1,
             "#c51b7d"
            ],
            [
             0.2,
             "#de77ae"
            ],
            [
             0.3,
             "#f1b6da"
            ],
            [
             0.4,
             "#fde0ef"
            ],
            [
             0.5,
             "#f7f7f7"
            ],
            [
             0.6,
             "#e6f5d0"
            ],
            [
             0.7,
             "#b8e186"
            ],
            [
             0.8,
             "#7fbc41"
            ],
            [
             0.9,
             "#4d9221"
            ],
            [
             1,
             "#276419"
            ]
           ],
           "sequential": [
            [
             0,
             "#0d0887"
            ],
            [
             0.1111111111111111,
             "#46039f"
            ],
            [
             0.2222222222222222,
             "#7201a8"
            ],
            [
             0.3333333333333333,
             "#9c179e"
            ],
            [
             0.4444444444444444,
             "#bd3786"
            ],
            [
             0.5555555555555556,
             "#d8576b"
            ],
            [
             0.6666666666666666,
             "#ed7953"
            ],
            [
             0.7777777777777778,
             "#fb9f3a"
            ],
            [
             0.8888888888888888,
             "#fdca26"
            ],
            [
             1,
             "#f0f921"
            ]
           ],
           "sequentialminus": [
            [
             0,
             "#0d0887"
            ],
            [
             0.1111111111111111,
             "#46039f"
            ],
            [
             0.2222222222222222,
             "#7201a8"
            ],
            [
             0.3333333333333333,
             "#9c179e"
            ],
            [
             0.4444444444444444,
             "#bd3786"
            ],
            [
             0.5555555555555556,
             "#d8576b"
            ],
            [
             0.6666666666666666,
             "#ed7953"
            ],
            [
             0.7777777777777778,
             "#fb9f3a"
            ],
            [
             0.8888888888888888,
             "#fdca26"
            ],
            [
             1,
             "#f0f921"
            ]
           ]
          },
          "colorway": [
           "#636efa",
           "#EF553B",
           "#00cc96",
           "#ab63fa",
           "#FFA15A",
           "#19d3f3",
           "#FF6692",
           "#B6E880",
           "#FF97FF",
           "#FECB52"
          ],
          "font": {
           "color": "#2a3f5f"
          },
          "geo": {
           "bgcolor": "white",
           "lakecolor": "white",
           "landcolor": "#E5ECF6",
           "showlakes": true,
           "showland": true,
           "subunitcolor": "white"
          },
          "hoverlabel": {
           "align": "left"
          },
          "hovermode": "closest",
          "mapbox": {
           "style": "light"
          },
          "paper_bgcolor": "white",
          "plot_bgcolor": "#E5ECF6",
          "polar": {
           "angularaxis": {
            "gridcolor": "white",
            "linecolor": "white",
            "ticks": ""
           },
           "bgcolor": "#E5ECF6",
           "radialaxis": {
            "gridcolor": "white",
            "linecolor": "white",
            "ticks": ""
           }
          },
          "scene": {
           "xaxis": {
            "backgroundcolor": "#E5ECF6",
            "gridcolor": "white",
            "gridwidth": 2,
            "linecolor": "white",
            "showbackground": true,
            "ticks": "",
            "zerolinecolor": "white"
           },
           "yaxis": {
            "backgroundcolor": "#E5ECF6",
            "gridcolor": "white",
            "gridwidth": 2,
            "linecolor": "white",
            "showbackground": true,
            "ticks": "",
            "zerolinecolor": "white"
           },
           "zaxis": {
            "backgroundcolor": "#E5ECF6",
            "gridcolor": "white",
            "gridwidth": 2,
            "linecolor": "white",
            "showbackground": true,
            "ticks": "",
            "zerolinecolor": "white"
           }
          },
          "shapedefaults": {
           "line": {
            "color": "#2a3f5f"
           }
          },
          "ternary": {
           "aaxis": {
            "gridcolor": "white",
            "linecolor": "white",
            "ticks": ""
           },
           "baxis": {
            "gridcolor": "white",
            "linecolor": "white",
            "ticks": ""
           },
           "bgcolor": "#E5ECF6",
           "caxis": {
            "gridcolor": "white",
            "linecolor": "white",
            "ticks": ""
           }
          },
          "title": {
           "x": 0.05
          },
          "xaxis": {
           "automargin": true,
           "gridcolor": "white",
           "linecolor": "white",
           "ticks": "",
           "title": {
            "standoff": 15
           },
           "zerolinecolor": "white",
           "zerolinewidth": 2
          },
          "yaxis": {
           "automargin": true,
           "gridcolor": "white",
           "linecolor": "white",
           "ticks": "",
           "title": {
            "standoff": 15
           },
           "zerolinecolor": "white",
           "zerolinewidth": 2
          }
         }
        },
        "xaxis": {
         "anchor": "y",
         "domain": [
          0,
          1
         ],
         "title": {
          "text": "x"
         }
        },
        "yaxis": {
         "anchor": "x",
         "domain": [
          0,
          1
         ],
         "title": {
          "text": "y"
         }
        }
       }
      }
     },
     "metadata": {},
     "output_type": "display_data"
    }
   ],
   "source": [
    "import plotly.express as px\n",
    "\n",
    "px.line(x=list1,y=X_train[0][8:15][:,0])"
   ]
  },
  {
   "cell_type": "code",
   "execution_count": 17,
   "metadata": {},
   "outputs": [],
   "source": [
    "shap = shp_clf.shapelets_[0]"
   ]
  },
  {
   "cell_type": "code",
   "execution_count": 21,
   "metadata": {},
   "outputs": [
    {
     "data": {
      "text/plain": [
       "Text(0.5, 1.0, 'The aligned extracted shapelet')"
      ]
     },
     "execution_count": 21,
     "metadata": {},
     "output_type": "execute_result"
    }
   ],
   "source": [
    "test_ts_id = numpy.argmin(numpy.sum(distances, axis=1))\n",
    "shap = shp_clf.shapelets_[0]\n",
    "shap = TimeSeriesScalerMinMax().fit_transform(shap.reshape(1, -1, 1)).flatten()\n",
    "pos = predicted_locations[test_ts_id, 0]\n",
    "ax[0].plot(X_train[test_ts_id].ravel())\n",
    "ax[0].plot(numpy.arange(pos, pos + len(shap)), shap, linewidth=2)\n",
    "ax[0].axvline(pos, color='k', linestyle='--', alpha=0.25)\n",
    "ax[0].set_title(\"The aligned extracted shapelet\")"
   ]
  },
  {
   "cell_type": "code",
   "execution_count": 22,
   "metadata": {},
   "outputs": [
    {
     "data": {
      "text/plain": [
       "<Figure size 432x288 with 0 Axes>"
      ]
     },
     "metadata": {},
     "output_type": "display_data"
    }
   ],
   "source": [
    "distances = []\n",
    "time_series = X_train[test_ts_id].ravel()\n",
    "for i in range(len(time_series) - len(shap)):\n",
    "    distances.append(numpy.linalg.norm(time_series[i:i+len(shap)] - shap))\n",
    "ax[1].plot(distances)\n",
    "ax[1].axvline(numpy.argmin(distances), color='k', linestyle='--', alpha=0.25)\n",
    "ax[1].set_title('The distances between the time series and the shapelet')\n",
    "\n",
    "plt.tight_layout()\n",
    "plt.show()"
   ]
  },
  {
   "cell_type": "code",
   "execution_count": 36,
   "metadata": {},
   "outputs": [
    {
     "data": {
      "image/png": "[encoded data removed]",
      "text/plain": [
       "<Figure size 432x288 with 1 Axes>"
      ]
     },
     "metadata": {
      "needs_background": "light"
     },
     "output_type": "display_data"
    }
   ],
   "source": [
    "plt.figure()\n",
    "for i, sz in enumerate(shapelet_sizes.keys()):\n",
    "    plt.subplot(len(shapelet_sizes), 1, i + 1)\n",
    "    plt.title(\"%d shapelets of size %d\" % (shapelet_sizes[sz], sz))\n",
    "    for shp in shp_clf.shapelets_:\n",
    "        if ts_size(shp) == sz:\n",
    "            plt.plot(shp.ravel())\n",
    "    plt.xlim([0, max(shapelet_sizes.keys()) - 1])\n",
    "\n",
    "plt.tight_layout()\n",
    "plt.show()\n"
   ]
  },
  {
   "cell_type": "code",
   "execution_count": 32,
   "metadata": {},
   "outputs": [
    {
     "data": {
      "image/png": "[encoded data removed]",
      "text/plain": [
       "<Figure size 432x288 with 1 Axes>"
      ]
     },
     "metadata": {
      "needs_background": "light"
     },
     "output_type": "display_data"
    }
   ],
   "source": [
    "plt.figure()\n",
    "plt.plot(numpy.arange(1, shp_clf.n_iter_ + 1), shp_clf.history_[\"loss\"])\n",
    "plt.title(\"Evolution of cross-entropy loss during training\")\n",
    "plt.xlabel(\"Epochs\")\n",
    "plt.show()"
   ]
  },
  {
   "cell_type": "code",
   "execution_count": null,
   "metadata": {},
   "outputs": [],
   "source": [
    "y_train1 = df_steps2.loc[df_steps2[\"CuStepNo ValueY\"] == 1,\"DeviationID ValueY\"].astype(int)\n",
    "y_test1 = df_steps1.loc[df_steps1[\"CuStepNo ValueY\"] == 1,\"DeviationID ValueY\"].astype(int)\n",
    "X_train1 = df_train1.drop([\"DeviationID ValueY\",\"Next_Step\",\"timestamp\",\"Unnamed: 0\"],axis=1)\n",
    "X_test1 = df_test1.drop([\"DeviationID ValueY\",\"Next_Step\",\"timestamp\",\"Unnamed: 0\"],axis=1)"
   ]
  },
  {
   "cell_type": "code",
   "execution_count": 39,
   "metadata": {},
   "outputs": [],
   "source": [
    "X_train_step1 = []\n",
    "for i in X_train1.Batch.unique():\n",
    "        num = numpy.array(X_train1.loc[(X_train1[\"Batch\"] == i)&(X_train1[\"CuStepNo ValueY\"] == 1)].drop([\"Batch\",\"CuStepNo ValueY\"],axis=1))\n",
    "        X_train_step1.append(num)\n",
    "X_test_step1 = []\n",
    "for i in X_test1.Batch.unique():\n",
    "        num = numpy.array(X_test1.loc[(X_test1[\"Batch\"] == i)&(X_test1[\"CuStepNo ValueY\"] == 1)].drop([\"Batch\",\"CuStepNo ValueY\"],axis=1))\n",
    "        X_test_step1.append(num)"
   ]
  },
  {
   "cell_type": "code",
   "execution_count": 40,
   "metadata": {},
   "outputs": [],
   "source": [
    "length = []\n",
    "for i in X_train_step1:\n",
    "    length.append(len(i))\n",
    "X_train_s1 = TimeSeriesResampler(sz=int(np.median(length))).fit_transform(X_train_step1)\n",
    "X_test_s1 = TimeSeriesResampler(sz=int(np.median(length))).fit_transform(X_test_step1)"
   ]
  },
  {
   "cell_type": "code",
   "execution_count": 41,
   "metadata": {},
   "outputs": [],
   "source": [
    "scaler = TimeSeriesScalerMinMax()\n",
    "X_train = scaler.fit_transform(X_train_s1)\n",
    "X_test = scaler.transform(X_test_s1)"
   ]
  },
  {
   "cell_type": "code",
   "execution_count": 42,
   "metadata": {},
   "outputs": [
    {
     "data": {
      "text/html": [
       "<style>#sk-container-id-6 {color: black;background-color: white;}#sk-container-id-6 pre{padding: 0;}#sk-container-id-6 div.sk-toggleable {background-color: white;}#sk-container-id-6 label.sk-toggleable__label {cursor: pointer;display: block;width: 100%;margin-bottom: 0;padding: 0.3em;box-sizing: border-box;text-align: center;}#sk-container-id-6 label.sk-toggleable__label-arrow:before {content: \"▸\";float: left;margin-right: 0.25em;color: #696969;}#sk-container-id-6 label.sk-toggleable__label-arrow:hover:before {color: black;}#sk-container-id-6 div.sk-estimator:hover label.sk-toggleable__label-arrow:before {color: black;}#sk-container-id-6 div.sk-toggleable__content {max-height: 0;max-width: 0;overflow: hidden;text-align: left;background-color: #f0f8ff;}#sk-container-id-6 div.sk-toggleable__content pre {margin: 0.2em;color: black;border-radius: 0.25em;background-color: #f0f8ff;}#sk-container-id-6 input.sk-toggleable__control:checked~div.sk-toggleable__content {max-height: 200px;max-width: 100%;overflow: auto;}#sk-container-id-6 input.sk-toggleable__control:checked~label.sk-toggleable__label-arrow:before {content: \"▾\";}#sk-container-id-6 div.sk-estimator input.sk-toggleable__control:checked~label.sk-toggleable__label {background-color: #d4ebff;}#sk-container-id-6 div.sk-label input.sk-toggleable__control:checked~label.sk-toggleable__label {background-color: #d4ebff;}#sk-container-id-6 input.sk-hidden--visually {border: 0;clip: rect(1px 1px 1px 1px);clip: rect(1px, 1px, 1px, 1px);height: 1px;margin: -1px;overflow: hidden;padding: 0;position: absolute;width: 1px;}#sk-container-id-6 div.sk-estimator {font-family: monospace;background-color: #f0f8ff;border: 1px dotted black;border-radius: 0.25em;box-sizing: border-box;margin-bottom: 0.5em;}#sk-container-id-6 div.sk-estimator:hover {background-color: #d4ebff;}#sk-container-id-6 div.sk-parallel-item::after {content: \"\";width: 100%;border-bottom: 1px solid gray;flex-grow: 1;}#sk-container-id-6 div.sk-label:hover label.sk-toggleable__label {background-color: #d4ebff;}#sk-container-id-6 div.sk-serial::before {content: \"\";position: absolute;border-left: 1px solid gray;box-sizing: border-box;top: 0;bottom: 0;left: 50%;z-index: 0;}#sk-container-id-6 div.sk-serial {display: flex;flex-direction: column;align-items: center;background-color: white;padding-right: 0.2em;padding-left: 0.2em;position: relative;}#sk-container-id-6 div.sk-item {position: relative;z-index: 1;}#sk-container-id-6 div.sk-parallel {display: flex;align-items: stretch;justify-content: center;background-color: white;position: relative;}#sk-container-id-6 div.sk-item::before, #sk-container-id-6 div.sk-parallel-item::before {content: \"\";position: absolute;border-left: 1px solid gray;box-sizing: border-box;top: 0;bottom: 0;left: 50%;z-index: -1;}#sk-container-id-6 div.sk-parallel-item {display: flex;flex-direction: column;z-index: 1;position: relative;background-color: white;}#sk-container-id-6 div.sk-parallel-item:first-child::after {align-self: flex-end;width: 50%;}#sk-container-id-6 div.sk-parallel-item:last-child::after {align-self: flex-start;width: 50%;}#sk-container-id-6 div.sk-parallel-item:only-child::after {width: 0;}#sk-container-id-6 div.sk-dashed-wrapped {border: 1px dashed gray;margin: 0 0.4em 0.5em 0.4em;box-sizing: border-box;padding-bottom: 0.4em;background-color: white;}#sk-container-id-6 div.sk-label label {font-family: monospace;font-weight: bold;display: inline-block;line-height: 1.2em;}#sk-container-id-6 div.sk-label-container {text-align: center;}#sk-container-id-6 div.sk-container {/* jupyter's `normalize.less` sets `[hidden] { display: none; }` but bootstrap.min.css set `[hidden] { display: none !important; }` so we also need the `!important` here to be able to override the default hidden behavior on the sphinx rendered scikit-learn.org. See: https://github.com/scikit-learn/scikit-learn/issues/21755 */display: inline-block !important;position: relative;}#sk-container-id-6 div.sk-text-repr-fallback {display: none;}</style><div id=\"sk-container-id-6\" class=\"sk-top-container\"><div class=\"sk-text-repr-fallback\"><pre>LearningShapelets(batch_size=200, max_iter=250, n_shapelets_per_size={25: 10},\n",
       "                  optimizer=&lt;keras.optimizers.adam.Adam object at 0x000002353EA6CF70&gt;,\n",
       "                  random_state=42, scale=True, weight_regularizer=0.01)</pre><b>In a Jupyter environment, please rerun this cell to show the HTML representation or trust the notebook. <br />On GitHub, the HTML representation is unable to render, please try loading this page with nbviewer.org.</b></div><div class=\"sk-container\" hidden><div class=\"sk-item\"><div class=\"sk-estimator sk-toggleable\"><input class=\"sk-toggleable__control sk-hidden--visually\" id=\"sk-estimator-id-6\" type=\"checkbox\" checked><label for=\"sk-estimator-id-6\" class=\"sk-toggleable__label sk-toggleable__label-arrow\">LearningShapelets</label><div class=\"sk-toggleable__content\"><pre>LearningShapelets(batch_size=200, max_iter=250, n_shapelets_per_size={25: 10},\n",
       "                  optimizer=&lt;keras.optimizers.adam.Adam object at 0x000002353EA6CF70&gt;,\n",
       "                  random_state=42, scale=True, weight_regularizer=0.01)</pre></div></div></div></div></div>"
      ],
      "text/plain": [
       "LearningShapelets(batch_size=200, max_iter=250, n_shapelets_per_size={25: 10},\n",
       "                  optimizer=<keras.optimizers.adam.Adam object at 0x000002353EA6CF70>,\n",
       "                  random_state=42, scale=True, weight_regularizer=0.01)"
      ]
     },
     "execution_count": 42,
     "metadata": {},
     "output_type": "execute_result"
    }
   ],
   "source": [
    "shp_clf = LearningShapelets(n_shapelets_per_size={25:10},\n",
    "                            optimizer=tf.optimizers.Adam(.01),\n",
    "                            batch_size=200,\n",
    "                            weight_regularizer=.01,\n",
    "                            max_iter=250,\n",
    "                            random_state=42,\n",
    "                            scale=True,\n",
    "                            verbose=0)\n",
    "shp_clf.fit(X_train, y_train1)"
   ]
  },
  {
   "cell_type": "code",
   "execution_count": 43,
   "metadata": {},
   "outputs": [
    {
     "name": "stdout",
     "output_type": "stream",
     "text": [
      "WARNING:tensorflow:6 out of the last 6 calls to <function Model.make_predict_function.<locals>.predict_function at 0x000002353E452950> triggered tf.function retracing. Tracing is expensive and the excessive number of tracings could be due to (1) creating @tf.function repeatedly in a loop, (2) passing tensors with different shapes, (3) passing Python objects instead of tensors. For (1), please define your @tf.function outside of the loop. For (2), @tf.function has reduce_retracing=True option that can avoid unnecessary retracing. For (3), please refer to https://www.tensorflow.org/guide/function#controlling_retracing and https://www.tensorflow.org/api_docs/python/tf/function for  more details.\n",
      "Correct classification rate: 0.5866666666666667\n"
     ]
    }
   ],
   "source": [
    "pred_labels = shp_clf.predict(X_test)\n",
    "print(\"Correct classification rate:\", accuracy_score(y_test1, pred_labels))"
   ]
  },
  {
   "cell_type": "code",
   "execution_count": 44,
   "metadata": {},
   "outputs": [],
   "source": [
    "y_train1 = df_steps2.loc[df_steps2[\"CuStepNo ValueY\"] == 8,\"DeviationID ValueY\"].astype(int)\n",
    "y_test1 = df_steps1.loc[df_steps1[\"CuStepNo ValueY\"] == 8,\"DeviationID ValueY\"].astype(int)\n",
    "X_train1 = df_train1.drop([\"DeviationID ValueY\",\"Next_Step\",\"timestamp\",\"Unnamed: 0\"],axis=1)\n",
    "X_test1 = df_test1.drop([\"DeviationID ValueY\",\"Next_Step\",\"timestamp\",\"Unnamed: 0\"],axis=1)"
   ]
  },
  {
   "cell_type": "code",
   "execution_count": 45,
   "metadata": {},
   "outputs": [],
   "source": [
    "X_train_step1 = []\n",
    "for i in X_train1.Batch.unique():\n",
    "        num = numpy.array(X_train1.loc[(X_train1[\"Batch\"] == i)&(X_train1[\"CuStepNo ValueY\"] == 8)].drop([\"Batch\",\"CuStepNo ValueY\"],axis=1))\n",
    "        X_train_step1.append(num)\n",
    "X_test_step1 = []\n",
    "for i in X_test1.Batch.unique():\n",
    "        num = numpy.array(X_test1.loc[(X_test1[\"Batch\"] == i)&(X_test1[\"CuStepNo ValueY\"] == 8)].drop([\"Batch\",\"CuStepNo ValueY\"],axis=1))\n",
    "        X_test_step1.append(num)"
   ]
  },
  {
   "cell_type": "code",
   "execution_count": 46,
   "metadata": {},
   "outputs": [],
   "source": [
    "length = []\n",
    "for i in X_train_step1:\n",
    "    length.append(len(i))\n",
    "X_train_s1 = TimeSeriesResampler(sz=int(np.median(length))).fit_transform(X_train_step1)\n",
    "X_test_s1 = TimeSeriesResampler(sz=int(np.median(length))).fit_transform(X_test_step1)"
   ]
  },
  {
   "cell_type": "code",
   "execution_count": 47,
   "metadata": {},
   "outputs": [],
   "source": [
    "scaler = TimeSeriesScalerMinMax()\n",
    "X_train = scaler.fit_transform(X_train_s1)\n",
    "X_test = scaler.transform(X_test_s1)"
   ]
  },
  {
   "cell_type": "code",
   "execution_count": 48,
   "metadata": {},
   "outputs": [
    {
     "data": {
      "text/plain": [
       "(176, 530, 39)"
      ]
     },
     "execution_count": 48,
     "metadata": {},
     "output_type": "execute_result"
    }
   ],
   "source": [
    "X_train.shape"
   ]
  },
  {
   "cell_type": "code",
   "execution_count": 49,
   "metadata": {},
   "outputs": [
    {
     "data": {
      "text/html": [
       "<style>#sk-container-id-7 {color: black;background-color: white;}#sk-container-id-7 pre{padding: 0;}#sk-container-id-7 div.sk-toggleable {background-color: white;}#sk-container-id-7 label.sk-toggleable__label {cursor: pointer;display: block;width: 100%;margin-bottom: 0;padding: 0.3em;box-sizing: border-box;text-align: center;}#sk-container-id-7 label.sk-toggleable__label-arrow:before {content: \"▸\";float: left;margin-right: 0.25em;color: #696969;}#sk-container-id-7 label.sk-toggleable__label-arrow:hover:before {color: black;}#sk-container-id-7 div.sk-estimator:hover label.sk-toggleable__label-arrow:before {color: black;}#sk-container-id-7 div.sk-toggleable__content {max-height: 0;max-width: 0;overflow: hidden;text-align: left;background-color: #f0f8ff;}#sk-container-id-7 div.sk-toggleable__content pre {margin: 0.2em;color: black;border-radius: 0.25em;background-color: #f0f8ff;}#sk-container-id-7 input.sk-toggleable__control:checked~div.sk-toggleable__content {max-height: 200px;max-width: 100%;overflow: auto;}#sk-container-id-7 input.sk-toggleable__control:checked~label.sk-toggleable__label-arrow:before {content: \"▾\";}#sk-container-id-7 div.sk-estimator input.sk-toggleable__control:checked~label.sk-toggleable__label {background-color: #d4ebff;}#sk-container-id-7 div.sk-label input.sk-toggleable__control:checked~label.sk-toggleable__label {background-color: #d4ebff;}#sk-container-id-7 input.sk-hidden--visually {border: 0;clip: rect(1px 1px 1px 1px);clip: rect(1px, 1px, 1px, 1px);height: 1px;margin: -1px;overflow: hidden;padding: 0;position: absolute;width: 1px;}#sk-container-id-7 div.sk-estimator {font-family: monospace;background-color: #f0f8ff;border: 1px dotted black;border-radius: 0.25em;box-sizing: border-box;margin-bottom: 0.5em;}#sk-container-id-7 div.sk-estimator:hover {background-color: #d4ebff;}#sk-container-id-7 div.sk-parallel-item::after {content: \"\";width: 100%;border-bottom: 1px solid gray;flex-grow: 1;}#sk-container-id-7 div.sk-label:hover label.sk-toggleable__label {background-color: #d4ebff;}#sk-container-id-7 div.sk-serial::before {content: \"\";position: absolute;border-left: 1px solid gray;box-sizing: border-box;top: 0;bottom: 0;left: 50%;z-index: 0;}#sk-container-id-7 div.sk-serial {display: flex;flex-direction: column;align-items: center;background-color: white;padding-right: 0.2em;padding-left: 0.2em;position: relative;}#sk-container-id-7 div.sk-item {position: relative;z-index: 1;}#sk-container-id-7 div.sk-parallel {display: flex;align-items: stretch;justify-content: center;background-color: white;position: relative;}#sk-container-id-7 div.sk-item::before, #sk-container-id-7 div.sk-parallel-item::before {content: \"\";position: absolute;border-left: 1px solid gray;box-sizing: border-box;top: 0;bottom: 0;left: 50%;z-index: -1;}#sk-container-id-7 div.sk-parallel-item {display: flex;flex-direction: column;z-index: 1;position: relative;background-color: white;}#sk-container-id-7 div.sk-parallel-item:first-child::after {align-self: flex-end;width: 50%;}#sk-container-id-7 div.sk-parallel-item:last-child::after {align-self: flex-start;width: 50%;}#sk-container-id-7 div.sk-parallel-item:only-child::after {width: 0;}#sk-container-id-7 div.sk-dashed-wrapped {border: 1px dashed gray;margin: 0 0.4em 0.5em 0.4em;box-sizing: border-box;padding-bottom: 0.4em;background-color: white;}#sk-container-id-7 div.sk-label label {font-family: monospace;font-weight: bold;display: inline-block;line-height: 1.2em;}#sk-container-id-7 div.sk-label-container {text-align: center;}#sk-container-id-7 div.sk-container {/* jupyter's `normalize.less` sets `[hidden] { display: none; }` but bootstrap.min.css set `[hidden] { display: none !important; }` so we also need the `!important` here to be able to override the default hidden behavior on the sphinx rendered scikit-learn.org. See: https://github.com/scikit-learn/scikit-learn/issues/21755 */display: inline-block !important;position: relative;}#sk-container-id-7 div.sk-text-repr-fallback {display: none;}</style><div id=\"sk-container-id-7\" class=\"sk-top-container\"><div class=\"sk-text-repr-fallback\"><pre>LearningShapelets(batch_size=20, max_iter=250, n_shapelets_per_size={50: 10},\n",
       "                  optimizer=&lt;keras.optimizers.adam.Adam object at 0x000002356ED2EC20&gt;,\n",
       "                  random_state=42, scale=True, weight_regularizer=0.01)</pre><b>In a Jupyter environment, please rerun this cell to show the HTML representation or trust the notebook. <br />On GitHub, the HTML representation is unable to render, please try loading this page with nbviewer.org.</b></div><div class=\"sk-container\" hidden><div class=\"sk-item\"><div class=\"sk-estimator sk-toggleable\"><input class=\"sk-toggleable__control sk-hidden--visually\" id=\"sk-estimator-id-7\" type=\"checkbox\" checked><label for=\"sk-estimator-id-7\" class=\"sk-toggleable__label sk-toggleable__label-arrow\">LearningShapelets</label><div class=\"sk-toggleable__content\"><pre>LearningShapelets(batch_size=20, max_iter=250, n_shapelets_per_size={50: 10},\n",
       "                  optimizer=&lt;keras.optimizers.adam.Adam object at 0x000002356ED2EC20&gt;,\n",
       "                  random_state=42, scale=True, weight_regularizer=0.01)</pre></div></div></div></div></div>"
      ],
      "text/plain": [
       "LearningShapelets(batch_size=20, max_iter=250, n_shapelets_per_size={50: 10},\n",
       "                  optimizer=<keras.optimizers.adam.Adam object at 0x000002356ED2EC20>,\n",
       "                  random_state=42, scale=True, weight_regularizer=0.01)"
      ]
     },
     "execution_count": 49,
     "metadata": {},
     "output_type": "execute_result"
    }
   ],
   "source": [
    "shp_clf = LearningShapelets(n_shapelets_per_size={50:10},\n",
    "                            optimizer=tf.optimizers.Adam(.01),\n",
    "                            batch_size=20,\n",
    "                            weight_regularizer=.01,\n",
    "                            max_iter=250,\n",
    "                            random_state=42,\n",
    "                            scale=True,\n",
    "                            verbose=0)\n",
    "shp_clf.fit(X_train, y_train1)"
   ]
  },
  {
   "cell_type": "code",
   "execution_count": 50,
   "metadata": {},
   "outputs": [
    {
     "name": "stdout",
     "output_type": "stream",
     "text": [
      "Correct classification rate: 0.6\n"
     ]
    }
   ],
   "source": [
    "pred_labels = shp_clf.predict(X_test)\n",
    "print(\"Correct classification rate:\", accuracy_score(y_test1, pred_labels))"
   ]
  },
  {
   "cell_type": "code",
   "execution_count": 51,
   "metadata": {},
   "outputs": [],
   "source": [
    "y_train1 = df_steps2.loc[df_steps2[\"CuStepNo ValueY\"] == 3,\"DeviationID ValueY\"].astype(int)\n",
    "y_test1 = df_steps1.loc[df_steps1[\"CuStepNo ValueY\"] == 3,\"DeviationID ValueY\"].astype(int)\n",
    "X_train1 = df_train1.drop([\"DeviationID ValueY\",\"Next_Step\",\"timestamp\",\"Unnamed: 0\"],axis=1)\n",
    "X_test1 = df_test1.drop([\"DeviationID ValueY\",\"Next_Step\",\"timestamp\",\"Unnamed: 0\"],axis=1)"
   ]
  },
  {
   "cell_type": "code",
   "execution_count": 52,
   "metadata": {},
   "outputs": [],
   "source": [
    "X_train_step1 = []\n",
    "for i in X_train1.Batch.unique():\n",
    "        num = numpy.array(X_train1.loc[(X_train1[\"Batch\"] == i)&(X_train1[\"CuStepNo ValueY\"] == 3)].drop([\"Batch\",\"CuStepNo ValueY\"],axis=1))\n",
    "        X_train_step1.append(num)\n",
    "X_test_step1 = []\n",
    "for i in X_test1.Batch.unique():\n",
    "        num = numpy.array(X_test1.loc[(X_test1[\"Batch\"] == i)&(X_test1[\"CuStepNo ValueY\"] == 3)].drop([\"Batch\",\"CuStepNo ValueY\"],axis=1))\n",
    "        X_test_step1.append(num)"
   ]
  },
  {
   "cell_type": "code",
   "execution_count": 53,
   "metadata": {},
   "outputs": [],
   "source": [
    "length = []\n",
    "for i in X_train_step1:\n",
    "    length.append(len(i))\n",
    "X_train_s1 = TimeSeriesResampler(sz=int(np.median(length))).fit_transform(X_train_step1)\n",
    "X_test_s1 = TimeSeriesResampler(sz=int(np.median(length))).fit_transform(X_test_step1)"
   ]
  },
  {
   "cell_type": "code",
   "execution_count": 54,
   "metadata": {},
   "outputs": [],
   "source": [
    "scaler = TimeSeriesScalerMinMax()\n",
    "X_train = scaler.fit_transform(X_train_s1)\n",
    "X_test = scaler.transform(X_test_s1)"
   ]
  },
  {
   "cell_type": "code",
   "execution_count": 55,
   "metadata": {},
   "outputs": [
    {
     "data": {
      "text/plain": [
       "(176, 197, 39)"
      ]
     },
     "execution_count": 55,
     "metadata": {},
     "output_type": "execute_result"
    }
   ],
   "source": [
    "X_train.shape"
   ]
  },
  {
   "cell_type": "code",
   "execution_count": 56,
   "metadata": {},
   "outputs": [
    {
     "data": {
      "text/html": [
       "<style>#sk-container-id-8 {color: black;background-color: white;}#sk-container-id-8 pre{padding: 0;}#sk-container-id-8 div.sk-toggleable {background-color: white;}#sk-container-id-8 label.sk-toggleable__label {cursor: pointer;display: block;width: 100%;margin-bottom: 0;padding: 0.3em;box-sizing: border-box;text-align: center;}#sk-container-id-8 label.sk-toggleable__label-arrow:before {content: \"▸\";float: left;margin-right: 0.25em;color: #696969;}#sk-container-id-8 label.sk-toggleable__label-arrow:hover:before {color: black;}#sk-container-id-8 div.sk-estimator:hover label.sk-toggleable__label-arrow:before {color: black;}#sk-container-id-8 div.sk-toggleable__content {max-height: 0;max-width: 0;overflow: hidden;text-align: left;background-color: #f0f8ff;}#sk-container-id-8 div.sk-toggleable__content pre {margin: 0.2em;color: black;border-radius: 0.25em;background-color: #f0f8ff;}#sk-container-id-8 input.sk-toggleable__control:checked~div.sk-toggleable__content {max-height: 200px;max-width: 100%;overflow: auto;}#sk-container-id-8 input.sk-toggleable__control:checked~label.sk-toggleable__label-arrow:before {content: \"▾\";}#sk-container-id-8 div.sk-estimator input.sk-toggleable__control:checked~label.sk-toggleable__label {background-color: #d4ebff;}#sk-container-id-8 div.sk-label input.sk-toggleable__control:checked~label.sk-toggleable__label {background-color: #d4ebff;}#sk-container-id-8 input.sk-hidden--visually {border: 0;clip: rect(1px 1px 1px 1px);clip: rect(1px, 1px, 1px, 1px);height: 1px;margin: -1px;overflow: hidden;padding: 0;position: absolute;width: 1px;}#sk-container-id-8 div.sk-estimator {font-family: monospace;background-color: #f0f8ff;border: 1px dotted black;border-radius: 0.25em;box-sizing: border-box;margin-bottom: 0.5em;}#sk-container-id-8 div.sk-estimator:hover {background-color: #d4ebff;}#sk-container-id-8 div.sk-parallel-item::after {content: \"\";width: 100%;border-bottom: 1px solid gray;flex-grow: 1;}#sk-container-id-8 div.sk-label:hover label.sk-toggleable__label {background-color: #d4ebff;}#sk-container-id-8 div.sk-serial::before {content: \"\";position: absolute;border-left: 1px solid gray;box-sizing: border-box;top: 0;bottom: 0;left: 50%;z-index: 0;}#sk-container-id-8 div.sk-serial {display: flex;flex-direction: column;align-items: center;background-color: white;padding-right: 0.2em;padding-left: 0.2em;position: relative;}#sk-container-id-8 div.sk-item {position: relative;z-index: 1;}#sk-container-id-8 div.sk-parallel {display: flex;align-items: stretch;justify-content: center;background-color: white;position: relative;}#sk-container-id-8 div.sk-item::before, #sk-container-id-8 div.sk-parallel-item::before {content: \"\";position: absolute;border-left: 1px solid gray;box-sizing: border-box;top: 0;bottom: 0;left: 50%;z-index: -1;}#sk-container-id-8 div.sk-parallel-item {display: flex;flex-direction: column;z-index: 1;position: relative;background-color: white;}#sk-container-id-8 div.sk-parallel-item:first-child::after {align-self: flex-end;width: 50%;}#sk-container-id-8 div.sk-parallel-item:last-child::after {align-self: flex-start;width: 50%;}#sk-container-id-8 div.sk-parallel-item:only-child::after {width: 0;}#sk-container-id-8 div.sk-dashed-wrapped {border: 1px dashed gray;margin: 0 0.4em 0.5em 0.4em;box-sizing: border-box;padding-bottom: 0.4em;background-color: white;}#sk-container-id-8 div.sk-label label {font-family: monospace;font-weight: bold;display: inline-block;line-height: 1.2em;}#sk-container-id-8 div.sk-label-container {text-align: center;}#sk-container-id-8 div.sk-container {/* jupyter's `normalize.less` sets `[hidden] { display: none; }` but bootstrap.min.css set `[hidden] { display: none !important; }` so we also need the `!important` here to be able to override the default hidden behavior on the sphinx rendered scikit-learn.org. See: https://github.com/scikit-learn/scikit-learn/issues/21755 */display: inline-block !important;position: relative;}#sk-container-id-8 div.sk-text-repr-fallback {display: none;}</style><div id=\"sk-container-id-8\" class=\"sk-top-container\"><div class=\"sk-text-repr-fallback\"><pre>LearningShapelets(batch_size=20, max_iter=250, n_shapelets_per_size={20: 10},\n",
       "                  optimizer=&lt;keras.optimizers.adam.Adam object at 0x000002350C0321A0&gt;,\n",
       "                  random_state=42, scale=True, weight_regularizer=0.01)</pre><b>In a Jupyter environment, please rerun this cell to show the HTML representation or trust the notebook. <br />On GitHub, the HTML representation is unable to render, please try loading this page with nbviewer.org.</b></div><div class=\"sk-container\" hidden><div class=\"sk-item\"><div class=\"sk-estimator sk-toggleable\"><input class=\"sk-toggleable__control sk-hidden--visually\" id=\"sk-estimator-id-8\" type=\"checkbox\" checked><label for=\"sk-estimator-id-8\" class=\"sk-toggleable__label sk-toggleable__label-arrow\">LearningShapelets</label><div class=\"sk-toggleable__content\"><pre>LearningShapelets(batch_size=20, max_iter=250, n_shapelets_per_size={20: 10},\n",
       "                  optimizer=&lt;keras.optimizers.adam.Adam object at 0x000002350C0321A0&gt;,\n",
       "                  random_state=42, scale=True, weight_regularizer=0.01)</pre></div></div></div></div></div>"
      ],
      "text/plain": [
       "LearningShapelets(batch_size=20, max_iter=250, n_shapelets_per_size={20: 10},\n",
       "                  optimizer=<keras.optimizers.adam.Adam object at 0x000002350C0321A0>,\n",
       "                  random_state=42, scale=True, weight_regularizer=0.01)"
      ]
     },
     "execution_count": 56,
     "metadata": {},
     "output_type": "execute_result"
    }
   ],
   "source": [
    "shp_clf = LearningShapelets(n_shapelets_per_size={20:10},\n",
    "                            optimizer=tf.optimizers.Adam(.01),\n",
    "                            batch_size=20,\n",
    "                            weight_regularizer=.01,\n",
    "                            max_iter=250,\n",
    "                            random_state=42,\n",
    "                            scale=True,\n",
    "                            verbose=0)\n",
    "shp_clf.fit(X_train, y_train1)"
   ]
  },
  {
   "cell_type": "code",
   "execution_count": 57,
   "metadata": {},
   "outputs": [
    {
     "name": "stdout",
     "output_type": "stream",
     "text": [
      "Correct classification rate: 0.6666666666666666\n"
     ]
    }
   ],
   "source": [
    "pred_labels = shp_clf.predict(X_test)\n",
    "print(\"Correct classification rate:\", accuracy_score(y_test1, pred_labels))"
   ]
  }
 ],
 "metadata": {
  "kernelspec": {
   "display_name": "Python 3",
   "language": "python",
   "name": "python3"
  },
  "language_info": {
   "codemirror_mode": {
    "name": "ipython",
    "version": 3
   },
   "file_extension": ".py",
   "mimetype": "text/x-python",
   "name": "python",
   "nbconvert_exporter": "python",
   "pygments_lexer": "ipython3",
   "version": "3.10.11"
  },
  "orig_nbformat": 4
 },
 "nbformat": 4,
 "nbformat_minor": 2
}
