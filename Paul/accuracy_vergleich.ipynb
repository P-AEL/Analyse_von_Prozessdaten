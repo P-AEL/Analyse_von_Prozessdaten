{
 "cells": [
  {
   "cell_type": "code",
   "execution_count": 81,
   "metadata": {},
   "outputs": [],
   "source": [
    "import numpy\n",
    "from sklearn.metrics import accuracy_score\n",
    "import tensorflow as tf\n",
    "import matplotlib.pyplot as plt\n",
    "\n",
    "from tslearn.datasets import CachedDatasets\n",
    "from tslearn.preprocessing import TimeSeriesScalerMinMax\n",
    "from tslearn.shapelets import LearningShapelets, \\\n",
    "    grabocka_params_to_shapelet_size_dict\n",
    "from tslearn.utils import ts_size\n",
    "import numpy\n",
    "from sklearn.metrics import accuracy_score\n",
    "\n",
    "from tslearn.generators import random_walk_blobs\n",
    "from tslearn.preprocessing import TimeSeriesScalerMinMax, \\\n",
    "    TimeSeriesScalerMeanVariance\n",
    "from tslearn.neighbors import KNeighborsTimeSeriesClassifier, \\\n",
    "    KNeighborsTimeSeries\n",
    "import pandas as pd\n",
    "import numpy as np\n",
    "import random\n",
    "from tslearn.datasets import UCR_UEA_datasets\n",
    "from tslearn.preprocessing import TimeSeriesResampler\n",
    "from sktime.classification.kernel_based import RocketClassifier\n",
    "from sklearn.metrics import accuracy_score, recall_score, precision_score, ConfusionMatrixDisplay, RocCurveDisplay, confusion_matrix, roc_auc_score, roc_curve\n",
    "from sktime.classification.feature_based import Catch22Classifier"
   ]
  },
  {
   "cell_type": "code",
   "execution_count": 82,
   "metadata": {},
   "outputs": [],
   "source": [
    "df = pd.read_pickle(\"Train.pkl\")\n",
    "df.drop(\"Unnamed: 0\",axis=1,inplace=True)\n",
    "df.drop(df.loc[(df.Batch == 238)&(df[\"CuStepNo ValueY\"] == 3)].tail(1).index,inplace=True)"
   ]
  },
  {
   "cell_type": "code",
   "execution_count": 83,
   "metadata": {},
   "outputs": [],
   "source": [
    "randomlist1 = random.sample(range(0, 260), 78)\n",
    "\n",
    "df_test1 = df.loc[df[\"Batch\"].isin(randomlist1)]\n",
    "df_train1 = df.loc[~df[\"Batch\"].isin(randomlist1)]"
   ]
  },
  {
   "cell_type": "code",
   "execution_count": 84,
   "metadata": {},
   "outputs": [],
   "source": [
    "df_steps1 = df_test1.loc[df_test1[\"CuStepNo ValueY\"] != df_test1[\"Next_Step\"]]\n",
    "df_steps2 = df_train1.loc[df_train1[\"CuStepNo ValueY\"] != df_train1[\"Next_Step\"]]\n",
    "y_train1 = df_steps2[\"DeviationID ValueY\"].astype(int)\n",
    "y_test1 = df_steps1[\"DeviationID ValueY\"].astype(int)\n",
    "X_train1 = df_train1.drop([\"DeviationID ValueY\",\"Next_Step\",\"timestamp\"],axis=1)\n",
    "X_test1 = df_test1.drop([\"DeviationID ValueY\",\"Next_Step\",\"timestamp\"],axis=1)"
   ]
  },
  {
   "cell_type": "code",
   "execution_count": 85,
   "metadata": {},
   "outputs": [],
   "source": [
    "from tslearn.metrics import dtw\n",
    "from tslearn.metrics import dtw_path\n",
    "from tslearn.metrics import dtw_subsequence_path\n",
    "from tslearn.metrics import dtw_path_from_metric\n",
    "y_predicted = []\n",
    "for k in X_test1.Batch.unique():\n",
    "    for l in X_test1[\"CuStepNo ValueY\"].unique():\n",
    "        score = []\n",
    "        for i in range(1,11):\n",
    "            meanscore = []\n",
    "            for j in df_train1[(df_train1[\"CuStepNo ValueY\"] == 8)&(df_train1[\"DeviationID ValueY\"] == i)].Batch.unique():\n",
    "                meanscore.append(dtw(X_test1[(X_test1[\"CuStepNo ValueY\"]==l)&(X_test1[\"Batch\"]==k)].drop([\"Batch\"],axis=1),df_train1[(df_train1[\"DeviationID ValueY\"]==i)&(df_train1[\"CuStepNo ValueY\"]==l)&(df_train1[\"Batch\"]==j)].drop([\"DeviationID ValueY\",\"Batch\",\"Next_Step\",\"timestamp\"],axis=1)))\n",
    "            score.append(np.min(meanscore))\n",
    "        y_predicted.append(np.argmin(score)+1)"
   ]
  },
  {
   "cell_type": "code",
   "execution_count": 86,
   "metadata": {},
   "outputs": [
    {
     "data": {
      "text/plain": [
       "[7,\n",
       " 1,\n",
       " 5,\n",
       " 5,\n",
       " 1,\n",
       " 10,\n",
       " 1,\n",
       " 1,\n",
       " 1,\n",
       " 1,\n",
       " 1,\n",
       " 1,\n",
       " 6,\n",
       " 1,\n",
       " 1,\n",
       " 1,\n",
       " 7,\n",
       " 10,\n",
       " 1,\n",
       " 4,\n",
       " 1,\n",
       " 5,\n",
       " 1,\n",
       " 1,\n",
       " 5,\n",
       " 5,\n",
       " 1,\n",
       " 1,\n",
       " 5,\n",
       " 7,\n",
       " 1,\n",
       " 1,\n",
       " 1,\n",
       " 5,\n",
       " 1,\n",
       " 1,\n",
       " 5,\n",
       " 5,\n",
       " 1,\n",
       " 1,\n",
       " 5,\n",
       " 1,\n",
       " 1,\n",
       " 1,\n",
       " 2,\n",
       " 2,\n",
       " 2,\n",
       " 2,\n",
       " 2,\n",
       " 2,\n",
       " 2,\n",
       " 2,\n",
       " 2,\n",
       " 2,\n",
       " 2,\n",
       " 2,\n",
       " 2,\n",
       " 2,\n",
       " 2,\n",
       " 2,\n",
       " 2,\n",
       " 2,\n",
       " 2,\n",
       " 2,\n",
       " 2,\n",
       " 2,\n",
       " 2,\n",
       " 2,\n",
       " 2,\n",
       " 2,\n",
       " 2,\n",
       " 2,\n",
       " 3,\n",
       " 3,\n",
       " 3,\n",
       " 3,\n",
       " 3,\n",
       " 4,\n",
       " 3,\n",
       " 3,\n",
       " 3,\n",
       " 3,\n",
       " 3,\n",
       " 3,\n",
       " 3,\n",
       " 3,\n",
       " 3,\n",
       " 3,\n",
       " 3,\n",
       " 3,\n",
       " 3,\n",
       " 3,\n",
       " 3,\n",
       " 3,\n",
       " 3,\n",
       " 3,\n",
       " 4,\n",
       " 4,\n",
       " 3,\n",
       " 5,\n",
       " 4,\n",
       " 3,\n",
       " 4,\n",
       " 4,\n",
       " 4,\n",
       " 3,\n",
       " 3,\n",
       " 4,\n",
       " 4,\n",
       " 4,\n",
       " 3,\n",
       " 4,\n",
       " 4,\n",
       " 4,\n",
       " 3,\n",
       " 1,\n",
       " 4,\n",
       " 4,\n",
       " 3,\n",
       " 4,\n",
       " 4,\n",
       " 4,\n",
       " 3,\n",
       " 4,\n",
       " 4,\n",
       " 3,\n",
       " 3,\n",
       " 1,\n",
       " 4,\n",
       " 3,\n",
       " 3,\n",
       " 4,\n",
       " 4,\n",
       " 3,\n",
       " 3,\n",
       " 4,\n",
       " 10,\n",
       " 9,\n",
       " 5,\n",
       " 5,\n",
       " 1,\n",
       " 5,\n",
       " 5,\n",
       " 5,\n",
       " 1,\n",
       " 1,\n",
       " 5,\n",
       " 5,\n",
       " 1,\n",
       " 5,\n",
       " 5,\n",
       " 5,\n",
       " 1,\n",
       " 1,\n",
       " 5,\n",
       " 5,\n",
       " 5,\n",
       " 5,\n",
       " 5,\n",
       " 5,\n",
       " 6,\n",
       " 7,\n",
       " 6,\n",
       " 6,\n",
       " 6,\n",
       " 6,\n",
       " 6,\n",
       " 6,\n",
       " 6,\n",
       " 7,\n",
       " 6,\n",
       " 6,\n",
       " 6,\n",
       " 6,\n",
       " 6,\n",
       " 6,\n",
       " 7,\n",
       " 7,\n",
       " 7,\n",
       " 7,\n",
       " 7,\n",
       " 7,\n",
       " 7,\n",
       " 7,\n",
       " 7,\n",
       " 6,\n",
       " 7,\n",
       " 7,\n",
       " 7,\n",
       " 7,\n",
       " 7,\n",
       " 7,\n",
       " 10,\n",
       " 6,\n",
       " 7,\n",
       " 7,\n",
       " 6,\n",
       " 6,\n",
       " 7,\n",
       " 7,\n",
       " 7,\n",
       " 6,\n",
       " 7,\n",
       " 7,\n",
       " 8,\n",
       " 6,\n",
       " 8,\n",
       " 8,\n",
       " 7,\n",
       " 8,\n",
       " 8,\n",
       " 8,\n",
       " 8,\n",
       " 8,\n",
       " 8,\n",
       " 8,\n",
       " 8,\n",
       " 8,\n",
       " 8,\n",
       " 8,\n",
       " 8,\n",
       " 8,\n",
       " 8,\n",
       " 8,\n",
       " 9,\n",
       " 9,\n",
       " 9,\n",
       " 9,\n",
       " 9,\n",
       " 9,\n",
       " 9,\n",
       " 9,\n",
       " 9,\n",
       " 9,\n",
       " 9,\n",
       " 10,\n",
       " 9,\n",
       " 9,\n",
       " 9,\n",
       " 9,\n",
       " 9,\n",
       " 9,\n",
       " 9,\n",
       " 10,\n",
       " 9,\n",
       " 9,\n",
       " 9,\n",
       " 10,\n",
       " 6,\n",
       " 7,\n",
       " 10,\n",
       " 10,\n",
       " 10,\n",
       " 10,\n",
       " 9,\n",
       " 10,\n",
       " 10,\n",
       " 6,\n",
       " 9,\n",
       " 10,\n",
       " 10,\n",
       " 6,\n",
       " 9,\n",
       " 10,\n",
       " 10,\n",
       " 6,\n",
       " 10,\n",
       " 10,\n",
       " 6,\n",
       " 10,\n",
       " 9,\n",
       " 10,\n",
       " 10,\n",
       " 10,\n",
       " 10,\n",
       " 10,\n",
       " 7,\n",
       " 6,\n",
       " 9,\n",
       " 9,\n",
       " 9,\n",
       " 9,\n",
       " 10,\n",
       " 9,\n",
       " 9,\n",
       " 9,\n",
       " 9,\n",
       " 9]"
      ]
     },
     "execution_count": 86,
     "metadata": {},
     "output_type": "execute_result"
    }
   ],
   "source": [
    "y_predicted"
   ]
  },
  {
   "cell_type": "code",
   "execution_count": 87,
   "metadata": {},
   "outputs": [],
   "source": [
    "y_train_step1 = df_steps2.loc[df_steps2[\"CuStepNo ValueY\"] == 1,\"DeviationID ValueY\"].astype(int)\n",
    "y_train_step7 = df_steps2.loc[df_steps2[\"CuStepNo ValueY\"] == 7,\"DeviationID ValueY\"].astype(int)\n",
    "y_train_step8 = df_steps2.loc[df_steps2[\"CuStepNo ValueY\"] == 8,\"DeviationID ValueY\"].astype(int)\n",
    "y_train_step3 = df_steps2.loc[df_steps2[\"CuStepNo ValueY\"] == 3,\"DeviationID ValueY\"].astype(int)\n",
    "\n",
    "#step1\n",
    "X_train_step1 = []\n",
    "for i in X_train1.Batch.unique():\n",
    "        num = numpy.array(X_train1.loc[(X_train1[\"Batch\"] == i)&(X_train1[\"CuStepNo ValueY\"] == 1)].drop([\"Batch\",\"CuStepNo ValueY\"],axis=1))\n",
    "        X_train_step1.append(num)\n",
    "X_test_step1 = []\n",
    "for i in X_test1.Batch.unique():\n",
    "        num = numpy.array(X_test1.loc[(X_test1[\"Batch\"] == i)&(X_test1[\"CuStepNo ValueY\"] == 1)].drop([\"Batch\",\"CuStepNo ValueY\"],axis=1))\n",
    "        X_test_step1.append(num)\n",
    "#step7\n",
    "X_train_step7 = []\n",
    "for i in X_train1.Batch.unique():\n",
    "        num = numpy.array(X_train1.loc[(X_train1[\"Batch\"] == i)&(X_train1[\"CuStepNo ValueY\"] == 7)].drop([\"Batch\",\"CuStepNo ValueY\"],axis=1))\n",
    "        X_train_step7.append(num)\n",
    "X_test_step7 = []\n",
    "for i in X_test1.Batch.unique():\n",
    "        num = numpy.array(X_test1.loc[(X_test1[\"Batch\"] == i)&(X_test1[\"CuStepNo ValueY\"] == 7)].drop([\"Batch\",\"CuStepNo ValueY\"],axis=1))\n",
    "        X_test_step7.append(num)\n",
    "#step8\n",
    "X_train_step8 = []\n",
    "for i in X_train1.Batch.unique():\n",
    "        num = numpy.array(X_train1.loc[(X_train1[\"Batch\"] == i)&(X_train1[\"CuStepNo ValueY\"] == 8)].drop([\"Batch\",\"CuStepNo ValueY\"],axis=1))\n",
    "        X_train_step8.append(num)\n",
    "X_test_step8 = []\n",
    "for i in X_test1.Batch.unique():\n",
    "        num = numpy.array(X_test1.loc[(X_test1[\"Batch\"] == i)&(X_test1[\"CuStepNo ValueY\"] == 8)].drop([\"Batch\",\"CuStepNo ValueY\"],axis=1))\n",
    "        X_test_step8.append(num)\n",
    "#step3\n",
    "X_train_step3 = []\n",
    "for i in X_train1.Batch.unique():\n",
    "        num = numpy.array(X_train1.loc[(X_train1[\"Batch\"] == i)&(X_train1[\"CuStepNo ValueY\"] == 3)].drop([\"Batch\",\"CuStepNo ValueY\"],axis=1))\n",
    "        X_train_step3.append(num)\n",
    "X_test_step3 = []\n",
    "for i in X_test1.Batch.unique():\n",
    "        num = numpy.array(X_test1.loc[(X_test1[\"Batch\"] == i)&(X_test1[\"CuStepNo ValueY\"] == 3)].drop([\"Batch\",\"CuStepNo ValueY\"],axis=1))\n",
    "        X_test_step3.append(num)"
   ]
  },
  {
   "cell_type": "code",
   "execution_count": 88,
   "metadata": {},
   "outputs": [],
   "source": [
    "#length\n",
    "length_step1 = []\n",
    "for i in X_train_step1:\n",
    "    length_step1.append(i.__len__())\n",
    "length_step7 = []\n",
    "for i in X_train_step7:\n",
    "    length_step7.append(i.__len__())\n",
    "length_step8 = []\n",
    "for i in X_train_step8:\n",
    "    length_step8.append(i.__len__())\n",
    "length_step3 = []\n",
    "for i in X_train_step3:\n",
    "    length_step3.append(i.__len__())"
   ]
  },
  {
   "cell_type": "code",
   "execution_count": 89,
   "metadata": {},
   "outputs": [],
   "source": [
    "#Resample\n",
    "X_train_s1 = TimeSeriesResampler(sz=int(np.median(length_step1))).fit_transform(X_train_step1)\n",
    "X_test_s1 = TimeSeriesResampler(sz=int(np.median(length_step1))).fit_transform(X_test_step1)\n",
    "X_train_s7 = TimeSeriesResampler(sz=int(np.median(length_step7))).fit_transform(X_train_step7)\n",
    "X_test_s7 = TimeSeriesResampler(sz=int(np.median(length_step7))).fit_transform(X_test_step7)\n",
    "X_train_s8 = TimeSeriesResampler(sz=int(np.median(length_step8))).fit_transform(X_train_step8)\n",
    "X_test_s8 = TimeSeriesResampler(sz=int(np.median(length_step8))).fit_transform(X_test_step8)\n",
    "X_train_s3 = TimeSeriesResampler(sz=int(np.median(length_step3))).fit_transform(X_train_step3)\n",
    "X_test_s3 = TimeSeriesResampler(sz=int(np.median(length_step3))).fit_transform(X_test_step3)"
   ]
  },
  {
   "cell_type": "code",
   "execution_count": 90,
   "metadata": {},
   "outputs": [],
   "source": [
    "#Reshape\n",
    "X_train_s1_reshaped = X_train_s1.reshape(X_train_s1.shape[0],39,X_train_s1.shape[1])\n",
    "X_test_s1_reshaped = X_test_s1.reshape(X_test_s1.shape[0],39,X_test_s1.shape[1])\n",
    "X_train_s7_reshaped = X_train_s7.reshape(X_train_s7.shape[0],39,X_train_s7.shape[1])\n",
    "X_test_s7_reshaped = X_test_s7.reshape(X_test_s7.shape[0],39,X_test_s7.shape[1])\n",
    "X_train_s8_reshaped = X_train_s8.reshape(X_train_s8.shape[0],39,X_train_s8.shape[1])\n",
    "X_test_s8_reshaped = X_test_s8.reshape(X_test_s8.shape[0],39,X_test_s8.shape[1])\n",
    "X_train_s3_reshaped = X_train_s3.reshape(X_train_s3.shape[0],39,X_train_s3.shape[1])\n",
    "X_test_s3_reshaped = X_test_s3.reshape(X_test_s3.shape[0],39,X_test_s3.shape[1])"
   ]
  },
  {
   "cell_type": "code",
   "execution_count": 91,
   "metadata": {},
   "outputs": [
    {
     "data": {
      "text/plain": [
       "(179,)"
      ]
     },
     "execution_count": 91,
     "metadata": {},
     "output_type": "execute_result"
    }
   ],
   "source": [
    "y_train_step1.shape"
   ]
  },
  {
   "cell_type": "code",
   "execution_count": 92,
   "metadata": {},
   "outputs": [],
   "source": [
    "#Rocket\n",
    "clf_step1 = RocketClassifier(num_kernels=300) \n",
    "clf_step1.fit(X_train_s1_reshaped, np.array(y_train_step1)) \n",
    "y_pred_step1 = clf_step1.predict(X_test_s1_reshaped)\n",
    "y_prep_step1_proba = clf_step1.predict_proba(X_test_s1_reshaped)\n",
    "\n",
    "#Rocket\n",
    "clf_step7 = RocketClassifier(num_kernels=300)\n",
    "clf_step7.fit(X_train_s7_reshaped, np.array(y_train_step7))\n",
    "y_pred_step7 = clf_step7.predict(X_test_s7_reshaped)\n",
    "y_prep_step7_proba = clf_step7.predict_proba(X_test_s7_reshaped)\n",
    "\n",
    "#Rocket\n",
    "clf_step8 = RocketClassifier(num_kernels=300)\n",
    "clf_step8.fit(X_train_s8_reshaped, np.array(y_train_step8))\n",
    "y_pred_step8 = clf_step8.predict(X_test_s8_reshaped)\n",
    "y_prep_step8_proba = clf_step8.predict_proba(X_test_s8_reshaped)\n",
    "\n",
    "#Rocket\n",
    "clf_step3 = RocketClassifier(num_kernels=300)\n",
    "clf_step3.fit(X_train_s3_reshaped, np.array(y_train_step3))\n",
    "y_pred_step3 = clf_step3.predict(X_test_s3_reshaped)\n",
    "y_prep_step3_proba = clf_step3.predict_proba(X_test_s3_reshaped)"
   ]
  },
  {
   "cell_type": "code",
   "execution_count": 93,
   "metadata": {},
   "outputs": [],
   "source": [
    "y_pred_rocket = list(zip(y_pred_step1,y_pred_step7,y_pred_step8,y_pred_step3))\n",
    "y_prep_rocket_proba = list(zip(y_prep_step1_proba,y_prep_step7_proba,y_prep_step8_proba,y_prep_step3_proba))\n"
   ]
  },
  {
   "cell_type": "code",
   "execution_count": 94,
   "metadata": {},
   "outputs": [
    {
     "data": {
      "text/plain": [
       "2102      5\n",
       "2350      5\n",
       "2416      5\n",
       "3012      5\n",
       "8917      1\n",
       "         ..\n",
       "258177    9\n",
       "261541    9\n",
       "261846    9\n",
       "261918    9\n",
       "262455    9\n",
       "Name: DeviationID ValueY, Length: 288, dtype: int32"
      ]
     },
     "execution_count": 94,
     "metadata": {},
     "output_type": "execute_result"
    }
   ],
   "source": [
    "y_test1"
   ]
  },
  {
   "cell_type": "code",
   "execution_count": 95,
   "metadata": {},
   "outputs": [
    {
     "data": {
      "text/plain": [
       "(288,)"
      ]
     },
     "execution_count": 95,
     "metadata": {},
     "output_type": "execute_result"
    }
   ],
   "source": [
    "np.array(y_pred_rocket).flatten().shape"
   ]
  },
  {
   "cell_type": "code",
   "execution_count": 96,
   "metadata": {},
   "outputs": [
    {
     "data": {
      "text/plain": [
       "0.8333333333333334"
      ]
     },
     "execution_count": 96,
     "metadata": {},
     "output_type": "execute_result"
    }
   ],
   "source": [
    "accuracy_score(y_test1,np.array(y_pred_rocket).flatten())"
   ]
  },
  {
   "cell_type": "code",
   "execution_count": 97,
   "metadata": {},
   "outputs": [
    {
     "data": {
      "text/plain": [
       "7"
      ]
     },
     "execution_count": 97,
     "metadata": {},
     "output_type": "execute_result"
    }
   ],
   "source": [
    "round(X_train_s7.shape[1]/10)"
   ]
  },
  {
   "cell_type": "code",
   "execution_count": 99,
   "metadata": {},
   "outputs": [
    {
     "name": "stdout",
     "output_type": "stream",
     "text": [
      "1\n",
      "7\n",
      "8\n",
      "WARNING:tensorflow:5 out of the last 8 calls to <function Model.make_predict_function.<locals>.predict_function at 0x000002828D55D3F0> triggered tf.function retracing. Tracing is expensive and the excessive number of tracings could be due to (1) creating @tf.function repeatedly in a loop, (2) passing tensors with different shapes, (3) passing Python objects instead of tensors. For (1), please define your @tf.function outside of the loop. For (2), @tf.function has reduce_retracing=True option that can avoid unnecessary retracing. For (3), please refer to https://www.tensorflow.org/guide/function#controlling_retracing and https://www.tensorflow.org/api_docs/python/tf/function for  more details.\n"
     ]
    }
   ],
   "source": [
    "#Learning Shapelets\n",
    "shp_clf_step1 = LearningShapelets(n_shapelets_per_size={round(X_train_s1.shape[1]/10):10},\n",
    "                            optimizer=tf.optimizers.Adam(.01),\n",
    "                            batch_size=200,\n",
    "                            weight_regularizer=.01,\n",
    "                            max_iter=250,\n",
    "                            random_state=42,\n",
    "                            scale=True,\n",
    "                            verbose=0)\n",
    "shp_clf_step1.fit(X_train_s1, y_train_step1)\n",
    "y_pred_step1 = shp_clf_step1.predict(X_test_s1)\n",
    "y_prep_step1_proba = shp_clf_step1.predict_proba(X_test_s1)\n",
    "print(\"1\")\n",
    "\n",
    "#Learning Shapelets\n",
    "shp_clf_step7 = LearningShapelets(n_shapelets_per_size={round(X_train_s7.shape[1]/10):10},\n",
    "                            optimizer=tf.optimizers.Adam(.01),\n",
    "                            batch_size=200,\n",
    "                            weight_regularizer=.01,\n",
    "                            max_iter=250,\n",
    "                            random_state=42,\n",
    "                            scale=True,\n",
    "                            verbose=0)\n",
    "shp_clf_step7.fit(X_train_s7, y_train_step7)\n",
    "y_pred_step7 = shp_clf_step7.predict(X_test_s7)\n",
    "y_prep_step7_proba = shp_clf_step7.predict_proba(X_test_s7)\n",
    "print(\"7\")\n",
    "\n",
    "#Learning Shapelets\n",
    "shp_clf_step8 = LearningShapelets(n_shapelets_per_size={round(X_train_s8.shape[1]/10):10},\n",
    "                            optimizer=tf.optimizers.Adam(.01),\n",
    "                            batch_size=200,\n",
    "                            weight_regularizer=.01,\n",
    "                            max_iter=250,\n",
    "                            random_state=42,\n",
    "                            scale=True,\n",
    "                            verbose=0)\n",
    "shp_clf_step8.fit(X_train_s8, y_train_step8)\n",
    "y_pred_step8 = shp_clf_step8.predict(X_test_s8)\n",
    "y_prep_step8_proba = shp_clf_step8.predict_proba(X_test_s8)\n",
    "print(\"8\")\n",
    "\n",
    "#Learning Shapelets\n",
    "shp_clf_step3 = LearningShapelets(n_shapelets_per_size={round(X_train_s3.shape[1]/10):10},\n",
    "                            optimizer=tf.optimizers.Adam(.01),\n",
    "                            batch_size=200,\n",
    "                            weight_regularizer=.01,\n",
    "                            max_iter=250,\n",
    "                            random_state=42,\n",
    "                            scale=True,\n",
    "                            verbose=0)\n",
    "shp_clf_step3.fit(X_train_s3, y_train_step3)\n",
    "y_pred_step3 = shp_clf_step3.predict(X_test_s3)\n",
    "y_prep_step3_proba = shp_clf_step3.predict_proba(X_test_s3)"
   ]
  },
  {
   "cell_type": "code",
   "execution_count": 100,
   "metadata": {},
   "outputs": [],
   "source": [
    "y_pred_shapelet = list(zip(y_pred_step1,y_pred_step7,y_pred_step8,y_pred_step3))\n",
    "y_prep_shapelet_proba = list(zip(y_prep_step1_proba,y_prep_step7_proba,y_prep_step8_proba,y_prep_step3_proba))\n"
   ]
  },
  {
   "cell_type": "code",
   "execution_count": 101,
   "metadata": {},
   "outputs": [
    {
     "data": {
      "text/plain": [
       "0.5555555555555556"
      ]
     },
     "execution_count": 101,
     "metadata": {},
     "output_type": "execute_result"
    }
   ],
   "source": [
    "accuracy_score(y_test1,np.array(y_pred_shapelet).flatten())"
   ]
  },
  {
   "cell_type": "code",
   "execution_count": 102,
   "metadata": {},
   "outputs": [
    {
     "name": "stdout",
     "output_type": "stream",
     "text": [
      "1\n",
      "7\n",
      "8\n"
     ]
    }
   ],
   "source": [
    "#Catch22\n",
    "clf_step1 = Catch22Classifier()\n",
    "clf_step1.fit(X_train_s1_reshaped, y_train_step1)\n",
    "y_pred_step1 = clf_step1.predict(X_test_s1_reshaped)\n",
    "print(\"1\")\n",
    "#Catch22\n",
    "clf_step7 = Catch22Classifier()\n",
    "clf_step7.fit(X_train_s7_reshaped, y_train_step7)\n",
    "y_pred_step7 = clf_step7.predict(X_test_s7_reshaped)\n",
    "print(\"7\")\n",
    "#Catch22\n",
    "clf_step8 = Catch22Classifier()\n",
    "clf_step8.fit(X_train_s8_reshaped, y_train_step8)\n",
    "y_pred_step8 = clf_step8.predict(X_test_s8_reshaped)\n",
    "print(\"8\")\n",
    "#Catch22\n",
    "clf_step3 = Catch22Classifier()\n",
    "clf_step3.fit(X_train_s3_reshaped, y_train_step3)\n",
    "y_pred_step3 = clf_step3.predict(X_test_s3_reshaped)"
   ]
  },
  {
   "cell_type": "code",
   "execution_count": 103,
   "metadata": {},
   "outputs": [],
   "source": [
    "y_prep_step1_proba = clf_step1.predict_proba(X_test_s1_reshaped)\n",
    "y_prep_step7_proba = clf_step7.predict_proba(X_test_s7_reshaped)\n",
    "y_prep_step8_proba = clf_step8.predict_proba(X_test_s8_reshaped)\n",
    "y_prep_step3_proba = clf_step3.predict_proba(X_test_s3_reshaped)"
   ]
  },
  {
   "cell_type": "code",
   "execution_count": 104,
   "metadata": {},
   "outputs": [],
   "source": [
    "y_pred_catch22 = list(zip(y_pred_step1,y_pred_step7,y_pred_step8,y_pred_step3))\n",
    "y_prep_catch22_proba = list(zip(y_prep_step1_proba,y_prep_step7_proba,y_prep_step8_proba,y_prep_step3_proba))"
   ]
  },
  {
   "cell_type": "code",
   "execution_count": 105,
   "metadata": {},
   "outputs": [
    {
     "data": {
      "text/plain": [
       "2102      5\n",
       "2350      5\n",
       "2416      5\n",
       "3012      5\n",
       "8917      1\n",
       "         ..\n",
       "258177    9\n",
       "261541    9\n",
       "261846    9\n",
       "261918    9\n",
       "262455    9\n",
       "Name: DeviationID ValueY, Length: 288, dtype: int32"
      ]
     },
     "execution_count": 105,
     "metadata": {},
     "output_type": "execute_result"
    }
   ],
   "source": [
    "y_test1"
   ]
  },
  {
   "cell_type": "code",
   "execution_count": 106,
   "metadata": {},
   "outputs": [],
   "source": [
    "y_test_proba = y_test1 == 1"
   ]
  },
  {
   "cell_type": "code",
   "execution_count": 107,
   "metadata": {},
   "outputs": [
    {
     "data": {
      "text/plain": [
       "False    252\n",
       "True      36\n",
       "Name: DeviationID ValueY, dtype: int64"
      ]
     },
     "execution_count": 107,
     "metadata": {},
     "output_type": "execute_result"
    }
   ],
   "source": [
    "y_test_proba.value_counts()"
   ]
  },
  {
   "cell_type": "code",
   "execution_count": 108,
   "metadata": {},
   "outputs": [],
   "source": [
    "y_predicted_proba = np.array(y_predicted) == 1"
   ]
  },
  {
   "cell_type": "code",
   "execution_count": 109,
   "metadata": {},
   "outputs": [],
   "source": [
    "fpr1, tpr1, thresholds1 = roc_curve(y_test_proba,y_predicted_proba)"
   ]
  },
  {
   "cell_type": "code",
   "execution_count": 112,
   "metadata": {},
   "outputs": [
    {
     "data": {
      "image/png": "[encoded data removed]",
      "text/plain": [
       "<Figure size 432x288 with 1 Axes>"
      ]
     },
     "metadata": {
      "needs_background": "light"
     },
     "output_type": "display_data"
    }
   ],
   "source": [
    "#plotting ROC curve\n",
    "fpr1, tpr1, thresholds1 = roc_curve(y_test_proba,y_predicted_proba)\n",
    "fpr, tpr, thresholds = roc_curve(y_test_proba,np.array(y_prep_catch22_proba).flatten().reshape(288,10)[:,0])\n",
    "fpr2, tpr2, thresholds2 = roc_curve(y_test_proba,np.array(y_prep_shapelet_proba).flatten().reshape(288,10)[:,0])\n",
    "fpr3, tpr3, thresholds3 = roc_curve(y_test_proba,np.array(y_prep_rocket_proba).flatten().reshape(288,10)[:,0])\n",
    "\n",
    "plt.plot(fpr, tpr, color='orange', label='Catch22')\n",
    "plt.plot(fpr1, tpr1, color='blue', label='NearestNeighbour')\n",
    "plt.plot(fpr2, tpr2, color='green', label='Shapelets')\n",
    "plt.plot(fpr3, tpr3, color='red', label='Rocket')\n",
    "plt.plot([0, 1], [0, 1], color='darkblue', linestyle='--')\n",
    "plt.xlabel('False Positive Rate')\n",
    "plt.ylabel('True Positive Rate')\n",
    "plt.title('ROCW Curve DeviationID 1')\n",
    "plt.legend()\n",
    "plt.show()\n"
   ]
  },
  {
   "cell_type": "code",
   "execution_count": null,
   "metadata": {},
   "outputs": [],
   "source": [
    "plt.step(fpr, tpr, color='b', alpha=0.2,where='post')"
   ]
  },
  {
   "cell_type": "code",
   "execution_count": null,
   "metadata": {},
   "outputs": [],
   "source": [
    "plot_roc_curve(X_test, y_test, \n",
    " y_predict= [\n",
    "  [best_gbc, y_pred_test_best_gbc, \"GradientBoostingClassifier\"],\n",
    "  [best_dtc, y_pred_test_best_dtc, \"DecisionTreeClassifier\"],\n",
    "  [clf, y_pred_test_best_clf, \"LinearSVC\"],\n",
    "  [rfc, y_pred_test_best_rfc, \"RandomForest\"],\n",
    "  [best_lrc, y_pred_test_best_lrc, \"LogisticRegression\"]\n",
    "  ]\n",
    " )"
   ]
  }
 ],
 "metadata": {
  "kernelspec": {
   "display_name": "Python 3",
   "language": "python",
   "name": "python3"
  },
  "language_info": {
   "codemirror_mode": {
    "name": "ipython",
    "version": 3
   },
   "file_extension": ".py",
   "mimetype": "text/x-python",
   "name": "python",
   "nbconvert_exporter": "python",
   "pygments_lexer": "ipython3",
   "version": "3.10.11"
  },
  "orig_nbformat": 4
 },
 "nbformat": 4,
 "nbformat_minor": 2
}
