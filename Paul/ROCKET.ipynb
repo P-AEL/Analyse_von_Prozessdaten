{
 "cells": [
  {
   "cell_type": "code",
   "execution_count": 1,
   "metadata": {},
   "outputs": [],
   "source": [
    "import numpy\n",
    "from sklearn.metrics import accuracy_score\n",
    "import tensorflow as tf\n",
    "import matplotlib.pyplot as plt\n",
    "\n",
    "from tslearn.datasets import CachedDatasets\n",
    "from tslearn.preprocessing import TimeSeriesScalerMinMax\n",
    "from tslearn.shapelets import LearningShapelets, \\\n",
    "    grabocka_params_to_shapelet_size_dict\n",
    "from tslearn.utils import ts_size\n",
    "import numpy\n",
    "from sklearn.metrics import accuracy_score\n",
    "\n",
    "from tslearn.generators import random_walk_blobs\n",
    "from tslearn.preprocessing import TimeSeriesScalerMinMax, \\\n",
    "    TimeSeriesScalerMeanVariance\n",
    "from tslearn.neighbors import KNeighborsTimeSeriesClassifier, \\\n",
    "    KNeighborsTimeSeries\n",
    "import pandas as pd\n",
    "import numpy as np\n",
    "import random\n",
    "from tslearn.datasets import UCR_UEA_datasets\n",
    "import sktime\n",
    "from tslearn.preprocessing import TimeSeriesResampler\n",
    "import random\n",
    "from sktime.classification.kernel_based import RocketClassifier\n",
    "from sktime.datasets import load_unit_test"
   ]
  },
  {
   "cell_type": "code",
   "execution_count": 2,
   "metadata": {},
   "outputs": [],
   "source": [
    "df = pd.read_pickle(\"Train.pkl\")"
   ]
  },
  {
   "cell_type": "code",
   "execution_count": 3,
   "metadata": {},
   "outputs": [],
   "source": [
    "df.drop(\"Unnamed: 0\",axis=1,inplace=True)"
   ]
  },
  {
   "cell_type": "code",
   "execution_count": 4,
   "metadata": {},
   "outputs": [],
   "source": [
    "df.drop(df.loc[(df.Batch == 238)&(df[\"CuStepNo ValueY\"] == 3)].tail(1).index,inplace=True)"
   ]
  },
  {
   "cell_type": "code",
   "execution_count": 38,
   "metadata": {},
   "outputs": [],
   "source": [
    "df_test = pd.read_csv(\"Batch_76.csv\")\n",
    "df_test.drop(\"Unnamed: 0\",axis=1,inplace=True)"
   ]
  },
  {
   "cell_type": "code",
   "execution_count": 39,
   "metadata": {},
   "outputs": [],
   "source": [
    "df_test1 = df_test[:450]"
   ]
  },
  {
   "cell_type": "code",
   "execution_count": 7,
   "metadata": {},
   "outputs": [
    {
     "data": {
      "text/plain": [
       "8"
      ]
     },
     "execution_count": 7,
     "metadata": {},
     "output_type": "execute_result"
    }
   ],
   "source": [
    "df_test1[\"CuStepNo ValueY\"].unique()[-1]"
   ]
  },
  {
   "cell_type": "code",
   "execution_count": 8,
   "metadata": {},
   "outputs": [
    {
     "data": {
      "text/plain": [
       "139"
      ]
     },
     "execution_count": 8,
     "metadata": {},
     "output_type": "execute_result"
    }
   ],
   "source": [
    "df_test1[df_test1[\"CuStepNo ValueY\"] == df_test1[\"CuStepNo ValueY\"].unique()[-1]].__len__()"
   ]
  },
  {
   "cell_type": "code",
   "execution_count": 9,
   "metadata": {},
   "outputs": [],
   "source": [
    "df1 = df.loc[df[\"CuStepNo ValueY\"].isin(df_test1[\"CuStepNo ValueY\"].unique())]"
   ]
  },
  {
   "cell_type": "code",
   "execution_count": 10,
   "metadata": {},
   "outputs": [
    {
     "data": {
      "text/html": [
       "<div>\n",
       "<style scoped>\n",
       "    .dataframe tbody tr th:only-of-type {\n",
       "        vertical-align: middle;\n",
       "    }\n",
       "\n",
       "    .dataframe tbody tr th {\n",
       "        vertical-align: top;\n",
       "    }\n",
       "\n",
       "    .dataframe thead th {\n",
       "        text-align: right;\n",
       "    }\n",
       "</style>\n",
       "<table border=\"1\" class=\"dataframe\">\n",
       "  <thead>\n",
       "    <tr style=\"text-align: right;\">\n",
       "      <th></th>\n",
       "      <th>timestamp</th>\n",
       "      <th>DeviationID ValueY</th>\n",
       "      <th>CuStepNo ValueY</th>\n",
       "      <th>LevelMainTank ValueY</th>\n",
       "      <th>YC10001_MV ValueY</th>\n",
       "      <th>PI12002_PV_Out ValueY</th>\n",
       "      <th>PI12003_PV_Out ValueY</th>\n",
       "      <th>YC14001_MV ValueY</th>\n",
       "      <th>FIC14002_MV ValueY</th>\n",
       "      <th>FIC14002_PV_Out ValueY</th>\n",
       "      <th>...</th>\n",
       "      <th>LIC21002_MV ValueY</th>\n",
       "      <th>LIC21002_PV_Out ValueY</th>\n",
       "      <th>LIC21002_SP ValueY</th>\n",
       "      <th>PIC14007_MV ValueY</th>\n",
       "      <th>PIC14007_PV_Out ValueY</th>\n",
       "      <th>PIC14007_SP ValueY</th>\n",
       "      <th>YC14008_Ctrl ValueY</th>\n",
       "      <th>PI10003_PV_Out ValueY</th>\n",
       "      <th>Next_Step</th>\n",
       "      <th>Batch</th>\n",
       "    </tr>\n",
       "  </thead>\n",
       "  <tbody>\n",
       "    <tr>\n",
       "      <th>321</th>\n",
       "      <td>2018-10-10 14:58:40</td>\n",
       "      <td>1</td>\n",
       "      <td>8</td>\n",
       "      <td>141.415466</td>\n",
       "      <td>100</td>\n",
       "      <td>0.059028</td>\n",
       "      <td>1.667824</td>\n",
       "      <td>61.538704</td>\n",
       "      <td>61.544369</td>\n",
       "      <td>1971.671631</td>\n",
       "      <td>...</td>\n",
       "      <td>5.018732</td>\n",
       "      <td>3.960286</td>\n",
       "      <td>15</td>\n",
       "      <td>28.761133</td>\n",
       "      <td>0.200745</td>\n",
       "      <td>0.2</td>\n",
       "      <td>0</td>\n",
       "      <td>0.001743</td>\n",
       "      <td>7.0</td>\n",
       "      <td>0.0</td>\n",
       "    </tr>\n",
       "    <tr>\n",
       "      <th>322</th>\n",
       "      <td>2018-10-10 14:58:41</td>\n",
       "      <td>1</td>\n",
       "      <td>8</td>\n",
       "      <td>141.415466</td>\n",
       "      <td>100</td>\n",
       "      <td>0.059028</td>\n",
       "      <td>1.667824</td>\n",
       "      <td>61.538704</td>\n",
       "      <td>61.544369</td>\n",
       "      <td>1971.671631</td>\n",
       "      <td>...</td>\n",
       "      <td>18.917425</td>\n",
       "      <td>3.869575</td>\n",
       "      <td>15</td>\n",
       "      <td>28.654072</td>\n",
       "      <td>0.199648</td>\n",
       "      <td>0.2</td>\n",
       "      <td>0</td>\n",
       "      <td>0.001756</td>\n",
       "      <td>8.0</td>\n",
       "      <td>0.0</td>\n",
       "    </tr>\n",
       "    <tr>\n",
       "      <th>323</th>\n",
       "      <td>2018-10-10 14:58:42</td>\n",
       "      <td>1</td>\n",
       "      <td>8</td>\n",
       "      <td>141.401642</td>\n",
       "      <td>100</td>\n",
       "      <td>0.064815</td>\n",
       "      <td>1.517940</td>\n",
       "      <td>60.625454</td>\n",
       "      <td>60.603470</td>\n",
       "      <td>2109.924316</td>\n",
       "      <td>...</td>\n",
       "      <td>18.917425</td>\n",
       "      <td>3.869575</td>\n",
       "      <td>15</td>\n",
       "      <td>28.654072</td>\n",
       "      <td>0.199648</td>\n",
       "      <td>0.2</td>\n",
       "      <td>0</td>\n",
       "      <td>0.001756</td>\n",
       "      <td>8.0</td>\n",
       "      <td>0.0</td>\n",
       "    </tr>\n",
       "    <tr>\n",
       "      <th>324</th>\n",
       "      <td>2018-10-10 14:58:43</td>\n",
       "      <td>1</td>\n",
       "      <td>8</td>\n",
       "      <td>141.416473</td>\n",
       "      <td>100</td>\n",
       "      <td>0.065394</td>\n",
       "      <td>1.410301</td>\n",
       "      <td>59.099712</td>\n",
       "      <td>58.950371</td>\n",
       "      <td>2248.942627</td>\n",
       "      <td>...</td>\n",
       "      <td>19.502686</td>\n",
       "      <td>3.867188</td>\n",
       "      <td>15</td>\n",
       "      <td>28.361509</td>\n",
       "      <td>0.195991</td>\n",
       "      <td>0.2</td>\n",
       "      <td>0</td>\n",
       "      <td>0.001755</td>\n",
       "      <td>8.0</td>\n",
       "      <td>0.0</td>\n",
       "    </tr>\n",
       "    <tr>\n",
       "      <th>325</th>\n",
       "      <td>2018-10-10 14:58:44</td>\n",
       "      <td>1</td>\n",
       "      <td>8</td>\n",
       "      <td>141.442719</td>\n",
       "      <td>100</td>\n",
       "      <td>0.064815</td>\n",
       "      <td>1.535301</td>\n",
       "      <td>58.702770</td>\n",
       "      <td>58.676903</td>\n",
       "      <td>2129.322021</td>\n",
       "      <td>...</td>\n",
       "      <td>30.939331</td>\n",
       "      <td>3.816262</td>\n",
       "      <td>15</td>\n",
       "      <td>28.361509</td>\n",
       "      <td>0.195991</td>\n",
       "      <td>0.2</td>\n",
       "      <td>0</td>\n",
       "      <td>0.001775</td>\n",
       "      <td>8.0</td>\n",
       "      <td>0.0</td>\n",
       "    </tr>\n",
       "    <tr>\n",
       "      <th>...</th>\n",
       "      <td>...</td>\n",
       "      <td>...</td>\n",
       "      <td>...</td>\n",
       "      <td>...</td>\n",
       "      <td>...</td>\n",
       "      <td>...</td>\n",
       "      <td>...</td>\n",
       "      <td>...</td>\n",
       "      <td>...</td>\n",
       "      <td>...</td>\n",
       "      <td>...</td>\n",
       "      <td>...</td>\n",
       "      <td>...</td>\n",
       "      <td>...</td>\n",
       "      <td>...</td>\n",
       "      <td>...</td>\n",
       "      <td>...</td>\n",
       "      <td>...</td>\n",
       "      <td>...</td>\n",
       "      <td>...</td>\n",
       "      <td>...</td>\n",
       "    </tr>\n",
       "    <tr>\n",
       "      <th>849</th>\n",
       "      <td>2018-10-10 15:07:28</td>\n",
       "      <td>1</td>\n",
       "      <td>8</td>\n",
       "      <td>116.345322</td>\n",
       "      <td>100</td>\n",
       "      <td>0.054398</td>\n",
       "      <td>1.610533</td>\n",
       "      <td>63.716454</td>\n",
       "      <td>63.692669</td>\n",
       "      <td>2020.722168</td>\n",
       "      <td>...</td>\n",
       "      <td>552.811279</td>\n",
       "      <td>13.977575</td>\n",
       "      <td>15</td>\n",
       "      <td>22.155113</td>\n",
       "      <td>0.196970</td>\n",
       "      <td>0.2</td>\n",
       "      <td>0</td>\n",
       "      <td>0.001721</td>\n",
       "      <td>8.0</td>\n",
       "      <td>0.0</td>\n",
       "    </tr>\n",
       "    <tr>\n",
       "      <th>850</th>\n",
       "      <td>2018-10-10 15:07:29</td>\n",
       "      <td>1</td>\n",
       "      <td>8</td>\n",
       "      <td>116.258194</td>\n",
       "      <td>100</td>\n",
       "      <td>0.059606</td>\n",
       "      <td>1.614005</td>\n",
       "      <td>63.604759</td>\n",
       "      <td>63.600395</td>\n",
       "      <td>2014.549316</td>\n",
       "      <td>...</td>\n",
       "      <td>552.649658</td>\n",
       "      <td>13.983941</td>\n",
       "      <td>15</td>\n",
       "      <td>22.119766</td>\n",
       "      <td>0.198016</td>\n",
       "      <td>0.2</td>\n",
       "      <td>0</td>\n",
       "      <td>0.001719</td>\n",
       "      <td>8.0</td>\n",
       "      <td>0.0</td>\n",
       "    </tr>\n",
       "    <tr>\n",
       "      <th>851</th>\n",
       "      <td>2018-10-10 15:07:30</td>\n",
       "      <td>1</td>\n",
       "      <td>8</td>\n",
       "      <td>116.190460</td>\n",
       "      <td>100</td>\n",
       "      <td>0.058449</td>\n",
       "      <td>1.606482</td>\n",
       "      <td>63.507782</td>\n",
       "      <td>63.492390</td>\n",
       "      <td>2017.718140</td>\n",
       "      <td>...</td>\n",
       "      <td>552.407837</td>\n",
       "      <td>13.996673</td>\n",
       "      <td>15</td>\n",
       "      <td>22.385044</td>\n",
       "      <td>0.202437</td>\n",
       "      <td>0.2</td>\n",
       "      <td>0</td>\n",
       "      <td>0.001720</td>\n",
       "      <td>8.0</td>\n",
       "      <td>0.0</td>\n",
       "    </tr>\n",
       "    <tr>\n",
       "      <th>852</th>\n",
       "      <td>2018-10-10 15:07:31</td>\n",
       "      <td>1</td>\n",
       "      <td>8</td>\n",
       "      <td>116.135666</td>\n",
       "      <td>100</td>\n",
       "      <td>0.056713</td>\n",
       "      <td>1.589120</td>\n",
       "      <td>63.212963</td>\n",
       "      <td>63.199615</td>\n",
       "      <td>2044.493896</td>\n",
       "      <td>...</td>\n",
       "      <td>552.742554</td>\n",
       "      <td>13.998263</td>\n",
       "      <td>15</td>\n",
       "      <td>22.433588</td>\n",
       "      <td>0.205370</td>\n",
       "      <td>0.2</td>\n",
       "      <td>0</td>\n",
       "      <td>0.001736</td>\n",
       "      <td>8.0</td>\n",
       "      <td>0.0</td>\n",
       "    </tr>\n",
       "    <tr>\n",
       "      <th>853</th>\n",
       "      <td>2018-10-10 15:07:32</td>\n",
       "      <td>1</td>\n",
       "      <td>8</td>\n",
       "      <td>116.094101</td>\n",
       "      <td>100</td>\n",
       "      <td>0.053241</td>\n",
       "      <td>1.612268</td>\n",
       "      <td>63.053288</td>\n",
       "      <td>63.038311</td>\n",
       "      <td>2037.445435</td>\n",
       "      <td>...</td>\n",
       "      <td>553.157593</td>\n",
       "      <td>13.998263</td>\n",
       "      <td>15</td>\n",
       "      <td>22.569740</td>\n",
       "      <td>0.207492</td>\n",
       "      <td>0.2</td>\n",
       "      <td>0</td>\n",
       "      <td>0.001731</td>\n",
       "      <td>8.0</td>\n",
       "      <td>0.0</td>\n",
       "    </tr>\n",
       "  </tbody>\n",
       "</table>\n",
       "<p>533 rows × 44 columns</p>\n",
       "</div>"
      ],
      "text/plain": [
       "               timestamp  DeviationID ValueY  CuStepNo ValueY  \\\n",
       "321  2018-10-10 14:58:40                   1                8   \n",
       "322  2018-10-10 14:58:41                   1                8   \n",
       "323  2018-10-10 14:58:42                   1                8   \n",
       "324  2018-10-10 14:58:43                   1                8   \n",
       "325  2018-10-10 14:58:44                   1                8   \n",
       "..                   ...                 ...              ...   \n",
       "849  2018-10-10 15:07:28                   1                8   \n",
       "850  2018-10-10 15:07:29                   1                8   \n",
       "851  2018-10-10 15:07:30                   1                8   \n",
       "852  2018-10-10 15:07:31                   1                8   \n",
       "853  2018-10-10 15:07:32                   1                8   \n",
       "\n",
       "     LevelMainTank ValueY  YC10001_MV ValueY  PI12002_PV_Out ValueY  \\\n",
       "321            141.415466                100               0.059028   \n",
       "322            141.415466                100               0.059028   \n",
       "323            141.401642                100               0.064815   \n",
       "324            141.416473                100               0.065394   \n",
       "325            141.442719                100               0.064815   \n",
       "..                    ...                ...                    ...   \n",
       "849            116.345322                100               0.054398   \n",
       "850            116.258194                100               0.059606   \n",
       "851            116.190460                100               0.058449   \n",
       "852            116.135666                100               0.056713   \n",
       "853            116.094101                100               0.053241   \n",
       "\n",
       "     PI12003_PV_Out ValueY  YC14001_MV ValueY  FIC14002_MV ValueY  \\\n",
       "321               1.667824          61.538704           61.544369   \n",
       "322               1.667824          61.538704           61.544369   \n",
       "323               1.517940          60.625454           60.603470   \n",
       "324               1.410301          59.099712           58.950371   \n",
       "325               1.535301          58.702770           58.676903   \n",
       "..                     ...                ...                 ...   \n",
       "849               1.610533          63.716454           63.692669   \n",
       "850               1.614005          63.604759           63.600395   \n",
       "851               1.606482          63.507782           63.492390   \n",
       "852               1.589120          63.212963           63.199615   \n",
       "853               1.612268          63.053288           63.038311   \n",
       "\n",
       "     FIC14002_PV_Out ValueY  ...  LIC21002_MV ValueY  LIC21002_PV_Out ValueY  \\\n",
       "321             1971.671631  ...            5.018732                3.960286   \n",
       "322             1971.671631  ...           18.917425                3.869575   \n",
       "323             2109.924316  ...           18.917425                3.869575   \n",
       "324             2248.942627  ...           19.502686                3.867188   \n",
       "325             2129.322021  ...           30.939331                3.816262   \n",
       "..                      ...  ...                 ...                     ...   \n",
       "849             2020.722168  ...          552.811279               13.977575   \n",
       "850             2014.549316  ...          552.649658               13.983941   \n",
       "851             2017.718140  ...          552.407837               13.996673   \n",
       "852             2044.493896  ...          552.742554               13.998263   \n",
       "853             2037.445435  ...          553.157593               13.998263   \n",
       "\n",
       "     LIC21002_SP ValueY  PIC14007_MV ValueY  PIC14007_PV_Out ValueY  \\\n",
       "321                  15           28.761133                0.200745   \n",
       "322                  15           28.654072                0.199648   \n",
       "323                  15           28.654072                0.199648   \n",
       "324                  15           28.361509                0.195991   \n",
       "325                  15           28.361509                0.195991   \n",
       "..                  ...                 ...                     ...   \n",
       "849                  15           22.155113                0.196970   \n",
       "850                  15           22.119766                0.198016   \n",
       "851                  15           22.385044                0.202437   \n",
       "852                  15           22.433588                0.205370   \n",
       "853                  15           22.569740                0.207492   \n",
       "\n",
       "     PIC14007_SP ValueY  YC14008_Ctrl ValueY  PI10003_PV_Out ValueY  \\\n",
       "321                 0.2                    0               0.001743   \n",
       "322                 0.2                    0               0.001756   \n",
       "323                 0.2                    0               0.001756   \n",
       "324                 0.2                    0               0.001755   \n",
       "325                 0.2                    0               0.001775   \n",
       "..                  ...                  ...                    ...   \n",
       "849                 0.2                    0               0.001721   \n",
       "850                 0.2                    0               0.001719   \n",
       "851                 0.2                    0               0.001720   \n",
       "852                 0.2                    0               0.001736   \n",
       "853                 0.2                    0               0.001731   \n",
       "\n",
       "     Next_Step  Batch  \n",
       "321        7.0    0.0  \n",
       "322        8.0    0.0  \n",
       "323        8.0    0.0  \n",
       "324        8.0    0.0  \n",
       "325        8.0    0.0  \n",
       "..         ...    ...  \n",
       "849        8.0    0.0  \n",
       "850        8.0    0.0  \n",
       "851        8.0    0.0  \n",
       "852        8.0    0.0  \n",
       "853        8.0    0.0  \n",
       "\n",
       "[533 rows x 44 columns]"
      ]
     },
     "execution_count": 10,
     "metadata": {},
     "output_type": "execute_result"
    }
   ],
   "source": [
    "df1.loc[(df1[\"Batch\"] == 0)&(df1[\"CuStepNo ValueY\"] == df_test1[\"CuStepNo ValueY\"].unique()[-1])]"
   ]
  },
  {
   "cell_type": "code",
   "execution_count": 11,
   "metadata": {},
   "outputs": [
    {
     "name": "stderr",
     "output_type": "stream",
     "text": [
      "C:\\Users\\paulh\\AppData\\Local\\Temp\\ipykernel_13964\\1268564111.py:3: SettingWithCopyWarning: \n",
      "A value is trying to be set on a copy of a slice from a DataFrame\n",
      "\n",
      "See the caveats in the documentation: https://pandas.pydata.org/pandas-docs/stable/user_guide/indexing.html#returning-a-view-versus-a-copy\n",
      "  df1.drop(df1.loc[(df1[\"Batch\"] == i)&(df1[\"CuStepNo ValueY\"] == df_test1[\"CuStepNo ValueY\"].unique()[-1])][df_test1[df_test1[\"CuStepNo ValueY\"] == df_test1[\"CuStepNo ValueY\"].unique()[-1]].__len__():].index,inplace=True)\n"
     ]
    }
   ],
   "source": [
    "df1 = df.loc[df[\"CuStepNo ValueY\"].isin(df_test1[\"CuStepNo ValueY\"].unique())]\n",
    "for i in df1[\"Batch\"].unique():\n",
    "    df1.drop(df1.loc[(df1[\"Batch\"] == i)&(df1[\"CuStepNo ValueY\"] == df_test1[\"CuStepNo ValueY\"].unique()[-1])][df_test1[df_test1[\"CuStepNo ValueY\"] == df_test1[\"CuStepNo ValueY\"].unique()[-1]].__len__():].index,inplace=True)"
   ]
  },
  {
   "cell_type": "code",
   "execution_count": 19,
   "metadata": {},
   "outputs": [
    {
     "data": {
      "text/html": [
       "<div>\n",
       "<style scoped>\n",
       "    .dataframe tbody tr th:only-of-type {\n",
       "        vertical-align: middle;\n",
       "    }\n",
       "\n",
       "    .dataframe tbody tr th {\n",
       "        vertical-align: top;\n",
       "    }\n",
       "\n",
       "    .dataframe thead th {\n",
       "        text-align: right;\n",
       "    }\n",
       "</style>\n",
       "<table border=\"1\" class=\"dataframe\">\n",
       "  <thead>\n",
       "    <tr style=\"text-align: right;\">\n",
       "      <th></th>\n",
       "      <th>timestamp</th>\n",
       "      <th>DeviationID ValueY</th>\n",
       "      <th>CuStepNo ValueY</th>\n",
       "      <th>LevelMainTank ValueY</th>\n",
       "      <th>YC10001_MV ValueY</th>\n",
       "      <th>PI12002_PV_Out ValueY</th>\n",
       "      <th>PI12003_PV_Out ValueY</th>\n",
       "      <th>YC14001_MV ValueY</th>\n",
       "      <th>FIC14002_MV ValueY</th>\n",
       "      <th>FIC14002_PV_Out ValueY</th>\n",
       "      <th>...</th>\n",
       "      <th>LIC22002_PV_Out ValueY</th>\n",
       "      <th>LIC22002_SP ValueY</th>\n",
       "      <th>LIC21002_MV ValueY</th>\n",
       "      <th>LIC21002_PV_Out ValueY</th>\n",
       "      <th>LIC21002_SP ValueY</th>\n",
       "      <th>PIC14007_MV ValueY</th>\n",
       "      <th>PIC14007_PV_Out ValueY</th>\n",
       "      <th>PIC14007_SP ValueY</th>\n",
       "      <th>YC14008_Ctrl ValueY</th>\n",
       "      <th>PI10003_PV_Out ValueY</th>\n",
       "    </tr>\n",
       "  </thead>\n",
       "  <tbody>\n",
       "    <tr>\n",
       "      <th>0</th>\n",
       "      <td>2018-10-18 06:49:37</td>\n",
       "      <td>3</td>\n",
       "      <td>1</td>\n",
       "      <td>156.720276</td>\n",
       "      <td>100</td>\n",
       "      <td>0.095486</td>\n",
       "      <td>0.100116</td>\n",
       "      <td>100.000000</td>\n",
       "      <td>100.000000</td>\n",
       "      <td>0.000000</td>\n",
       "      <td>...</td>\n",
       "      <td>1.826172</td>\n",
       "      <td>2</td>\n",
       "      <td>0.542786</td>\n",
       "      <td>1.902561</td>\n",
       "      <td>15</td>\n",
       "      <td>10.000000</td>\n",
       "      <td>0.077562</td>\n",
       "      <td>0.2</td>\n",
       "      <td>0</td>\n",
       "      <td>0.001730</td>\n",
       "    </tr>\n",
       "    <tr>\n",
       "      <th>1</th>\n",
       "      <td>2018-10-18 06:49:38</td>\n",
       "      <td>3</td>\n",
       "      <td>1</td>\n",
       "      <td>156.763824</td>\n",
       "      <td>100</td>\n",
       "      <td>0.096065</td>\n",
       "      <td>0.098958</td>\n",
       "      <td>100.000000</td>\n",
       "      <td>100.000000</td>\n",
       "      <td>0.000000</td>\n",
       "      <td>...</td>\n",
       "      <td>1.826172</td>\n",
       "      <td>2</td>\n",
       "      <td>7.015137</td>\n",
       "      <td>1.903356</td>\n",
       "      <td>15</td>\n",
       "      <td>10.000000</td>\n",
       "      <td>0.077817</td>\n",
       "      <td>0.2</td>\n",
       "      <td>0</td>\n",
       "      <td>0.001703</td>\n",
       "    </tr>\n",
       "    <tr>\n",
       "      <th>2</th>\n",
       "      <td>2018-10-18 06:49:39</td>\n",
       "      <td>3</td>\n",
       "      <td>1</td>\n",
       "      <td>156.808960</td>\n",
       "      <td>100</td>\n",
       "      <td>0.094907</td>\n",
       "      <td>0.115741</td>\n",
       "      <td>100.000000</td>\n",
       "      <td>100.000000</td>\n",
       "      <td>0.000000</td>\n",
       "      <td>...</td>\n",
       "      <td>1.821398</td>\n",
       "      <td>2</td>\n",
       "      <td>11.233090</td>\n",
       "      <td>1.905744</td>\n",
       "      <td>15</td>\n",
       "      <td>10.000000</td>\n",
       "      <td>0.078058</td>\n",
       "      <td>0.2</td>\n",
       "      <td>0</td>\n",
       "      <td>0.001712</td>\n",
       "    </tr>\n",
       "    <tr>\n",
       "      <th>3</th>\n",
       "      <td>2018-10-18 06:49:40</td>\n",
       "      <td>3</td>\n",
       "      <td>1</td>\n",
       "      <td>156.856018</td>\n",
       "      <td>100</td>\n",
       "      <td>0.094907</td>\n",
       "      <td>0.184028</td>\n",
       "      <td>100.000000</td>\n",
       "      <td>100.000000</td>\n",
       "      <td>0.000000</td>\n",
       "      <td>...</td>\n",
       "      <td>1.819806</td>\n",
       "      <td>2</td>\n",
       "      <td>18.077948</td>\n",
       "      <td>1.899378</td>\n",
       "      <td>15</td>\n",
       "      <td>10.000000</td>\n",
       "      <td>0.078341</td>\n",
       "      <td>0.2</td>\n",
       "      <td>0</td>\n",
       "      <td>0.001723</td>\n",
       "    </tr>\n",
       "    <tr>\n",
       "      <th>4</th>\n",
       "      <td>2018-10-18 06:49:41</td>\n",
       "      <td>3</td>\n",
       "      <td>1</td>\n",
       "      <td>156.900452</td>\n",
       "      <td>100</td>\n",
       "      <td>0.094907</td>\n",
       "      <td>0.342593</td>\n",
       "      <td>100.000000</td>\n",
       "      <td>100.000000</td>\n",
       "      <td>0.000000</td>\n",
       "      <td>...</td>\n",
       "      <td>1.815032</td>\n",
       "      <td>2</td>\n",
       "      <td>18.900589</td>\n",
       "      <td>1.967014</td>\n",
       "      <td>15</td>\n",
       "      <td>10.000000</td>\n",
       "      <td>0.078522</td>\n",
       "      <td>0.2</td>\n",
       "      <td>0</td>\n",
       "      <td>0.001726</td>\n",
       "    </tr>\n",
       "    <tr>\n",
       "      <th>...</th>\n",
       "      <td>...</td>\n",
       "      <td>...</td>\n",
       "      <td>...</td>\n",
       "      <td>...</td>\n",
       "      <td>...</td>\n",
       "      <td>...</td>\n",
       "      <td>...</td>\n",
       "      <td>...</td>\n",
       "      <td>...</td>\n",
       "      <td>...</td>\n",
       "      <td>...</td>\n",
       "      <td>...</td>\n",
       "      <td>...</td>\n",
       "      <td>...</td>\n",
       "      <td>...</td>\n",
       "      <td>...</td>\n",
       "      <td>...</td>\n",
       "      <td>...</td>\n",
       "      <td>...</td>\n",
       "      <td>...</td>\n",
       "      <td>...</td>\n",
       "    </tr>\n",
       "    <tr>\n",
       "      <th>445</th>\n",
       "      <td>2018-10-18 06:57:02</td>\n",
       "      <td>3</td>\n",
       "      <td>8</td>\n",
       "      <td>133.681183</td>\n",
       "      <td>100</td>\n",
       "      <td>0.078125</td>\n",
       "      <td>2.595486</td>\n",
       "      <td>34.895077</td>\n",
       "      <td>34.896000</td>\n",
       "      <td>1997.692139</td>\n",
       "      <td>...</td>\n",
       "      <td>7.287977</td>\n",
       "      <td>2</td>\n",
       "      <td>338.375977</td>\n",
       "      <td>7.714482</td>\n",
       "      <td>15</td>\n",
       "      <td>22.165524</td>\n",
       "      <td>0.204938</td>\n",
       "      <td>0.2</td>\n",
       "      <td>0</td>\n",
       "      <td>0.001720</td>\n",
       "    </tr>\n",
       "    <tr>\n",
       "      <th>446</th>\n",
       "      <td>2018-10-18 06:57:03</td>\n",
       "      <td>3</td>\n",
       "      <td>8</td>\n",
       "      <td>133.788910</td>\n",
       "      <td>100</td>\n",
       "      <td>0.076389</td>\n",
       "      <td>2.619213</td>\n",
       "      <td>34.939404</td>\n",
       "      <td>34.845955</td>\n",
       "      <td>2008.362549</td>\n",
       "      <td>...</td>\n",
       "      <td>7.319806</td>\n",
       "      <td>2</td>\n",
       "      <td>339.601044</td>\n",
       "      <td>7.743128</td>\n",
       "      <td>15</td>\n",
       "      <td>22.133617</td>\n",
       "      <td>0.203375</td>\n",
       "      <td>0.2</td>\n",
       "      <td>0</td>\n",
       "      <td>0.001735</td>\n",
       "    </tr>\n",
       "    <tr>\n",
       "      <th>447</th>\n",
       "      <td>2018-10-18 06:57:04</td>\n",
       "      <td>3</td>\n",
       "      <td>8</td>\n",
       "      <td>133.871307</td>\n",
       "      <td>100</td>\n",
       "      <td>0.078704</td>\n",
       "      <td>2.635995</td>\n",
       "      <td>35.123837</td>\n",
       "      <td>35.106186</td>\n",
       "      <td>1973.089600</td>\n",
       "      <td>...</td>\n",
       "      <td>7.349247</td>\n",
       "      <td>2</td>\n",
       "      <td>341.125519</td>\n",
       "      <td>7.777344</td>\n",
       "      <td>15</td>\n",
       "      <td>22.068438</td>\n",
       "      <td>0.201641</td>\n",
       "      <td>0.2</td>\n",
       "      <td>0</td>\n",
       "      <td>0.001734</td>\n",
       "    </tr>\n",
       "    <tr>\n",
       "      <th>448</th>\n",
       "      <td>2018-10-18 06:57:05</td>\n",
       "      <td>3</td>\n",
       "      <td>8</td>\n",
       "      <td>133.936249</td>\n",
       "      <td>100</td>\n",
       "      <td>0.076968</td>\n",
       "      <td>2.642361</td>\n",
       "      <td>35.346024</td>\n",
       "      <td>35.363956</td>\n",
       "      <td>1955.171631</td>\n",
       "      <td>...</td>\n",
       "      <td>7.383463</td>\n",
       "      <td>2</td>\n",
       "      <td>342.078033</td>\n",
       "      <td>7.810764</td>\n",
       "      <td>15</td>\n",
       "      <td>22.040075</td>\n",
       "      <td>0.200201</td>\n",
       "      <td>0.2</td>\n",
       "      <td>0</td>\n",
       "      <td>0.001726</td>\n",
       "    </tr>\n",
       "    <tr>\n",
       "      <th>449</th>\n",
       "      <td>2018-10-18 06:57:06</td>\n",
       "      <td>3</td>\n",
       "      <td>8</td>\n",
       "      <td>133.985168</td>\n",
       "      <td>100</td>\n",
       "      <td>0.079282</td>\n",
       "      <td>2.639468</td>\n",
       "      <td>35.517532</td>\n",
       "      <td>35.532406</td>\n",
       "      <td>1962.813965</td>\n",
       "      <td>...</td>\n",
       "      <td>7.405744</td>\n",
       "      <td>2</td>\n",
       "      <td>342.658447</td>\n",
       "      <td>7.862485</td>\n",
       "      <td>15</td>\n",
       "      <td>22.001875</td>\n",
       "      <td>0.199122</td>\n",
       "      <td>0.2</td>\n",
       "      <td>0</td>\n",
       "      <td>0.001726</td>\n",
       "    </tr>\n",
       "  </tbody>\n",
       "</table>\n",
       "<p>450 rows × 42 columns</p>\n",
       "</div>"
      ],
      "text/plain": [
       "               timestamp  DeviationID ValueY  CuStepNo ValueY  \\\n",
       "0    2018-10-18 06:49:37                   3                1   \n",
       "1    2018-10-18 06:49:38                   3                1   \n",
       "2    2018-10-18 06:49:39                   3                1   \n",
       "3    2018-10-18 06:49:40                   3                1   \n",
       "4    2018-10-18 06:49:41                   3                1   \n",
       "..                   ...                 ...              ...   \n",
       "445  2018-10-18 06:57:02                   3                8   \n",
       "446  2018-10-18 06:57:03                   3                8   \n",
       "447  2018-10-18 06:57:04                   3                8   \n",
       "448  2018-10-18 06:57:05                   3                8   \n",
       "449  2018-10-18 06:57:06                   3                8   \n",
       "\n",
       "     LevelMainTank ValueY  YC10001_MV ValueY  PI12002_PV_Out ValueY  \\\n",
       "0              156.720276                100               0.095486   \n",
       "1              156.763824                100               0.096065   \n",
       "2              156.808960                100               0.094907   \n",
       "3              156.856018                100               0.094907   \n",
       "4              156.900452                100               0.094907   \n",
       "..                    ...                ...                    ...   \n",
       "445            133.681183                100               0.078125   \n",
       "446            133.788910                100               0.076389   \n",
       "447            133.871307                100               0.078704   \n",
       "448            133.936249                100               0.076968   \n",
       "449            133.985168                100               0.079282   \n",
       "\n",
       "     PI12003_PV_Out ValueY  YC14001_MV ValueY  FIC14002_MV ValueY  \\\n",
       "0                 0.100116         100.000000          100.000000   \n",
       "1                 0.098958         100.000000          100.000000   \n",
       "2                 0.115741         100.000000          100.000000   \n",
       "3                 0.184028         100.000000          100.000000   \n",
       "4                 0.342593         100.000000          100.000000   \n",
       "..                     ...                ...                 ...   \n",
       "445               2.595486          34.895077           34.896000   \n",
       "446               2.619213          34.939404           34.845955   \n",
       "447               2.635995          35.123837           35.106186   \n",
       "448               2.642361          35.346024           35.363956   \n",
       "449               2.639468          35.517532           35.532406   \n",
       "\n",
       "     FIC14002_PV_Out ValueY  ...  LIC22002_PV_Out ValueY  LIC22002_SP ValueY  \\\n",
       "0                  0.000000  ...                1.826172                   2   \n",
       "1                  0.000000  ...                1.826172                   2   \n",
       "2                  0.000000  ...                1.821398                   2   \n",
       "3                  0.000000  ...                1.819806                   2   \n",
       "4                  0.000000  ...                1.815032                   2   \n",
       "..                      ...  ...                     ...                 ...   \n",
       "445             1997.692139  ...                7.287977                   2   \n",
       "446             2008.362549  ...                7.319806                   2   \n",
       "447             1973.089600  ...                7.349247                   2   \n",
       "448             1955.171631  ...                7.383463                   2   \n",
       "449             1962.813965  ...                7.405744                   2   \n",
       "\n",
       "     LIC21002_MV ValueY  LIC21002_PV_Out ValueY  LIC21002_SP ValueY  \\\n",
       "0              0.542786                1.902561                  15   \n",
       "1              7.015137                1.903356                  15   \n",
       "2             11.233090                1.905744                  15   \n",
       "3             18.077948                1.899378                  15   \n",
       "4             18.900589                1.967014                  15   \n",
       "..                  ...                     ...                 ...   \n",
       "445          338.375977                7.714482                  15   \n",
       "446          339.601044                7.743128                  15   \n",
       "447          341.125519                7.777344                  15   \n",
       "448          342.078033                7.810764                  15   \n",
       "449          342.658447                7.862485                  15   \n",
       "\n",
       "     PIC14007_MV ValueY  PIC14007_PV_Out ValueY  PIC14007_SP ValueY  \\\n",
       "0             10.000000                0.077562                 0.2   \n",
       "1             10.000000                0.077817                 0.2   \n",
       "2             10.000000                0.078058                 0.2   \n",
       "3             10.000000                0.078341                 0.2   \n",
       "4             10.000000                0.078522                 0.2   \n",
       "..                  ...                     ...                 ...   \n",
       "445           22.165524                0.204938                 0.2   \n",
       "446           22.133617                0.203375                 0.2   \n",
       "447           22.068438                0.201641                 0.2   \n",
       "448           22.040075                0.200201                 0.2   \n",
       "449           22.001875                0.199122                 0.2   \n",
       "\n",
       "     YC14008_Ctrl ValueY  PI10003_PV_Out ValueY  \n",
       "0                      0               0.001730  \n",
       "1                      0               0.001703  \n",
       "2                      0               0.001712  \n",
       "3                      0               0.001723  \n",
       "4                      0               0.001726  \n",
       "..                   ...                    ...  \n",
       "445                    0               0.001720  \n",
       "446                    0               0.001735  \n",
       "447                    0               0.001734  \n",
       "448                    0               0.001726  \n",
       "449                    0               0.001726  \n",
       "\n",
       "[450 rows x 42 columns]"
      ]
     },
     "execution_count": 19,
     "metadata": {},
     "output_type": "execute_result"
    }
   ],
   "source": [
    "df_test1"
   ]
  },
  {
   "cell_type": "code",
   "execution_count": 40,
   "metadata": {},
   "outputs": [
    {
     "name": "stderr",
     "output_type": "stream",
     "text": [
      "C:\\Users\\paulh\\AppData\\Local\\Temp\\ipykernel_13964\\3529651612.py:1: SettingWithCopyWarning: \n",
      "A value is trying to be set on a copy of a slice from a DataFrame\n",
      "\n",
      "See the caveats in the documentation: https://pandas.pydata.org/pandas-docs/stable/user_guide/indexing.html#returning-a-view-versus-a-copy\n",
      "  df_test1.drop([\"CuStepNo ValueY\",\"timestamp\"],axis=1,inplace=True)\n"
     ]
    }
   ],
   "source": [
    "df_test1.drop([\"CuStepNo ValueY\",\"timestamp\"],axis=1,inplace=True)"
   ]
  },
  {
   "cell_type": "code",
   "execution_count": 12,
   "metadata": {},
   "outputs": [],
   "source": [
    "randomlist1 = random.sample(range(0, 260), 78)\n",
    "\n",
    "df_test1 = df1.loc[df[\"Batch\"].isin(randomlist1)]\n",
    "df_train1 = df1.loc[~df[\"Batch\"].isin(randomlist1)]"
   ]
  },
  {
   "cell_type": "code",
   "execution_count": 22,
   "metadata": {},
   "outputs": [],
   "source": [
    "df_train1 = df1"
   ]
  },
  {
   "cell_type": "code",
   "execution_count": 40,
   "metadata": {},
   "outputs": [],
   "source": [
    "df = pd.read_pickle(\"Train.pkl\")\n",
    "df.drop(\"Unnamed: 0\",axis=1,inplace=True)\n",
    "df_train3 = df.loc[~df[\"Batch\"].isin(randomlist1)]\n",
    "y_train3 = []\n",
    "X_train3 = df_train3.drop([\"Next_Step\",\"timestamp\"],axis=1)"
   ]
  },
  {
   "cell_type": "code",
   "execution_count": 26,
   "metadata": {},
   "outputs": [],
   "source": [
    "y_train1 = df_test1[\"DeviationID ValueY\"]"
   ]
  },
  {
   "cell_type": "code",
   "execution_count": 37,
   "metadata": {},
   "outputs": [
    {
     "data": {
      "text/html": [
       "<div>\n",
       "<style scoped>\n",
       "    .dataframe tbody tr th:only-of-type {\n",
       "        vertical-align: middle;\n",
       "    }\n",
       "\n",
       "    .dataframe tbody tr th {\n",
       "        vertical-align: top;\n",
       "    }\n",
       "\n",
       "    .dataframe thead th {\n",
       "        text-align: right;\n",
       "    }\n",
       "</style>\n",
       "<table border=\"1\" class=\"dataframe\">\n",
       "  <thead>\n",
       "    <tr style=\"text-align: right;\">\n",
       "      <th></th>\n",
       "      <th>DeviationID ValueY</th>\n",
       "      <th>LevelMainTank ValueY</th>\n",
       "      <th>YC10001_MV ValueY</th>\n",
       "      <th>PI12002_PV_Out ValueY</th>\n",
       "      <th>PI12003_PV_Out ValueY</th>\n",
       "      <th>YC14001_MV ValueY</th>\n",
       "      <th>FIC14002_MV ValueY</th>\n",
       "      <th>FIC14002_PV_Out ValueY</th>\n",
       "      <th>FIC14002_SP ValueY</th>\n",
       "      <th>YC14006_MV ValueY</th>\n",
       "      <th>...</th>\n",
       "      <th>LIC22002_PV_Out ValueY</th>\n",
       "      <th>LIC22002_SP ValueY</th>\n",
       "      <th>LIC21002_MV ValueY</th>\n",
       "      <th>LIC21002_PV_Out ValueY</th>\n",
       "      <th>LIC21002_SP ValueY</th>\n",
       "      <th>PIC14007_MV ValueY</th>\n",
       "      <th>PIC14007_PV_Out ValueY</th>\n",
       "      <th>PIC14007_SP ValueY</th>\n",
       "      <th>YC14008_Ctrl ValueY</th>\n",
       "      <th>PI10003_PV_Out ValueY</th>\n",
       "    </tr>\n",
       "  </thead>\n",
       "  <tbody>\n",
       "    <tr>\n",
       "      <th>0</th>\n",
       "      <td>3</td>\n",
       "      <td>156.720276</td>\n",
       "      <td>100</td>\n",
       "      <td>0.095486</td>\n",
       "      <td>0.100116</td>\n",
       "      <td>100.000000</td>\n",
       "      <td>100.000000</td>\n",
       "      <td>0.000000</td>\n",
       "      <td>2000.0</td>\n",
       "      <td>12.500000</td>\n",
       "      <td>...</td>\n",
       "      <td>1.826172</td>\n",
       "      <td>2</td>\n",
       "      <td>0.542786</td>\n",
       "      <td>1.902561</td>\n",
       "      <td>15</td>\n",
       "      <td>10.000000</td>\n",
       "      <td>0.077562</td>\n",
       "      <td>0.2</td>\n",
       "      <td>0</td>\n",
       "      <td>0.001730</td>\n",
       "    </tr>\n",
       "    <tr>\n",
       "      <th>1</th>\n",
       "      <td>3</td>\n",
       "      <td>156.763824</td>\n",
       "      <td>100</td>\n",
       "      <td>0.096065</td>\n",
       "      <td>0.098958</td>\n",
       "      <td>100.000000</td>\n",
       "      <td>100.000000</td>\n",
       "      <td>0.000000</td>\n",
       "      <td>2000.0</td>\n",
       "      <td>12.500000</td>\n",
       "      <td>...</td>\n",
       "      <td>1.826172</td>\n",
       "      <td>2</td>\n",
       "      <td>7.015137</td>\n",
       "      <td>1.903356</td>\n",
       "      <td>15</td>\n",
       "      <td>10.000000</td>\n",
       "      <td>0.077817</td>\n",
       "      <td>0.2</td>\n",
       "      <td>0</td>\n",
       "      <td>0.001703</td>\n",
       "    </tr>\n",
       "    <tr>\n",
       "      <th>2</th>\n",
       "      <td>3</td>\n",
       "      <td>156.808960</td>\n",
       "      <td>100</td>\n",
       "      <td>0.094907</td>\n",
       "      <td>0.115741</td>\n",
       "      <td>100.000000</td>\n",
       "      <td>100.000000</td>\n",
       "      <td>0.000000</td>\n",
       "      <td>2000.0</td>\n",
       "      <td>12.500000</td>\n",
       "      <td>...</td>\n",
       "      <td>1.821398</td>\n",
       "      <td>2</td>\n",
       "      <td>11.233090</td>\n",
       "      <td>1.905744</td>\n",
       "      <td>15</td>\n",
       "      <td>10.000000</td>\n",
       "      <td>0.078058</td>\n",
       "      <td>0.2</td>\n",
       "      <td>0</td>\n",
       "      <td>0.001712</td>\n",
       "    </tr>\n",
       "    <tr>\n",
       "      <th>3</th>\n",
       "      <td>3</td>\n",
       "      <td>156.856018</td>\n",
       "      <td>100</td>\n",
       "      <td>0.094907</td>\n",
       "      <td>0.184028</td>\n",
       "      <td>100.000000</td>\n",
       "      <td>100.000000</td>\n",
       "      <td>0.000000</td>\n",
       "      <td>2000.0</td>\n",
       "      <td>12.500000</td>\n",
       "      <td>...</td>\n",
       "      <td>1.819806</td>\n",
       "      <td>2</td>\n",
       "      <td>18.077948</td>\n",
       "      <td>1.899378</td>\n",
       "      <td>15</td>\n",
       "      <td>10.000000</td>\n",
       "      <td>0.078341</td>\n",
       "      <td>0.2</td>\n",
       "      <td>0</td>\n",
       "      <td>0.001723</td>\n",
       "    </tr>\n",
       "    <tr>\n",
       "      <th>4</th>\n",
       "      <td>3</td>\n",
       "      <td>156.900452</td>\n",
       "      <td>100</td>\n",
       "      <td>0.094907</td>\n",
       "      <td>0.342593</td>\n",
       "      <td>100.000000</td>\n",
       "      <td>100.000000</td>\n",
       "      <td>0.000000</td>\n",
       "      <td>2000.0</td>\n",
       "      <td>12.500000</td>\n",
       "      <td>...</td>\n",
       "      <td>1.815032</td>\n",
       "      <td>2</td>\n",
       "      <td>18.900589</td>\n",
       "      <td>1.967014</td>\n",
       "      <td>15</td>\n",
       "      <td>10.000000</td>\n",
       "      <td>0.078522</td>\n",
       "      <td>0.2</td>\n",
       "      <td>0</td>\n",
       "      <td>0.001726</td>\n",
       "    </tr>\n",
       "    <tr>\n",
       "      <th>...</th>\n",
       "      <td>...</td>\n",
       "      <td>...</td>\n",
       "      <td>...</td>\n",
       "      <td>...</td>\n",
       "      <td>...</td>\n",
       "      <td>...</td>\n",
       "      <td>...</td>\n",
       "      <td>...</td>\n",
       "      <td>...</td>\n",
       "      <td>...</td>\n",
       "      <td>...</td>\n",
       "      <td>...</td>\n",
       "      <td>...</td>\n",
       "      <td>...</td>\n",
       "      <td>...</td>\n",
       "      <td>...</td>\n",
       "      <td>...</td>\n",
       "      <td>...</td>\n",
       "      <td>...</td>\n",
       "      <td>...</td>\n",
       "      <td>...</td>\n",
       "    </tr>\n",
       "    <tr>\n",
       "      <th>445</th>\n",
       "      <td>3</td>\n",
       "      <td>133.681183</td>\n",
       "      <td>100</td>\n",
       "      <td>0.078125</td>\n",
       "      <td>2.595486</td>\n",
       "      <td>34.895077</td>\n",
       "      <td>34.896000</td>\n",
       "      <td>1997.692139</td>\n",
       "      <td>2000.0</td>\n",
       "      <td>25.114670</td>\n",
       "      <td>...</td>\n",
       "      <td>7.287977</td>\n",
       "      <td>2</td>\n",
       "      <td>338.375977</td>\n",
       "      <td>7.714482</td>\n",
       "      <td>15</td>\n",
       "      <td>22.165524</td>\n",
       "      <td>0.204938</td>\n",
       "      <td>0.2</td>\n",
       "      <td>0</td>\n",
       "      <td>0.001720</td>\n",
       "    </tr>\n",
       "    <tr>\n",
       "      <th>446</th>\n",
       "      <td>3</td>\n",
       "      <td>133.788910</td>\n",
       "      <td>100</td>\n",
       "      <td>0.076389</td>\n",
       "      <td>2.619213</td>\n",
       "      <td>34.939404</td>\n",
       "      <td>34.845955</td>\n",
       "      <td>2008.362549</td>\n",
       "      <td>2000.0</td>\n",
       "      <td>25.195990</td>\n",
       "      <td>...</td>\n",
       "      <td>7.319806</td>\n",
       "      <td>2</td>\n",
       "      <td>339.601044</td>\n",
       "      <td>7.743128</td>\n",
       "      <td>15</td>\n",
       "      <td>22.133617</td>\n",
       "      <td>0.203375</td>\n",
       "      <td>0.2</td>\n",
       "      <td>0</td>\n",
       "      <td>0.001735</td>\n",
       "    </tr>\n",
       "    <tr>\n",
       "      <th>447</th>\n",
       "      <td>3</td>\n",
       "      <td>133.871307</td>\n",
       "      <td>100</td>\n",
       "      <td>0.078704</td>\n",
       "      <td>2.635995</td>\n",
       "      <td>35.123837</td>\n",
       "      <td>35.106186</td>\n",
       "      <td>1973.089600</td>\n",
       "      <td>2000.0</td>\n",
       "      <td>25.477880</td>\n",
       "      <td>...</td>\n",
       "      <td>7.349247</td>\n",
       "      <td>2</td>\n",
       "      <td>341.125519</td>\n",
       "      <td>7.777344</td>\n",
       "      <td>15</td>\n",
       "      <td>22.068438</td>\n",
       "      <td>0.201641</td>\n",
       "      <td>0.2</td>\n",
       "      <td>0</td>\n",
       "      <td>0.001734</td>\n",
       "    </tr>\n",
       "    <tr>\n",
       "      <th>448</th>\n",
       "      <td>3</td>\n",
       "      <td>133.936249</td>\n",
       "      <td>100</td>\n",
       "      <td>0.076968</td>\n",
       "      <td>2.642361</td>\n",
       "      <td>35.346024</td>\n",
       "      <td>35.363956</td>\n",
       "      <td>1955.171631</td>\n",
       "      <td>2000.0</td>\n",
       "      <td>25.837824</td>\n",
       "      <td>...</td>\n",
       "      <td>7.383463</td>\n",
       "      <td>2</td>\n",
       "      <td>342.078033</td>\n",
       "      <td>7.810764</td>\n",
       "      <td>15</td>\n",
       "      <td>22.040075</td>\n",
       "      <td>0.200201</td>\n",
       "      <td>0.2</td>\n",
       "      <td>0</td>\n",
       "      <td>0.001726</td>\n",
       "    </tr>\n",
       "    <tr>\n",
       "      <th>449</th>\n",
       "      <td>3</td>\n",
       "      <td>133.985168</td>\n",
       "      <td>100</td>\n",
       "      <td>0.079282</td>\n",
       "      <td>2.639468</td>\n",
       "      <td>35.517532</td>\n",
       "      <td>35.532406</td>\n",
       "      <td>1962.813965</td>\n",
       "      <td>2000.0</td>\n",
       "      <td>26.187103</td>\n",
       "      <td>...</td>\n",
       "      <td>7.405744</td>\n",
       "      <td>2</td>\n",
       "      <td>342.658447</td>\n",
       "      <td>7.862485</td>\n",
       "      <td>15</td>\n",
       "      <td>22.001875</td>\n",
       "      <td>0.199122</td>\n",
       "      <td>0.2</td>\n",
       "      <td>0</td>\n",
       "      <td>0.001726</td>\n",
       "    </tr>\n",
       "  </tbody>\n",
       "</table>\n",
       "<p>450 rows × 40 columns</p>\n",
       "</div>"
      ],
      "text/plain": [
       "     DeviationID ValueY  LevelMainTank ValueY  YC10001_MV ValueY  \\\n",
       "0                     3            156.720276                100   \n",
       "1                     3            156.763824                100   \n",
       "2                     3            156.808960                100   \n",
       "3                     3            156.856018                100   \n",
       "4                     3            156.900452                100   \n",
       "..                  ...                   ...                ...   \n",
       "445                   3            133.681183                100   \n",
       "446                   3            133.788910                100   \n",
       "447                   3            133.871307                100   \n",
       "448                   3            133.936249                100   \n",
       "449                   3            133.985168                100   \n",
       "\n",
       "     PI12002_PV_Out ValueY  PI12003_PV_Out ValueY  YC14001_MV ValueY  \\\n",
       "0                 0.095486               0.100116         100.000000   \n",
       "1                 0.096065               0.098958         100.000000   \n",
       "2                 0.094907               0.115741         100.000000   \n",
       "3                 0.094907               0.184028         100.000000   \n",
       "4                 0.094907               0.342593         100.000000   \n",
       "..                     ...                    ...                ...   \n",
       "445               0.078125               2.595486          34.895077   \n",
       "446               0.076389               2.619213          34.939404   \n",
       "447               0.078704               2.635995          35.123837   \n",
       "448               0.076968               2.642361          35.346024   \n",
       "449               0.079282               2.639468          35.517532   \n",
       "\n",
       "     FIC14002_MV ValueY  FIC14002_PV_Out ValueY  FIC14002_SP ValueY  \\\n",
       "0            100.000000                0.000000              2000.0   \n",
       "1            100.000000                0.000000              2000.0   \n",
       "2            100.000000                0.000000              2000.0   \n",
       "3            100.000000                0.000000              2000.0   \n",
       "4            100.000000                0.000000              2000.0   \n",
       "..                  ...                     ...                 ...   \n",
       "445           34.896000             1997.692139              2000.0   \n",
       "446           34.845955             2008.362549              2000.0   \n",
       "447           35.106186             1973.089600              2000.0   \n",
       "448           35.363956             1955.171631              2000.0   \n",
       "449           35.532406             1962.813965              2000.0   \n",
       "\n",
       "     YC14006_MV ValueY  ...  LIC22002_PV_Out ValueY  LIC22002_SP ValueY  \\\n",
       "0            12.500000  ...                1.826172                   2   \n",
       "1            12.500000  ...                1.826172                   2   \n",
       "2            12.500000  ...                1.821398                   2   \n",
       "3            12.500000  ...                1.819806                   2   \n",
       "4            12.500000  ...                1.815032                   2   \n",
       "..                 ...  ...                     ...                 ...   \n",
       "445          25.114670  ...                7.287977                   2   \n",
       "446          25.195990  ...                7.319806                   2   \n",
       "447          25.477880  ...                7.349247                   2   \n",
       "448          25.837824  ...                7.383463                   2   \n",
       "449          26.187103  ...                7.405744                   2   \n",
       "\n",
       "     LIC21002_MV ValueY  LIC21002_PV_Out ValueY  LIC21002_SP ValueY  \\\n",
       "0              0.542786                1.902561                  15   \n",
       "1              7.015137                1.903356                  15   \n",
       "2             11.233090                1.905744                  15   \n",
       "3             18.077948                1.899378                  15   \n",
       "4             18.900589                1.967014                  15   \n",
       "..                  ...                     ...                 ...   \n",
       "445          338.375977                7.714482                  15   \n",
       "446          339.601044                7.743128                  15   \n",
       "447          341.125519                7.777344                  15   \n",
       "448          342.078033                7.810764                  15   \n",
       "449          342.658447                7.862485                  15   \n",
       "\n",
       "     PIC14007_MV ValueY  PIC14007_PV_Out ValueY  PIC14007_SP ValueY  \\\n",
       "0             10.000000                0.077562                 0.2   \n",
       "1             10.000000                0.077817                 0.2   \n",
       "2             10.000000                0.078058                 0.2   \n",
       "3             10.000000                0.078341                 0.2   \n",
       "4             10.000000                0.078522                 0.2   \n",
       "..                  ...                     ...                 ...   \n",
       "445           22.165524                0.204938                 0.2   \n",
       "446           22.133617                0.203375                 0.2   \n",
       "447           22.068438                0.201641                 0.2   \n",
       "448           22.040075                0.200201                 0.2   \n",
       "449           22.001875                0.199122                 0.2   \n",
       "\n",
       "     YC14008_Ctrl ValueY  PI10003_PV_Out ValueY  \n",
       "0                      0               0.001730  \n",
       "1                      0               0.001703  \n",
       "2                      0               0.001712  \n",
       "3                      0               0.001723  \n",
       "4                      0               0.001726  \n",
       "..                   ...                    ...  \n",
       "445                    0               0.001720  \n",
       "446                    0               0.001735  \n",
       "447                    0               0.001734  \n",
       "448                    0               0.001726  \n",
       "449                    0               0.001726  \n",
       "\n",
       "[450 rows x 40 columns]"
      ]
     },
     "execution_count": 37,
     "metadata": {},
     "output_type": "execute_result"
    }
   ],
   "source": [
    "df_test1[\"Batch\"] = "
   ]
  },
  {
   "cell_type": "code",
   "execution_count": 27,
   "metadata": {},
   "outputs": [
    {
     "data": {
      "text/plain": [
       "0      3\n",
       "1      3\n",
       "2      3\n",
       "3      3\n",
       "4      3\n",
       "      ..\n",
       "445    3\n",
       "446    3\n",
       "447    3\n",
       "448    3\n",
       "449    3\n",
       "Name: DeviationID ValueY, Length: 450, dtype: int64"
      ]
     },
     "execution_count": 27,
     "metadata": {},
     "output_type": "execute_result"
    }
   ],
   "source": [
    "y_train1"
   ]
  },
  {
   "cell_type": "code",
   "execution_count": 29,
   "metadata": {},
   "outputs": [],
   "source": [
    "X_train1 = df_train1.drop([\"Next_Step\",\"timestamp\"],axis=1)\n",
    "X_test1 = df_test1.drop([\"DeviationID ValueY\"],axis=1)\n",
    "#y_test1 = []\n",
    "y_train1 = []"
   ]
  },
  {
   "cell_type": "code",
   "execution_count": 30,
   "metadata": {},
   "outputs": [],
   "source": [
    "X_train_step1 = []\n",
    "for i in X_train1.Batch.unique():\n",
    "        num = numpy.array(X_train1.loc[(X_train1[\"Batch\"] == i)].drop([\"Batch\",\"CuStepNo ValueY\",\"DeviationID ValueY\"],axis=1))\n",
    "        y_train1.append(X_train1.loc[(X_train1[\"Batch\"] == i)][\"DeviationID ValueY\"].unique()[0])\n",
    "        X_train_step1.append(num)"
   ]
  },
  {
   "cell_type": "code",
   "execution_count": 41,
   "metadata": {},
   "outputs": [],
   "source": [
    "X_train_step3 = []\n",
    "for i in X_train3.Batch.unique():\n",
    "        num = numpy.array(X_train3.loc[(X_train3[\"Batch\"] == i)].drop([\"Batch\",\"CuStepNo ValueY\",\"DeviationID ValueY\"],axis=1))\n",
    "        y_train3.append(X_train3.loc[(X_train3[\"Batch\"] == i)][\"DeviationID ValueY\"].unique()[0])\n",
    "        X_train_step3.append(num)"
   ]
  },
  {
   "cell_type": "code",
   "execution_count": 33,
   "metadata": {},
   "outputs": [
    {
     "ename": "AttributeError",
     "evalue": "'DataFrame' object has no attribute 'Batch'",
     "output_type": "error",
     "traceback": [
      "\u001b[1;31m---------------------------------------------------------------------------\u001b[0m",
      "\u001b[1;31mAttributeError\u001b[0m                            Traceback (most recent call last)",
      "\u001b[1;32mc:\\Users\\paulh\\Desktop\\4.semester\\Analyse_von_Prozessdaten\\Paul\\ROCKET.ipynb Cell 22\u001b[0m in \u001b[0;36m<cell line: 2>\u001b[1;34m()\u001b[0m\n\u001b[0;32m      <a href='vscode-notebook-cell:/c%3A/Users/paulh/Desktop/4.semester/Analyse_von_Prozessdaten/Paul/ROCKET.ipynb#X22sZmlsZQ%3D%3D?line=0'>1</a>\u001b[0m X_test_step1 \u001b[39m=\u001b[39m []\n\u001b[1;32m----> <a href='vscode-notebook-cell:/c%3A/Users/paulh/Desktop/4.semester/Analyse_von_Prozessdaten/Paul/ROCKET.ipynb#X22sZmlsZQ%3D%3D?line=1'>2</a>\u001b[0m \u001b[39mfor\u001b[39;00m i \u001b[39min\u001b[39;00m X_test1\u001b[39m.\u001b[39;49mBatch\u001b[39m.\u001b[39munique():\n\u001b[0;32m      <a href='vscode-notebook-cell:/c%3A/Users/paulh/Desktop/4.semester/Analyse_von_Prozessdaten/Paul/ROCKET.ipynb#X22sZmlsZQ%3D%3D?line=2'>3</a>\u001b[0m         num \u001b[39m=\u001b[39m numpy\u001b[39m.\u001b[39marray(X_test1\u001b[39m.\u001b[39mloc[(X_test1[\u001b[39m\"\u001b[39m\u001b[39mBatch\u001b[39m\u001b[39m\"\u001b[39m] \u001b[39m==\u001b[39m i)])\n\u001b[0;32m      <a href='vscode-notebook-cell:/c%3A/Users/paulh/Desktop/4.semester/Analyse_von_Prozessdaten/Paul/ROCKET.ipynb#X22sZmlsZQ%3D%3D?line=3'>4</a>\u001b[0m         \u001b[39m#y_test1.append(X_test1.loc[(X_test1[\"Batch\"] == i)][\"DeviationID ValueY\"].unique()[0])\u001b[39;00m\n",
      "File \u001b[1;32m~\\AppData\\Local\\Packages\\PythonSoftwareFoundation.Python.3.10_qbz5n2kfra8p0\\LocalCache\\local-packages\\Python310\\site-packages\\pandas\\core\\generic.py:5583\u001b[0m, in \u001b[0;36mNDFrame.__getattr__\u001b[1;34m(self, name)\u001b[0m\n\u001b[0;32m   5576\u001b[0m \u001b[39mif\u001b[39;00m (\n\u001b[0;32m   5577\u001b[0m     name \u001b[39mnot\u001b[39;00m \u001b[39min\u001b[39;00m \u001b[39mself\u001b[39m\u001b[39m.\u001b[39m_internal_names_set\n\u001b[0;32m   5578\u001b[0m     \u001b[39mand\u001b[39;00m name \u001b[39mnot\u001b[39;00m \u001b[39min\u001b[39;00m \u001b[39mself\u001b[39m\u001b[39m.\u001b[39m_metadata\n\u001b[0;32m   5579\u001b[0m     \u001b[39mand\u001b[39;00m name \u001b[39mnot\u001b[39;00m \u001b[39min\u001b[39;00m \u001b[39mself\u001b[39m\u001b[39m.\u001b[39m_accessors\n\u001b[0;32m   5580\u001b[0m     \u001b[39mand\u001b[39;00m \u001b[39mself\u001b[39m\u001b[39m.\u001b[39m_info_axis\u001b[39m.\u001b[39m_can_hold_identifiers_and_holds_name(name)\n\u001b[0;32m   5581\u001b[0m ):\n\u001b[0;32m   5582\u001b[0m     \u001b[39mreturn\u001b[39;00m \u001b[39mself\u001b[39m[name]\n\u001b[1;32m-> 5583\u001b[0m \u001b[39mreturn\u001b[39;00m \u001b[39mobject\u001b[39;49m\u001b[39m.\u001b[39;49m\u001b[39m__getattribute__\u001b[39;49m(\u001b[39mself\u001b[39;49m, name)\n",
      "\u001b[1;31mAttributeError\u001b[0m: 'DataFrame' object has no attribute 'Batch'"
     ]
    }
   ],
   "source": [
    "X_test_step1 = []\n",
    "for i in X_test1.Batch.unique():\n",
    "        num = numpy.array(X_test1.loc[(X_test1[\"Batch\"] == i)])\n",
    "        #y_test1.append(X_test1.loc[(X_test1[\"Batch\"] == i)][\"DeviationID ValueY\"].unique()[0])\n",
    "        X_test_step1.append(num)"
   ]
  },
  {
   "cell_type": "code",
   "execution_count": 99,
   "metadata": {},
   "outputs": [
    {
     "data": {
      "text/plain": [
       "75"
      ]
     },
     "execution_count": 99,
     "metadata": {},
     "output_type": "execute_result"
    }
   ],
   "source": [
    "y_test1.__len__()"
   ]
  },
  {
   "cell_type": "code",
   "execution_count": 95,
   "metadata": {},
   "outputs": [
    {
     "data": {
      "text/plain": [
       "39"
      ]
     },
     "execution_count": 95,
     "metadata": {},
     "output_type": "execute_result"
    }
   ],
   "source": [
    "X_train_step1[0][0].__len__()"
   ]
  },
  {
   "cell_type": "code",
   "execution_count": 42,
   "metadata": {},
   "outputs": [
    {
     "data": {
      "text/plain": [
       "1050.0"
      ]
     },
     "execution_count": 42,
     "metadata": {},
     "output_type": "execute_result"
    }
   ],
   "source": [
    "length = []\n",
    "for i in X_train_step3:\n",
    "    length.append(i.__len__())   \n",
    "np.median(length)"
   ]
  },
  {
   "cell_type": "code",
   "execution_count": 16,
   "metadata": {},
   "outputs": [],
   "source": [
    "length = []\n",
    "for i in X_train_step1:\n",
    "    length.append(i.__len__())"
   ]
  },
  {
   "cell_type": "code",
   "execution_count": 43,
   "metadata": {},
   "outputs": [],
   "source": [
    "X_train_s3 = TimeSeriesResampler(sz=int(np.median(length))).fit_transform(X_train_step3)"
   ]
  },
  {
   "cell_type": "code",
   "execution_count": 124,
   "metadata": {},
   "outputs": [
    {
     "data": {
      "text/plain": [
       "(176, 1049, 39)"
      ]
     },
     "execution_count": 124,
     "metadata": {},
     "output_type": "execute_result"
    }
   ],
   "source": [
    "X_train_s3.shape"
   ]
  },
  {
   "cell_type": "code",
   "execution_count": 44,
   "metadata": {},
   "outputs": [],
   "source": [
    "X_train = X_train_s3.reshape(X_train_s3.shape[0],39,X_train_s3.shape[1])"
   ]
  },
  {
   "cell_type": "code",
   "execution_count": 17,
   "metadata": {},
   "outputs": [],
   "source": [
    "#median of length\n",
    "X_train_s1 = TimeSeriesResampler(sz=int(np.median(length))).fit_transform(X_train_step1)\n",
    "X_test_s1 = TimeSeriesResampler(sz=int(np.median(length))).fit_transform(X_test_step1)"
   ]
  },
  {
   "cell_type": "code",
   "execution_count": 18,
   "metadata": {},
   "outputs": [],
   "source": [
    "X_train = X_train_s1.reshape(X_train_s1.shape[0],39,X_train_s1.shape[1])\n",
    "X_test = X_test_s1.reshape(X_test_s1.shape[0],39,X_test_s1.shape[1])"
   ]
  },
  {
   "cell_type": "code",
   "execution_count": 108,
   "metadata": {},
   "outputs": [
    {
     "data": {
      "text/plain": [
       "(176, 39, 459)"
      ]
     },
     "execution_count": 108,
     "metadata": {},
     "output_type": "execute_result"
    }
   ],
   "source": [
    "X_train.shape"
   ]
  },
  {
   "cell_type": "code",
   "execution_count": 106,
   "metadata": {},
   "outputs": [
    {
     "data": {
      "text/plain": [
       "176"
      ]
     },
     "execution_count": 106,
     "metadata": {},
     "output_type": "execute_result"
    }
   ],
   "source": [
    "np.array(y_train1)"
   ]
  },
  {
   "cell_type": "code",
   "execution_count": 129,
   "metadata": {},
   "outputs": [
    {
     "data": {
      "text/plain": [
       "(75, 39, 459)"
      ]
     },
     "execution_count": 129,
     "metadata": {},
     "output_type": "execute_result"
    }
   ],
   "source": [
    "X_test.shape"
   ]
  },
  {
   "cell_type": "code",
   "execution_count": 131,
   "metadata": {},
   "outputs": [
    {
     "data": {
      "text/plain": [
       "(176, 39, 1049)"
      ]
     },
     "execution_count": 131,
     "metadata": {},
     "output_type": "execute_result"
    }
   ],
   "source": [
    "X_train.shape"
   ]
  },
  {
   "cell_type": "code",
   "execution_count": 49,
   "metadata": {},
   "outputs": [
    {
     "data": {
      "text/plain": [
       "(178, 39, 1050)"
      ]
     },
     "execution_count": 49,
     "metadata": {},
     "output_type": "execute_result"
    }
   ],
   "source": [
    "X_train.shape"
   ]
  },
  {
   "cell_type": "code",
   "execution_count": 48,
   "metadata": {},
   "outputs": [
    {
     "data": {
      "text/plain": [
       "(178,)"
      ]
     },
     "execution_count": 48,
     "metadata": {},
     "output_type": "execute_result"
    }
   ],
   "source": [
    "np.array(y_train1).shape"
   ]
  },
  {
   "cell_type": "code",
   "execution_count": 50,
   "metadata": {},
   "outputs": [
    {
     "data": {
      "text/html": [
       "<style>#sk-container-id-9 {color: black;background-color: white;}#sk-container-id-9 pre{padding: 0;}#sk-container-id-9 div.sk-toggleable {background-color: white;}#sk-container-id-9 label.sk-toggleable__label {cursor: pointer;display: block;width: 100%;margin-bottom: 0;padding: 0.3em;box-sizing: border-box;text-align: center;}#sk-container-id-9 label.sk-toggleable__label-arrow:before {content: \"▸\";float: left;margin-right: 0.25em;color: #696969;}#sk-container-id-9 label.sk-toggleable__label-arrow:hover:before {color: black;}#sk-container-id-9 div.sk-estimator:hover label.sk-toggleable__label-arrow:before {color: black;}#sk-container-id-9 div.sk-toggleable__content {max-height: 0;max-width: 0;overflow: hidden;text-align: left;background-color: #f0f8ff;}#sk-container-id-9 div.sk-toggleable__content pre {margin: 0.2em;color: black;border-radius: 0.25em;background-color: #f0f8ff;}#sk-container-id-9 input.sk-toggleable__control:checked~div.sk-toggleable__content {max-height: 200px;max-width: 100%;overflow: auto;}#sk-container-id-9 input.sk-toggleable__control:checked~label.sk-toggleable__label-arrow:before {content: \"▾\";}#sk-container-id-9 div.sk-estimator input.sk-toggleable__control:checked~label.sk-toggleable__label {background-color: #d4ebff;}#sk-container-id-9 div.sk-label input.sk-toggleable__control:checked~label.sk-toggleable__label {background-color: #d4ebff;}#sk-container-id-9 input.sk-hidden--visually {border: 0;clip: rect(1px 1px 1px 1px);clip: rect(1px, 1px, 1px, 1px);height: 1px;margin: -1px;overflow: hidden;padding: 0;position: absolute;width: 1px;}#sk-container-id-9 div.sk-estimator {font-family: monospace;background-color: #f0f8ff;border: 1px dotted black;border-radius: 0.25em;box-sizing: border-box;margin-bottom: 0.5em;}#sk-container-id-9 div.sk-estimator:hover {background-color: #d4ebff;}#sk-container-id-9 div.sk-parallel-item::after {content: \"\";width: 100%;border-bottom: 1px solid gray;flex-grow: 1;}#sk-container-id-9 div.sk-label:hover label.sk-toggleable__label {background-color: #d4ebff;}#sk-container-id-9 div.sk-serial::before {content: \"\";position: absolute;border-left: 1px solid gray;box-sizing: border-box;top: 0;bottom: 0;left: 50%;z-index: 0;}#sk-container-id-9 div.sk-serial {display: flex;flex-direction: column;align-items: center;background-color: white;padding-right: 0.2em;padding-left: 0.2em;position: relative;}#sk-container-id-9 div.sk-item {position: relative;z-index: 1;}#sk-container-id-9 div.sk-parallel {display: flex;align-items: stretch;justify-content: center;background-color: white;position: relative;}#sk-container-id-9 div.sk-item::before, #sk-container-id-9 div.sk-parallel-item::before {content: \"\";position: absolute;border-left: 1px solid gray;box-sizing: border-box;top: 0;bottom: 0;left: 50%;z-index: -1;}#sk-container-id-9 div.sk-parallel-item {display: flex;flex-direction: column;z-index: 1;position: relative;background-color: white;}#sk-container-id-9 div.sk-parallel-item:first-child::after {align-self: flex-end;width: 50%;}#sk-container-id-9 div.sk-parallel-item:last-child::after {align-self: flex-start;width: 50%;}#sk-container-id-9 div.sk-parallel-item:only-child::after {width: 0;}#sk-container-id-9 div.sk-dashed-wrapped {border: 1px dashed gray;margin: 0 0.4em 0.5em 0.4em;box-sizing: border-box;padding-bottom: 0.4em;background-color: white;}#sk-container-id-9 div.sk-label label {font-family: monospace;font-weight: bold;display: inline-block;line-height: 1.2em;}#sk-container-id-9 div.sk-label-container {text-align: center;}#sk-container-id-9 div.sk-container {/* jupyter's `normalize.less` sets `[hidden] { display: none; }` but bootstrap.min.css set `[hidden] { display: none !important; }` so we also need the `!important` here to be able to override the default hidden behavior on the sphinx rendered scikit-learn.org. See: https://github.com/scikit-learn/scikit-learn/issues/21755 */display: inline-block !important;position: relative;}#sk-container-id-9 div.sk-text-repr-fallback {display: none;}</style><div id=\"sk-container-id-9\" class=\"sk-top-container\"><div class=\"sk-text-repr-fallback\"><pre>RocketClassifier(num_kernels=300)</pre><b>In a Jupyter environment, please rerun this cell to show the HTML representation or trust the notebook. <br />On GitHub, the HTML representation is unable to render, please try loading this page with nbviewer.org.</b></div><div class=\"sk-container\" hidden><div class=\"sk-item\"><div class=\"sk-estimator sk-toggleable\"><input class=\"sk-toggleable__control sk-hidden--visually\" id=\"sk-estimator-id-9\" type=\"checkbox\" checked><label for=\"sk-estimator-id-9\" class=\"sk-toggleable__label sk-toggleable__label-arrow\">RocketClassifier</label><div class=\"sk-toggleable__content\"><pre>RocketClassifier(num_kernels=300)</pre></div></div></div></div></div>"
      ],
      "text/plain": [
       "RocketClassifier(num_kernels=300)"
      ]
     },
     "execution_count": 50,
     "metadata": {},
     "output_type": "execute_result"
    }
   ],
   "source": [
    "clf = RocketClassifier(num_kernels=300) \n",
    "clf.fit(X_train, np.array(y_train3)) \n",
    " "
   ]
  },
  {
   "cell_type": "code",
   "execution_count": 51,
   "metadata": {},
   "outputs": [
    {
     "ename": "ValueError",
     "evalue": "Input X contains infinity or a value too large for dtype('float64').",
     "output_type": "error",
     "traceback": [
      "\u001b[1;31m---------------------------------------------------------------------------\u001b[0m",
      "\u001b[1;31mValueError\u001b[0m                                Traceback (most recent call last)",
      "\u001b[1;32md:\\Users\\paulh\\Desktop\\4.semester\\Analyse_von_Prozessdaten\\Paul\\ROCKET.ipynb Cell 35\u001b[0m in \u001b[0;36m<cell line: 1>\u001b[1;34m()\u001b[0m\n\u001b[1;32m----> <a href='vscode-notebook-cell:/d%3A/Users/paulh/Desktop/4.semester/Analyse_von_Prozessdaten/Paul/ROCKET.ipynb#Y131sZmlsZQ%3D%3D?line=0'>1</a>\u001b[0m y_pred \u001b[39m=\u001b[39m clf\u001b[39m.\u001b[39;49mpredict(X_test)\n",
      "File \u001b[1;32m~\\AppData\\Local\\Packages\\PythonSoftwareFoundation.Python.3.10_qbz5n2kfra8p0\\LocalCache\\local-packages\\Python310\\site-packages\\sktime\\classification\\base.py:240\u001b[0m, in \u001b[0;36mBaseClassifier.predict\u001b[1;34m(self, X)\u001b[0m\n\u001b[0;32m    237\u001b[0m     \u001b[39mreturn\u001b[39;00m \u001b[39mself\u001b[39m\u001b[39m.\u001b[39m_single_class_y_pred(X, method\u001b[39m=\u001b[39m\u001b[39m\"\u001b[39m\u001b[39mpredict\u001b[39m\u001b[39m\"\u001b[39m)\n\u001b[0;32m    239\u001b[0m \u001b[39m# call internal _predict_proba\u001b[39;00m\n\u001b[1;32m--> 240\u001b[0m \u001b[39mreturn\u001b[39;00m \u001b[39mself\u001b[39;49m\u001b[39m.\u001b[39;49m_predict(X)\n",
      "File \u001b[1;32m~\\AppData\\Local\\Packages\\PythonSoftwareFoundation.Python.3.10_qbz5n2kfra8p0\\LocalCache\\local-packages\\Python310\\site-packages\\sktime\\classification\\_delegate.py:96\u001b[0m, in \u001b[0;36m_DelegatedClassifier._predict\u001b[1;34m(self, X)\u001b[0m\n\u001b[0;32m     70\u001b[0m \u001b[39m\"\"\"Predict labels for sequences in X.\u001b[39;00m\n\u001b[0;32m     71\u001b[0m \n\u001b[0;32m     72\u001b[0m \u001b[39mprivate _predict containing the core logic, called from predict\u001b[39;00m\n\u001b[1;32m   (...)\u001b[0m\n\u001b[0;32m     93\u001b[0m \u001b[39m    indices correspond to instance indices in X\u001b[39;00m\n\u001b[0;32m     94\u001b[0m \u001b[39m\"\"\"\u001b[39;00m\n\u001b[0;32m     95\u001b[0m estimator \u001b[39m=\u001b[39m \u001b[39mself\u001b[39m\u001b[39m.\u001b[39m_get_delegate()\n\u001b[1;32m---> 96\u001b[0m \u001b[39mreturn\u001b[39;00m estimator\u001b[39m.\u001b[39;49mpredict(X\u001b[39m=\u001b[39;49mX)\n",
      "File \u001b[1;32m~\\AppData\\Local\\Packages\\PythonSoftwareFoundation.Python.3.10_qbz5n2kfra8p0\\LocalCache\\local-packages\\Python310\\site-packages\\sktime\\classification\\base.py:240\u001b[0m, in \u001b[0;36mBaseClassifier.predict\u001b[1;34m(self, X)\u001b[0m\n\u001b[0;32m    237\u001b[0m     \u001b[39mreturn\u001b[39;00m \u001b[39mself\u001b[39m\u001b[39m.\u001b[39m_single_class_y_pred(X, method\u001b[39m=\u001b[39m\u001b[39m\"\u001b[39m\u001b[39mpredict\u001b[39m\u001b[39m\"\u001b[39m)\n\u001b[0;32m    239\u001b[0m \u001b[39m# call internal _predict_proba\u001b[39;00m\n\u001b[1;32m--> 240\u001b[0m \u001b[39mreturn\u001b[39;00m \u001b[39mself\u001b[39;49m\u001b[39m.\u001b[39;49m_predict(X)\n",
      "File \u001b[1;32m~\\AppData\\Local\\Packages\\PythonSoftwareFoundation.Python.3.10_qbz5n2kfra8p0\\LocalCache\\local-packages\\Python310\\site-packages\\sktime\\classification\\compose\\_pipeline.py:540\u001b[0m, in \u001b[0;36mSklearnClassifierPipeline._predict\u001b[1;34m(self, X)\u001b[0m\n\u001b[0;32m    527\u001b[0m \u001b[39mdef\u001b[39;00m \u001b[39m_predict\u001b[39m(\u001b[39mself\u001b[39m, X) \u001b[39m-\u001b[39m\u001b[39m>\u001b[39m np\u001b[39m.\u001b[39mndarray:\n\u001b[0;32m    528\u001b[0m     \u001b[39m\"\"\"Predict labels for sequences in X.\u001b[39;00m\n\u001b[0;32m    529\u001b[0m \n\u001b[0;32m    530\u001b[0m \u001b[39m    core logic\u001b[39;00m\n\u001b[1;32m   (...)\u001b[0m\n\u001b[0;32m    538\u001b[0m \u001b[39m    y : predictions of labels for X, np.ndarray\u001b[39;00m\n\u001b[0;32m    539\u001b[0m \u001b[39m    \"\"\"\u001b[39;00m\n\u001b[1;32m--> 540\u001b[0m     Xt \u001b[39m=\u001b[39m \u001b[39mself\u001b[39;49m\u001b[39m.\u001b[39;49mtransformers_\u001b[39m.\u001b[39;49mtransform(X\u001b[39m=\u001b[39;49mX)\n\u001b[0;32m    541\u001b[0m     Xt_sklearn \u001b[39m=\u001b[39m \u001b[39mself\u001b[39m\u001b[39m.\u001b[39m_convert_X_to_sklearn(Xt)\n\u001b[0;32m    542\u001b[0m     \u001b[39mreturn\u001b[39;00m \u001b[39mself\u001b[39m\u001b[39m.\u001b[39mclassifier_\u001b[39m.\u001b[39mpredict(Xt_sklearn)\n",
      "File \u001b[1;32m~\\AppData\\Local\\Packages\\PythonSoftwareFoundation.Python.3.10_qbz5n2kfra8p0\\LocalCache\\local-packages\\Python310\\site-packages\\sktime\\transformations\\base.py:536\u001b[0m, in \u001b[0;36mBaseTransformer.transform\u001b[1;34m(self, X, y)\u001b[0m\n\u001b[0;32m    533\u001b[0m X_inner, y_inner, metadata \u001b[39m=\u001b[39m \u001b[39mself\u001b[39m\u001b[39m.\u001b[39m_check_X_y(X\u001b[39m=\u001b[39mX, y\u001b[39m=\u001b[39my, return_metadata\u001b[39m=\u001b[39m\u001b[39mTrue\u001b[39;00m)\n\u001b[0;32m    535\u001b[0m \u001b[39mif\u001b[39;00m \u001b[39mnot\u001b[39;00m \u001b[39misinstance\u001b[39m(X_inner, VectorizedDF):\n\u001b[1;32m--> 536\u001b[0m     Xt \u001b[39m=\u001b[39m \u001b[39mself\u001b[39;49m\u001b[39m.\u001b[39;49m_transform(X\u001b[39m=\u001b[39;49mX_inner, y\u001b[39m=\u001b[39;49my_inner)\n\u001b[0;32m    537\u001b[0m \u001b[39melse\u001b[39;00m:\n\u001b[0;32m    538\u001b[0m     \u001b[39m# otherwise we call the vectorized version of predict\u001b[39;00m\n\u001b[0;32m    539\u001b[0m     Xt \u001b[39m=\u001b[39m \u001b[39mself\u001b[39m\u001b[39m.\u001b[39m_vectorize(\u001b[39m\"\u001b[39m\u001b[39mtransform\u001b[39m\u001b[39m\"\u001b[39m, X\u001b[39m=\u001b[39mX_inner, y\u001b[39m=\u001b[39my_inner)\n",
      "File \u001b[1;32m~\\AppData\\Local\\Packages\\PythonSoftwareFoundation.Python.3.10_qbz5n2kfra8p0\\LocalCache\\local-packages\\Python310\\site-packages\\sktime\\transformations\\compose\\_pipeline.py:304\u001b[0m, in \u001b[0;36mTransformerPipeline._transform\u001b[1;34m(self, X, y)\u001b[0m\n\u001b[0;32m    302\u001b[0m \u001b[39mfor\u001b[39;00m _, transformer \u001b[39min\u001b[39;00m \u001b[39mself\u001b[39m\u001b[39m.\u001b[39msteps_:\n\u001b[0;32m    303\u001b[0m     \u001b[39mif\u001b[39;00m \u001b[39mnot\u001b[39;00m \u001b[39mself\u001b[39m\u001b[39m.\u001b[39mget_tag(\u001b[39m\"\u001b[39m\u001b[39mfit_is_empty\u001b[39m\u001b[39m\"\u001b[39m, \u001b[39mFalse\u001b[39;00m):\n\u001b[1;32m--> 304\u001b[0m         Xt \u001b[39m=\u001b[39m transformer\u001b[39m.\u001b[39;49mtransform(X\u001b[39m=\u001b[39;49mXt, y\u001b[39m=\u001b[39;49my)\n\u001b[0;32m    305\u001b[0m     \u001b[39melse\u001b[39;00m:\n\u001b[0;32m    306\u001b[0m         Xt \u001b[39m=\u001b[39m transformer\u001b[39m.\u001b[39mfit_transform(X\u001b[39m=\u001b[39mXt, y\u001b[39m=\u001b[39my)\n",
      "File \u001b[1;32m~\\AppData\\Local\\Packages\\PythonSoftwareFoundation.Python.3.10_qbz5n2kfra8p0\\LocalCache\\local-packages\\Python310\\site-packages\\sktime\\transformations\\base.py:536\u001b[0m, in \u001b[0;36mBaseTransformer.transform\u001b[1;34m(self, X, y)\u001b[0m\n\u001b[0;32m    533\u001b[0m X_inner, y_inner, metadata \u001b[39m=\u001b[39m \u001b[39mself\u001b[39m\u001b[39m.\u001b[39m_check_X_y(X\u001b[39m=\u001b[39mX, y\u001b[39m=\u001b[39my, return_metadata\u001b[39m=\u001b[39m\u001b[39mTrue\u001b[39;00m)\n\u001b[0;32m    535\u001b[0m \u001b[39mif\u001b[39;00m \u001b[39mnot\u001b[39;00m \u001b[39misinstance\u001b[39m(X_inner, VectorizedDF):\n\u001b[1;32m--> 536\u001b[0m     Xt \u001b[39m=\u001b[39m \u001b[39mself\u001b[39;49m\u001b[39m.\u001b[39;49m_transform(X\u001b[39m=\u001b[39;49mX_inner, y\u001b[39m=\u001b[39;49my_inner)\n\u001b[0;32m    537\u001b[0m \u001b[39melse\u001b[39;00m:\n\u001b[0;32m    538\u001b[0m     \u001b[39m# otherwise we call the vectorized version of predict\u001b[39;00m\n\u001b[0;32m    539\u001b[0m     Xt \u001b[39m=\u001b[39m \u001b[39mself\u001b[39m\u001b[39m.\u001b[39m_vectorize(\u001b[39m\"\u001b[39m\u001b[39mtransform\u001b[39m\u001b[39m\"\u001b[39m, X\u001b[39m=\u001b[39mX_inner, y\u001b[39m=\u001b[39my_inner)\n",
      "File \u001b[1;32m~\\AppData\\Local\\Packages\\PythonSoftwareFoundation.Python.3.10_qbz5n2kfra8p0\\LocalCache\\local-packages\\Python310\\site-packages\\sktime\\transformations\\series\\adapt.py:161\u001b[0m, in \u001b[0;36mTabularToSeriesAdaptor._transform\u001b[1;34m(self, X, y)\u001b[0m\n\u001b[0;32m    159\u001b[0m     Xt \u001b[39m=\u001b[39m \u001b[39mself\u001b[39m\u001b[39m.\u001b[39mtransformer_\u001b[39m.\u001b[39mfit(X)\u001b[39m.\u001b[39mtransform(X)\n\u001b[0;32m    160\u001b[0m \u001b[39melse\u001b[39;00m:\n\u001b[1;32m--> 161\u001b[0m     Xt \u001b[39m=\u001b[39m \u001b[39mself\u001b[39;49m\u001b[39m.\u001b[39;49mtransformer_\u001b[39m.\u001b[39;49mtransform(X)\n\u001b[0;32m    163\u001b[0m \u001b[39m# coerce sensibly to 2D np.ndarray\u001b[39;00m\n\u001b[0;32m    164\u001b[0m \u001b[39mif\u001b[39;00m \u001b[39misinstance\u001b[39m(Xt, (\u001b[39mint\u001b[39m, \u001b[39mfloat\u001b[39m, \u001b[39mstr\u001b[39m)):\n",
      "File \u001b[1;32m~\\AppData\\Local\\Packages\\PythonSoftwareFoundation.Python.3.10_qbz5n2kfra8p0\\LocalCache\\local-packages\\Python310\\site-packages\\sklearn\\preprocessing\\_data.py:975\u001b[0m, in \u001b[0;36mStandardScaler.transform\u001b[1;34m(self, X, copy)\u001b[0m\n\u001b[0;32m    972\u001b[0m check_is_fitted(\u001b[39mself\u001b[39m)\n\u001b[0;32m    974\u001b[0m copy \u001b[39m=\u001b[39m copy \u001b[39mif\u001b[39;00m copy \u001b[39mis\u001b[39;00m \u001b[39mnot\u001b[39;00m \u001b[39mNone\u001b[39;00m \u001b[39melse\u001b[39;00m \u001b[39mself\u001b[39m\u001b[39m.\u001b[39mcopy\n\u001b[1;32m--> 975\u001b[0m X \u001b[39m=\u001b[39m \u001b[39mself\u001b[39;49m\u001b[39m.\u001b[39;49m_validate_data(\n\u001b[0;32m    976\u001b[0m     X,\n\u001b[0;32m    977\u001b[0m     reset\u001b[39m=\u001b[39;49m\u001b[39mFalse\u001b[39;49;00m,\n\u001b[0;32m    978\u001b[0m     accept_sparse\u001b[39m=\u001b[39;49m\u001b[39m\"\u001b[39;49m\u001b[39mcsr\u001b[39;49m\u001b[39m\"\u001b[39;49m,\n\u001b[0;32m    979\u001b[0m     copy\u001b[39m=\u001b[39;49mcopy,\n\u001b[0;32m    980\u001b[0m     dtype\u001b[39m=\u001b[39;49mFLOAT_DTYPES,\n\u001b[0;32m    981\u001b[0m     force_all_finite\u001b[39m=\u001b[39;49m\u001b[39m\"\u001b[39;49m\u001b[39mallow-nan\u001b[39;49m\u001b[39m\"\u001b[39;49m,\n\u001b[0;32m    982\u001b[0m )\n\u001b[0;32m    984\u001b[0m \u001b[39mif\u001b[39;00m sparse\u001b[39m.\u001b[39missparse(X):\n\u001b[0;32m    985\u001b[0m     \u001b[39mif\u001b[39;00m \u001b[39mself\u001b[39m\u001b[39m.\u001b[39mwith_mean:\n",
      "File \u001b[1;32m~\\AppData\\Local\\Packages\\PythonSoftwareFoundation.Python.3.10_qbz5n2kfra8p0\\LocalCache\\local-packages\\Python310\\site-packages\\sklearn\\base.py:577\u001b[0m, in \u001b[0;36mBaseEstimator._validate_data\u001b[1;34m(self, X, y, reset, validate_separately, **check_params)\u001b[0m\n\u001b[0;32m    575\u001b[0m     \u001b[39mraise\u001b[39;00m \u001b[39mValueError\u001b[39;00m(\u001b[39m\"\u001b[39m\u001b[39mValidation should be done on X, y or both.\u001b[39m\u001b[39m\"\u001b[39m)\n\u001b[0;32m    576\u001b[0m \u001b[39melif\u001b[39;00m \u001b[39mnot\u001b[39;00m no_val_X \u001b[39mand\u001b[39;00m no_val_y:\n\u001b[1;32m--> 577\u001b[0m     X \u001b[39m=\u001b[39m check_array(X, input_name\u001b[39m=\u001b[39m\u001b[39m\"\u001b[39m\u001b[39mX\u001b[39m\u001b[39m\"\u001b[39m, \u001b[39m*\u001b[39m\u001b[39m*\u001b[39mcheck_params)\n\u001b[0;32m    578\u001b[0m     out \u001b[39m=\u001b[39m X\n\u001b[0;32m    579\u001b[0m \u001b[39melif\u001b[39;00m no_val_X \u001b[39mand\u001b[39;00m \u001b[39mnot\u001b[39;00m no_val_y:\n",
      "File \u001b[1;32m~\\AppData\\Local\\Packages\\PythonSoftwareFoundation.Python.3.10_qbz5n2kfra8p0\\LocalCache\\local-packages\\Python310\\site-packages\\sklearn\\utils\\validation.py:899\u001b[0m, in \u001b[0;36mcheck_array\u001b[1;34m(array, accept_sparse, accept_large_sparse, dtype, order, copy, force_all_finite, ensure_2d, allow_nd, ensure_min_samples, ensure_min_features, estimator, input_name)\u001b[0m\n\u001b[0;32m    893\u001b[0m         \u001b[39mraise\u001b[39;00m \u001b[39mValueError\u001b[39;00m(\n\u001b[0;32m    894\u001b[0m             \u001b[39m\"\u001b[39m\u001b[39mFound array with dim \u001b[39m\u001b[39m%d\u001b[39;00m\u001b[39m. \u001b[39m\u001b[39m%s\u001b[39;00m\u001b[39m expected <= 2.\u001b[39m\u001b[39m\"\u001b[39m\n\u001b[0;32m    895\u001b[0m             \u001b[39m%\u001b[39m (array\u001b[39m.\u001b[39mndim, estimator_name)\n\u001b[0;32m    896\u001b[0m         )\n\u001b[0;32m    898\u001b[0m     \u001b[39mif\u001b[39;00m force_all_finite:\n\u001b[1;32m--> 899\u001b[0m         _assert_all_finite(\n\u001b[0;32m    900\u001b[0m             array,\n\u001b[0;32m    901\u001b[0m             input_name\u001b[39m=\u001b[39;49minput_name,\n\u001b[0;32m    902\u001b[0m             estimator_name\u001b[39m=\u001b[39;49mestimator_name,\n\u001b[0;32m    903\u001b[0m             allow_nan\u001b[39m=\u001b[39;49mforce_all_finite \u001b[39m==\u001b[39;49m \u001b[39m\"\u001b[39;49m\u001b[39mallow-nan\u001b[39;49m\u001b[39m\"\u001b[39;49m,\n\u001b[0;32m    904\u001b[0m         )\n\u001b[0;32m    906\u001b[0m \u001b[39mif\u001b[39;00m ensure_min_samples \u001b[39m>\u001b[39m \u001b[39m0\u001b[39m:\n\u001b[0;32m    907\u001b[0m     n_samples \u001b[39m=\u001b[39m _num_samples(array)\n",
      "File \u001b[1;32m~\\AppData\\Local\\Packages\\PythonSoftwareFoundation.Python.3.10_qbz5n2kfra8p0\\LocalCache\\local-packages\\Python310\\site-packages\\sklearn\\utils\\validation.py:146\u001b[0m, in \u001b[0;36m_assert_all_finite\u001b[1;34m(X, allow_nan, msg_dtype, estimator_name, input_name)\u001b[0m\n\u001b[0;32m    124\u001b[0m         \u001b[39mif\u001b[39;00m (\n\u001b[0;32m    125\u001b[0m             \u001b[39mnot\u001b[39;00m allow_nan\n\u001b[0;32m    126\u001b[0m             \u001b[39mand\u001b[39;00m estimator_name\n\u001b[1;32m   (...)\u001b[0m\n\u001b[0;32m    130\u001b[0m             \u001b[39m# Improve the error message on how to handle missing values in\u001b[39;00m\n\u001b[0;32m    131\u001b[0m             \u001b[39m# scikit-learn.\u001b[39;00m\n\u001b[0;32m    132\u001b[0m             msg_err \u001b[39m+\u001b[39m\u001b[39m=\u001b[39m (\n\u001b[0;32m    133\u001b[0m                 \u001b[39mf\u001b[39m\u001b[39m\"\u001b[39m\u001b[39m\\n\u001b[39;00m\u001b[39m{\u001b[39;00mestimator_name\u001b[39m}\u001b[39;00m\u001b[39m does not accept missing values\u001b[39m\u001b[39m\"\u001b[39m\n\u001b[0;32m    134\u001b[0m                 \u001b[39m\"\u001b[39m\u001b[39m encoded as NaN natively. For supervised learning, you might want\u001b[39m\u001b[39m\"\u001b[39m\n\u001b[1;32m   (...)\u001b[0m\n\u001b[0;32m    144\u001b[0m                 \u001b[39m\"\u001b[39m\u001b[39m#estimators-that-handle-nan-values\u001b[39m\u001b[39m\"\u001b[39m\n\u001b[0;32m    145\u001b[0m             )\n\u001b[1;32m--> 146\u001b[0m         \u001b[39mraise\u001b[39;00m \u001b[39mValueError\u001b[39;00m(msg_err)\n\u001b[0;32m    148\u001b[0m \u001b[39m# for object dtype data, we only check for NaNs (GH-13254)\u001b[39;00m\n\u001b[0;32m    149\u001b[0m \u001b[39melif\u001b[39;00m X\u001b[39m.\u001b[39mdtype \u001b[39m==\u001b[39m np\u001b[39m.\u001b[39mdtype(\u001b[39m\"\u001b[39m\u001b[39mobject\u001b[39m\u001b[39m\"\u001b[39m) \u001b[39mand\u001b[39;00m \u001b[39mnot\u001b[39;00m allow_nan:\n",
      "\u001b[1;31mValueError\u001b[0m: Input X contains infinity or a value too large for dtype('float64')."
     ]
    }
   ],
   "source": [
    "y_pred = clf.predict(X_test)"
   ]
  },
  {
   "cell_type": "code",
   "execution_count": 39,
   "metadata": {},
   "outputs": [
    {
     "data": {
      "text/plain": [
       "0.9863013698630136"
      ]
     },
     "execution_count": 39,
     "metadata": {},
     "output_type": "execute_result"
    }
   ],
   "source": [
    "accuracy_score(y_test1, y_pred)"
   ]
  },
  {
   "cell_type": "code",
   "execution_count": null,
   "metadata": {},
   "outputs": [],
   "source": []
  },
  {
   "cell_type": "code",
   "execution_count": null,
   "metadata": {},
   "outputs": [],
   "source": []
  },
  {
   "cell_type": "code",
   "execution_count": null,
   "metadata": {},
   "outputs": [],
   "source": []
  },
  {
   "cell_type": "code",
   "execution_count": 56,
   "metadata": {},
   "outputs": [],
   "source": [
    "from sktime.classification.kernel_based import RocketClassifier\n",
    "from sktime.datasets import load_unit_test\n",
    "X_train, y_train = load_unit_test(split=\"train\", return_X_y=True)\n",
    "X_test, y_test = load_unit_test(split=\"test\", return_X_y=True) \n",
    "clf = RocketClassifier(num_kernels=500) \n",
    "clf.fit(X_train, y_train) \n",
    "y_pred = clf.predict(X_test) "
   ]
  },
  {
   "cell_type": "code",
   "execution_count": 57,
   "metadata": {},
   "outputs": [],
   "source": [
    "df = pd.read_pickle(\"Train.pkl\")\n",
    "randomlist1 = random.sample(range(0, 260), 78)\n",
    "\n",
    "df_test1 = df.loc[df[\"Batch\"].isin(randomlist1)]\n",
    "df_train1 = df.loc[~df[\"Batch\"].isin(randomlist1)]\n",
    "df_steps1 = df_test1.loc[df_test1[\"CuStepNo ValueY\"] != df_test1[\"Next_Step\"]]\n",
    "df_steps2 = df_train1.loc[df_train1[\"CuStepNo ValueY\"] != df_train1[\"Next_Step\"]]"
   ]
  },
  {
   "cell_type": "code",
   "execution_count": 58,
   "metadata": {},
   "outputs": [],
   "source": [
    "y_train1 = df_steps2.loc[df_steps2[\"CuStepNo ValueY\"] == 1,\"DeviationID ValueY\"].astype(int)\n",
    "y_test1 = df_steps1.loc[df_steps1[\"CuStepNo ValueY\"] == 1,\"DeviationID ValueY\"].astype(int)\n",
    "X_train1 = df_train1.drop([\"DeviationID ValueY\",\"Next_Step\",\"timestamp\",\"Unnamed: 0\"],axis=1)\n",
    "X_test1 = df_test1.drop([\"DeviationID ValueY\",\"Next_Step\",\"timestamp\",\"Unnamed: 0\"],axis=1)"
   ]
  },
  {
   "cell_type": "code",
   "execution_count": 59,
   "metadata": {},
   "outputs": [],
   "source": [
    "X_train_step1 = []\n",
    "for i in X_train1.Batch.unique():\n",
    "        num = numpy.array(X_train1.loc[(X_train1[\"Batch\"] == i)&(X_train1[\"CuStepNo ValueY\"] == 1)].drop([\"Batch\",\"CuStepNo ValueY\"],axis=1))\n",
    "        X_train_step1.append(num)"
   ]
  },
  {
   "cell_type": "code",
   "execution_count": 60,
   "metadata": {},
   "outputs": [],
   "source": [
    "X_test_step1 = []\n",
    "for i in X_test1.Batch.unique():\n",
    "        num = numpy.array(X_test1.loc[(X_test1[\"Batch\"] == i)&(X_test1[\"CuStepNo ValueY\"] == 1)].drop([\"Batch\",\"CuStepNo ValueY\"],axis=1))\n",
    "        X_test_step1.append(num)"
   ]
  },
  {
   "cell_type": "code",
   "execution_count": 62,
   "metadata": {},
   "outputs": [],
   "source": [
    "length = []\n",
    "for i in X_train_step1:\n",
    "    length.append(len(i))"
   ]
  },
  {
   "cell_type": "code",
   "execution_count": 91,
   "metadata": {},
   "outputs": [],
   "source": [
    "X_train_s1 = TimeSeriesResampler(sz=int(np.median(length))).fit_transform(X_train_step1)\n",
    "X_test_s1 = TimeSeriesResampler(sz=int(np.median(length))).fit_transform(X_test_step1)"
   ]
  },
  {
   "cell_type": "code",
   "execution_count": 54,
   "metadata": {},
   "outputs": [
    {
     "data": {
      "text/plain": [
       "2102      5\n",
       "3212      1\n",
       "4263      6\n",
       "7334      9\n",
       "8449      9\n",
       "         ..\n",
       "260433    9\n",
       "261541    9\n",
       "262655    9\n",
       "263774    9\n",
       "264886    9\n",
       "Name: DeviationID ValueY, Length: 174, dtype: int32"
      ]
     },
     "execution_count": 54,
     "metadata": {},
     "output_type": "execute_result"
    }
   ],
   "source": [
    "X_train = X_train_s1.reshape(X_train_s1.shape[0],39,X_train_s1.shape[1])\n",
    "X_test = X_test_s1.reshape(X_test_s1.shape[0],39,X_test_s1.shape[1])"
   ]
  },
  {
   "cell_type": "code",
   "execution_count": 68,
   "metadata": {},
   "outputs": [
    {
     "data": {
      "text/plain": [
       "248"
      ]
     },
     "execution_count": 68,
     "metadata": {},
     "output_type": "execute_result"
    }
   ],
   "source": [
    "X_test_s1.shape[1]"
   ]
  },
  {
   "cell_type": "code",
   "execution_count": 69,
   "metadata": {},
   "outputs": [],
   "source": [
    "X_train = X_train_s1.reshape(X_train_s1.shape[0],39,X_train_s1.shape[1])"
   ]
  },
  {
   "cell_type": "code",
   "execution_count": 70,
   "metadata": {},
   "outputs": [],
   "source": [
    "X_test = X_test_s1.reshape(X_test_s1.shape[0],39,X_test_s1.shape[1])"
   ]
  },
  {
   "cell_type": "code",
   "execution_count": 71,
   "metadata": {},
   "outputs": [],
   "source": [
    "clf = RocketClassifier(num_kernels=500) \n",
    "clf.fit(X_train, y_train1) \n",
    "y_pred = clf.predict(X_test) "
   ]
  },
  {
   "cell_type": "code",
   "execution_count": 45,
   "metadata": {},
   "outputs": [
    {
     "data": {
      "text/html": [
       "<style>#sk-container-id-1 {color: black;background-color: white;}#sk-container-id-1 pre{padding: 0;}#sk-container-id-1 div.sk-toggleable {background-color: white;}#sk-container-id-1 label.sk-toggleable__label {cursor: pointer;display: block;width: 100%;margin-bottom: 0;padding: 0.3em;box-sizing: border-box;text-align: center;}#sk-container-id-1 label.sk-toggleable__label-arrow:before {content: \"▸\";float: left;margin-right: 0.25em;color: #696969;}#sk-container-id-1 label.sk-toggleable__label-arrow:hover:before {color: black;}#sk-container-id-1 div.sk-estimator:hover label.sk-toggleable__label-arrow:before {color: black;}#sk-container-id-1 div.sk-toggleable__content {max-height: 0;max-width: 0;overflow: hidden;text-align: left;background-color: #f0f8ff;}#sk-container-id-1 div.sk-toggleable__content pre {margin: 0.2em;color: black;border-radius: 0.25em;background-color: #f0f8ff;}#sk-container-id-1 input.sk-toggleable__control:checked~div.sk-toggleable__content {max-height: 200px;max-width: 100%;overflow: auto;}#sk-container-id-1 input.sk-toggleable__control:checked~label.sk-toggleable__label-arrow:before {content: \"▾\";}#sk-container-id-1 div.sk-estimator input.sk-toggleable__control:checked~label.sk-toggleable__label {background-color: #d4ebff;}#sk-container-id-1 div.sk-label input.sk-toggleable__control:checked~label.sk-toggleable__label {background-color: #d4ebff;}#sk-container-id-1 input.sk-hidden--visually {border: 0;clip: rect(1px 1px 1px 1px);clip: rect(1px, 1px, 1px, 1px);height: 1px;margin: -1px;overflow: hidden;padding: 0;position: absolute;width: 1px;}#sk-container-id-1 div.sk-estimator {font-family: monospace;background-color: #f0f8ff;border: 1px dotted black;border-radius: 0.25em;box-sizing: border-box;margin-bottom: 0.5em;}#sk-container-id-1 div.sk-estimator:hover {background-color: #d4ebff;}#sk-container-id-1 div.sk-parallel-item::after {content: \"\";width: 100%;border-bottom: 1px solid gray;flex-grow: 1;}#sk-container-id-1 div.sk-label:hover label.sk-toggleable__label {background-color: #d4ebff;}#sk-container-id-1 div.sk-serial::before {content: \"\";position: absolute;border-left: 1px solid gray;box-sizing: border-box;top: 0;bottom: 0;left: 50%;z-index: 0;}#sk-container-id-1 div.sk-serial {display: flex;flex-direction: column;align-items: center;background-color: white;padding-right: 0.2em;padding-left: 0.2em;position: relative;}#sk-container-id-1 div.sk-item {position: relative;z-index: 1;}#sk-container-id-1 div.sk-parallel {display: flex;align-items: stretch;justify-content: center;background-color: white;position: relative;}#sk-container-id-1 div.sk-item::before, #sk-container-id-1 div.sk-parallel-item::before {content: \"\";position: absolute;border-left: 1px solid gray;box-sizing: border-box;top: 0;bottom: 0;left: 50%;z-index: -1;}#sk-container-id-1 div.sk-parallel-item {display: flex;flex-direction: column;z-index: 1;position: relative;background-color: white;}#sk-container-id-1 div.sk-parallel-item:first-child::after {align-self: flex-end;width: 50%;}#sk-container-id-1 div.sk-parallel-item:last-child::after {align-self: flex-start;width: 50%;}#sk-container-id-1 div.sk-parallel-item:only-child::after {width: 0;}#sk-container-id-1 div.sk-dashed-wrapped {border: 1px dashed gray;margin: 0 0.4em 0.5em 0.4em;box-sizing: border-box;padding-bottom: 0.4em;background-color: white;}#sk-container-id-1 div.sk-label label {font-family: monospace;font-weight: bold;display: inline-block;line-height: 1.2em;}#sk-container-id-1 div.sk-label-container {text-align: center;}#sk-container-id-1 div.sk-container {/* jupyter's `normalize.less` sets `[hidden] { display: none; }` but bootstrap.min.css set `[hidden] { display: none !important; }` so we also need the `!important` here to be able to override the default hidden behavior on the sphinx rendered scikit-learn.org. See: https://github.com/scikit-learn/scikit-learn/issues/21755 */display: inline-block !important;position: relative;}#sk-container-id-1 div.sk-text-repr-fallback {display: none;}</style><div id=\"sk-container-id-1\" class=\"sk-top-container\"><div class=\"sk-text-repr-fallback\"><pre>SklearnClassifierPipeline(classifier=RidgeClassifierCV(alphas=array([1.00000000e-03, 4.64158883e-03, 2.15443469e-02, 1.00000000e-01,\n",
       "       4.64158883e-01, 2.15443469e+00, 1.00000000e+01, 4.64158883e+01,\n",
       "       2.15443469e+02, 1.00000000e+03])),\n",
       "                          transformers=[Rocket(num_kernels=500),\n",
       "                                        TabularToSeriesAdaptor(transformer=StandardScaler(with_mean=False))])</pre><b>In a Jupyter environment, please rerun this cell to show the HTML representation or trust the notebook. <br />On GitHub, the HTML representation is unable to render, please try loading this page with nbviewer.org.</b></div><div class=\"sk-container\" hidden><div class=\"sk-item sk-dashed-wrapped\"><div class=\"sk-label-container\"><div class=\"sk-label sk-toggleable\"><input class=\"sk-toggleable__control sk-hidden--visually\" id=\"sk-estimator-id-1\" type=\"checkbox\" ><label for=\"sk-estimator-id-1\" class=\"sk-toggleable__label sk-toggleable__label-arrow\">SklearnClassifierPipeline</label><div class=\"sk-toggleable__content\"><pre>SklearnClassifierPipeline(classifier=RidgeClassifierCV(alphas=array([1.00000000e-03, 4.64158883e-03, 2.15443469e-02, 1.00000000e-01,\n",
       "       4.64158883e-01, 2.15443469e+00, 1.00000000e+01, 4.64158883e+01,\n",
       "       2.15443469e+02, 1.00000000e+03])),\n",
       "                          transformers=[Rocket(num_kernels=500),\n",
       "                                        TabularToSeriesAdaptor(transformer=StandardScaler(with_mean=False))])</pre></div></div></div><div class=\"sk-parallel\"><div class=\"sk-parallel-item\"><div class=\"sk-item\"><div class=\"sk-label-container\"><div class=\"sk-label sk-toggleable\"><input class=\"sk-toggleable__control sk-hidden--visually\" id=\"sk-estimator-id-2\" type=\"checkbox\" ><label for=\"sk-estimator-id-2\" class=\"sk-toggleable__label sk-toggleable__label-arrow\">classifier: RidgeClassifierCV</label><div class=\"sk-toggleable__content\"><pre>RidgeClassifierCV(alphas=array([1.00000000e-03, 4.64158883e-03, 2.15443469e-02, 1.00000000e-01,\n",
       "       4.64158883e-01, 2.15443469e+00, 1.00000000e+01, 4.64158883e+01,\n",
       "       2.15443469e+02, 1.00000000e+03]))</pre></div></div></div><div class=\"sk-serial\"><div class=\"sk-item\"><div class=\"sk-estimator sk-toggleable\"><input class=\"sk-toggleable__control sk-hidden--visually\" id=\"sk-estimator-id-3\" type=\"checkbox\" ><label for=\"sk-estimator-id-3\" class=\"sk-toggleable__label sk-toggleable__label-arrow\">RidgeClassifierCV</label><div class=\"sk-toggleable__content\"><pre>RidgeClassifierCV(alphas=array([1.00000000e-03, 4.64158883e-03, 2.15443469e-02, 1.00000000e-01,\n",
       "       4.64158883e-01, 2.15443469e+00, 1.00000000e+01, 4.64158883e+01,\n",
       "       2.15443469e+02, 1.00000000e+03]))</pre></div></div></div></div></div></div></div></div></div></div>"
      ],
      "text/plain": [
       "SklearnClassifierPipeline(classifier=RidgeClassifierCV(alphas=array([1.00000000e-03, 4.64158883e-03, 2.15443469e-02, 1.00000000e-01,\n",
       "       4.64158883e-01, 2.15443469e+00, 1.00000000e+01, 4.64158883e+01,\n",
       "       2.15443469e+02, 1.00000000e+03])),\n",
       "                          transformers=[Rocket(num_kernels=500),\n",
       "                                        TabularToSeriesAdaptor(transformer=StandardScaler(with_mean=False))])"
      ]
     },
     "execution_count": 45,
     "metadata": {},
     "output_type": "execute_result"
    }
   ],
   "source": [
    "clf.estimator_"
   ]
  },
  {
   "cell_type": "code",
   "execution_count": 72,
   "metadata": {},
   "outputs": [
    {
     "data": {
      "text/plain": [
       "0.7466666666666667"
      ]
     },
     "execution_count": 72,
     "metadata": {},
     "output_type": "execute_result"
    }
   ],
   "source": [
    "accuracy_score(y_test1, y_pred)"
   ]
  },
  {
   "cell_type": "code",
   "execution_count": 73,
   "metadata": {},
   "outputs": [
    {
     "data": {
      "text/plain": [
       "array([ 3,  4,  9,  1,  3,  1,  1,  1,  1,  1,  1,  5,  1,  1,  2,  2,  2,\n",
       "        2,  2,  2,  2,  2,  2,  3,  3,  3,  3,  3,  3,  3,  3,  4,  4,  4,\n",
       "        4,  4,  1,  1,  1,  5,  1,  1,  1,  1,  6,  7,  6,  7,  7, 10,  7,\n",
       "        1,  7,  6,  7, 10,  9,  8,  8,  8,  8,  9,  9,  9,  9,  9,  9,  9,\n",
       "        9,  9,  6,  6, 10, 10, 10])"
      ]
     },
     "execution_count": 73,
     "metadata": {},
     "output_type": "execute_result"
    }
   ],
   "source": [
    "y_pred"
   ]
  },
  {
   "cell_type": "code",
   "execution_count": 75,
   "metadata": {},
   "outputs": [],
   "source": [
    "y_train2 = df_steps2.loc[df_steps2[\"CuStepNo ValueY\"] == 7,\"DeviationID ValueY\"].astype(int)\n",
    "y_test2 = df_steps1.loc[df_steps1[\"CuStepNo ValueY\"] == 7,\"DeviationID ValueY\"].astype(int)\n",
    "X_train1 = df_train1.drop([\"DeviationID ValueY\",\"Next_Step\",\"timestamp\",\"Unnamed: 0\"],axis=1)\n",
    "X_test1 = df_test1.drop([\"DeviationID ValueY\",\"Next_Step\",\"timestamp\",\"Unnamed: 0\"],axis=1)"
   ]
  },
  {
   "cell_type": "code",
   "execution_count": 74,
   "metadata": {},
   "outputs": [],
   "source": [
    "X_train_step7 = []\n",
    "for i in X_train1.Batch.unique():\n",
    "        num = numpy.array(X_train1.loc[(X_train1[\"Batch\"] == i)&(X_train1[\"CuStepNo ValueY\"] == 7)].drop([\"Batch\",\"CuStepNo ValueY\"],axis=1))\n",
    "        X_train_step7.append(num)\n",
    "X_test_step7 = []\n",
    "for i in X_test1.Batch.unique():\n",
    "        num = numpy.array(X_test1.loc[(X_test1[\"Batch\"] == i)&(X_test1[\"CuStepNo ValueY\"] == 7)].drop([\"Batch\",\"CuStepNo ValueY\"],axis=1))\n",
    "        X_test_step7.append(num)"
   ]
  },
  {
   "cell_type": "code",
   "execution_count": 76,
   "metadata": {},
   "outputs": [],
   "source": [
    "length = []\n",
    "for i in X_train_step7:\n",
    "    length.append(len(i))\n",
    "X_train_s7 = TimeSeriesResampler(sz=int(np.median(length))).fit_transform(X_train_step7)\n",
    "X_test_s7 = TimeSeriesResampler(sz=int(np.median(length))).fit_transform(X_test_step7)"
   ]
  },
  {
   "cell_type": "code",
   "execution_count": 77,
   "metadata": {},
   "outputs": [],
   "source": [
    "X_train_7 = X_train_s7.reshape(X_train_s7.shape[0],39,X_train_s7.shape[1])\n",
    "X_test_7 = X_test_s7.reshape(X_test_s7.shape[0],39,X_test_s7.shape[1])"
   ]
  },
  {
   "cell_type": "code",
   "execution_count": 79,
   "metadata": {},
   "outputs": [
    {
     "data": {
      "text/plain": [
       "0.88"
      ]
     },
     "execution_count": 79,
     "metadata": {},
     "output_type": "execute_result"
    }
   ],
   "source": [
    "clf = RocketClassifier(num_kernels=500) \n",
    "clf.fit(X_train_7, y_train2) \n",
    "y_pred = clf.predict(X_test_7) \n",
    "accuracy_score(y_test2, y_pred)"
   ]
  },
  {
   "cell_type": "code",
   "execution_count": 80,
   "metadata": {},
   "outputs": [],
   "source": [
    "y_train8 = df_steps2.loc[df_steps2[\"CuStepNo ValueY\"] == 8,\"DeviationID ValueY\"].astype(int)\n",
    "y_test8 = df_steps1.loc[df_steps1[\"CuStepNo ValueY\"] == 8,\"DeviationID ValueY\"].astype(int)\n",
    "X_train1 = df_train1.drop([\"DeviationID ValueY\",\"Next_Step\",\"timestamp\",\"Unnamed: 0\"],axis=1)\n",
    "X_test1 = df_test1.drop([\"DeviationID ValueY\",\"Next_Step\",\"timestamp\",\"Unnamed: 0\"],axis=1)\n",
    "X_train_step8 = []\n",
    "for i in X_train1.Batch.unique():\n",
    "        num = numpy.array(X_train1.loc[(X_train1[\"Batch\"] == i)&(X_train1[\"CuStepNo ValueY\"] == 8)].drop([\"Batch\",\"CuStepNo ValueY\"],axis=1))\n",
    "        X_train_step8.append(num)\n",
    "X_test_step8 = []\n",
    "for i in X_test1.Batch.unique():\n",
    "        num = numpy.array(X_test1.loc[(X_test1[\"Batch\"] == i)&(X_test1[\"CuStepNo ValueY\"] == 8)].drop([\"Batch\",\"CuStepNo ValueY\"],axis=1))\n",
    "        X_test_step8.append(num)"
   ]
  },
  {
   "cell_type": "code",
   "execution_count": 81,
   "metadata": {},
   "outputs": [],
   "source": [
    "length = []\n",
    "for i in X_train_step8:\n",
    "    length.append(len(i))\n",
    "X_train_s8 = TimeSeriesResampler(sz=int(np.median(length))).fit_transform(X_train_step8)\n",
    "X_test_s8 = TimeSeriesResampler(sz=int(np.median(length))).fit_transform(X_test_step8)"
   ]
  },
  {
   "cell_type": "code",
   "execution_count": 83,
   "metadata": {},
   "outputs": [],
   "source": [
    "X_train_8 = X_train_s8.reshape(X_train_s8.shape[0],39,X_train_s8.shape[1])\n",
    "X_test_8 = X_test_s8.reshape(X_test_s8.shape[0],39,X_test_s8.shape[1])"
   ]
  },
  {
   "cell_type": "code",
   "execution_count": 84,
   "metadata": {},
   "outputs": [
    {
     "data": {
      "text/plain": [
       "0.92"
      ]
     },
     "execution_count": 84,
     "metadata": {},
     "output_type": "execute_result"
    }
   ],
   "source": [
    "clf = RocketClassifier(num_kernels=500) \n",
    "clf.fit(X_train_8, y_train8) \n",
    "y_pred = clf.predict(X_test_8) \n",
    "accuracy_score(y_test8, y_pred)"
   ]
  },
  {
   "cell_type": "code",
   "execution_count": 85,
   "metadata": {},
   "outputs": [],
   "source": [
    "y_train3 = df_steps2.loc[df_steps2[\"CuStepNo ValueY\"] == 3,\"DeviationID ValueY\"].astype(int)\n",
    "y_test3 = df_steps1.loc[df_steps1[\"CuStepNo ValueY\"] == 3,\"DeviationID ValueY\"].astype(int)\n",
    "X_train1 = df_train1.drop([\"DeviationID ValueY\",\"Next_Step\",\"timestamp\",\"Unnamed: 0\"],axis=1)\n",
    "X_test1 = df_test1.drop([\"DeviationID ValueY\",\"Next_Step\",\"timestamp\",\"Unnamed: 0\"],axis=1)\n",
    "X_train_step3 = []\n",
    "for i in X_train1.Batch.unique():\n",
    "        num = numpy.array(X_train1.loc[(X_train1[\"Batch\"] == i)&(X_train1[\"CuStepNo ValueY\"] == 3)].drop([\"Batch\",\"CuStepNo ValueY\"],axis=1))\n",
    "        X_train_step3.append(num)\n",
    "X_test_step3 = []\n",
    "for i in X_test1.Batch.unique():\n",
    "        num = numpy.array(X_test1.loc[(X_test1[\"Batch\"] == i)&(X_test1[\"CuStepNo ValueY\"] == 3)].drop([\"Batch\",\"CuStepNo ValueY\"],axis=1))\n",
    "        X_test_step3.append(num)"
   ]
  },
  {
   "cell_type": "code",
   "execution_count": 86,
   "metadata": {},
   "outputs": [],
   "source": [
    "length = []\n",
    "for i in X_train_step8:\n",
    "    length.append(len(i))\n",
    "X_train_s3 = TimeSeriesResampler(sz=int(np.median(length))).fit_transform(X_train_step3)\n",
    "X_test_s3 = TimeSeriesResampler(sz=int(np.median(length))).fit_transform(X_test_step3)"
   ]
  },
  {
   "cell_type": "code",
   "execution_count": 87,
   "metadata": {},
   "outputs": [],
   "source": [
    "X_train_3 = X_train_s3.reshape(X_train_s3.shape[0],39,X_train_s3.shape[1])\n",
    "X_test_3 = X_test_s3.reshape(X_test_s3.shape[0],39,X_test_s3.shape[1])"
   ]
  },
  {
   "cell_type": "code",
   "execution_count": 88,
   "metadata": {},
   "outputs": [
    {
     "data": {
      "text/plain": [
       "0.92"
      ]
     },
     "execution_count": 88,
     "metadata": {},
     "output_type": "execute_result"
    }
   ],
   "source": [
    "clf = RocketClassifier(num_kernels=500) \n",
    "clf.fit(X_train_8, y_train8) \n",
    "y_pred = clf.predict(X_test_8) \n",
    "accuracy_score(y_test8, y_pred)"
   ]
  }
 ],
 "metadata": {
  "kernelspec": {
   "display_name": "Python 3",
   "language": "python",
   "name": "python3"
  },
  "language_info": {
   "codemirror_mode": {
    "name": "ipython",
    "version": 3
   },
   "file_extension": ".py",
   "mimetype": "text/x-python",
   "name": "python",
   "nbconvert_exporter": "python",
   "pygments_lexer": "ipython3",
   "version": "3.10.11"
  },
  "orig_nbformat": 4
 },
 "nbformat": 4,
 "nbformat_minor": 2
}
