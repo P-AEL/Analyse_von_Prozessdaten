{
 "cells": [
  {
   "cell_type": "code",
   "execution_count": 1,
   "metadata": {},
   "outputs": [],
   "source": [
    "import numpy\n",
    "from sklearn.metrics import accuracy_score\n",
    "import tensorflow as tf\n",
    "import matplotlib.pyplot as plt\n",
    "\n",
    "from tslearn.datasets import CachedDatasets\n",
    "from tslearn.preprocessing import TimeSeriesScalerMinMax\n",
    "from tslearn.shapelets import LearningShapelets, \\\n",
    "    grabocka_params_to_shapelet_size_dict\n",
    "from tslearn.utils import ts_size\n",
    "import numpy\n",
    "from sklearn.metrics import accuracy_score\n",
    "\n",
    "from tslearn.generators import random_walk_blobs\n",
    "from tslearn.preprocessing import TimeSeriesScalerMinMax, \\\n",
    "    TimeSeriesScalerMeanVariance\n",
    "from tslearn.neighbors import KNeighborsTimeSeriesClassifier, \\\n",
    "    KNeighborsTimeSeries\n",
    "import pandas as pd\n",
    "import numpy as np\n",
    "import random\n",
    "from tslearn.datasets import UCR_UEA_datasets\n",
    "import sktime\n",
    "from tslearn.preprocessing import TimeSeriesResampler\n",
    "import random\n",
    "from sktime.classification.kernel_based import RocketClassifier\n",
    "from sktime.datasets import load_unit_test"
   ]
  },
  {
   "cell_type": "code",
   "execution_count": 56,
   "metadata": {},
   "outputs": [],
   "source": [
    "from sktime.classification.kernel_based import RocketClassifier\n",
    "from sktime.datasets import load_unit_test\n",
    "X_train, y_train = load_unit_test(split=\"train\", return_X_y=True)\n",
    "X_test, y_test = load_unit_test(split=\"test\", return_X_y=True) \n",
    "clf = RocketClassifier(num_kernels=500) \n",
    "clf.fit(X_train, y_train) \n",
    "y_pred = clf.predict(X_test) "
   ]
  },
  {
   "cell_type": "code",
   "execution_count": 57,
   "metadata": {},
   "outputs": [],
   "source": [
    "df = pd.read_pickle(\"Train.pkl\")\n",
    "randomlist1 = random.sample(range(0, 260), 78)\n",
    "\n",
    "df_test1 = df.loc[df[\"Batch\"].isin(randomlist1)]\n",
    "df_train1 = df.loc[~df[\"Batch\"].isin(randomlist1)]\n",
    "df_steps1 = df_test1.loc[df_test1[\"CuStepNo ValueY\"] != df_test1[\"Next_Step\"]]\n",
    "df_steps2 = df_train1.loc[df_train1[\"CuStepNo ValueY\"] != df_train1[\"Next_Step\"]]"
   ]
  },
  {
   "cell_type": "code",
   "execution_count": 58,
   "metadata": {},
   "outputs": [],
   "source": [
    "y_train1 = df_steps2.loc[df_steps2[\"CuStepNo ValueY\"] == 1,\"DeviationID ValueY\"].astype(int)\n",
    "y_test1 = df_steps1.loc[df_steps1[\"CuStepNo ValueY\"] == 1,\"DeviationID ValueY\"].astype(int)\n",
    "X_train1 = df_train1.drop([\"DeviationID ValueY\",\"Next_Step\",\"timestamp\",\"Unnamed: 0\"],axis=1)\n",
    "X_test1 = df_test1.drop([\"DeviationID ValueY\",\"Next_Step\",\"timestamp\",\"Unnamed: 0\"],axis=1)"
   ]
  },
  {
   "cell_type": "code",
   "execution_count": 59,
   "metadata": {},
   "outputs": [],
   "source": [
    "X_train_step1 = []\n",
    "for i in X_train1.Batch.unique():\n",
    "        num = numpy.array(X_train1.loc[(X_train1[\"Batch\"] == i)&(X_train1[\"CuStepNo ValueY\"] == 1)].drop([\"Batch\",\"CuStepNo ValueY\"],axis=1))\n",
    "        X_train_step1.append(num)"
   ]
  },
  {
   "cell_type": "code",
   "execution_count": 60,
   "metadata": {},
   "outputs": [],
   "source": [
    "X_test_step1 = []\n",
    "for i in X_test1.Batch.unique():\n",
    "        num = numpy.array(X_test1.loc[(X_test1[\"Batch\"] == i)&(X_test1[\"CuStepNo ValueY\"] == 1)].drop([\"Batch\",\"CuStepNo ValueY\"],axis=1))\n",
    "        X_test_step1.append(num)"
   ]
  },
  {
   "cell_type": "code",
   "execution_count": 62,
   "metadata": {},
   "outputs": [],
   "source": [
    "length = []\n",
    "for i in X_train_step1:\n",
    "    length.append(len(i))"
   ]
  },
  {
   "cell_type": "code",
   "execution_count": 64,
   "metadata": {},
   "outputs": [],
   "source": [
    "X_train_s1 = TimeSeriesResampler(sz=int(np.median(length))).fit_transform(X_train_step1)\n",
    "X_test_s1 = TimeSeriesResampler(sz=int(np.median(length))).fit_transform(X_test_step1)"
   ]
  },
  {
   "cell_type": "code",
   "execution_count": 54,
   "metadata": {},
   "outputs": [
    {
     "data": {
      "text/plain": [
       "2102      5\n",
       "3212      1\n",
       "4263      6\n",
       "7334      9\n",
       "8449      9\n",
       "         ..\n",
       "260433    9\n",
       "261541    9\n",
       "262655    9\n",
       "263774    9\n",
       "264886    9\n",
       "Name: DeviationID ValueY, Length: 174, dtype: int32"
      ]
     },
     "execution_count": 54,
     "metadata": {},
     "output_type": "execute_result"
    }
   ],
   "source": [
    "y_train1"
   ]
  },
  {
   "cell_type": "code",
   "execution_count": 68,
   "metadata": {},
   "outputs": [
    {
     "data": {
      "text/plain": [
       "248"
      ]
     },
     "execution_count": 68,
     "metadata": {},
     "output_type": "execute_result"
    }
   ],
   "source": [
    "X_test_s1.shape[1]"
   ]
  },
  {
   "cell_type": "code",
   "execution_count": 69,
   "metadata": {},
   "outputs": [],
   "source": [
    "X_train = X_train_s1.reshape(X_train_s1.shape[0],39,X_train_s1.shape[1])"
   ]
  },
  {
   "cell_type": "code",
   "execution_count": 70,
   "metadata": {},
   "outputs": [],
   "source": [
    "X_test = X_test_s1.reshape(X_test_s1.shape[0],39,X_test_s1.shape[1])"
   ]
  },
  {
   "cell_type": "code",
   "execution_count": 37,
   "metadata": {},
   "outputs": [],
   "source": [
    "scaler = TimeSeriesScalerMinMax()\n",
    "X_train = scaler.fit_transform(X_train)\n",
    "X_test = scaler.transform(X_test)"
   ]
  },
  {
   "cell_type": "code",
   "execution_count": null,
   "metadata": {},
   "outputs": [],
   "source": [
    "scaler = TimeSeriesScalerMinMax()\n",
    "X_train = scaler.fit_transform(X_train_s1)\n",
    "X_test = scaler.transform(X_test_s1)"
   ]
  },
  {
   "cell_type": "code",
   "execution_count": 71,
   "metadata": {},
   "outputs": [],
   "source": [
    "clf = RocketClassifier(num_kernels=500) \n",
    "clf.fit(X_train, y_train1) \n",
    "y_pred = clf.predict(X_test) "
   ]
  },
  {
   "cell_type": "code",
   "execution_count": 45,
   "metadata": {},
   "outputs": [
    {
     "data": {
      "text/html": [
       "<style>#sk-container-id-1 {color: black;background-color: white;}#sk-container-id-1 pre{padding: 0;}#sk-container-id-1 div.sk-toggleable {background-color: white;}#sk-container-id-1 label.sk-toggleable__label {cursor: pointer;display: block;width: 100%;margin-bottom: 0;padding: 0.3em;box-sizing: border-box;text-align: center;}#sk-container-id-1 label.sk-toggleable__label-arrow:before {content: \"▸\";float: left;margin-right: 0.25em;color: #696969;}#sk-container-id-1 label.sk-toggleable__label-arrow:hover:before {color: black;}#sk-container-id-1 div.sk-estimator:hover label.sk-toggleable__label-arrow:before {color: black;}#sk-container-id-1 div.sk-toggleable__content {max-height: 0;max-width: 0;overflow: hidden;text-align: left;background-color: #f0f8ff;}#sk-container-id-1 div.sk-toggleable__content pre {margin: 0.2em;color: black;border-radius: 0.25em;background-color: #f0f8ff;}#sk-container-id-1 input.sk-toggleable__control:checked~div.sk-toggleable__content {max-height: 200px;max-width: 100%;overflow: auto;}#sk-container-id-1 input.sk-toggleable__control:checked~label.sk-toggleable__label-arrow:before {content: \"▾\";}#sk-container-id-1 div.sk-estimator input.sk-toggleable__control:checked~label.sk-toggleable__label {background-color: #d4ebff;}#sk-container-id-1 div.sk-label input.sk-toggleable__control:checked~label.sk-toggleable__label {background-color: #d4ebff;}#sk-container-id-1 input.sk-hidden--visually {border: 0;clip: rect(1px 1px 1px 1px);clip: rect(1px, 1px, 1px, 1px);height: 1px;margin: -1px;overflow: hidden;padding: 0;position: absolute;width: 1px;}#sk-container-id-1 div.sk-estimator {font-family: monospace;background-color: #f0f8ff;border: 1px dotted black;border-radius: 0.25em;box-sizing: border-box;margin-bottom: 0.5em;}#sk-container-id-1 div.sk-estimator:hover {background-color: #d4ebff;}#sk-container-id-1 div.sk-parallel-item::after {content: \"\";width: 100%;border-bottom: 1px solid gray;flex-grow: 1;}#sk-container-id-1 div.sk-label:hover label.sk-toggleable__label {background-color: #d4ebff;}#sk-container-id-1 div.sk-serial::before {content: \"\";position: absolute;border-left: 1px solid gray;box-sizing: border-box;top: 0;bottom: 0;left: 50%;z-index: 0;}#sk-container-id-1 div.sk-serial {display: flex;flex-direction: column;align-items: center;background-color: white;padding-right: 0.2em;padding-left: 0.2em;position: relative;}#sk-container-id-1 div.sk-item {position: relative;z-index: 1;}#sk-container-id-1 div.sk-parallel {display: flex;align-items: stretch;justify-content: center;background-color: white;position: relative;}#sk-container-id-1 div.sk-item::before, #sk-container-id-1 div.sk-parallel-item::before {content: \"\";position: absolute;border-left: 1px solid gray;box-sizing: border-box;top: 0;bottom: 0;left: 50%;z-index: -1;}#sk-container-id-1 div.sk-parallel-item {display: flex;flex-direction: column;z-index: 1;position: relative;background-color: white;}#sk-container-id-1 div.sk-parallel-item:first-child::after {align-self: flex-end;width: 50%;}#sk-container-id-1 div.sk-parallel-item:last-child::after {align-self: flex-start;width: 50%;}#sk-container-id-1 div.sk-parallel-item:only-child::after {width: 0;}#sk-container-id-1 div.sk-dashed-wrapped {border: 1px dashed gray;margin: 0 0.4em 0.5em 0.4em;box-sizing: border-box;padding-bottom: 0.4em;background-color: white;}#sk-container-id-1 div.sk-label label {font-family: monospace;font-weight: bold;display: inline-block;line-height: 1.2em;}#sk-container-id-1 div.sk-label-container {text-align: center;}#sk-container-id-1 div.sk-container {/* jupyter's `normalize.less` sets `[hidden] { display: none; }` but bootstrap.min.css set `[hidden] { display: none !important; }` so we also need the `!important` here to be able to override the default hidden behavior on the sphinx rendered scikit-learn.org. See: https://github.com/scikit-learn/scikit-learn/issues/21755 */display: inline-block !important;position: relative;}#sk-container-id-1 div.sk-text-repr-fallback {display: none;}</style><div id=\"sk-container-id-1\" class=\"sk-top-container\"><div class=\"sk-text-repr-fallback\"><pre>SklearnClassifierPipeline(classifier=RidgeClassifierCV(alphas=array([1.00000000e-03, 4.64158883e-03, 2.15443469e-02, 1.00000000e-01,\n",
       "       4.64158883e-01, 2.15443469e+00, 1.00000000e+01, 4.64158883e+01,\n",
       "       2.15443469e+02, 1.00000000e+03])),\n",
       "                          transformers=[Rocket(num_kernels=500),\n",
       "                                        TabularToSeriesAdaptor(transformer=StandardScaler(with_mean=False))])</pre><b>In a Jupyter environment, please rerun this cell to show the HTML representation or trust the notebook. <br />On GitHub, the HTML representation is unable to render, please try loading this page with nbviewer.org.</b></div><div class=\"sk-container\" hidden><div class=\"sk-item sk-dashed-wrapped\"><div class=\"sk-label-container\"><div class=\"sk-label sk-toggleable\"><input class=\"sk-toggleable__control sk-hidden--visually\" id=\"sk-estimator-id-1\" type=\"checkbox\" ><label for=\"sk-estimator-id-1\" class=\"sk-toggleable__label sk-toggleable__label-arrow\">SklearnClassifierPipeline</label><div class=\"sk-toggleable__content\"><pre>SklearnClassifierPipeline(classifier=RidgeClassifierCV(alphas=array([1.00000000e-03, 4.64158883e-03, 2.15443469e-02, 1.00000000e-01,\n",
       "       4.64158883e-01, 2.15443469e+00, 1.00000000e+01, 4.64158883e+01,\n",
       "       2.15443469e+02, 1.00000000e+03])),\n",
       "                          transformers=[Rocket(num_kernels=500),\n",
       "                                        TabularToSeriesAdaptor(transformer=StandardScaler(with_mean=False))])</pre></div></div></div><div class=\"sk-parallel\"><div class=\"sk-parallel-item\"><div class=\"sk-item\"><div class=\"sk-label-container\"><div class=\"sk-label sk-toggleable\"><input class=\"sk-toggleable__control sk-hidden--visually\" id=\"sk-estimator-id-2\" type=\"checkbox\" ><label for=\"sk-estimator-id-2\" class=\"sk-toggleable__label sk-toggleable__label-arrow\">classifier: RidgeClassifierCV</label><div class=\"sk-toggleable__content\"><pre>RidgeClassifierCV(alphas=array([1.00000000e-03, 4.64158883e-03, 2.15443469e-02, 1.00000000e-01,\n",
       "       4.64158883e-01, 2.15443469e+00, 1.00000000e+01, 4.64158883e+01,\n",
       "       2.15443469e+02, 1.00000000e+03]))</pre></div></div></div><div class=\"sk-serial\"><div class=\"sk-item\"><div class=\"sk-estimator sk-toggleable\"><input class=\"sk-toggleable__control sk-hidden--visually\" id=\"sk-estimator-id-3\" type=\"checkbox\" ><label for=\"sk-estimator-id-3\" class=\"sk-toggleable__label sk-toggleable__label-arrow\">RidgeClassifierCV</label><div class=\"sk-toggleable__content\"><pre>RidgeClassifierCV(alphas=array([1.00000000e-03, 4.64158883e-03, 2.15443469e-02, 1.00000000e-01,\n",
       "       4.64158883e-01, 2.15443469e+00, 1.00000000e+01, 4.64158883e+01,\n",
       "       2.15443469e+02, 1.00000000e+03]))</pre></div></div></div></div></div></div></div></div></div></div>"
      ],
      "text/plain": [
       "SklearnClassifierPipeline(classifier=RidgeClassifierCV(alphas=array([1.00000000e-03, 4.64158883e-03, 2.15443469e-02, 1.00000000e-01,\n",
       "       4.64158883e-01, 2.15443469e+00, 1.00000000e+01, 4.64158883e+01,\n",
       "       2.15443469e+02, 1.00000000e+03])),\n",
       "                          transformers=[Rocket(num_kernels=500),\n",
       "                                        TabularToSeriesAdaptor(transformer=StandardScaler(with_mean=False))])"
      ]
     },
     "execution_count": 45,
     "metadata": {},
     "output_type": "execute_result"
    }
   ],
   "source": [
    "clf.estimator_"
   ]
  },
  {
   "cell_type": "code",
   "execution_count": 72,
   "metadata": {},
   "outputs": [
    {
     "data": {
      "text/plain": [
       "0.7466666666666667"
      ]
     },
     "execution_count": 72,
     "metadata": {},
     "output_type": "execute_result"
    }
   ],
   "source": [
    "accuracy_score(y_test1, y_pred)"
   ]
  },
  {
   "cell_type": "code",
   "execution_count": 73,
   "metadata": {},
   "outputs": [
    {
     "data": {
      "text/plain": [
       "array([ 3,  4,  9,  1,  3,  1,  1,  1,  1,  1,  1,  5,  1,  1,  2,  2,  2,\n",
       "        2,  2,  2,  2,  2,  2,  3,  3,  3,  3,  3,  3,  3,  3,  4,  4,  4,\n",
       "        4,  4,  1,  1,  1,  5,  1,  1,  1,  1,  6,  7,  6,  7,  7, 10,  7,\n",
       "        1,  7,  6,  7, 10,  9,  8,  8,  8,  8,  9,  9,  9,  9,  9,  9,  9,\n",
       "        9,  9,  6,  6, 10, 10, 10])"
      ]
     },
     "execution_count": 73,
     "metadata": {},
     "output_type": "execute_result"
    }
   ],
   "source": [
    "y_pred"
   ]
  },
  {
   "cell_type": "code",
   "execution_count": 75,
   "metadata": {},
   "outputs": [],
   "source": [
    "y_train2 = df_steps2.loc[df_steps2[\"CuStepNo ValueY\"] == 7,\"DeviationID ValueY\"].astype(int)\n",
    "y_test2 = df_steps1.loc[df_steps1[\"CuStepNo ValueY\"] == 7,\"DeviationID ValueY\"].astype(int)\n",
    "X_train1 = df_train1.drop([\"DeviationID ValueY\",\"Next_Step\",\"timestamp\",\"Unnamed: 0\"],axis=1)\n",
    "X_test1 = df_test1.drop([\"DeviationID ValueY\",\"Next_Step\",\"timestamp\",\"Unnamed: 0\"],axis=1)"
   ]
  },
  {
   "cell_type": "code",
   "execution_count": 74,
   "metadata": {},
   "outputs": [],
   "source": [
    "X_train_step7 = []\n",
    "for i in X_train1.Batch.unique():\n",
    "        num = numpy.array(X_train1.loc[(X_train1[\"Batch\"] == i)&(X_train1[\"CuStepNo ValueY\"] == 7)].drop([\"Batch\",\"CuStepNo ValueY\"],axis=1))\n",
    "        X_train_step7.append(num)\n",
    "X_test_step7 = []\n",
    "for i in X_test1.Batch.unique():\n",
    "        num = numpy.array(X_test1.loc[(X_test1[\"Batch\"] == i)&(X_test1[\"CuStepNo ValueY\"] == 7)].drop([\"Batch\",\"CuStepNo ValueY\"],axis=1))\n",
    "        X_test_step7.append(num)"
   ]
  },
  {
   "cell_type": "code",
   "execution_count": 76,
   "metadata": {},
   "outputs": [],
   "source": [
    "length = []\n",
    "for i in X_train_step7:\n",
    "    length.append(len(i))\n",
    "X_train_s7 = TimeSeriesResampler(sz=int(np.median(length))).fit_transform(X_train_step7)\n",
    "X_test_s7 = TimeSeriesResampler(sz=int(np.median(length))).fit_transform(X_test_step7)"
   ]
  },
  {
   "cell_type": "code",
   "execution_count": 77,
   "metadata": {},
   "outputs": [],
   "source": [
    "X_train_7 = X_train_s7.reshape(X_train_s7.shape[0],39,X_train_s7.shape[1])\n",
    "X_test_7 = X_test_s7.reshape(X_test_s7.shape[0],39,X_test_s7.shape[1])"
   ]
  },
  {
   "cell_type": "code",
   "execution_count": 79,
   "metadata": {},
   "outputs": [
    {
     "data": {
      "text/plain": [
       "0.88"
      ]
     },
     "execution_count": 79,
     "metadata": {},
     "output_type": "execute_result"
    }
   ],
   "source": [
    "clf = RocketClassifier(num_kernels=500) \n",
    "clf.fit(X_train_7, y_train2) \n",
    "y_pred = clf.predict(X_test_7) \n",
    "accuracy_score(y_test2, y_pred)"
   ]
  },
  {
   "cell_type": "code",
   "execution_count": 80,
   "metadata": {},
   "outputs": [],
   "source": [
    "y_train8 = df_steps2.loc[df_steps2[\"CuStepNo ValueY\"] == 8,\"DeviationID ValueY\"].astype(int)\n",
    "y_test8 = df_steps1.loc[df_steps1[\"CuStepNo ValueY\"] == 8,\"DeviationID ValueY\"].astype(int)\n",
    "X_train1 = df_train1.drop([\"DeviationID ValueY\",\"Next_Step\",\"timestamp\",\"Unnamed: 0\"],axis=1)\n",
    "X_test1 = df_test1.drop([\"DeviationID ValueY\",\"Next_Step\",\"timestamp\",\"Unnamed: 0\"],axis=1)\n",
    "X_train_step8 = []\n",
    "for i in X_train1.Batch.unique():\n",
    "        num = numpy.array(X_train1.loc[(X_train1[\"Batch\"] == i)&(X_train1[\"CuStepNo ValueY\"] == 8)].drop([\"Batch\",\"CuStepNo ValueY\"],axis=1))\n",
    "        X_train_step8.append(num)\n",
    "X_test_step8 = []\n",
    "for i in X_test1.Batch.unique():\n",
    "        num = numpy.array(X_test1.loc[(X_test1[\"Batch\"] == i)&(X_test1[\"CuStepNo ValueY\"] == 8)].drop([\"Batch\",\"CuStepNo ValueY\"],axis=1))\n",
    "        X_test_step8.append(num)"
   ]
  },
  {
   "cell_type": "code",
   "execution_count": 81,
   "metadata": {},
   "outputs": [],
   "source": [
    "length = []\n",
    "for i in X_train_step8:\n",
    "    length.append(len(i))\n",
    "X_train_s8 = TimeSeriesResampler(sz=int(np.median(length))).fit_transform(X_train_step8)\n",
    "X_test_s8 = TimeSeriesResampler(sz=int(np.median(length))).fit_transform(X_test_step8)"
   ]
  },
  {
   "cell_type": "code",
   "execution_count": 83,
   "metadata": {},
   "outputs": [],
   "source": [
    "X_train_8 = X_train_s8.reshape(X_train_s8.shape[0],39,X_train_s8.shape[1])\n",
    "X_test_8 = X_test_s8.reshape(X_test_s8.shape[0],39,X_test_s8.shape[1])"
   ]
  },
  {
   "cell_type": "code",
   "execution_count": 84,
   "metadata": {},
   "outputs": [
    {
     "data": {
      "text/plain": [
       "0.92"
      ]
     },
     "execution_count": 84,
     "metadata": {},
     "output_type": "execute_result"
    }
   ],
   "source": [
    "clf = RocketClassifier(num_kernels=500) \n",
    "clf.fit(X_train_8, y_train8) \n",
    "y_pred = clf.predict(X_test_8) \n",
    "accuracy_score(y_test8, y_pred)"
   ]
  },
  {
   "cell_type": "code",
   "execution_count": 85,
   "metadata": {},
   "outputs": [],
   "source": [
    "y_train3 = df_steps2.loc[df_steps2[\"CuStepNo ValueY\"] == 3,\"DeviationID ValueY\"].astype(int)\n",
    "y_test3 = df_steps1.loc[df_steps1[\"CuStepNo ValueY\"] == 3,\"DeviationID ValueY\"].astype(int)\n",
    "X_train1 = df_train1.drop([\"DeviationID ValueY\",\"Next_Step\",\"timestamp\",\"Unnamed: 0\"],axis=1)\n",
    "X_test1 = df_test1.drop([\"DeviationID ValueY\",\"Next_Step\",\"timestamp\",\"Unnamed: 0\"],axis=1)\n",
    "X_train_step3 = []\n",
    "for i in X_train1.Batch.unique():\n",
    "        num = numpy.array(X_train1.loc[(X_train1[\"Batch\"] == i)&(X_train1[\"CuStepNo ValueY\"] == 3)].drop([\"Batch\",\"CuStepNo ValueY\"],axis=1))\n",
    "        X_train_step3.append(num)\n",
    "X_test_step3 = []\n",
    "for i in X_test1.Batch.unique():\n",
    "        num = numpy.array(X_test1.loc[(X_test1[\"Batch\"] == i)&(X_test1[\"CuStepNo ValueY\"] == 3)].drop([\"Batch\",\"CuStepNo ValueY\"],axis=1))\n",
    "        X_test_step3.append(num)"
   ]
  },
  {
   "cell_type": "code",
   "execution_count": 86,
   "metadata": {},
   "outputs": [],
   "source": [
    "length = []\n",
    "for i in X_train_step8:\n",
    "    length.append(len(i))\n",
    "X_train_s3 = TimeSeriesResampler(sz=int(np.median(length))).fit_transform(X_train_step3)\n",
    "X_test_s3 = TimeSeriesResampler(sz=int(np.median(length))).fit_transform(X_test_step3)"
   ]
  },
  {
   "cell_type": "code",
   "execution_count": 87,
   "metadata": {},
   "outputs": [],
   "source": [
    "X_train_3 = X_train_s3.reshape(X_train_s3.shape[0],39,X_train_s3.shape[1])\n",
    "X_test_3 = X_test_s3.reshape(X_test_s3.shape[0],39,X_test_s3.shape[1])"
   ]
  },
  {
   "cell_type": "code",
   "execution_count": 88,
   "metadata": {},
   "outputs": [
    {
     "data": {
      "text/plain": [
       "0.92"
      ]
     },
     "execution_count": 88,
     "metadata": {},
     "output_type": "execute_result"
    }
   ],
   "source": [
    "clf = RocketClassifier(num_kernels=500) \n",
    "clf.fit(X_train_8, y_train8) \n",
    "y_pred = clf.predict(X_test_8) \n",
    "accuracy_score(y_test8, y_pred)"
   ]
  }
 ],
 "metadata": {
  "kernelspec": {
   "display_name": "Python 3",
   "language": "python",
   "name": "python3"
  },
  "language_info": {
   "codemirror_mode": {
    "name": "ipython",
    "version": 3
   },
   "file_extension": ".py",
   "mimetype": "text/x-python",
   "name": "python",
   "nbconvert_exporter": "python",
   "pygments_lexer": "ipython3",
   "version": "3.10.11"
  },
  "orig_nbformat": 4
 },
 "nbformat": 4,
 "nbformat_minor": 2
}
